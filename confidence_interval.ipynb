{
 "cells": [
  {
   "attachments": {},
   "cell_type": "markdown",
   "metadata": {},
   "source": [
    "# Confidence Interval\n",
    "\n",
    "It's a type of statistics for a population parameter<br>\n",
    "***CI*** helps in determining the interval at which the population mean can be defined/\n",
    "\n",
    "\n",
    "#### Example\n",
    "Let's take the height of Kenyan men at a national level and determine with 95% ***CI***<br>\n",
    "the average of Kenyan men at a national level.\n",
    "\n"
   ]
  },
  {
   "cell_type": "code",
   "execution_count": 1,
   "metadata": {},
   "outputs": [],
   "source": [
    "# Height of 50 men\n",
    "import numpy as np\n",
    "\n",
    "heights = np.array([ 186.0, 180.0, 195.0, 189.0, 191.0,\n",
    "177.0, 161.0, 177.0, 192.0, 182.0, 185.0, 192.0,\n",
    "173.0, 172.0, 191.0, 184.0, 193.0, 182.0, 190.0, 185.0, 181.0,\n",
    "188.0, 179.0, 188.0,\n",
    "170.0, 179.0, 180.0, 189.0, 188.0, 185.0, 170.0, 197.0, 187.0,\n",
    "182.0, 173.0, 179.0,\n",
    "184.0, 177.0, 190.0, 174.0, 203.0, 206.0, 173.0, 169.0, 178.0,\n",
    "201.0, 198.0, 166.0,\n",
    "171.0, 180.0])"
   ]
  },
  {
   "cell_type": "code",
   "execution_count": 4,
   "metadata": {},
   "outputs": [
    {
     "data": {
      "image/png": "[encoded data removed]",
      "text/plain": [
       "<Figure size 640x480 with 1 Axes>"
      ]
     },
     "metadata": {},
     "output_type": "display_data"
    }
   ],
   "source": [
    "# distribution plot\n",
    "import matplotlib.pyplot as plt\n",
    "\n",
    "plt.hist(heights, 30, density=True)\n",
    "plt.show()"
   ]
  },
  {
   "cell_type": "code",
   "execution_count": 5,
   "metadata": {},
   "outputs": [
    {
     "data": {
      "text/plain": [
       "183.24"
      ]
     },
     "execution_count": 5,
     "metadata": {},
     "output_type": "execute_result"
    }
   ],
   "source": [
    "# mean of the heights\n",
    "heights.mean()"
   ]
  },
  {
   "attachments": {},
   "cell_type": "markdown",
   "metadata": {},
   "source": [
    "The average height of a man from the sample is `183.4cm`"
   ]
  },
  {
   "attachments": {},
   "cell_type": "markdown",
   "metadata": {},
   "source": [
    "To determine the ***CI***, we'll now define the standard error of the mean<br>\n",
    "\n",
    "***Standard Error*** of the mean is the deviation of the sample mean from the population mean\n",
    "\n",
    "<bold>Formula</bold>\n",
    "![Standard Error](Std_Err.png)\n",
    "\n",
    "s - standard deviation<br>\n",
    "n - number of elements of the sample"
   ]
  },
  {
   "cell_type": "code",
   "execution_count": 11,
   "metadata": {},
   "outputs": [
    {
     "name": "stdout",
     "output_type": "stream",
     "text": [
      "1.3787187190005248\n"
     ]
    }
   ],
   "source": [
    "# user defined function\n",
    "def std_err(std_dev, no_elem):\n",
    "    return (std_dev/np.sqrt(no_elem))\n",
    "\n",
    "print(std_err(np.std(heights, ddof=1), 50)) # we are using the sample deviation of sample data\n",
    "# ddof (delta degree of freedom) -> this accounts that we're estimating the std_dev of\n",
    "# a sample rather a population"
   ]
  },
  {
   "cell_type": "code",
   "execution_count": 8,
   "metadata": {},
   "outputs": [
    {
     "name": "stdout",
     "output_type": "stream",
     "text": [
      "1.3787187190005248\n"
     ]
    }
   ],
   "source": [
    "# inbuilt function stats.sem(_)\n",
    "\n",
    "from scipy import stats\n",
    "\n",
    "print(stats.sem(heights))"
   ]
  },
  {
   "attachments": {},
   "cell_type": "markdown",
   "metadata": {},
   "source": [
    "The standard error of the mean is 1.38 cm. <br>\n",
    "The lower and upper limit of the confidence interval can be determined by using the formula:<br>\n",
    "\n",
    ">> Upper/lower = mean(data) +/- sigma * SEmean(x)\n"
   ]
  },
  {
   "attachments": {},
   "cell_type": "markdown",
   "metadata": {},
   "source": [
    "sigma is the critical value corresponding to the desired level of confidence (eg 1.96 for 95% confidence)"
   ]
  },
  {
   "cell_type": "code",
   "execution_count": 12,
   "metadata": {},
   "outputs": [
    {
     "name": "stdout",
     "output_type": "stream",
     "text": [
      "Upper limit:  185.94480000000001\n",
      "Lower limit:  180.5352\n"
     ]
    }
   ],
   "source": [
    "# for upper limit\n",
    "print(\"Upper limit: \", 183.24 + (1.96 * 1.38))\n",
    "\n",
    "# for lower limit\n",
    "print(\"Lower limit: \", 183.24 - (1.96 * 1.38))"
   ]
  },
  {
   "attachments": {},
   "cell_type": "markdown",
   "metadata": {},
   "source": [
    "We can confidently say the population mean lies between 18053 cm and 185.94 cm of height"
   ]
  },
  {
   "attachments": {},
   "cell_type": "markdown",
   "metadata": {},
   "source": [
    "***As the sample size increases, the standard error of the mean decreases, meaning the confidence interval becomes narrower and we can tell with certainty the interval that the population mean would lie on***"
   ]
  }
 ],
 "metadata": {
  "kernelspec": {
   "display_name": "Python 3",
   "language": "python",
   "name": "python3"
  },
  "language_info": {
   "codemirror_mode": {
    "name": "ipython",
    "version": 3
   },
   "file_extension": ".py",
   "mimetype": "text/x-python",
   "name": "python",
   "nbconvert_exporter": "python",
   "pygments_lexer": "ipython3",
   "version": "3.10.6"
  },
  "orig_nbformat": 4
 },
 "nbformat": 4,
 "nbformat_minor": 2
}
