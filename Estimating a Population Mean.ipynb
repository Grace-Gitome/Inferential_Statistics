{
 "cells": [
  {
   "attachments": {},
   "cell_type": "markdown",
   "metadata": {},
   "source": [
    "## Introduction\n",
    "A common problem in statistics is to obtain infomation about the mean of a population. For example we might want to know\n",
    "- the mean age of people in the civilian labor force,\n",
    "- the mean cost of a wedding,\n",
    "- the mean gas mileage of a new-model car or\n",
    "- the mean starting salary of a Data Science graduates.\n",
    "\n",
    "If the population is small, we can ordinarily determine the mean by first taking a census and then computing the mean from the population data. If the population is large, however, as it is often in practice, taking a census is generally impractical, extremely expensive or impossible. Nonethe less, we can usually obtain sufficiently accurate information about the mean by taking a sample from the population.\n"
   ]
  },
  {
   "attachments": {},
   "cell_type": "markdown",
   "metadata": {},
   "source": [
    "### Example: Point Estimate of a Population Mean\n",
    "\n",
    "**Prices of New Mobile Homes** The US Census Beureau publishes annual figures for new mobile homes in *Manufactured Housing Statistics*. The figures are obtained from sampling, not from a census. A simple random sample of 36 new homes yeilded the prices, in thousands of dollars, shown in the table below.\n",
    "\n",
    "Use the data to estimate the population mean price of all new mobile homes.\n",
    "\n",
    "![Alt text](image-25.png)\n",
    "\n",
    "Solution\n",
    "\n",
    "![Alt text](image-24.png)"
   ]
  }
 ],
 "metadata": {
  "language_info": {
   "name": "python"
  },
  "orig_nbformat": 4
 },
 "nbformat": 4,
 "nbformat_minor": 2
}
