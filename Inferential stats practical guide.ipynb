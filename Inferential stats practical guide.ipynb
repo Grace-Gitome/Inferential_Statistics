{
 "cells": [
  {
   "attachments": {},
   "cell_type": "markdown",
   "metadata": {},
   "source": [
    "# ICC Women's World Cup-2022, world cup 2023 Datasets\n",
    "\n",
    "*Matchwise data of ICC Womens World Cup 2022 and 2023*\n",
    "\n",
    "Source: https://www.kaggle.com/datasets/aravindas01/icc-womens-world-cup2022-dataset?resource=download\n",
    "\n",
    "### About Dataset\n",
    "\n",
    "This dataset contains the latest match-wise data of the ICC Women's World Cup 2022 as of April 3, 2022. This dataset can be used to analyse the women's World Cup series held in New Zealand.\n",
    "\n",
    "### Women World Cup 2022 Data Description\n",
    "\n",
    "**Match_id** - Match Number<br>\n",
    "**Team_1** - Name of playing team 1<br>\n",
    "**Team_2** - Name of playing team 2<br>\n",
    "**Venue** - Name of Venue<br>\n",
    "**Stage**- Tournament stage<br>\n",
    "**Toss-_winner** -Which team won the toss<br>\n",
    "**Toss_decision** - Decision chosen by toss winning captain<br>\n",
    "**First_innings_score** - Score in the first innings<br>\n",
    "**First_innings_wkts** - Wickets fallen in first innings<br>\n",
    "**Second_innings** - Score in the second innings<br>\n",
    "\n",
    "### Women World Cup 2022 Data Description\n",
    "\n",
    "Match Number<br>\n",
    "Stage<br>\n",
    "Team 1<br>\n",
    "Team 2<br>\n",
    "winning team<br>\n",
    "won by<br>"
   ]
  },
  {
   "attachments": {},
   "cell_type": "markdown",
   "metadata": {},
   "source": [
    "### Importing Libraries and loading the data"
   ]
  },
  {
   "cell_type": "code",
   "execution_count": 2,
   "metadata": {},
   "outputs": [],
   "source": [
    "%matplotlib inline\n",
    "import pandas as pd\n",
    "import numpy as np\n",
    "from scipy import stats\n",
    "import matplotlib.pyplot as plt\n",
    "import seaborn as sns"
   ]
  },
  {
   "cell_type": "code",
   "execution_count": 3,
   "metadata": {},
   "outputs": [],
   "source": [
    "df =pd.read_csv('Datasets\\WomenWorldCup2022.csv')\n",
    "df23 =pd.read_csv('Datasets\\WomenWorldCup2023.csv')"
   ]
  },
  {
   "cell_type": "code",
   "execution_count": 4,
   "metadata": {},
   "outputs": [
    {
     "data": {
      "text/html": [
       "<div>\n",
       "<style scoped>\n",
       "    .dataframe tbody tr th:only-of-type {\n",
       "        vertical-align: middle;\n",
       "    }\n",
       "\n",
       "    .dataframe tbody tr th {\n",
       "        vertical-align: top;\n",
       "    }\n",
       "\n",
       "    .dataframe thead th {\n",
       "        text-align: right;\n",
       "    }\n",
       "</style>\n",
       "<table border=\"1\" class=\"dataframe\">\n",
       "  <thead>\n",
       "    <tr style=\"text-align: right;\">\n",
       "      <th></th>\n",
       "      <th>Match_id</th>\n",
       "      <th>Team_1</th>\n",
       "      <th>Team_2</th>\n",
       "      <th>Venue</th>\n",
       "      <th>Stage</th>\n",
       "      <th>Toss_winner</th>\n",
       "      <th>Toss_decision</th>\n",
       "      <th>First_innings_score</th>\n",
       "      <th>First_innings_wkts</th>\n",
       "      <th>Second_innings_score</th>\n",
       "      <th>Second_innings_wkts</th>\n",
       "      <th>Winner</th>\n",
       "      <th>Player_of_the_match</th>\n",
       "    </tr>\n",
       "  </thead>\n",
       "  <tbody>\n",
       "    <tr>\n",
       "      <th>0</th>\n",
       "      <td>1</td>\n",
       "      <td>New Zealand</td>\n",
       "      <td>West Indies</td>\n",
       "      <td>Bay Oval, Mount Maunganui</td>\n",
       "      <td>Group</td>\n",
       "      <td>New Zealand</td>\n",
       "      <td>Field</td>\n",
       "      <td>259</td>\n",
       "      <td>9</td>\n",
       "      <td>256.0</td>\n",
       "      <td>10.0</td>\n",
       "      <td>West Indies</td>\n",
       "      <td>Hayley Matthews</td>\n",
       "    </tr>\n",
       "    <tr>\n",
       "      <th>1</th>\n",
       "      <td>2</td>\n",
       "      <td>Bangladesh</td>\n",
       "      <td>South Africa</td>\n",
       "      <td>University Oval, Dunedin</td>\n",
       "      <td>Group</td>\n",
       "      <td>Bangladesh</td>\n",
       "      <td>Field</td>\n",
       "      <td>207</td>\n",
       "      <td>10</td>\n",
       "      <td>175.0</td>\n",
       "      <td>10.0</td>\n",
       "      <td>South Africa</td>\n",
       "      <td>Ayabonga Khaka</td>\n",
       "    </tr>\n",
       "    <tr>\n",
       "      <th>2</th>\n",
       "      <td>3</td>\n",
       "      <td>Australia</td>\n",
       "      <td>England</td>\n",
       "      <td>Seddon Park, Hamilton</td>\n",
       "      <td>Group</td>\n",
       "      <td>England</td>\n",
       "      <td>Field</td>\n",
       "      <td>310</td>\n",
       "      <td>3</td>\n",
       "      <td>298.0</td>\n",
       "      <td>8.0</td>\n",
       "      <td>Australia</td>\n",
       "      <td>Rachael Haynes</td>\n",
       "    </tr>\n",
       "    <tr>\n",
       "      <th>3</th>\n",
       "      <td>4</td>\n",
       "      <td>Pakistan</td>\n",
       "      <td>India</td>\n",
       "      <td>Bay Oval, Mount Maunganui</td>\n",
       "      <td>Group</td>\n",
       "      <td>India</td>\n",
       "      <td>Bat</td>\n",
       "      <td>244</td>\n",
       "      <td>7</td>\n",
       "      <td>137.0</td>\n",
       "      <td>10.0</td>\n",
       "      <td>India</td>\n",
       "      <td>Pooja Vastrakar</td>\n",
       "    </tr>\n",
       "    <tr>\n",
       "      <th>4</th>\n",
       "      <td>5</td>\n",
       "      <td>New Zealand</td>\n",
       "      <td>Bangladesh</td>\n",
       "      <td>University Oval, Dunedin</td>\n",
       "      <td>Group</td>\n",
       "      <td>New Zealand</td>\n",
       "      <td>Field</td>\n",
       "      <td>140</td>\n",
       "      <td>8</td>\n",
       "      <td>144.0</td>\n",
       "      <td>1.0</td>\n",
       "      <td>New Zealand</td>\n",
       "      <td>Suzie Bates</td>\n",
       "    </tr>\n",
       "  </tbody>\n",
       "</table>\n",
       "</div>"
      ],
      "text/plain": [
       "   Match_id       Team_1        Team_2                      Venue  Stage  \\\n",
       "0         1  New Zealand   West Indies  Bay Oval, Mount Maunganui  Group   \n",
       "1         2   Bangladesh  South Africa   University Oval, Dunedin  Group   \n",
       "2         3    Australia       England      Seddon Park, Hamilton  Group   \n",
       "3         4     Pakistan         India  Bay Oval, Mount Maunganui  Group   \n",
       "4         5  New Zealand    Bangladesh   University Oval, Dunedin  Group   \n",
       "\n",
       "   Toss_winner Toss_decision  First_innings_score  First_innings_wkts  \\\n",
       "0  New Zealand         Field                  259                   9   \n",
       "1   Bangladesh         Field                  207                  10   \n",
       "2      England         Field                  310                   3   \n",
       "3        India           Bat                  244                   7   \n",
       "4  New Zealand         Field                  140                   8   \n",
       "\n",
       "   Second_innings_score  Second_innings_wkts        Winner Player_of_the_match  \n",
       "0                 256.0                 10.0   West Indies     Hayley Matthews  \n",
       "1                 175.0                 10.0  South Africa      Ayabonga Khaka  \n",
       "2                 298.0                  8.0     Australia      Rachael Haynes  \n",
       "3                 137.0                 10.0         India     Pooja Vastrakar  \n",
       "4                 144.0                  1.0   New Zealand         Suzie Bates  "
      ]
     },
     "execution_count": 4,
     "metadata": {},
     "output_type": "execute_result"
    }
   ],
   "source": [
    "df.head()"
   ]
  },
  {
   "attachments": {},
   "cell_type": "markdown",
   "metadata": {},
   "source": [
    "## Brief primer on Descriptive statistics\n",
    "\n",
    "### Central Tendencies\n",
    "\n",
    "The central tendencies are values which represent the central or 'typical' value of the given distribution.\n",
    "\n",
    "Three most popular central tendency estimates are mean, median and mode. Typicall we resort to using mean (for normal distributions) and median (for skewed distributions) to report central tendency values.\n",
    "\n",
    "A good rule of thumb is to use mean when outliers don't affect its value and median when it does."
   ]
  },
  {
   "cell_type": "code",
   "execution_count": 12,
   "metadata": {},
   "outputs": [
    {
     "data": {
      "text/plain": [
       "(220.74193548387098, 234.0)"
      ]
     },
     "execution_count": 12,
     "metadata": {},
     "output_type": "execute_result"
    }
   ],
   "source": [
    "#Calculating the mean and median on first innings\n",
    "First = df['First_innings_score']\n",
    "First.mean(), First.median()"
   ]
  },
  {
   "cell_type": "code",
   "execution_count": 11,
   "metadata": {},
   "outputs": [
    {
     "data": {
      "text/plain": [
       "(187.33333333333334, 184.0)"
      ]
     },
     "execution_count": 11,
     "metadata": {},
     "output_type": "execute_result"
    }
   ],
   "source": [
    "#Calculating the mean and median on second innings\n",
    "Second = df['Second_innings_score']\n",
    "Second.mean(), Second.median()"
   ]
  }
 ],
 "metadata": {
  "kernelspec": {
   "display_name": "Python 3",
   "language": "python",
   "name": "python3"
  },
  "language_info": {
   "codemirror_mode": {
    "name": "ipython",
    "version": 3
   },
   "file_extension": ".py",
   "mimetype": "text/x-python",
   "name": "python",
   "nbconvert_exporter": "python",
   "pygments_lexer": "ipython3",
   "version": "3.11.1"
  },
  "orig_nbformat": 4
 },
 "nbformat": 4,
 "nbformat_minor": 2
}
