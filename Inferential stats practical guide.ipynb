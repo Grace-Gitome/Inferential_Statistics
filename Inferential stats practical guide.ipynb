{
 "cells": [
  {
   "attachments": {},
   "cell_type": "markdown",
   "metadata": {},
   "source": [
    "# ICC Women's World Cup-2022, world cup 2023 Datasets\n",
    "\n",
    "*Matchwise data of ICC Womens World Cup 2022 and 2023*\n",
    "\n",
    "Source: https://www.kaggle.com/datasets/aravindas01/icc-womens-world-cup2022-dataset?resource=download\n",
    "\n",
    "### About Dataset\n",
    "\n",
    "This dataset contains the latest match-wise data of the ICC Women's World Cup 2022 as of April 3, 2023. This dataset can be used to analyse the women's World Cup series held in New Zealand.\n",
    "\n",
    "### Women World Cup 2022 Data Description\n",
    "\n",
    "**Match_id** - Match Number<br>\n",
    "**Team_1** - Name of playing team 1<br>\n",
    "**Team_2** - Name of playing team 2<br>\n",
    "**Venue** - Name of Venue<br>\n",
    "**Stage**- Tournament stage<br>\n",
    "**Toss-_winner** -Which team won the toss<br>\n",
    "**Toss_decision** - Decision chosen by toss winning captain<br>\n",
    "**First_innings_score** - Score in the first innings<br>\n",
    "**First_innings_wkts** - Wickets fallen in first innings<br>\n",
    "**Second_innings** - Score in the second innings<br>\n",
    "\n",
    "### Women World Cup 2022 Data Description\n",
    "\n",
    "Match Number<br>\n",
    "Stage<br>\n",
    "Team 1<br>\n",
    "Team 2<br>\n",
    "winning team<br>\n",
    "won by<br>"
   ]
  },
  {
   "attachments": {},
   "cell_type": "markdown",
   "metadata": {},
   "source": [
    "### Importing Libraries and loading the data"
   ]
  },
  {
   "cell_type": "code",
   "execution_count": 3,
   "metadata": {},
   "outputs": [],
   "source": [
    "%matplotlib inline\n",
    "import pandas as pd\n",
    "import numpy as np\n",
    "from scipy import stats\n",
    "import matplotlib.pyplot as plt\n",
    "import seaborn as sns"
   ]
  },
  {
   "cell_type": "code",
   "execution_count": 4,
   "metadata": {},
   "outputs": [],
   "source": [
    "df =pd.read_csv('Datasets\\WomenWorldCup2022.csv')\n",
    "df23 =pd.read_csv('Datasets\\WomenWorldCup2023.csv')"
   ]
  },
  {
   "cell_type": "code",
   "execution_count": 5,
   "metadata": {},
   "outputs": [
    {
     "data": {
      "text/html": [
       "<div>\n",
       "<style scoped>\n",
       "    .dataframe tbody tr th:only-of-type {\n",
       "        vertical-align: middle;\n",
       "    }\n",
       "\n",
       "    .dataframe tbody tr th {\n",
       "        vertical-align: top;\n",
       "    }\n",
       "\n",
       "    .dataframe thead th {\n",
       "        text-align: right;\n",
       "    }\n",
       "</style>\n",
       "<table border=\"1\" class=\"dataframe\">\n",
       "  <thead>\n",
       "    <tr style=\"text-align: right;\">\n",
       "      <th></th>\n",
       "      <th>Match_id</th>\n",
       "      <th>Team_1</th>\n",
       "      <th>Team_2</th>\n",
       "      <th>Venue</th>\n",
       "      <th>Stage</th>\n",
       "      <th>Toss_winner</th>\n",
       "      <th>Toss_decision</th>\n",
       "      <th>First_innings_score</th>\n",
       "      <th>First_innings_wkts</th>\n",
       "      <th>Second_innings_score</th>\n",
       "      <th>Second_innings_wkts</th>\n",
       "      <th>Winner</th>\n",
       "      <th>Player_of_the_match</th>\n",
       "    </tr>\n",
       "  </thead>\n",
       "  <tbody>\n",
       "    <tr>\n",
       "      <th>0</th>\n",
       "      <td>1</td>\n",
       "      <td>New Zealand</td>\n",
       "      <td>West Indies</td>\n",
       "      <td>Bay Oval, Mount Maunganui</td>\n",
       "      <td>Group</td>\n",
       "      <td>New Zealand</td>\n",
       "      <td>Field</td>\n",
       "      <td>259</td>\n",
       "      <td>9</td>\n",
       "      <td>256.0</td>\n",
       "      <td>10.0</td>\n",
       "      <td>West Indies</td>\n",
       "      <td>Hayley Matthews</td>\n",
       "    </tr>\n",
       "    <tr>\n",
       "      <th>1</th>\n",
       "      <td>2</td>\n",
       "      <td>Bangladesh</td>\n",
       "      <td>South Africa</td>\n",
       "      <td>University Oval, Dunedin</td>\n",
       "      <td>Group</td>\n",
       "      <td>Bangladesh</td>\n",
       "      <td>Field</td>\n",
       "      <td>207</td>\n",
       "      <td>10</td>\n",
       "      <td>175.0</td>\n",
       "      <td>10.0</td>\n",
       "      <td>South Africa</td>\n",
       "      <td>Ayabonga Khaka</td>\n",
       "    </tr>\n",
       "    <tr>\n",
       "      <th>2</th>\n",
       "      <td>3</td>\n",
       "      <td>Australia</td>\n",
       "      <td>England</td>\n",
       "      <td>Seddon Park, Hamilton</td>\n",
       "      <td>Group</td>\n",
       "      <td>England</td>\n",
       "      <td>Field</td>\n",
       "      <td>310</td>\n",
       "      <td>3</td>\n",
       "      <td>298.0</td>\n",
       "      <td>8.0</td>\n",
       "      <td>Australia</td>\n",
       "      <td>Rachael Haynes</td>\n",
       "    </tr>\n",
       "    <tr>\n",
       "      <th>3</th>\n",
       "      <td>4</td>\n",
       "      <td>Pakistan</td>\n",
       "      <td>India</td>\n",
       "      <td>Bay Oval, Mount Maunganui</td>\n",
       "      <td>Group</td>\n",
       "      <td>India</td>\n",
       "      <td>Bat</td>\n",
       "      <td>244</td>\n",
       "      <td>7</td>\n",
       "      <td>137.0</td>\n",
       "      <td>10.0</td>\n",
       "      <td>India</td>\n",
       "      <td>Pooja Vastrakar</td>\n",
       "    </tr>\n",
       "    <tr>\n",
       "      <th>4</th>\n",
       "      <td>5</td>\n",
       "      <td>New Zealand</td>\n",
       "      <td>Bangladesh</td>\n",
       "      <td>University Oval, Dunedin</td>\n",
       "      <td>Group</td>\n",
       "      <td>New Zealand</td>\n",
       "      <td>Field</td>\n",
       "      <td>140</td>\n",
       "      <td>8</td>\n",
       "      <td>144.0</td>\n",
       "      <td>1.0</td>\n",
       "      <td>New Zealand</td>\n",
       "      <td>Suzie Bates</td>\n",
       "    </tr>\n",
       "  </tbody>\n",
       "</table>\n",
       "</div>"
      ],
      "text/plain": [
       "   Match_id       Team_1        Team_2                      Venue  Stage  \\\n",
       "0         1  New Zealand   West Indies  Bay Oval, Mount Maunganui  Group   \n",
       "1         2   Bangladesh  South Africa   University Oval, Dunedin  Group   \n",
       "2         3    Australia       England      Seddon Park, Hamilton  Group   \n",
       "3         4     Pakistan         India  Bay Oval, Mount Maunganui  Group   \n",
       "4         5  New Zealand    Bangladesh   University Oval, Dunedin  Group   \n",
       "\n",
       "   Toss_winner Toss_decision  First_innings_score  First_innings_wkts  \\\n",
       "0  New Zealand         Field                  259                   9   \n",
       "1   Bangladesh         Field                  207                  10   \n",
       "2      England         Field                  310                   3   \n",
       "3        India           Bat                  244                   7   \n",
       "4  New Zealand         Field                  140                   8   \n",
       "\n",
       "   Second_innings_score  Second_innings_wkts        Winner Player_of_the_match  \n",
       "0                 256.0                 10.0   West Indies     Hayley Matthews  \n",
       "1                 175.0                 10.0  South Africa      Ayabonga Khaka  \n",
       "2                 298.0                  8.0     Australia      Rachael Haynes  \n",
       "3                 137.0                 10.0         India     Pooja Vastrakar  \n",
       "4                 144.0                  1.0   New Zealand         Suzie Bates  "
      ]
     },
     "execution_count": 5,
     "metadata": {},
     "output_type": "execute_result"
    }
   ],
   "source": [
    "df.head()"
   ]
  },
  {
   "attachments": {},
   "cell_type": "markdown",
   "metadata": {},
   "source": [
    "## Brief primer on Descriptive statistics\n",
    "\n",
    "### Central Tendencies\n",
    "\n",
    "The central tendencies are values which represent the central or 'typical' value of the given distribution.\n",
    "\n",
    "Three most popular central tendency estimates are mean, median and mode. Typicall we resort to using mean (for normal distributions) and median (for skewed distributions) to report central tendency values.\n",
    "\n",
    "A good rule of thumb is to use mean when outliers don't affect its value and median when it does."
   ]
  },
  {
   "cell_type": "code",
   "execution_count": 6,
   "metadata": {},
   "outputs": [
    {
     "data": {
      "text/plain": [
       "(220.74193548387098, 234.0)"
      ]
     },
     "execution_count": 6,
     "metadata": {},
     "output_type": "execute_result"
    }
   ],
   "source": [
    "#Calculating the mean and median on first innings\n",
    "First = df['First_innings_score']\n",
    "First.mean(), First.median()"
   ]
  },
  {
   "cell_type": "code",
   "execution_count": 7,
   "metadata": {},
   "outputs": [
    {
     "data": {
      "text/plain": [
       "(187.33333333333334, 184.0)"
      ]
     },
     "execution_count": 7,
     "metadata": {},
     "output_type": "execute_result"
    }
   ],
   "source": [
    "#Calculating the mean and median on second innings\n",
    "Second = df['Second_innings_score']\n",
    "Second.mean(), Second.median()"
   ]
  },
  {
   "attachments": {},
   "cell_type": "markdown",
   "metadata": {},
   "source": [
    "### Measures of Spread\n",
    "\n",
    "This is the measure of how far from the mean the values tend to go. **Variance* and *Standard Deviation* are used to quantitavely measure spread.\n",
    "\n",
    "They are dependent quantities, with the standard deviation being defined as the square root of variance."
   ]
  },
  {
   "cell_type": "code",
   "execution_count": 8,
   "metadata": {},
   "outputs": [
    {
     "data": {
      "text/plain": [
       "(5286.464516129033, 72.70807737885133)"
      ]
     },
     "execution_count": 8,
     "metadata": {},
     "output_type": "execute_result"
    }
   ],
   "source": [
    "#Calculating the variance and standard deviation of first innings\n",
    "First.var(), First.std()"
   ]
  },
  {
   "cell_type": "code",
   "execution_count": 9,
   "metadata": {},
   "outputs": [
    {
     "data": {
      "text/plain": [
       "(3566.091954022989, 59.71676443029201)"
      ]
     },
     "execution_count": 9,
     "metadata": {},
     "output_type": "execute_result"
    }
   ],
   "source": [
    "#Calculating the variance and standard deviation of second innings\n",
    "Second.var(), Second.std()"
   ]
  },
  {
   "attachments": {},
   "cell_type": "markdown",
   "metadata": {},
   "source": [
    "The mean and the standard deviation are often the best quantities to summarize the data for distributions with symmetrical histograms without too many outliers.\n",
    "\n",
    "The mean and standard deviation measures are sufficient information and other tendencies such as median does not add too much extra information"
   ]
  },
  {
   "cell_type": "code",
   "execution_count": 10,
   "metadata": {},
   "outputs": [
    {
     "data": {
      "application/vnd.plotly.v1+json": {
       "config": {
        "plotlyServerURL": "https://plot.ly"
       },
       "data": [
        {
         "alignmentgroup": "True",
         "bingroup": "x",
         "hovertemplate": "variable=First_innings_score<br>value=%{x}<br>count=%{y}<extra></extra>",
         "legendgroup": "First_innings_score",
         "marker": {
          "color": "#636efa",
          "pattern": {
           "shape": ""
          }
         },
         "name": "First_innings_score",
         "offsetgroup": "First_innings_score",
         "orientation": "v",
         "showlegend": true,
         "type": "histogram",
         "x": [
          259,
          207,
          310,
          244,
          140,
          190,
          225,
          260,
          223,
          317,
          269,
          234,
          235,
          131,
          134,
          228,
          140,
          277,
          203,
          89,
          271,
          229,
          61,
          105,
          135,
          265,
          234,
          274,
          305,
          293,
          356
         ],
         "xaxis": "x",
         "yaxis": "y"
        }
       ],
       "layout": {
        "barmode": "relative",
        "legend": {
         "title": {
          "text": "variable"
         },
         "tracegroupgap": 0
        },
        "margin": {
         "t": 60
        },
        "template": {
         "data": {
          "bar": [
           {
            "error_x": {
             "color": "#2a3f5f"
            },
            "error_y": {
             "color": "#2a3f5f"
            },
            "marker": {
             "line": {
              "color": "#E5ECF6",
              "width": 0.5
             },
             "pattern": {
              "fillmode": "overlay",
              "size": 10,
              "solidity": 0.2
             }
            },
            "type": "bar"
           }
          ],
          "barpolar": [
           {
            "marker": {
             "line": {
              "color": "#E5ECF6",
              "width": 0.5
             },
             "pattern": {
              "fillmode": "overlay",
              "size": 10,
              "solidity": 0.2
             }
            },
            "type": "barpolar"
           }
          ],
          "carpet": [
           {
            "aaxis": {
             "endlinecolor": "#2a3f5f",
             "gridcolor": "white",
             "linecolor": "white",
             "minorgridcolor": "white",
             "startlinecolor": "#2a3f5f"
            },
            "baxis": {
             "endlinecolor": "#2a3f5f",
             "gridcolor": "white",
             "linecolor": "white",
             "minorgridcolor": "white",
             "startlinecolor": "#2a3f5f"
            },
            "type": "carpet"
           }
          ],
          "choropleth": [
           {
            "colorbar": {
             "outlinewidth": 0,
             "ticks": ""
            },
            "type": "choropleth"
           }
          ],
          "contour": [
           {
            "colorbar": {
             "outlinewidth": 0,
             "ticks": ""
            },
            "colorscale": [
             [
              0,
              "#0d0887"
             ],
             [
              0.1111111111111111,
              "#46039f"
             ],
             [
              0.2222222222222222,
              "#7201a8"
             ],
             [
              0.3333333333333333,
              "#9c179e"
             ],
             [
              0.4444444444444444,
              "#bd3786"
             ],
             [
              0.5555555555555556,
              "#d8576b"
             ],
             [
              0.6666666666666666,
              "#ed7953"
             ],
             [
              0.7777777777777778,
              "#fb9f3a"
             ],
             [
              0.8888888888888888,
              "#fdca26"
             ],
             [
              1,
              "#f0f921"
             ]
            ],
            "type": "contour"
           }
          ],
          "contourcarpet": [
           {
            "colorbar": {
             "outlinewidth": 0,
             "ticks": ""
            },
            "type": "contourcarpet"
           }
          ],
          "heatmap": [
           {
            "colorbar": {
             "outlinewidth": 0,
             "ticks": ""
            },
            "colorscale": [
             [
              0,
              "#0d0887"
             ],
             [
              0.1111111111111111,
              "#46039f"
             ],
             [
              0.2222222222222222,
              "#7201a8"
             ],
             [
              0.3333333333333333,
              "#9c179e"
             ],
             [
              0.4444444444444444,
              "#bd3786"
             ],
             [
              0.5555555555555556,
              "#d8576b"
             ],
             [
              0.6666666666666666,
              "#ed7953"
             ],
             [
              0.7777777777777778,
              "#fb9f3a"
             ],
             [
              0.8888888888888888,
              "#fdca26"
             ],
             [
              1,
              "#f0f921"
             ]
            ],
            "type": "heatmap"
           }
          ],
          "heatmapgl": [
           {
            "colorbar": {
             "outlinewidth": 0,
             "ticks": ""
            },
            "colorscale": [
             [
              0,
              "#0d0887"
             ],
             [
              0.1111111111111111,
              "#46039f"
             ],
             [
              0.2222222222222222,
              "#7201a8"
             ],
             [
              0.3333333333333333,
              "#9c179e"
             ],
             [
              0.4444444444444444,
              "#bd3786"
             ],
             [
              0.5555555555555556,
              "#d8576b"
             ],
             [
              0.6666666666666666,
              "#ed7953"
             ],
             [
              0.7777777777777778,
              "#fb9f3a"
             ],
             [
              0.8888888888888888,
              "#fdca26"
             ],
             [
              1,
              "#f0f921"
             ]
            ],
            "type": "heatmapgl"
           }
          ],
          "histogram": [
           {
            "marker": {
             "pattern": {
              "fillmode": "overlay",
              "size": 10,
              "solidity": 0.2
             }
            },
            "type": "histogram"
           }
          ],
          "histogram2d": [
           {
            "colorbar": {
             "outlinewidth": 0,
             "ticks": ""
            },
            "colorscale": [
             [
              0,
              "#0d0887"
             ],
             [
              0.1111111111111111,
              "#46039f"
             ],
             [
              0.2222222222222222,
              "#7201a8"
             ],
             [
              0.3333333333333333,
              "#9c179e"
             ],
             [
              0.4444444444444444,
              "#bd3786"
             ],
             [
              0.5555555555555556,
              "#d8576b"
             ],
             [
              0.6666666666666666,
              "#ed7953"
             ],
             [
              0.7777777777777778,
              "#fb9f3a"
             ],
             [
              0.8888888888888888,
              "#fdca26"
             ],
             [
              1,
              "#f0f921"
             ]
            ],
            "type": "histogram2d"
           }
          ],
          "histogram2dcontour": [
           {
            "colorbar": {
             "outlinewidth": 0,
             "ticks": ""
            },
            "colorscale": [
             [
              0,
              "#0d0887"
             ],
             [
              0.1111111111111111,
              "#46039f"
             ],
             [
              0.2222222222222222,
              "#7201a8"
             ],
             [
              0.3333333333333333,
              "#9c179e"
             ],
             [
              0.4444444444444444,
              "#bd3786"
             ],
             [
              0.5555555555555556,
              "#d8576b"
             ],
             [
              0.6666666666666666,
              "#ed7953"
             ],
             [
              0.7777777777777778,
              "#fb9f3a"
             ],
             [
              0.8888888888888888,
              "#fdca26"
             ],
             [
              1,
              "#f0f921"
             ]
            ],
            "type": "histogram2dcontour"
           }
          ],
          "mesh3d": [
           {
            "colorbar": {
             "outlinewidth": 0,
             "ticks": ""
            },
            "type": "mesh3d"
           }
          ],
          "parcoords": [
           {
            "line": {
             "colorbar": {
              "outlinewidth": 0,
              "ticks": ""
             }
            },
            "type": "parcoords"
           }
          ],
          "pie": [
           {
            "automargin": true,
            "type": "pie"
           }
          ],
          "scatter": [
           {
            "fillpattern": {
             "fillmode": "overlay",
             "size": 10,
             "solidity": 0.2
            },
            "type": "scatter"
           }
          ],
          "scatter3d": [
           {
            "line": {
             "colorbar": {
              "outlinewidth": 0,
              "ticks": ""
             }
            },
            "marker": {
             "colorbar": {
              "outlinewidth": 0,
              "ticks": ""
             }
            },
            "type": "scatter3d"
           }
          ],
          "scattercarpet": [
           {
            "marker": {
             "colorbar": {
              "outlinewidth": 0,
              "ticks": ""
             }
            },
            "type": "scattercarpet"
           }
          ],
          "scattergeo": [
           {
            "marker": {
             "colorbar": {
              "outlinewidth": 0,
              "ticks": ""
             }
            },
            "type": "scattergeo"
           }
          ],
          "scattergl": [
           {
            "marker": {
             "colorbar": {
              "outlinewidth": 0,
              "ticks": ""
             }
            },
            "type": "scattergl"
           }
          ],
          "scattermapbox": [
           {
            "marker": {
             "colorbar": {
              "outlinewidth": 0,
              "ticks": ""
             }
            },
            "type": "scattermapbox"
           }
          ],
          "scatterpolar": [
           {
            "marker": {
             "colorbar": {
              "outlinewidth": 0,
              "ticks": ""
             }
            },
            "type": "scatterpolar"
           }
          ],
          "scatterpolargl": [
           {
            "marker": {
             "colorbar": {
              "outlinewidth": 0,
              "ticks": ""
             }
            },
            "type": "scatterpolargl"
           }
          ],
          "scatterternary": [
           {
            "marker": {
             "colorbar": {
              "outlinewidth": 0,
              "ticks": ""
             }
            },
            "type": "scatterternary"
           }
          ],
          "surface": [
           {
            "colorbar": {
             "outlinewidth": 0,
             "ticks": ""
            },
            "colorscale": [
             [
              0,
              "#0d0887"
             ],
             [
              0.1111111111111111,
              "#46039f"
             ],
             [
              0.2222222222222222,
              "#7201a8"
             ],
             [
              0.3333333333333333,
              "#9c179e"
             ],
             [
              0.4444444444444444,
              "#bd3786"
             ],
             [
              0.5555555555555556,
              "#d8576b"
             ],
             [
              0.6666666666666666,
              "#ed7953"
             ],
             [
              0.7777777777777778,
              "#fb9f3a"
             ],
             [
              0.8888888888888888,
              "#fdca26"
             ],
             [
              1,
              "#f0f921"
             ]
            ],
            "type": "surface"
           }
          ],
          "table": [
           {
            "cells": {
             "fill": {
              "color": "#EBF0F8"
             },
             "line": {
              "color": "white"
             }
            },
            "header": {
             "fill": {
              "color": "#C8D4E3"
             },
             "line": {
              "color": "white"
             }
            },
            "type": "table"
           }
          ]
         },
         "layout": {
          "annotationdefaults": {
           "arrowcolor": "#2a3f5f",
           "arrowhead": 0,
           "arrowwidth": 1
          },
          "autotypenumbers": "strict",
          "coloraxis": {
           "colorbar": {
            "outlinewidth": 0,
            "ticks": ""
           }
          },
          "colorscale": {
           "diverging": [
            [
             0,
             "#8e0152"
            ],
            [
             0.1,
             "#c51b7d"
            ],
            [
             0.2,
             "#de77ae"
            ],
            [
             0.3,
             "#f1b6da"
            ],
            [
             0.4,
             "#fde0ef"
            ],
            [
             0.5,
             "#f7f7f7"
            ],
            [
             0.6,
             "#e6f5d0"
            ],
            [
             0.7,
             "#b8e186"
            ],
            [
             0.8,
             "#7fbc41"
            ],
            [
             0.9,
             "#4d9221"
            ],
            [
             1,
             "#276419"
            ]
           ],
           "sequential": [
            [
             0,
             "#0d0887"
            ],
            [
             0.1111111111111111,
             "#46039f"
            ],
            [
             0.2222222222222222,
             "#7201a8"
            ],
            [
             0.3333333333333333,
             "#9c179e"
            ],
            [
             0.4444444444444444,
             "#bd3786"
            ],
            [
             0.5555555555555556,
             "#d8576b"
            ],
            [
             0.6666666666666666,
             "#ed7953"
            ],
            [
             0.7777777777777778,
             "#fb9f3a"
            ],
            [
             0.8888888888888888,
             "#fdca26"
            ],
            [
             1,
             "#f0f921"
            ]
           ],
           "sequentialminus": [
            [
             0,
             "#0d0887"
            ],
            [
             0.1111111111111111,
             "#46039f"
            ],
            [
             0.2222222222222222,
             "#7201a8"
            ],
            [
             0.3333333333333333,
             "#9c179e"
            ],
            [
             0.4444444444444444,
             "#bd3786"
            ],
            [
             0.5555555555555556,
             "#d8576b"
            ],
            [
             0.6666666666666666,
             "#ed7953"
            ],
            [
             0.7777777777777778,
             "#fb9f3a"
            ],
            [
             0.8888888888888888,
             "#fdca26"
            ],
            [
             1,
             "#f0f921"
            ]
           ]
          },
          "colorway": [
           "#636efa",
           "#EF553B",
           "#00cc96",
           "#ab63fa",
           "#FFA15A",
           "#19d3f3",
           "#FF6692",
           "#B6E880",
           "#FF97FF",
           "#FECB52"
          ],
          "font": {
           "color": "#2a3f5f"
          },
          "geo": {
           "bgcolor": "white",
           "lakecolor": "white",
           "landcolor": "#E5ECF6",
           "showlakes": true,
           "showland": true,
           "subunitcolor": "white"
          },
          "hoverlabel": {
           "align": "left"
          },
          "hovermode": "closest",
          "mapbox": {
           "style": "light"
          },
          "paper_bgcolor": "white",
          "plot_bgcolor": "#E5ECF6",
          "polar": {
           "angularaxis": {
            "gridcolor": "white",
            "linecolor": "white",
            "ticks": ""
           },
           "bgcolor": "#E5ECF6",
           "radialaxis": {
            "gridcolor": "white",
            "linecolor": "white",
            "ticks": ""
           }
          },
          "scene": {
           "xaxis": {
            "backgroundcolor": "#E5ECF6",
            "gridcolor": "white",
            "gridwidth": 2,
            "linecolor": "white",
            "showbackground": true,
            "ticks": "",
            "zerolinecolor": "white"
           },
           "yaxis": {
            "backgroundcolor": "#E5ECF6",
            "gridcolor": "white",
            "gridwidth": 2,
            "linecolor": "white",
            "showbackground": true,
            "ticks": "",
            "zerolinecolor": "white"
           },
           "zaxis": {
            "backgroundcolor": "#E5ECF6",
            "gridcolor": "white",
            "gridwidth": 2,
            "linecolor": "white",
            "showbackground": true,
            "ticks": "",
            "zerolinecolor": "white"
           }
          },
          "shapedefaults": {
           "line": {
            "color": "#2a3f5f"
           }
          },
          "ternary": {
           "aaxis": {
            "gridcolor": "white",
            "linecolor": "white",
            "ticks": ""
           },
           "baxis": {
            "gridcolor": "white",
            "linecolor": "white",
            "ticks": ""
           },
           "bgcolor": "#E5ECF6",
           "caxis": {
            "gridcolor": "white",
            "linecolor": "white",
            "ticks": ""
           }
          },
          "title": {
           "x": 0.05
          },
          "xaxis": {
           "automargin": true,
           "gridcolor": "white",
           "linecolor": "white",
           "ticks": "",
           "title": {
            "standoff": 15
           },
           "zerolinecolor": "white",
           "zerolinewidth": 2
          },
          "yaxis": {
           "automargin": true,
           "gridcolor": "white",
           "linecolor": "white",
           "ticks": "",
           "title": {
            "standoff": 15
           },
           "zerolinecolor": "white",
           "zerolinewidth": 2
          }
         }
        },
        "xaxis": {
         "anchor": "y",
         "domain": [
          0,
          1
         ],
         "title": {
          "text": "value"
         }
        },
        "yaxis": {
         "anchor": "x",
         "domain": [
          0,
          1
         ],
         "title": {
          "text": "count"
         }
        }
       }
      }
     },
     "metadata": {},
     "output_type": "display_data"
    }
   ],
   "source": [
    "#Histogram for first innings\n",
    "import plotly.express as px \n",
    "px.histogram(First)                      "
   ]
  },
  {
   "cell_type": "code",
   "execution_count": 11,
   "metadata": {},
   "outputs": [
    {
     "data": {
      "application/vnd.plotly.v1+json": {
       "config": {
        "plotlyServerURL": "https://plot.ly"
       },
       "data": [
        {
         "alignmentgroup": "True",
         "bingroup": "x",
         "hovertemplate": "variable=Second_innings_score<br>value=%{x}<br>count=%{y}<extra></extra>",
         "legendgroup": "Second_innings_score",
         "marker": {
          "color": "#636efa",
          "pattern": {
           "shape": ""
          }
         },
         "name": "Second_innings_score",
         "offsetgroup": "Second_innings_score",
         "orientation": "v",
         "showlegend": true,
         "type": "histogram",
         "x": [
          256,
          175,
          298,
          137,
          144,
          193,
          218,
          198,
          217,
          162,
          128,
          225,
          236,
          132,
          136,
          229,
          136,
          280,
          204,
          90,
          272,
          119,
          null,
          107,
          136,
          194,
          134,
          275,
          148,
          156,
          285
         ],
         "xaxis": "x",
         "yaxis": "y"
        }
       ],
       "layout": {
        "barmode": "relative",
        "legend": {
         "title": {
          "text": "variable"
         },
         "tracegroupgap": 0
        },
        "margin": {
         "t": 60
        },
        "template": {
         "data": {
          "bar": [
           {
            "error_x": {
             "color": "#2a3f5f"
            },
            "error_y": {
             "color": "#2a3f5f"
            },
            "marker": {
             "line": {
              "color": "#E5ECF6",
              "width": 0.5
             },
             "pattern": {
              "fillmode": "overlay",
              "size": 10,
              "solidity": 0.2
             }
            },
            "type": "bar"
           }
          ],
          "barpolar": [
           {
            "marker": {
             "line": {
              "color": "#E5ECF6",
              "width": 0.5
             },
             "pattern": {
              "fillmode": "overlay",
              "size": 10,
              "solidity": 0.2
             }
            },
            "type": "barpolar"
           }
          ],
          "carpet": [
           {
            "aaxis": {
             "endlinecolor": "#2a3f5f",
             "gridcolor": "white",
             "linecolor": "white",
             "minorgridcolor": "white",
             "startlinecolor": "#2a3f5f"
            },
            "baxis": {
             "endlinecolor": "#2a3f5f",
             "gridcolor": "white",
             "linecolor": "white",
             "minorgridcolor": "white",
             "startlinecolor": "#2a3f5f"
            },
            "type": "carpet"
           }
          ],
          "choropleth": [
           {
            "colorbar": {
             "outlinewidth": 0,
             "ticks": ""
            },
            "type": "choropleth"
           }
          ],
          "contour": [
           {
            "colorbar": {
             "outlinewidth": 0,
             "ticks": ""
            },
            "colorscale": [
             [
              0,
              "#0d0887"
             ],
             [
              0.1111111111111111,
              "#46039f"
             ],
             [
              0.2222222222222222,
              "#7201a8"
             ],
             [
              0.3333333333333333,
              "#9c179e"
             ],
             [
              0.4444444444444444,
              "#bd3786"
             ],
             [
              0.5555555555555556,
              "#d8576b"
             ],
             [
              0.6666666666666666,
              "#ed7953"
             ],
             [
              0.7777777777777778,
              "#fb9f3a"
             ],
             [
              0.8888888888888888,
              "#fdca26"
             ],
             [
              1,
              "#f0f921"
             ]
            ],
            "type": "contour"
           }
          ],
          "contourcarpet": [
           {
            "colorbar": {
             "outlinewidth": 0,
             "ticks": ""
            },
            "type": "contourcarpet"
           }
          ],
          "heatmap": [
           {
            "colorbar": {
             "outlinewidth": 0,
             "ticks": ""
            },
            "colorscale": [
             [
              0,
              "#0d0887"
             ],
             [
              0.1111111111111111,
              "#46039f"
             ],
             [
              0.2222222222222222,
              "#7201a8"
             ],
             [
              0.3333333333333333,
              "#9c179e"
             ],
             [
              0.4444444444444444,
              "#bd3786"
             ],
             [
              0.5555555555555556,
              "#d8576b"
             ],
             [
              0.6666666666666666,
              "#ed7953"
             ],
             [
              0.7777777777777778,
              "#fb9f3a"
             ],
             [
              0.8888888888888888,
              "#fdca26"
             ],
             [
              1,
              "#f0f921"
             ]
            ],
            "type": "heatmap"
           }
          ],
          "heatmapgl": [
           {
            "colorbar": {
             "outlinewidth": 0,
             "ticks": ""
            },
            "colorscale": [
             [
              0,
              "#0d0887"
             ],
             [
              0.1111111111111111,
              "#46039f"
             ],
             [
              0.2222222222222222,
              "#7201a8"
             ],
             [
              0.3333333333333333,
              "#9c179e"
             ],
             [
              0.4444444444444444,
              "#bd3786"
             ],
             [
              0.5555555555555556,
              "#d8576b"
             ],
             [
              0.6666666666666666,
              "#ed7953"
             ],
             [
              0.7777777777777778,
              "#fb9f3a"
             ],
             [
              0.8888888888888888,
              "#fdca26"
             ],
             [
              1,
              "#f0f921"
             ]
            ],
            "type": "heatmapgl"
           }
          ],
          "histogram": [
           {
            "marker": {
             "pattern": {
              "fillmode": "overlay",
              "size": 10,
              "solidity": 0.2
             }
            },
            "type": "histogram"
           }
          ],
          "histogram2d": [
           {
            "colorbar": {
             "outlinewidth": 0,
             "ticks": ""
            },
            "colorscale": [
             [
              0,
              "#0d0887"
             ],
             [
              0.1111111111111111,
              "#46039f"
             ],
             [
              0.2222222222222222,
              "#7201a8"
             ],
             [
              0.3333333333333333,
              "#9c179e"
             ],
             [
              0.4444444444444444,
              "#bd3786"
             ],
             [
              0.5555555555555556,
              "#d8576b"
             ],
             [
              0.6666666666666666,
              "#ed7953"
             ],
             [
              0.7777777777777778,
              "#fb9f3a"
             ],
             [
              0.8888888888888888,
              "#fdca26"
             ],
             [
              1,
              "#f0f921"
             ]
            ],
            "type": "histogram2d"
           }
          ],
          "histogram2dcontour": [
           {
            "colorbar": {
             "outlinewidth": 0,
             "ticks": ""
            },
            "colorscale": [
             [
              0,
              "#0d0887"
             ],
             [
              0.1111111111111111,
              "#46039f"
             ],
             [
              0.2222222222222222,
              "#7201a8"
             ],
             [
              0.3333333333333333,
              "#9c179e"
             ],
             [
              0.4444444444444444,
              "#bd3786"
             ],
             [
              0.5555555555555556,
              "#d8576b"
             ],
             [
              0.6666666666666666,
              "#ed7953"
             ],
             [
              0.7777777777777778,
              "#fb9f3a"
             ],
             [
              0.8888888888888888,
              "#fdca26"
             ],
             [
              1,
              "#f0f921"
             ]
            ],
            "type": "histogram2dcontour"
           }
          ],
          "mesh3d": [
           {
            "colorbar": {
             "outlinewidth": 0,
             "ticks": ""
            },
            "type": "mesh3d"
           }
          ],
          "parcoords": [
           {
            "line": {
             "colorbar": {
              "outlinewidth": 0,
              "ticks": ""
             }
            },
            "type": "parcoords"
           }
          ],
          "pie": [
           {
            "automargin": true,
            "type": "pie"
           }
          ],
          "scatter": [
           {
            "fillpattern": {
             "fillmode": "overlay",
             "size": 10,
             "solidity": 0.2
            },
            "type": "scatter"
           }
          ],
          "scatter3d": [
           {
            "line": {
             "colorbar": {
              "outlinewidth": 0,
              "ticks": ""
             }
            },
            "marker": {
             "colorbar": {
              "outlinewidth": 0,
              "ticks": ""
             }
            },
            "type": "scatter3d"
           }
          ],
          "scattercarpet": [
           {
            "marker": {
             "colorbar": {
              "outlinewidth": 0,
              "ticks": ""
             }
            },
            "type": "scattercarpet"
           }
          ],
          "scattergeo": [
           {
            "marker": {
             "colorbar": {
              "outlinewidth": 0,
              "ticks": ""
             }
            },
            "type": "scattergeo"
           }
          ],
          "scattergl": [
           {
            "marker": {
             "colorbar": {
              "outlinewidth": 0,
              "ticks": ""
             }
            },
            "type": "scattergl"
           }
          ],
          "scattermapbox": [
           {
            "marker": {
             "colorbar": {
              "outlinewidth": 0,
              "ticks": ""
             }
            },
            "type": "scattermapbox"
           }
          ],
          "scatterpolar": [
           {
            "marker": {
             "colorbar": {
              "outlinewidth": 0,
              "ticks": ""
             }
            },
            "type": "scatterpolar"
           }
          ],
          "scatterpolargl": [
           {
            "marker": {
             "colorbar": {
              "outlinewidth": 0,
              "ticks": ""
             }
            },
            "type": "scatterpolargl"
           }
          ],
          "scatterternary": [
           {
            "marker": {
             "colorbar": {
              "outlinewidth": 0,
              "ticks": ""
             }
            },
            "type": "scatterternary"
           }
          ],
          "surface": [
           {
            "colorbar": {
             "outlinewidth": 0,
             "ticks": ""
            },
            "colorscale": [
             [
              0,
              "#0d0887"
             ],
             [
              0.1111111111111111,
              "#46039f"
             ],
             [
              0.2222222222222222,
              "#7201a8"
             ],
             [
              0.3333333333333333,
              "#9c179e"
             ],
             [
              0.4444444444444444,
              "#bd3786"
             ],
             [
              0.5555555555555556,
              "#d8576b"
             ],
             [
              0.6666666666666666,
              "#ed7953"
             ],
             [
              0.7777777777777778,
              "#fb9f3a"
             ],
             [
              0.8888888888888888,
              "#fdca26"
             ],
             [
              1,
              "#f0f921"
             ]
            ],
            "type": "surface"
           }
          ],
          "table": [
           {
            "cells": {
             "fill": {
              "color": "#EBF0F8"
             },
             "line": {
              "color": "white"
             }
            },
            "header": {
             "fill": {
              "color": "#C8D4E3"
             },
             "line": {
              "color": "white"
             }
            },
            "type": "table"
           }
          ]
         },
         "layout": {
          "annotationdefaults": {
           "arrowcolor": "#2a3f5f",
           "arrowhead": 0,
           "arrowwidth": 1
          },
          "autotypenumbers": "strict",
          "coloraxis": {
           "colorbar": {
            "outlinewidth": 0,
            "ticks": ""
           }
          },
          "colorscale": {
           "diverging": [
            [
             0,
             "#8e0152"
            ],
            [
             0.1,
             "#c51b7d"
            ],
            [
             0.2,
             "#de77ae"
            ],
            [
             0.3,
             "#f1b6da"
            ],
            [
             0.4,
             "#fde0ef"
            ],
            [
             0.5,
             "#f7f7f7"
            ],
            [
             0.6,
             "#e6f5d0"
            ],
            [
             0.7,
             "#b8e186"
            ],
            [
             0.8,
             "#7fbc41"
            ],
            [
             0.9,
             "#4d9221"
            ],
            [
             1,
             "#276419"
            ]
           ],
           "sequential": [
            [
             0,
             "#0d0887"
            ],
            [
             0.1111111111111111,
             "#46039f"
            ],
            [
             0.2222222222222222,
             "#7201a8"
            ],
            [
             0.3333333333333333,
             "#9c179e"
            ],
            [
             0.4444444444444444,
             "#bd3786"
            ],
            [
             0.5555555555555556,
             "#d8576b"
            ],
            [
             0.6666666666666666,
             "#ed7953"
            ],
            [
             0.7777777777777778,
             "#fb9f3a"
            ],
            [
             0.8888888888888888,
             "#fdca26"
            ],
            [
             1,
             "#f0f921"
            ]
           ],
           "sequentialminus": [
            [
             0,
             "#0d0887"
            ],
            [
             0.1111111111111111,
             "#46039f"
            ],
            [
             0.2222222222222222,
             "#7201a8"
            ],
            [
             0.3333333333333333,
             "#9c179e"
            ],
            [
             0.4444444444444444,
             "#bd3786"
            ],
            [
             0.5555555555555556,
             "#d8576b"
            ],
            [
             0.6666666666666666,
             "#ed7953"
            ],
            [
             0.7777777777777778,
             "#fb9f3a"
            ],
            [
             0.8888888888888888,
             "#fdca26"
            ],
            [
             1,
             "#f0f921"
            ]
           ]
          },
          "colorway": [
           "#636efa",
           "#EF553B",
           "#00cc96",
           "#ab63fa",
           "#FFA15A",
           "#19d3f3",
           "#FF6692",
           "#B6E880",
           "#FF97FF",
           "#FECB52"
          ],
          "font": {
           "color": "#2a3f5f"
          },
          "geo": {
           "bgcolor": "white",
           "lakecolor": "white",
           "landcolor": "#E5ECF6",
           "showlakes": true,
           "showland": true,
           "subunitcolor": "white"
          },
          "hoverlabel": {
           "align": "left"
          },
          "hovermode": "closest",
          "mapbox": {
           "style": "light"
          },
          "paper_bgcolor": "white",
          "plot_bgcolor": "#E5ECF6",
          "polar": {
           "angularaxis": {
            "gridcolor": "white",
            "linecolor": "white",
            "ticks": ""
           },
           "bgcolor": "#E5ECF6",
           "radialaxis": {
            "gridcolor": "white",
            "linecolor": "white",
            "ticks": ""
           }
          },
          "scene": {
           "xaxis": {
            "backgroundcolor": "#E5ECF6",
            "gridcolor": "white",
            "gridwidth": 2,
            "linecolor": "white",
            "showbackground": true,
            "ticks": "",
            "zerolinecolor": "white"
           },
           "yaxis": {
            "backgroundcolor": "#E5ECF6",
            "gridcolor": "white",
            "gridwidth": 2,
            "linecolor": "white",
            "showbackground": true,
            "ticks": "",
            "zerolinecolor": "white"
           },
           "zaxis": {
            "backgroundcolor": "#E5ECF6",
            "gridcolor": "white",
            "gridwidth": 2,
            "linecolor": "white",
            "showbackground": true,
            "ticks": "",
            "zerolinecolor": "white"
           }
          },
          "shapedefaults": {
           "line": {
            "color": "#2a3f5f"
           }
          },
          "ternary": {
           "aaxis": {
            "gridcolor": "white",
            "linecolor": "white",
            "ticks": ""
           },
           "baxis": {
            "gridcolor": "white",
            "linecolor": "white",
            "ticks": ""
           },
           "bgcolor": "#E5ECF6",
           "caxis": {
            "gridcolor": "white",
            "linecolor": "white",
            "ticks": ""
           }
          },
          "title": {
           "x": 0.05
          },
          "xaxis": {
           "automargin": true,
           "gridcolor": "white",
           "linecolor": "white",
           "ticks": "",
           "title": {
            "standoff": 15
           },
           "zerolinecolor": "white",
           "zerolinewidth": 2
          },
          "yaxis": {
           "automargin": true,
           "gridcolor": "white",
           "linecolor": "white",
           "ticks": "",
           "title": {
            "standoff": 15
           },
           "zerolinecolor": "white",
           "zerolinewidth": 2
          }
         }
        },
        "xaxis": {
         "anchor": "y",
         "domain": [
          0,
          1
         ],
         "title": {
          "text": "value"
         }
        },
        "yaxis": {
         "anchor": "x",
         "domain": [
          0,
          1
         ],
         "title": {
          "text": "count"
         }
        }
       }
      }
     },
     "metadata": {},
     "output_type": "display_data"
    }
   ],
   "source": [
    "#Histogram for second innings\n",
    "import plotly.express as px \n",
    "px.histogram(Second)"
   ]
  },
  {
   "attachments": {},
   "cell_type": "markdown",
   "metadata": {},
   "source": [
    "**Plotting First and Second innings on the same barplot**"
   ]
  },
  {
   "cell_type": "code",
   "execution_count": 12,
   "metadata": {},
   "outputs": [
    {
     "data": {
      "application/vnd.plotly.v1+json": {
       "config": {
        "plotlyServerURL": "https://plot.ly"
       },
       "data": [
        {
         "name": "First innings",
         "opacity": 0.75,
         "type": "histogram",
         "x": [
          259,
          207,
          310,
          244,
          140,
          190,
          225,
          260,
          223,
          317,
          269,
          234,
          235,
          131,
          134,
          228,
          140,
          277,
          203,
          89,
          271,
          229,
          61,
          105,
          135,
          265,
          234,
          274,
          305,
          293,
          356
         ]
        },
        {
         "name": "Second innings",
         "opacity": 0.75,
         "type": "histogram",
         "x": [
          256,
          175,
          298,
          137,
          144,
          193,
          218,
          198,
          217,
          162,
          128,
          225,
          236,
          132,
          136,
          229,
          136,
          280,
          204,
          90,
          272,
          119,
          null,
          107,
          136,
          194,
          134,
          275,
          148,
          156,
          285
         ]
        }
       ],
       "layout": {
        "barmode": "overlay",
        "template": {
         "data": {
          "bar": [
           {
            "error_x": {
             "color": "#2a3f5f"
            },
            "error_y": {
             "color": "#2a3f5f"
            },
            "marker": {
             "line": {
              "color": "#E5ECF6",
              "width": 0.5
             },
             "pattern": {
              "fillmode": "overlay",
              "size": 10,
              "solidity": 0.2
             }
            },
            "type": "bar"
           }
          ],
          "barpolar": [
           {
            "marker": {
             "line": {
              "color": "#E5ECF6",
              "width": 0.5
             },
             "pattern": {
              "fillmode": "overlay",
              "size": 10,
              "solidity": 0.2
             }
            },
            "type": "barpolar"
           }
          ],
          "carpet": [
           {
            "aaxis": {
             "endlinecolor": "#2a3f5f",
             "gridcolor": "white",
             "linecolor": "white",
             "minorgridcolor": "white",
             "startlinecolor": "#2a3f5f"
            },
            "baxis": {
             "endlinecolor": "#2a3f5f",
             "gridcolor": "white",
             "linecolor": "white",
             "minorgridcolor": "white",
             "startlinecolor": "#2a3f5f"
            },
            "type": "carpet"
           }
          ],
          "choropleth": [
           {
            "colorbar": {
             "outlinewidth": 0,
             "ticks": ""
            },
            "type": "choropleth"
           }
          ],
          "contour": [
           {
            "colorbar": {
             "outlinewidth": 0,
             "ticks": ""
            },
            "colorscale": [
             [
              0,
              "#0d0887"
             ],
             [
              0.1111111111111111,
              "#46039f"
             ],
             [
              0.2222222222222222,
              "#7201a8"
             ],
             [
              0.3333333333333333,
              "#9c179e"
             ],
             [
              0.4444444444444444,
              "#bd3786"
             ],
             [
              0.5555555555555556,
              "#d8576b"
             ],
             [
              0.6666666666666666,
              "#ed7953"
             ],
             [
              0.7777777777777778,
              "#fb9f3a"
             ],
             [
              0.8888888888888888,
              "#fdca26"
             ],
             [
              1,
              "#f0f921"
             ]
            ],
            "type": "contour"
           }
          ],
          "contourcarpet": [
           {
            "colorbar": {
             "outlinewidth": 0,
             "ticks": ""
            },
            "type": "contourcarpet"
           }
          ],
          "heatmap": [
           {
            "colorbar": {
             "outlinewidth": 0,
             "ticks": ""
            },
            "colorscale": [
             [
              0,
              "#0d0887"
             ],
             [
              0.1111111111111111,
              "#46039f"
             ],
             [
              0.2222222222222222,
              "#7201a8"
             ],
             [
              0.3333333333333333,
              "#9c179e"
             ],
             [
              0.4444444444444444,
              "#bd3786"
             ],
             [
              0.5555555555555556,
              "#d8576b"
             ],
             [
              0.6666666666666666,
              "#ed7953"
             ],
             [
              0.7777777777777778,
              "#fb9f3a"
             ],
             [
              0.8888888888888888,
              "#fdca26"
             ],
             [
              1,
              "#f0f921"
             ]
            ],
            "type": "heatmap"
           }
          ],
          "heatmapgl": [
           {
            "colorbar": {
             "outlinewidth": 0,
             "ticks": ""
            },
            "colorscale": [
             [
              0,
              "#0d0887"
             ],
             [
              0.1111111111111111,
              "#46039f"
             ],
             [
              0.2222222222222222,
              "#7201a8"
             ],
             [
              0.3333333333333333,
              "#9c179e"
             ],
             [
              0.4444444444444444,
              "#bd3786"
             ],
             [
              0.5555555555555556,
              "#d8576b"
             ],
             [
              0.6666666666666666,
              "#ed7953"
             ],
             [
              0.7777777777777778,
              "#fb9f3a"
             ],
             [
              0.8888888888888888,
              "#fdca26"
             ],
             [
              1,
              "#f0f921"
             ]
            ],
            "type": "heatmapgl"
           }
          ],
          "histogram": [
           {
            "marker": {
             "pattern": {
              "fillmode": "overlay",
              "size": 10,
              "solidity": 0.2
             }
            },
            "type": "histogram"
           }
          ],
          "histogram2d": [
           {
            "colorbar": {
             "outlinewidth": 0,
             "ticks": ""
            },
            "colorscale": [
             [
              0,
              "#0d0887"
             ],
             [
              0.1111111111111111,
              "#46039f"
             ],
             [
              0.2222222222222222,
              "#7201a8"
             ],
             [
              0.3333333333333333,
              "#9c179e"
             ],
             [
              0.4444444444444444,
              "#bd3786"
             ],
             [
              0.5555555555555556,
              "#d8576b"
             ],
             [
              0.6666666666666666,
              "#ed7953"
             ],
             [
              0.7777777777777778,
              "#fb9f3a"
             ],
             [
              0.8888888888888888,
              "#fdca26"
             ],
             [
              1,
              "#f0f921"
             ]
            ],
            "type": "histogram2d"
           }
          ],
          "histogram2dcontour": [
           {
            "colorbar": {
             "outlinewidth": 0,
             "ticks": ""
            },
            "colorscale": [
             [
              0,
              "#0d0887"
             ],
             [
              0.1111111111111111,
              "#46039f"
             ],
             [
              0.2222222222222222,
              "#7201a8"
             ],
             [
              0.3333333333333333,
              "#9c179e"
             ],
             [
              0.4444444444444444,
              "#bd3786"
             ],
             [
              0.5555555555555556,
              "#d8576b"
             ],
             [
              0.6666666666666666,
              "#ed7953"
             ],
             [
              0.7777777777777778,
              "#fb9f3a"
             ],
             [
              0.8888888888888888,
              "#fdca26"
             ],
             [
              1,
              "#f0f921"
             ]
            ],
            "type": "histogram2dcontour"
           }
          ],
          "mesh3d": [
           {
            "colorbar": {
             "outlinewidth": 0,
             "ticks": ""
            },
            "type": "mesh3d"
           }
          ],
          "parcoords": [
           {
            "line": {
             "colorbar": {
              "outlinewidth": 0,
              "ticks": ""
             }
            },
            "type": "parcoords"
           }
          ],
          "pie": [
           {
            "automargin": true,
            "type": "pie"
           }
          ],
          "scatter": [
           {
            "fillpattern": {
             "fillmode": "overlay",
             "size": 10,
             "solidity": 0.2
            },
            "type": "scatter"
           }
          ],
          "scatter3d": [
           {
            "line": {
             "colorbar": {
              "outlinewidth": 0,
              "ticks": ""
             }
            },
            "marker": {
             "colorbar": {
              "outlinewidth": 0,
              "ticks": ""
             }
            },
            "type": "scatter3d"
           }
          ],
          "scattercarpet": [
           {
            "marker": {
             "colorbar": {
              "outlinewidth": 0,
              "ticks": ""
             }
            },
            "type": "scattercarpet"
           }
          ],
          "scattergeo": [
           {
            "marker": {
             "colorbar": {
              "outlinewidth": 0,
              "ticks": ""
             }
            },
            "type": "scattergeo"
           }
          ],
          "scattergl": [
           {
            "marker": {
             "colorbar": {
              "outlinewidth": 0,
              "ticks": ""
             }
            },
            "type": "scattergl"
           }
          ],
          "scattermapbox": [
           {
            "marker": {
             "colorbar": {
              "outlinewidth": 0,
              "ticks": ""
             }
            },
            "type": "scattermapbox"
           }
          ],
          "scatterpolar": [
           {
            "marker": {
             "colorbar": {
              "outlinewidth": 0,
              "ticks": ""
             }
            },
            "type": "scatterpolar"
           }
          ],
          "scatterpolargl": [
           {
            "marker": {
             "colorbar": {
              "outlinewidth": 0,
              "ticks": ""
             }
            },
            "type": "scatterpolargl"
           }
          ],
          "scatterternary": [
           {
            "marker": {
             "colorbar": {
              "outlinewidth": 0,
              "ticks": ""
             }
            },
            "type": "scatterternary"
           }
          ],
          "surface": [
           {
            "colorbar": {
             "outlinewidth": 0,
             "ticks": ""
            },
            "colorscale": [
             [
              0,
              "#0d0887"
             ],
             [
              0.1111111111111111,
              "#46039f"
             ],
             [
              0.2222222222222222,
              "#7201a8"
             ],
             [
              0.3333333333333333,
              "#9c179e"
             ],
             [
              0.4444444444444444,
              "#bd3786"
             ],
             [
              0.5555555555555556,
              "#d8576b"
             ],
             [
              0.6666666666666666,
              "#ed7953"
             ],
             [
              0.7777777777777778,
              "#fb9f3a"
             ],
             [
              0.8888888888888888,
              "#fdca26"
             ],
             [
              1,
              "#f0f921"
             ]
            ],
            "type": "surface"
           }
          ],
          "table": [
           {
            "cells": {
             "fill": {
              "color": "#EBF0F8"
             },
             "line": {
              "color": "white"
             }
            },
            "header": {
             "fill": {
              "color": "#C8D4E3"
             },
             "line": {
              "color": "white"
             }
            },
            "type": "table"
           }
          ]
         },
         "layout": {
          "annotationdefaults": {
           "arrowcolor": "#2a3f5f",
           "arrowhead": 0,
           "arrowwidth": 1
          },
          "autotypenumbers": "strict",
          "coloraxis": {
           "colorbar": {
            "outlinewidth": 0,
            "ticks": ""
           }
          },
          "colorscale": {
           "diverging": [
            [
             0,
             "#8e0152"
            ],
            [
             0.1,
             "#c51b7d"
            ],
            [
             0.2,
             "#de77ae"
            ],
            [
             0.3,
             "#f1b6da"
            ],
            [
             0.4,
             "#fde0ef"
            ],
            [
             0.5,
             "#f7f7f7"
            ],
            [
             0.6,
             "#e6f5d0"
            ],
            [
             0.7,
             "#b8e186"
            ],
            [
             0.8,
             "#7fbc41"
            ],
            [
             0.9,
             "#4d9221"
            ],
            [
             1,
             "#276419"
            ]
           ],
           "sequential": [
            [
             0,
             "#0d0887"
            ],
            [
             0.1111111111111111,
             "#46039f"
            ],
            [
             0.2222222222222222,
             "#7201a8"
            ],
            [
             0.3333333333333333,
             "#9c179e"
            ],
            [
             0.4444444444444444,
             "#bd3786"
            ],
            [
             0.5555555555555556,
             "#d8576b"
            ],
            [
             0.6666666666666666,
             "#ed7953"
            ],
            [
             0.7777777777777778,
             "#fb9f3a"
            ],
            [
             0.8888888888888888,
             "#fdca26"
            ],
            [
             1,
             "#f0f921"
            ]
           ],
           "sequentialminus": [
            [
             0,
             "#0d0887"
            ],
            [
             0.1111111111111111,
             "#46039f"
            ],
            [
             0.2222222222222222,
             "#7201a8"
            ],
            [
             0.3333333333333333,
             "#9c179e"
            ],
            [
             0.4444444444444444,
             "#bd3786"
            ],
            [
             0.5555555555555556,
             "#d8576b"
            ],
            [
             0.6666666666666666,
             "#ed7953"
            ],
            [
             0.7777777777777778,
             "#fb9f3a"
            ],
            [
             0.8888888888888888,
             "#fdca26"
            ],
            [
             1,
             "#f0f921"
            ]
           ]
          },
          "colorway": [
           "#636efa",
           "#EF553B",
           "#00cc96",
           "#ab63fa",
           "#FFA15A",
           "#19d3f3",
           "#FF6692",
           "#B6E880",
           "#FF97FF",
           "#FECB52"
          ],
          "font": {
           "color": "#2a3f5f"
          },
          "geo": {
           "bgcolor": "white",
           "lakecolor": "white",
           "landcolor": "#E5ECF6",
           "showlakes": true,
           "showland": true,
           "subunitcolor": "white"
          },
          "hoverlabel": {
           "align": "left"
          },
          "hovermode": "closest",
          "mapbox": {
           "style": "light"
          },
          "paper_bgcolor": "white",
          "plot_bgcolor": "#E5ECF6",
          "polar": {
           "angularaxis": {
            "gridcolor": "white",
            "linecolor": "white",
            "ticks": ""
           },
           "bgcolor": "#E5ECF6",
           "radialaxis": {
            "gridcolor": "white",
            "linecolor": "white",
            "ticks": ""
           }
          },
          "scene": {
           "xaxis": {
            "backgroundcolor": "#E5ECF6",
            "gridcolor": "white",
            "gridwidth": 2,
            "linecolor": "white",
            "showbackground": true,
            "ticks": "",
            "zerolinecolor": "white"
           },
           "yaxis": {
            "backgroundcolor": "#E5ECF6",
            "gridcolor": "white",
            "gridwidth": 2,
            "linecolor": "white",
            "showbackground": true,
            "ticks": "",
            "zerolinecolor": "white"
           },
           "zaxis": {
            "backgroundcolor": "#E5ECF6",
            "gridcolor": "white",
            "gridwidth": 2,
            "linecolor": "white",
            "showbackground": true,
            "ticks": "",
            "zerolinecolor": "white"
           }
          },
          "shapedefaults": {
           "line": {
            "color": "#2a3f5f"
           }
          },
          "ternary": {
           "aaxis": {
            "gridcolor": "white",
            "linecolor": "white",
            "ticks": ""
           },
           "baxis": {
            "gridcolor": "white",
            "linecolor": "white",
            "ticks": ""
           },
           "bgcolor": "#E5ECF6",
           "caxis": {
            "gridcolor": "white",
            "linecolor": "white",
            "ticks": ""
           }
          },
          "title": {
           "x": 0.05
          },
          "xaxis": {
           "automargin": true,
           "gridcolor": "white",
           "linecolor": "white",
           "ticks": "",
           "title": {
            "standoff": 15
           },
           "zerolinecolor": "white",
           "zerolinewidth": 2
          },
          "yaxis": {
           "automargin": true,
           "gridcolor": "white",
           "linecolor": "white",
           "ticks": "",
           "title": {
            "standoff": 15
           },
           "zerolinecolor": "white",
           "zerolinewidth": 2
          }
         }
        },
        "title": {
         "text": "First and second innings"
        },
        "xaxis": {
         "title": {
          "text": "Value"
         }
        },
        "yaxis": {
         "title": {
          "text": "Frequency"
         }
        }
       }
      }
     },
     "metadata": {},
     "output_type": "display_data"
    }
   ],
   "source": [
    "import plotly.graph_objects as go\n",
    "\n",
    "# Create histogram traces for each data\n",
    "trace1 = go.Histogram(\n",
    "    x= First,\n",
    "    opacity=0.75,\n",
    "    name='First innings'\n",
    "    \n",
    ")\n",
    "\n",
    "trace2 = go.Histogram(\n",
    "    x= Second,\n",
    "    opacity=0.75,\n",
    "    name='Second innings'\n",
    ")\n",
    "\n",
    "#Create Layout\n",
    "layout = go.Layout(\n",
    "    title='First and second innings',\n",
    "    xaxis=dict(title='Value'),\n",
    "    yaxis=dict(title='Frequency'),\n",
    "    barmode='overlay'  # Overlay histograms\n",
    ")\n",
    "\n",
    "# Create figure object and add traces\n",
    "fig = go.Figure(data=[trace1, trace2], layout=layout)\n",
    "\n",
    "# Show the figure\n",
    "fig.show()"
   ]
  },
  {
   "cell_type": "code",
   "execution_count": null,
   "metadata": {},
   "outputs": [],
   "source": []
  },
  {
   "attachments": {},
   "cell_type": "markdown",
   "metadata": {},
   "source": [
    "### Binomial Distribution\n",
    "\n",
    "A Bernoulli trial is an experiment with exactly two possible outcomes: **Success* or *Faliure*. Success is denotes with 1 and faliure with 0. Berenoulli trials have the same success (and faliure) rate for every tial and each trial is independent of every other trial.\n",
    "\n",
    "The coin toss is a classic exanple of a Bernoulli trial. Simulating an experiment where we flip a coin 100 times and count the number of heads. we will then proceed this experiment a thousand times and plot the binomial distribution of the number of heads we got in each experiment."
   ]
  },
  {
   "cell_type": "code",
   "execution_count": 13,
   "metadata": {},
   "outputs": [],
   "source": [
    "np.random.seed(42)"
   ]
  },
  {
   "cell_type": "code",
   "execution_count": 14,
   "metadata": {},
   "outputs": [
    {
     "data": {
      "application/vnd.plotly.v1+json": {
       "config": {
        "plotlyServerURL": "https://plot.ly"
       },
       "data": [
        {
         "alignmentgroup": "True",
         "bingroup": "x",
         "hovertemplate": "variable=0<br>value=%{x}<br>count=%{y}<extra></extra>",
         "legendgroup": "0",
         "marker": {
          "color": "#636efa",
          "pattern": {
           "shape": ""
          }
         },
         "name": "0",
         "offsetgroup": "0",
         "orientation": "v",
         "showlegend": true,
         "type": "histogram",
         "x": [
          487,
          502,
          475,
          505,
          469,
          503,
          502,
          497,
          511,
          524,
          502,
          496,
          493,
          526,
          523,
          472,
          511,
          517,
          490,
          472,
          490,
          498,
          519,
          498,
          498,
          492,
          509,
          495,
          480,
          471,
          487,
          474,
          487,
          513,
          511,
          513,
          504,
          482,
          487,
          510,
          498,
          481,
          498,
          523,
          495,
          508,
          508,
          501,
          495,
          511,
          497,
          484,
          512,
          495,
          459,
          501,
          485,
          513,
          512,
          512,
          493,
          523,
          491,
          543,
          506,
          487,
          497,
          512,
          477,
          509,
          483,
          531,
          516,
          524,
          520,
          531,
          512,
          491,
          517,
          475,
          504,
          527,
          478,
          528,
          483,
          495,
          503,
          523,
          471,
          491,
          503,
          512,
          492,
          504,
          540,
          493,
          511,
          486,
          512,
          524,
          471,
          488,
          501,
          508,
          490,
          523,
          496,
          490,
          510,
          507,
          507,
          494,
          514,
          526,
          504,
          494,
          500,
          489,
          486,
          526,
          485,
          504,
          514,
          493,
          518,
          470,
          513,
          499,
          502,
          522,
          465,
          506,
          511,
          492,
          497,
          501,
          509,
          519,
          507,
          494,
          499,
          528,
          497,
          496,
          525,
          482,
          482,
          532,
          497,
          504,
          532,
          467,
          507,
          504,
          482,
          493,
          506,
          483,
          501,
          507,
          492,
          486,
          510,
          475,
          497,
          486,
          518,
          523,
          484,
          463,
          515,
          503,
          507,
          488,
          485,
          492,
          513,
          482,
          525,
          481,
          477,
          469,
          472,
          505,
          535,
          515,
          488,
          490,
          489,
          485,
          499,
          484,
          485,
          479,
          469,
          473,
          492,
          485,
          507,
          501,
          498,
          493,
          467,
          501,
          507,
          510,
          525,
          533,
          515,
          488,
          527,
          465,
          515,
          501,
          491,
          515,
          505,
          510,
          475,
          508,
          517,
          464,
          489,
          517,
          483,
          499,
          496,
          507,
          515,
          505,
          469,
          506,
          497,
          504,
          522,
          498,
          498,
          477,
          514,
          489,
          512,
          522,
          499,
          501,
          486,
          497,
          525,
          508,
          499,
          505,
          491,
          498,
          501,
          476,
          527,
          494,
          502,
          501,
          517,
          497,
          494,
          506,
          490,
          517,
          500,
          490,
          499,
          477,
          506,
          492,
          487,
          503,
          516,
          501,
          511,
          484,
          520,
          500,
          506,
          499,
          479,
          487,
          487,
          492,
          486,
          517,
          486,
          501,
          516,
          485,
          495,
          492,
          523,
          511,
          471,
          489,
          490,
          509,
          486,
          482,
          531,
          479,
          499,
          481,
          504,
          481,
          514,
          488,
          492,
          508,
          512,
          482,
          500,
          475,
          518,
          481,
          511,
          497,
          487,
          483,
          489,
          478,
          493,
          494,
          487,
          515,
          500,
          479,
          514,
          491,
          488,
          504,
          472,
          502,
          470,
          507,
          496,
          517,
          534,
          476,
          513,
          515,
          492,
          495,
          503,
          495,
          505,
          496,
          501,
          510,
          506,
          479,
          477,
          493,
          472,
          504,
          479,
          481,
          503,
          486,
          524,
          488,
          510,
          500,
          501,
          509,
          517,
          496,
          494,
          489,
          498,
          494,
          523,
          497,
          524,
          484,
          498,
          509,
          489,
          491,
          500,
          519,
          516,
          511,
          483,
          485,
          513,
          519,
          495,
          521,
          479,
          537,
          499,
          471,
          487,
          495,
          503,
          509,
          477,
          514,
          506,
          478,
          507,
          523,
          484,
          484,
          499,
          502,
          473,
          511,
          500,
          476,
          493,
          526,
          504,
          490,
          503,
          518,
          485,
          493,
          514,
          526,
          461,
          491,
          505,
          496,
          478,
          443,
          490,
          525,
          523,
          462,
          488,
          482,
          507,
          481,
          492,
          493,
          499,
          494,
          510,
          513,
          514,
          486,
          502,
          486,
          496,
          508,
          507,
          506,
          501,
          539,
          496,
          479,
          491,
          491,
          462,
          523,
          464,
          512,
          505,
          504,
          489,
          471,
          494,
          527,
          493,
          509,
          476,
          508,
          513,
          491,
          509,
          497,
          529,
          508,
          503,
          513,
          484,
          494,
          510,
          504,
          479,
          514,
          501,
          491,
          481,
          491,
          497,
          521,
          512,
          489,
          499,
          474,
          530,
          491,
          484,
          496,
          474,
          533,
          481,
          483,
          491,
          498,
          517,
          480,
          505,
          482,
          525,
          482,
          522,
          453,
          489,
          499,
          510,
          539,
          520,
          509,
          518,
          512,
          505,
          494,
          501,
          518,
          493,
          484,
          487,
          500,
          498,
          503,
          518,
          504,
          489,
          519,
          479,
          490,
          506,
          526,
          498,
          493,
          499,
          514,
          504,
          495,
          504,
          507,
          471,
          485,
          489,
          475,
          499,
          500,
          501,
          502,
          506,
          514,
          541,
          483,
          514,
          502,
          478,
          536,
          487,
          502,
          497,
          504,
          512,
          497,
          494,
          494,
          525,
          508,
          477,
          501,
          546,
          509,
          483,
          504,
          497,
          495,
          520,
          487,
          509,
          491,
          489,
          512,
          506,
          502,
          478,
          515,
          499,
          506,
          511,
          494,
          498,
          491,
          498,
          497,
          533,
          469,
          502,
          504,
          501,
          506,
          491,
          487,
          517,
          513,
          505,
          465,
          503,
          513,
          471,
          510,
          489,
          497,
          484,
          539,
          502,
          515,
          494,
          494,
          499,
          525,
          503,
          496,
          503,
          499,
          508,
          506,
          514,
          490,
          509,
          490,
          505,
          510,
          503,
          509,
          501,
          481,
          472,
          513,
          514,
          503,
          495,
          495,
          472,
          515,
          486,
          491,
          470,
          518,
          481,
          464,
          504,
          515,
          509,
          489,
          528,
          514,
          522,
          507,
          480,
          510,
          498,
          511,
          519,
          497,
          500,
          503,
          510,
          475,
          498,
          499,
          486,
          477,
          493,
          514,
          494,
          502,
          520,
          495,
          486,
          492,
          490,
          483,
          505,
          528,
          514,
          498,
          504,
          480,
          479,
          490,
          492,
          501,
          474,
          516,
          504,
          511,
          479,
          479,
          489,
          492,
          491,
          485,
          484,
          503,
          478,
          503,
          492,
          514,
          515,
          497,
          498,
          517,
          523,
          508,
          505,
          489,
          470,
          480,
          544,
          503,
          511,
          530,
          491,
          494,
          511,
          477,
          515,
          504,
          486,
          504,
          492,
          484,
          518,
          493,
          534,
          462,
          487,
          494,
          489,
          496,
          505,
          496,
          491,
          518,
          485,
          472,
          501,
          502,
          510,
          486,
          483,
          502,
          499,
          472,
          503,
          465,
          507,
          491,
          525,
          505,
          506,
          512,
          472,
          489,
          517,
          506,
          503,
          513,
          470,
          494,
          536,
          503,
          495,
          529,
          503,
          501,
          456,
          499,
          487,
          526,
          488,
          491,
          533,
          497,
          483,
          496,
          511,
          495,
          504,
          505,
          492,
          492,
          492,
          494,
          502,
          523,
          491,
          526,
          484,
          480,
          460,
          510,
          486,
          497,
          505,
          532,
          517,
          493,
          512,
          528,
          509,
          506,
          505,
          486,
          521,
          492,
          491,
          516,
          501,
          497,
          504,
          516,
          504,
          492,
          505,
          507,
          497,
          515,
          474,
          496,
          483,
          498,
          483,
          506,
          504,
          497,
          485,
          524,
          493,
          504,
          523,
          488,
          496,
          487,
          500,
          523,
          511,
          487,
          479,
          531,
          511,
          491,
          491,
          490,
          517,
          500,
          502,
          508,
          521,
          480,
          523,
          506,
          477,
          508,
          508,
          513,
          486,
          496,
          477,
          501,
          497,
          481,
          496,
          534,
          499,
          492,
          509,
          484,
          492,
          488,
          506,
          494,
          485,
          493,
          481,
          500,
          480,
          525,
          500,
          475,
          495,
          536,
          524,
          516,
          507,
          509,
          480,
          481,
          470,
          495,
          510,
          496,
          510,
          497,
          495,
          497,
          510,
          489,
          490,
          525,
          521,
          530,
          480,
          483,
          492,
          516,
          507,
          492,
          500,
          491,
          483,
          513,
          491,
          493,
          513,
          550,
          518,
          485,
          484,
          470,
          475,
          502,
          514,
          469,
          497,
          485,
          495,
          504,
          479,
          512,
          519,
          496,
          493,
          495,
          509,
          476,
          524,
          475,
          504,
          510,
          501,
          519,
          508,
          505,
          494,
          492,
          501,
          464,
          527,
          500,
          520,
          498,
          541,
          516,
          519,
          493,
          500,
          509,
          494,
          495,
          514,
          530,
          484,
          494,
          495,
          500,
          500,
          506,
          518,
          500,
          528,
          510,
          506,
          493,
          509,
          492,
          481,
          492,
          532,
          520,
          527,
          500,
          500,
          474,
          522,
          520
         ],
         "xaxis": "x",
         "yaxis": "y"
        }
       ],
       "layout": {
        "barmode": "relative",
        "legend": {
         "title": {
          "text": "variable"
         },
         "tracegroupgap": 0
        },
        "margin": {
         "t": 60
        },
        "template": {
         "data": {
          "bar": [
           {
            "error_x": {
             "color": "#2a3f5f"
            },
            "error_y": {
             "color": "#2a3f5f"
            },
            "marker": {
             "line": {
              "color": "#E5ECF6",
              "width": 0.5
             },
             "pattern": {
              "fillmode": "overlay",
              "size": 10,
              "solidity": 0.2
             }
            },
            "type": "bar"
           }
          ],
          "barpolar": [
           {
            "marker": {
             "line": {
              "color": "#E5ECF6",
              "width": 0.5
             },
             "pattern": {
              "fillmode": "overlay",
              "size": 10,
              "solidity": 0.2
             }
            },
            "type": "barpolar"
           }
          ],
          "carpet": [
           {
            "aaxis": {
             "endlinecolor": "#2a3f5f",
             "gridcolor": "white",
             "linecolor": "white",
             "minorgridcolor": "white",
             "startlinecolor": "#2a3f5f"
            },
            "baxis": {
             "endlinecolor": "#2a3f5f",
             "gridcolor": "white",
             "linecolor": "white",
             "minorgridcolor": "white",
             "startlinecolor": "#2a3f5f"
            },
            "type": "carpet"
           }
          ],
          "choropleth": [
           {
            "colorbar": {
             "outlinewidth": 0,
             "ticks": ""
            },
            "type": "choropleth"
           }
          ],
          "contour": [
           {
            "colorbar": {
             "outlinewidth": 0,
             "ticks": ""
            },
            "colorscale": [
             [
              0,
              "#0d0887"
             ],
             [
              0.1111111111111111,
              "#46039f"
             ],
             [
              0.2222222222222222,
              "#7201a8"
             ],
             [
              0.3333333333333333,
              "#9c179e"
             ],
             [
              0.4444444444444444,
              "#bd3786"
             ],
             [
              0.5555555555555556,
              "#d8576b"
             ],
             [
              0.6666666666666666,
              "#ed7953"
             ],
             [
              0.7777777777777778,
              "#fb9f3a"
             ],
             [
              0.8888888888888888,
              "#fdca26"
             ],
             [
              1,
              "#f0f921"
             ]
            ],
            "type": "contour"
           }
          ],
          "contourcarpet": [
           {
            "colorbar": {
             "outlinewidth": 0,
             "ticks": ""
            },
            "type": "contourcarpet"
           }
          ],
          "heatmap": [
           {
            "colorbar": {
             "outlinewidth": 0,
             "ticks": ""
            },
            "colorscale": [
             [
              0,
              "#0d0887"
             ],
             [
              0.1111111111111111,
              "#46039f"
             ],
             [
              0.2222222222222222,
              "#7201a8"
             ],
             [
              0.3333333333333333,
              "#9c179e"
             ],
             [
              0.4444444444444444,
              "#bd3786"
             ],
             [
              0.5555555555555556,
              "#d8576b"
             ],
             [
              0.6666666666666666,
              "#ed7953"
             ],
             [
              0.7777777777777778,
              "#fb9f3a"
             ],
             [
              0.8888888888888888,
              "#fdca26"
             ],
             [
              1,
              "#f0f921"
             ]
            ],
            "type": "heatmap"
           }
          ],
          "heatmapgl": [
           {
            "colorbar": {
             "outlinewidth": 0,
             "ticks": ""
            },
            "colorscale": [
             [
              0,
              "#0d0887"
             ],
             [
              0.1111111111111111,
              "#46039f"
             ],
             [
              0.2222222222222222,
              "#7201a8"
             ],
             [
              0.3333333333333333,
              "#9c179e"
             ],
             [
              0.4444444444444444,
              "#bd3786"
             ],
             [
              0.5555555555555556,
              "#d8576b"
             ],
             [
              0.6666666666666666,
              "#ed7953"
             ],
             [
              0.7777777777777778,
              "#fb9f3a"
             ],
             [
              0.8888888888888888,
              "#fdca26"
             ],
             [
              1,
              "#f0f921"
             ]
            ],
            "type": "heatmapgl"
           }
          ],
          "histogram": [
           {
            "marker": {
             "pattern": {
              "fillmode": "overlay",
              "size": 10,
              "solidity": 0.2
             }
            },
            "type": "histogram"
           }
          ],
          "histogram2d": [
           {
            "colorbar": {
             "outlinewidth": 0,
             "ticks": ""
            },
            "colorscale": [
             [
              0,
              "#0d0887"
             ],
             [
              0.1111111111111111,
              "#46039f"
             ],
             [
              0.2222222222222222,
              "#7201a8"
             ],
             [
              0.3333333333333333,
              "#9c179e"
             ],
             [
              0.4444444444444444,
              "#bd3786"
             ],
             [
              0.5555555555555556,
              "#d8576b"
             ],
             [
              0.6666666666666666,
              "#ed7953"
             ],
             [
              0.7777777777777778,
              "#fb9f3a"
             ],
             [
              0.8888888888888888,
              "#fdca26"
             ],
             [
              1,
              "#f0f921"
             ]
            ],
            "type": "histogram2d"
           }
          ],
          "histogram2dcontour": [
           {
            "colorbar": {
             "outlinewidth": 0,
             "ticks": ""
            },
            "colorscale": [
             [
              0,
              "#0d0887"
             ],
             [
              0.1111111111111111,
              "#46039f"
             ],
             [
              0.2222222222222222,
              "#7201a8"
             ],
             [
              0.3333333333333333,
              "#9c179e"
             ],
             [
              0.4444444444444444,
              "#bd3786"
             ],
             [
              0.5555555555555556,
              "#d8576b"
             ],
             [
              0.6666666666666666,
              "#ed7953"
             ],
             [
              0.7777777777777778,
              "#fb9f3a"
             ],
             [
              0.8888888888888888,
              "#fdca26"
             ],
             [
              1,
              "#f0f921"
             ]
            ],
            "type": "histogram2dcontour"
           }
          ],
          "mesh3d": [
           {
            "colorbar": {
             "outlinewidth": 0,
             "ticks": ""
            },
            "type": "mesh3d"
           }
          ],
          "parcoords": [
           {
            "line": {
             "colorbar": {
              "outlinewidth": 0,
              "ticks": ""
             }
            },
            "type": "parcoords"
           }
          ],
          "pie": [
           {
            "automargin": true,
            "type": "pie"
           }
          ],
          "scatter": [
           {
            "fillpattern": {
             "fillmode": "overlay",
             "size": 10,
             "solidity": 0.2
            },
            "type": "scatter"
           }
          ],
          "scatter3d": [
           {
            "line": {
             "colorbar": {
              "outlinewidth": 0,
              "ticks": ""
             }
            },
            "marker": {
             "colorbar": {
              "outlinewidth": 0,
              "ticks": ""
             }
            },
            "type": "scatter3d"
           }
          ],
          "scattercarpet": [
           {
            "marker": {
             "colorbar": {
              "outlinewidth": 0,
              "ticks": ""
             }
            },
            "type": "scattercarpet"
           }
          ],
          "scattergeo": [
           {
            "marker": {
             "colorbar": {
              "outlinewidth": 0,
              "ticks": ""
             }
            },
            "type": "scattergeo"
           }
          ],
          "scattergl": [
           {
            "marker": {
             "colorbar": {
              "outlinewidth": 0,
              "ticks": ""
             }
            },
            "type": "scattergl"
           }
          ],
          "scattermapbox": [
           {
            "marker": {
             "colorbar": {
              "outlinewidth": 0,
              "ticks": ""
             }
            },
            "type": "scattermapbox"
           }
          ],
          "scatterpolar": [
           {
            "marker": {
             "colorbar": {
              "outlinewidth": 0,
              "ticks": ""
             }
            },
            "type": "scatterpolar"
           }
          ],
          "scatterpolargl": [
           {
            "marker": {
             "colorbar": {
              "outlinewidth": 0,
              "ticks": ""
             }
            },
            "type": "scatterpolargl"
           }
          ],
          "scatterternary": [
           {
            "marker": {
             "colorbar": {
              "outlinewidth": 0,
              "ticks": ""
             }
            },
            "type": "scatterternary"
           }
          ],
          "surface": [
           {
            "colorbar": {
             "outlinewidth": 0,
             "ticks": ""
            },
            "colorscale": [
             [
              0,
              "#0d0887"
             ],
             [
              0.1111111111111111,
              "#46039f"
             ],
             [
              0.2222222222222222,
              "#7201a8"
             ],
             [
              0.3333333333333333,
              "#9c179e"
             ],
             [
              0.4444444444444444,
              "#bd3786"
             ],
             [
              0.5555555555555556,
              "#d8576b"
             ],
             [
              0.6666666666666666,
              "#ed7953"
             ],
             [
              0.7777777777777778,
              "#fb9f3a"
             ],
             [
              0.8888888888888888,
              "#fdca26"
             ],
             [
              1,
              "#f0f921"
             ]
            ],
            "type": "surface"
           }
          ],
          "table": [
           {
            "cells": {
             "fill": {
              "color": "#EBF0F8"
             },
             "line": {
              "color": "white"
             }
            },
            "header": {
             "fill": {
              "color": "#C8D4E3"
             },
             "line": {
              "color": "white"
             }
            },
            "type": "table"
           }
          ]
         },
         "layout": {
          "annotationdefaults": {
           "arrowcolor": "#2a3f5f",
           "arrowhead": 0,
           "arrowwidth": 1
          },
          "autotypenumbers": "strict",
          "coloraxis": {
           "colorbar": {
            "outlinewidth": 0,
            "ticks": ""
           }
          },
          "colorscale": {
           "diverging": [
            [
             0,
             "#8e0152"
            ],
            [
             0.1,
             "#c51b7d"
            ],
            [
             0.2,
             "#de77ae"
            ],
            [
             0.3,
             "#f1b6da"
            ],
            [
             0.4,
             "#fde0ef"
            ],
            [
             0.5,
             "#f7f7f7"
            ],
            [
             0.6,
             "#e6f5d0"
            ],
            [
             0.7,
             "#b8e186"
            ],
            [
             0.8,
             "#7fbc41"
            ],
            [
             0.9,
             "#4d9221"
            ],
            [
             1,
             "#276419"
            ]
           ],
           "sequential": [
            [
             0,
             "#0d0887"
            ],
            [
             0.1111111111111111,
             "#46039f"
            ],
            [
             0.2222222222222222,
             "#7201a8"
            ],
            [
             0.3333333333333333,
             "#9c179e"
            ],
            [
             0.4444444444444444,
             "#bd3786"
            ],
            [
             0.5555555555555556,
             "#d8576b"
            ],
            [
             0.6666666666666666,
             "#ed7953"
            ],
            [
             0.7777777777777778,
             "#fb9f3a"
            ],
            [
             0.8888888888888888,
             "#fdca26"
            ],
            [
             1,
             "#f0f921"
            ]
           ],
           "sequentialminus": [
            [
             0,
             "#0d0887"
            ],
            [
             0.1111111111111111,
             "#46039f"
            ],
            [
             0.2222222222222222,
             "#7201a8"
            ],
            [
             0.3333333333333333,
             "#9c179e"
            ],
            [
             0.4444444444444444,
             "#bd3786"
            ],
            [
             0.5555555555555556,
             "#d8576b"
            ],
            [
             0.6666666666666666,
             "#ed7953"
            ],
            [
             0.7777777777777778,
             "#fb9f3a"
            ],
            [
             0.8888888888888888,
             "#fdca26"
            ],
            [
             1,
             "#f0f921"
            ]
           ]
          },
          "colorway": [
           "#636efa",
           "#EF553B",
           "#00cc96",
           "#ab63fa",
           "#FFA15A",
           "#19d3f3",
           "#FF6692",
           "#B6E880",
           "#FF97FF",
           "#FECB52"
          ],
          "font": {
           "color": "#2a3f5f"
          },
          "geo": {
           "bgcolor": "white",
           "lakecolor": "white",
           "landcolor": "#E5ECF6",
           "showlakes": true,
           "showland": true,
           "subunitcolor": "white"
          },
          "hoverlabel": {
           "align": "left"
          },
          "hovermode": "closest",
          "mapbox": {
           "style": "light"
          },
          "paper_bgcolor": "white",
          "plot_bgcolor": "#E5ECF6",
          "polar": {
           "angularaxis": {
            "gridcolor": "white",
            "linecolor": "white",
            "ticks": ""
           },
           "bgcolor": "#E5ECF6",
           "radialaxis": {
            "gridcolor": "white",
            "linecolor": "white",
            "ticks": ""
           }
          },
          "scene": {
           "xaxis": {
            "backgroundcolor": "#E5ECF6",
            "gridcolor": "white",
            "gridwidth": 2,
            "linecolor": "white",
            "showbackground": true,
            "ticks": "",
            "zerolinecolor": "white"
           },
           "yaxis": {
            "backgroundcolor": "#E5ECF6",
            "gridcolor": "white",
            "gridwidth": 2,
            "linecolor": "white",
            "showbackground": true,
            "ticks": "",
            "zerolinecolor": "white"
           },
           "zaxis": {
            "backgroundcolor": "#E5ECF6",
            "gridcolor": "white",
            "gridwidth": 2,
            "linecolor": "white",
            "showbackground": true,
            "ticks": "",
            "zerolinecolor": "white"
           }
          },
          "shapedefaults": {
           "line": {
            "color": "#2a3f5f"
           }
          },
          "ternary": {
           "aaxis": {
            "gridcolor": "white",
            "linecolor": "white",
            "ticks": ""
           },
           "baxis": {
            "gridcolor": "white",
            "linecolor": "white",
            "ticks": ""
           },
           "bgcolor": "#E5ECF6",
           "caxis": {
            "gridcolor": "white",
            "linecolor": "white",
            "ticks": ""
           }
          },
          "title": {
           "x": 0.05
          },
          "xaxis": {
           "automargin": true,
           "gridcolor": "white",
           "linecolor": "white",
           "ticks": "",
           "title": {
            "standoff": 15
           },
           "zerolinecolor": "white",
           "zerolinewidth": 2
          },
          "yaxis": {
           "automargin": true,
           "gridcolor": "white",
           "linecolor": "white",
           "ticks": "",
           "title": {
            "standoff": 15
           },
           "zerolinecolor": "white",
           "zerolinewidth": 2
          }
         }
        },
        "xaxis": {
         "anchor": "y",
         "domain": [
          0,
          1
         ],
         "title": {
          "text": "value"
         }
        },
        "yaxis": {
         "anchor": "x",
         "domain": [
          0,
          1
         ],
         "title": {
          "text": "count"
         }
        }
       }
      }
     },
     "metadata": {},
     "output_type": "display_data"
    }
   ],
   "source": [
    "outcomes = [] \n",
    "for i in range(1000):\n",
    "    heads = np.random.binomial(1000,0.5)\n",
    "    outcomes.append(heads)\n",
    "\n",
    "px.histogram(outcomes)"
   ]
  },
  {
   "attachments": {},
   "cell_type": "markdown",
   "metadata": {},
   "source": [
    "### Normal Distribution\n",
    "\n",
    "Simulating a similar coin experiment as above. Let us sample 1000 points from a normal distribution and plot the number of occurences in the form of a histogram"
   ]
  },
  {
   "cell_type": "code",
   "execution_count": 41,
   "metadata": {},
   "outputs": [
    {
     "data": {
      "application/vnd.plotly.v1+json": {
       "config": {
        "plotlyServerURL": "https://plot.ly"
       },
       "data": [
        {
         "alignmentgroup": "True",
         "bingroup": "x",
         "hovertemplate": "variable=0<br>value=%{x}<br>count=%{y}<extra></extra>",
         "legendgroup": "0",
         "marker": {
          "color": "#636efa",
          "pattern": {
           "shape": ""
          }
         },
         "name": "0",
         "offsetgroup": "0",
         "orientation": "v",
         "showlegend": true,
         "type": "histogram",
         "x": [
          -0.481577082401272,
          0.5070529440023104,
          -0.20859154558827367,
          -0.2630284537433534,
          -1.9057138632473463,
          0.6217299598676113,
          1.1240374786024654,
          1.2135055505340302,
          -0.837525587301858,
          0.5272273271747437,
          -2.5647278418319397,
          -2.847077653624681,
          0.5554988090207204,
          1.3170783908635677,
          0.3532313732896669,
          -0.24899124153333085,
          1.374332449011284,
          -0.16645071300386777,
          -0.24194620073523734,
          -1.854459274468373,
          0.7217173378791745,
          1.5716276259343362,
          -0.23972749511536473,
          1.8293653716299698,
          0.11784772293153627,
          0.45754854157099606,
          1.1638355878287217,
          -1.6889652794824626,
          1.6704556195133022,
          -0.09097671664076185,
          0.4213335037394653,
          -0.3556478976882047,
          0.959422189355814,
          -0.13951058171753689,
          0.2370467667506887,
          0.18007466687888812,
          0.47396291270997326,
          -1.426056515993456,
          1.3663449019007041,
          0.9048459672330863,
          0.7154525494608949,
          -1.4668269601656374,
          -1.7005932015548078,
          0.4410369719734836,
          0.5676856811436,
          0.3852847690812556,
          0.444024210543809,
          0.8803920881373309,
          -1.0919380226018391,
          -0.03663768104898534,
          -1.0690917254226333,
          0.7858430180059224,
          -0.055224874049315115,
          -0.7079404250910156,
          0.3426062690466402,
          -0.31024676428942716,
          -0.8398271975048499,
          -0.2022163416511684,
          1.1630814332324324,
          -0.5981139372022279,
          -0.8046820567060692,
          0.8549042446879036,
          -0.24441832789986478,
          0.8069080144455144,
          -0.6216973922423543,
          -1.2072581333740955,
          -0.5669123085547548,
          0.0803642851386164,
          0.729406621321651,
          1.436609691040837,
          -0.353126443705059,
          -0.4962791988120635,
          -0.40418724094225505,
          1.3860889756949362,
          0.7217540675059575,
          0.7870982258474892,
          1.249527883828419,
          0.34271733851947567,
          1.7507181087295238,
          -2.1391474766738328,
          -0.0707425791117687,
          0.6106586618219438,
          0.37996521035328445,
          -0.9343198074726744,
          -0.6285462525787734,
          -0.9930440148567136,
          0.3904646458941791,
          -0.044725481540737834,
          -0.1406362199958477,
          0.4427322461531451,
          1.022297512218407,
          -0.8089281454985617,
          1.360517524382216,
          0.3025433299264447,
          0.48564725816673165,
          -0.25282044330783754,
          -1.114383014311915,
          1.122202354623169,
          -1.350056829481097,
          0.661377582438709,
          0.8018208131174123,
          1.9806206843887586,
          -2.410013973723926,
          -0.16068259422567285,
          -0.8306556936793443,
          0.5637393122512063,
          -1.6933893187718327,
          -1.207783813683961,
          0.3544876909743676,
          0.0031121503949238113,
          -0.3059262383518801,
          1.0472920658887255,
          0.5532486983425114,
          0.9784032488110171,
          -0.5948664190044907,
          -0.06779989143165038,
          0.06632295991421366,
          -0.1245705050413266,
          1.64323392780618,
          -1.2034883844109832,
          -0.1668242682156036,
          1.5893199091466474,
          -1.1096453699390127,
          0.6270540908139193,
          -1.3378606625813045,
          -0.21738250808033266,
          -1.3400975020186532,
          0.5043575535775456,
          0.26749241710018073,
          -0.4977572163861613,
          -0.9886710795976333,
          -0.3369196199949253,
          0.2648511531231573,
          -1.6205469794757896,
          -0.6282186747186728,
          -0.06790036363838717,
          0.9011302398524151,
          -0.8996522566140088,
          0.34497775971221506,
          0.6732090495771844,
          0.4910563588738461,
          -1.0654311424396443,
          0.7092484454748175,
          -1.1096633198097756,
          -1.7836519590217963,
          1.3459224911824543,
          -0.01005961226167838,
          -0.3866250879833329,
          -2.248461199229425,
          -1.0873008696975046,
          -0.6742985377730856,
          -1.3692157507263887,
          -1.7148900380349696,
          -0.46708521200908787,
          1.2572895635848895,
          -0.9473885834273504,
          0.2563698215574881,
          1.281019191959818,
          -0.3633836687134249,
          -0.63881047731853,
          -1.4245354978776004,
          0.4159077238231001,
          -0.0026920933122621562,
          0.4492966822615892,
          0.9856982317995762,
          0.3573568343817159,
          1.0003028945441277,
          1.2169177985439403,
          1.9255137778008449,
          -0.454543814873819,
          0.010769433477551596,
          0.4351709831006842,
          -1.7041889808860928,
          0.4631264325691157,
          -1.0182549350872914,
          0.8636735066127116,
          0.534383952552962,
          2.372256278361998,
          0.9386085571320292,
          -0.4934823695134015,
          -2.502049665865428,
          0.01251202357566976,
          1.35585785293423,
          0.5785911758104347,
          0.4121240372782067,
          1.4869370334446255,
          -0.6767207710490833,
          -2.1306029462626643,
          0.41668811923514504,
          -0.2815493653994407,
          -1.017415878490897,
          -1.5085653713273754,
          0.1648357739816706,
          0.013311200782655658,
          1.0149870864331971,
          -1.0581640120037468,
          -0.8320412510378171,
          1.1865257742726492,
          -0.003948911974028306,
          -0.08463488307586499,
          1.1335319335356697,
          -0.971659281254157,
          0.04549390333282179,
          0.15567440006208927,
          -1.097190353489564,
          -1.6630325912970914,
          0.4533379999255468,
          -0.7368083793171688,
          0.37509384094718956,
          1.2866745982029826,
          1.442757469449067,
          1.0105699839999147,
          -0.7783759371882444,
          -1.7343982478837772,
          0.7644673173986309,
          1.086462192005449,
          1.4990424432864853,
          0.8946641032544931,
          -0.7721149777002616,
          0.3759095673584948,
          0.0836038860429443,
          -0.6294704084926894,
          1.0331709109340352,
          0.501400924261877,
          0.1958085038479366,
          1.0428805784002846,
          0.2581764700822406,
          1.3483724005116573,
          0.7716241755210682,
          0.820926652506153,
          0.2115887569467041,
          -0.03857512308286004,
          -0.6963289589674954,
          -0.29641557700164656,
          0.6092947872206903,
          0.33300185300939367,
          -0.6024205469932699,
          -0.4065678526488144,
          0.5419690247457406,
          0.5833466504064718,
          -0.7332593124631237,
          -0.9537782946489289,
          -1.2318855319185258,
          1.0267599229082158,
          0.055976073452099255,
          -1.2557200071710217,
          0.04433910166084654,
          1.0814734821275849,
          -0.6811342018861029,
          0.616297197152101,
          0.9713276358542399,
          1.0100029386464857,
          0.5369171350844859,
          0.5544102534060786,
          -0.3872918859059292,
          0.1894494243798615,
          1.5069935923790838,
          0.3138227150640914,
          -0.38415140327335123,
          0.08212460772478787,
          -0.14993040619674947,
          -1.091789681307109,
          0.5822234675976435,
          0.47742441068886415,
          0.5452284147060164,
          -0.03610420570037146,
          1.118079172634947,
          -1.8737995283067859,
          1.3865090995128515,
          0.0636744918795179,
          0.07732004029670192,
          -1.4900234496572846,
          -0.007390571411032873,
          1.5965455586267694,
          -0.13685922262135583,
          2.004848995263569,
          -1.2257169942103476,
          -1.069543365212265,
          0.4022130890461225,
          0.41320987403101567,
          0.49884698938227395,
          1.0507668765558678,
          -1.9700076570965293,
          0.29710266834657767,
          -0.4876934973305514,
          -0.23149359383725907,
          0.26875756154526675,
          0.04418434192815263,
          0.6757705752341946,
          -0.6814428685984842,
          0.38544728776202053,
          -0.5020402360614074,
          1.3590146103210503,
          0.8914321252203018,
          1.3193988789422253,
          0.28113580970289803,
          0.9554633336841152,
          0.826672567584433,
          -0.735619860911114,
          -1.9450035613041738,
          -1.0263806882261757,
          -0.48788653474637955,
          -0.3419040899546476,
          1.1942582095205525,
          0.6516891012150829,
          1.6563520560127944,
          1.6447097454615778,
          -0.3931292397231567,
          0.5544909697647517,
          0.6005643182931473,
          -0.3934053913165438,
          -1.2265989968617959,
          1.0074408827286123,
          -1.2675240918206427,
          0.7280332277365397,
          0.9516403712156483,
          2.5503412293744456,
          -0.05030187419592184,
          1.0961561713835912,
          -1.2260979996849737,
          1.5006085133953033,
          -0.20389680056715923,
          1.0165400011162846,
          -0.6443930927133822,
          -0.4892312417112052,
          1.2403691940030164,
          -0.11107130713431229,
          -0.7007152765046151,
          -1.1339586139272533,
          0.8293839405183188,
          -1.2693110972005144,
          -1.29566986551325,
          1.4528585436504067,
          1.0394327689360503,
          -0.31705926244030563,
          1.4220842926497095,
          1.0820750645080446,
          0.8369743583682093,
          -0.6115882662889824,
          -1.2416516877870087,
          0.5718973221136137,
          1.2350912517861259,
          2.2135106003649767,
          0.2105892428500329,
          -0.2613420825816897,
          -0.2754076615775145,
          0.7415260862922547,
          0.8031374446888488,
          -1.0432836866086816,
          0.6680148552485161,
          -0.6727744719401056,
          1.8921657653014423,
          -0.19547424927677506,
          -0.3509689927564499,
          0.24740238562214587,
          -0.6159450852937679,
          -1.448431391599897,
          -0.008563328468985155,
          -1.3710165177006377,
          0.3631080175584095,
          -0.4480646752166961,
          0.6783564861800294,
          0.2927719407214648,
          1.0237892964899469,
          -0.2313452773272365,
          -0.822371461266129,
          1.044252565437251,
          0.1414062851111954,
          0.011379793370379762,
          1.808213124216062,
          -0.5036267816980871,
          -0.14630075206682824,
          -0.01763863716298847,
          1.241510324488579,
          -0.6136574872954724,
          0.17088254748330609,
          0.7750193904274164,
          0.8576179512325856,
          -0.06663814020184715,
          0.8881786792536787,
          2.496141412964271,
          1.5176114392709967,
          -0.29931392826696257,
          -0.9738396872209091,
          -0.16675830161787977,
          1.0759375893822882,
          -0.6991945357793768,
          0.9054598506913064,
          0.05862892576243515,
          0.35879083990182836,
          0.5728427990082468,
          0.38300817652157176,
          -2.217912717413282,
          0.8587059793662652,
          -1.133901722751136,
          -0.35280915720318967,
          1.1147376306946444,
          -0.2624398773302453,
          1.0201172676402177,
          0.2556130349532548,
          2.178040465999399,
          1.6265969248190368,
          1.8871603332676523,
          0.15577937954887094,
          0.2788794239704231,
          -1.0406416311858127,
          -1.4939131823217622,
          -1.5453487219320377,
          -0.3342052446108436,
          -0.8265554212769451,
          0.8615901924805672,
          1.9580243014014198,
          0.40787641596369406,
          -1.4367974581494463,
          0.43856231194125994,
          0.2103698607486386,
          0.21527307824696604,
          0.5841668234609868,
          0.09330854813145309,
          3.112058267043317,
          0.11956799549868304,
          2.2300795138178904,
          1.4902008858339995,
          -1.6029331899445116,
          -0.6106099933429473,
          -0.881643290553006,
          0.532869864839151,
          -0.5835178824805459,
          -1.001021279885437,
          0.44433989282738984,
          -1.0995821542307396,
          -0.10137026029495691,
          0.2928972881804097,
          0.20917232546516076,
          -0.16796076023254963,
          1.1254954460046753,
          1.7883805246056508,
          -1.2349322499751816,
          0.1690986999752758,
          -0.2168909365806939,
          -0.4939540546734999,
          -0.5868472638667471,
          -0.9508574633395556,
          1.3519323947821456,
          0.3466171495879614,
          0.04347193583701381,
          0.265596008338278,
          -0.08131344277146318,
          0.4789995164380642,
          -1.4638032458739454,
          0.5372438391506915,
          -0.20355311369254167,
          -1.7555987238146908,
          0.2423354658993867,
          0.061842978775540236,
          1.3391345421473932,
          -0.7680166867437543,
          1.4624228142276452,
          0.45660022538698697,
          1.5025199111079943,
          -0.3988777299179416,
          0.46023290122436394,
          0.45981545108492744,
          0.8066195485295435,
          -0.6311614974633173,
          0.36049831464642096,
          0.6275171440028979,
          -1.172157524530937,
          0.24676630960510196,
          0.4499823048658727,
          0.7947055913088734,
          0.42768962056320703,
          0.2367195073761732,
          1.4914515157508514,
          -1.3115872602293086,
          -0.4398708494365827,
          0.4191612158325212,
          -0.48843088981500604,
          -0.20817365813593536,
          0.4401830987719727,
          -0.3711757827253813,
          -0.06520530308348722,
          -0.755301622880866,
          -1.37700230716317,
          1.2890893782236106,
          -1.0026046749483566,
          -0.6114436421633598,
          0.979854984307151,
          0.2756445569203721,
          0.2656831002249064,
          -0.3391347628530653,
          0.2457415769433721,
          0.5691532620385046,
          0.6014865955636659,
          -0.8992998142683939,
          -0.9106904779443054,
          0.7470597524497746,
          -0.41998614528244177,
          0.2039541707008304,
          0.2164415916677786,
          0.46512417868219375,
          0.6580760956381229,
          1.079758135383539,
          0.16382294235754039,
          -2.330628374489539,
          1.0100886320682427,
          0.15449920674537373,
          -0.37217245918589487,
          0.8911583486979197,
          -0.5143812258224093,
          1.3525413852334773,
          0.34449908368788107,
          -1.0697436082445049,
          0.7366310232895529,
          0.3878932111965866,
          1.543621749178729,
          0.2098477841793455,
          -0.5748872232255615,
          -0.0768603584433726,
          -2.2445129940221102,
          1.0179791275491952,
          -0.9804256566858998,
          -0.5203719851609383,
          0.7859364811103767,
          1.395121191813411,
          0.8617998785297796,
          -3.506718309697361,
          -1.0096273896423704,
          -0.2060654902065807,
          1.521420421618868,
          -0.7583821012029466,
          0.7978879601896754,
          1.4382109880185,
          -1.2690352534313774,
          -1.1005555809440632,
          -0.0449919939398623,
          0.9186917615762874,
          3.270614262629923,
          0.4829068483999994,
          -0.004370674857363882,
          0.5879961516527479,
          -0.4003646724065646,
          0.17861197046249416,
          -0.7529125273685912,
          0.3929096528832508,
          0.649924301354088,
          0.16233847420273004,
          -0.07567911655264417,
          0.07567866631240955,
          -2.025701241300103,
          1.1779453807175322,
          -0.3696519701633633,
          -1.3820594420854502,
          -1.8061712757256736,
          -0.5949192633398829,
          -1.4723599539290053,
          -1.5181342077290214,
          1.856408376373881,
          -1.1864175871748472,
          -1.3647555937533655,
          0.9205466190012356,
          -1.1933959759326702,
          0.16957016922871787,
          0.8205579426524755,
          0.4258047349347923,
          -1.0486727514896772,
          -1.7897596107851885,
          0.48627691734758854,
          0.5455778944292481,
          0.8340699157139876,
          0.35202256451085795,
          0.8248503613854452,
          0.7692469947521056,
          0.6331424314246644,
          0.3139660567931031,
          0.35357908435832075,
          1.1051342954686727,
          -0.44156045844715375,
          -1.0385231194017823,
          0.8549182693790741,
          0.4548096829356689,
          0.16601918666805235,
          -0.574167994282942,
          0.5257394273712865,
          0.3054381331074603,
          -1.01989191044352,
          0.48587583579217253,
          0.26658816812971897,
          -0.3812254256583977,
          -0.8678044747961019,
          -0.14639772009240554,
          0.4447951077487182,
          1.3560210029003434,
          0.013926887170450366,
          -0.07175951813068066,
          1.4141636563661084,
          -1.1364418891693757,
          -1.1456241174634392,
          -2.5833725385069557,
          -0.3640113828894205,
          0.38507423587555406,
          -0.8746370405771666,
          1.4874710251304173,
          -1.148929439835528,
          -0.008975390179401285,
          0.6424276206801323,
          -1.419835220266914,
          0.4188705364446678,
          0.9057469600519803,
          -0.6185759101686575,
          0.266563044944187,
          -1.5249094278779245,
          0.6043242661387942,
          -0.6992976363211596,
          -2.790437431295851,
          -0.7111892212599943,
          0.9627999412486679,
          0.5893105532093008,
          -0.5934502067748473,
          -0.7925861840062943,
          -0.95675485338836,
          -0.29638820904006125,
          -1.3864902652668807,
          -0.5501239468724104,
          0.3104273388653606,
          0.5729387537240437,
          -1.3692980366902812,
          1.7062924396316765,
          0.2691964273778879,
          0.7997724427199886,
          -0.654814593080568,
          -2.0266926691572973,
          -1.1173777769561928,
          -0.48536106202230594,
          -0.25416931430314543,
          0.3913910671048976,
          -1.7498400365303626,
          0.3661055219317205,
          -1.0456882706774775,
          1.0020843966196853,
          2.428207162739739,
          -0.4446708360409117,
          0.1821409921822865,
          -0.5353959166886837,
          0.05504674868511079,
          -1.300260409471904,
          0.9606894691125323,
          1.9666589048988972,
          0.6738131249339271,
          0.20099057299432604,
          -0.444898766316133,
          0.3313623008632272,
          0.00490450233377824,
          -0.7980899264598561,
          -0.9827555383622554,
          -1.5093458734599365,
          -0.6462979103464381,
          0.8574708054957151,
          -0.4601839333121406,
          -0.5135302413207831,
          2.0510033633065303,
          0.19492431887283462,
          -1.1426487493604653,
          1.7441351448950322,
          0.18899082936893932,
          -1.3782707342445932,
          -0.6993587605500354,
          1.8427954222621208,
          -0.8055354490614112,
          -0.5400280873094223,
          -1.0128946242952561,
          -0.46525733138608316,
          -0.4944269468187633,
          -1.8035905539642831,
          1.260400726319661,
          1.3330202134493416,
          0.6105775983350432,
          1.0093839297940037,
          0.221948937089573,
          0.2827537877325356,
          -1.084815033038504,
          0.09830889527407512,
          1.063921999345025,
          -2.09919927192964,
          0.013256141103768701,
          -0.7051780545366373,
          0.27040293947200134,
          2.1176144672702195,
          -0.07638138817488195,
          0.028860307572175586,
          -1.2155043201216,
          1.8447201662570036,
          0.38605593760784007,
          0.4763603886722777,
          -0.15200038956950343,
          -0.30832029314736875,
          0.9593667833898996,
          0.03703617693115963,
          0.5345537600104195,
          1.686900696117766,
          -0.19274602924024878,
          0.14448413972477,
          -0.12327649818076807,
          -0.07054787897515319,
          -0.9241062399525559,
          -0.6944711586776986,
          -0.22997896429606768,
          0.9944692216491481,
          0.2678828857646528,
          -1.4092659575087592,
          0.0023235947549757052,
          0.9156471351993822,
          -0.10029702991374116,
          -1.0999690103813875,
          -1.063028598533737,
          0.6566346370213372,
          -0.5133401281853803,
          -1.331269114342353,
          1.0802440075387865,
          -0.3153167147371359,
          -0.0793058335390592,
          0.04285507464727661,
          2.0225099476705295,
          -0.40266111091207357,
          0.4456374581945586,
          0.3088268723891682,
          -0.8247419572685882,
          -0.231712447288067,
          0.5633339759849901,
          -0.7687552781026735,
          -0.7228024273302286,
          -0.904920672674583,
          0.8130660338007163,
          1.3771579171283712,
          -0.48390161030129186,
          -0.28942789335793423,
          1.2200119139195795,
          -0.9097896095736094,
          -1.5794705626151646,
          -0.8821281537679577,
          0.09580389570878443,
          -0.6194732403397754,
          2.282596101701149,
          -0.30695554056264807,
          0.9908477762971882,
          -0.5789428724453672,
          0.8769992239359418,
          -1.018589460110023,
          0.3433999001465505,
          -0.7940582531715821,
          -0.13376222477043942,
          -0.29540813648200653,
          0.3032075988891417,
          0.4307520137553149,
          0.41477130953388885,
          1.1037615632871207,
          0.30234182284555783,
          0.7902144986384466,
          -0.5265503565335693,
          1.3801350427155799,
          -2.1816913227103147,
          -1.0771842355250736,
          -1.6195017804127976,
          1.4895629063603124,
          0.622488143833264,
          0.21434235960668596,
          0.16636274879396523,
          -0.8986695764117276,
          -0.09502113836502113,
          -0.5987644746823182,
          0.41618805005441567,
          0.12469421400878637,
          -1.0734086234447227,
          -0.24149334654159968,
          -0.4539348023645737,
          0.862686523681342,
          -1.6660662689552401,
          -1.301308388793044,
          -0.578276810928741,
          -0.9935566018735158,
          1.6458927743866836,
          0.12232184905443019,
          -1.6266259563989796,
          -0.616573659690919,
          -1.2760441871110868,
          -1.3471485011083781,
          -0.200813368282707,
          -0.601475503085527,
          -0.9249199231931647,
          0.5487871394046377,
          0.1768943624156452,
          -0.8813267298706601,
          0.18083514993945557,
          -0.3375323883530437,
          0.45581814046809155,
          0.3706768933432507,
          0.41836526093430376,
          -1.7700979449988699,
          -1.9498135492397488,
          0.6689602725817929,
          1.0658511696124786,
          1.1615843082521236,
          -0.7139281914209502,
          0.5221757551473423,
          1.0548211504749652,
          0.800314012129546,
          0.44242055053027496,
          2.251241481349193,
          0.5702633882529997,
          -1.8741148493231699,
          -0.2107125819299781,
          -2.719403240371104,
          0.15945243254217345,
          0.6722401640530724,
          -0.7611507196037823,
          1.5179491627900774,
          -0.9427452027608041,
          -0.23983095143753283,
          -0.21114948299697364,
          0.667425153170209,
          0.5169706230607718,
          0.46038186404128123,
          -0.9826729575242757,
          -0.8761769046361217,
          -0.8346735573163189,
          1.3155887914488178,
          1.1582217166467643,
          -1.0010709515893075,
          -0.9621341245197448,
          -0.2891931420465189,
          0.21279531048280922,
          -1.0487521021953286,
          -0.200353930118945,
          -1.564684493208195,
          -0.09167821368884267,
          0.9904644802059721,
          -0.6191592293788967,
          -0.9956392500930858,
          0.06181227099065773,
          0.18775635864997575,
          0.8843198132143827,
          -3.1106036552612335,
          0.46776314799217,
          -0.9117027093439996,
          -1.7834156289078444,
          -0.35126672839338774,
          -0.4563080092915369,
          -0.23059208425528951,
          1.6006440131018498,
          -0.6157595248591478,
          -0.011900858154104608,
          0.16537689731073213,
          -0.31376633331123094,
          -0.8869610704665409,
          -0.8961859576430944,
          -1.6415427331747396,
          0.6990231314809943,
          -2.085734511637192,
          -0.9622578336584295,
          -0.47811574613604685,
          -0.015978970760290725,
          -1.6785243043521976,
          -0.601148271743613,
          0.2362675451483549,
          -0.9728048319220595,
          -0.5002880838726385,
          0.21510450746163987,
          1.0396417425565099,
          -1.6367473260232421,
          -0.46471126796718,
          0.9113994793721282,
          0.1753081249926365,
          -0.4406186794079542,
          -1.4312831245289939,
          0.035355391024647416,
          -0.4827897931517919,
          -0.62854253386105,
          1.0787183248730225,
          0.42937400383475033,
          -1.678591857543475,
          0.059817791397345735,
          0.10893244258752968,
          0.33755644509832683,
          0.47179753276374625,
          -0.7670793270359614,
          -0.03825614236545865,
          1.1305034451044724,
          0.5420103742125992,
          -1.309130717405237,
          -1.0787175564408598,
          -1.6496107078962616,
          0.21883612149550383,
          1.8059078552387269,
          1.9485621968843205,
          -1.2144196899581678,
          -0.759762753891435,
          -0.02631357608442071,
          0.25203653483703425,
          1.0661635086626138,
          -0.4292419691639129,
          -0.3638098564987789,
          -1.5251119180531512,
          0.027459486135699148,
          -0.5001764493467451,
          -1.0581112638593932,
          -0.22563734752023143,
          0.08991158551147281,
          0.3318505652773825,
          -0.8841120851492085,
          -1.6521337044080802,
          -0.6784809665406655,
          0.9507713041957437,
          -0.8070361156144723,
          -0.1387547765769125,
          -0.8392804714975809,
          -0.7773978733914843,
          -1.2700207188826316,
          0.7579706410180328,
          -1.22313354272524,
          1.5719476144826359,
          1.0075323189022838,
          0.9477381093916172,
          0.3632155779504404,
          -1.656130291696091,
          0.6288049086711202,
          -0.8294200107701619,
          -0.5930985419638017,
          0.3626109924861234,
          0.352944047899163,
          0.7392340531201264,
          0.21827259364566265,
          -0.1551928824208927,
          -2.0083841042630657,
          -0.35668320941872017,
          -0.6426247439177492,
          -0.3053677507757148,
          2.043070831962751,
          0.9927932690966211,
          1.2244202768861612,
          -1.0200005603889664,
          -0.02965805414305247,
          0.642869080735086,
          -1.2339999027920214,
          -0.46719195332148716,
          -0.7594393526692674,
          2.177799406696277,
          1.9553447944251445,
          -0.823368695262966,
          0.27618902475134655,
          -0.3391032352956712,
          -1.040171606236109,
          -0.3406902701488709,
          0.23557634440025385,
          -1.3788241414873785,
          2.7336096737555624,
          -0.34843543085450035,
          -1.2578737048670792,
          0.4374781511791569,
          1.5265793128879668,
          -0.9155348906141151,
          -1.234783674861641,
          0.09528395392888936,
          -1.4313483951224777,
          -0.8201933542558758,
          0.888109941067272,
          2.272585849687214,
          0.45515301991888846,
          -1.0704185183479846,
          0.45932447930606013,
          -1.1966747436170588,
          -1.029226982326225,
          -0.9486578478058583,
          0.9266000789696343,
          -0.059189900527869606,
          -0.5649897225410615,
          -0.3146794144658521,
          0.31404252312185027,
          0.5983256530769071,
          -1.327248446576574,
          -0.7711611921579679,
          -0.5687925191256149,
          -0.215908447108826,
          0.26192739365202666,
          0.6490044161238364,
          -0.30097868578300596,
          -0.9088410320135082,
          -0.6295212480624033,
          -1.0689890932182566,
          -0.9998103793016863,
          -0.33828584585390953,
          0.5263869810415356,
          -0.7258672529228485,
          -0.7289329478140969,
          -2.2120440663615297,
          1.4977287906861576,
          -0.0196167461874613,
          0.41192577139796915,
          -1.8114728972003489,
          0.7566543480457207,
          1.421840036193357
         ],
         "xaxis": "x",
         "yaxis": "y"
        }
       ],
       "layout": {
        "barmode": "relative",
        "legend": {
         "title": {
          "text": "variable"
         },
         "tracegroupgap": 0
        },
        "margin": {
         "t": 60
        },
        "template": {
         "data": {
          "bar": [
           {
            "error_x": {
             "color": "#2a3f5f"
            },
            "error_y": {
             "color": "#2a3f5f"
            },
            "marker": {
             "line": {
              "color": "#E5ECF6",
              "width": 0.5
             },
             "pattern": {
              "fillmode": "overlay",
              "size": 10,
              "solidity": 0.2
             }
            },
            "type": "bar"
           }
          ],
          "barpolar": [
           {
            "marker": {
             "line": {
              "color": "#E5ECF6",
              "width": 0.5
             },
             "pattern": {
              "fillmode": "overlay",
              "size": 10,
              "solidity": 0.2
             }
            },
            "type": "barpolar"
           }
          ],
          "carpet": [
           {
            "aaxis": {
             "endlinecolor": "#2a3f5f",
             "gridcolor": "white",
             "linecolor": "white",
             "minorgridcolor": "white",
             "startlinecolor": "#2a3f5f"
            },
            "baxis": {
             "endlinecolor": "#2a3f5f",
             "gridcolor": "white",
             "linecolor": "white",
             "minorgridcolor": "white",
             "startlinecolor": "#2a3f5f"
            },
            "type": "carpet"
           }
          ],
          "choropleth": [
           {
            "colorbar": {
             "outlinewidth": 0,
             "ticks": ""
            },
            "type": "choropleth"
           }
          ],
          "contour": [
           {
            "colorbar": {
             "outlinewidth": 0,
             "ticks": ""
            },
            "colorscale": [
             [
              0,
              "#0d0887"
             ],
             [
              0.1111111111111111,
              "#46039f"
             ],
             [
              0.2222222222222222,
              "#7201a8"
             ],
             [
              0.3333333333333333,
              "#9c179e"
             ],
             [
              0.4444444444444444,
              "#bd3786"
             ],
             [
              0.5555555555555556,
              "#d8576b"
             ],
             [
              0.6666666666666666,
              "#ed7953"
             ],
             [
              0.7777777777777778,
              "#fb9f3a"
             ],
             [
              0.8888888888888888,
              "#fdca26"
             ],
             [
              1,
              "#f0f921"
             ]
            ],
            "type": "contour"
           }
          ],
          "contourcarpet": [
           {
            "colorbar": {
             "outlinewidth": 0,
             "ticks": ""
            },
            "type": "contourcarpet"
           }
          ],
          "heatmap": [
           {
            "colorbar": {
             "outlinewidth": 0,
             "ticks": ""
            },
            "colorscale": [
             [
              0,
              "#0d0887"
             ],
             [
              0.1111111111111111,
              "#46039f"
             ],
             [
              0.2222222222222222,
              "#7201a8"
             ],
             [
              0.3333333333333333,
              "#9c179e"
             ],
             [
              0.4444444444444444,
              "#bd3786"
             ],
             [
              0.5555555555555556,
              "#d8576b"
             ],
             [
              0.6666666666666666,
              "#ed7953"
             ],
             [
              0.7777777777777778,
              "#fb9f3a"
             ],
             [
              0.8888888888888888,
              "#fdca26"
             ],
             [
              1,
              "#f0f921"
             ]
            ],
            "type": "heatmap"
           }
          ],
          "heatmapgl": [
           {
            "colorbar": {
             "outlinewidth": 0,
             "ticks": ""
            },
            "colorscale": [
             [
              0,
              "#0d0887"
             ],
             [
              0.1111111111111111,
              "#46039f"
             ],
             [
              0.2222222222222222,
              "#7201a8"
             ],
             [
              0.3333333333333333,
              "#9c179e"
             ],
             [
              0.4444444444444444,
              "#bd3786"
             ],
             [
              0.5555555555555556,
              "#d8576b"
             ],
             [
              0.6666666666666666,
              "#ed7953"
             ],
             [
              0.7777777777777778,
              "#fb9f3a"
             ],
             [
              0.8888888888888888,
              "#fdca26"
             ],
             [
              1,
              "#f0f921"
             ]
            ],
            "type": "heatmapgl"
           }
          ],
          "histogram": [
           {
            "marker": {
             "pattern": {
              "fillmode": "overlay",
              "size": 10,
              "solidity": 0.2
             }
            },
            "type": "histogram"
           }
          ],
          "histogram2d": [
           {
            "colorbar": {
             "outlinewidth": 0,
             "ticks": ""
            },
            "colorscale": [
             [
              0,
              "#0d0887"
             ],
             [
              0.1111111111111111,
              "#46039f"
             ],
             [
              0.2222222222222222,
              "#7201a8"
             ],
             [
              0.3333333333333333,
              "#9c179e"
             ],
             [
              0.4444444444444444,
              "#bd3786"
             ],
             [
              0.5555555555555556,
              "#d8576b"
             ],
             [
              0.6666666666666666,
              "#ed7953"
             ],
             [
              0.7777777777777778,
              "#fb9f3a"
             ],
             [
              0.8888888888888888,
              "#fdca26"
             ],
             [
              1,
              "#f0f921"
             ]
            ],
            "type": "histogram2d"
           }
          ],
          "histogram2dcontour": [
           {
            "colorbar": {
             "outlinewidth": 0,
             "ticks": ""
            },
            "colorscale": [
             [
              0,
              "#0d0887"
             ],
             [
              0.1111111111111111,
              "#46039f"
             ],
             [
              0.2222222222222222,
              "#7201a8"
             ],
             [
              0.3333333333333333,
              "#9c179e"
             ],
             [
              0.4444444444444444,
              "#bd3786"
             ],
             [
              0.5555555555555556,
              "#d8576b"
             ],
             [
              0.6666666666666666,
              "#ed7953"
             ],
             [
              0.7777777777777778,
              "#fb9f3a"
             ],
             [
              0.8888888888888888,
              "#fdca26"
             ],
             [
              1,
              "#f0f921"
             ]
            ],
            "type": "histogram2dcontour"
           }
          ],
          "mesh3d": [
           {
            "colorbar": {
             "outlinewidth": 0,
             "ticks": ""
            },
            "type": "mesh3d"
           }
          ],
          "parcoords": [
           {
            "line": {
             "colorbar": {
              "outlinewidth": 0,
              "ticks": ""
             }
            },
            "type": "parcoords"
           }
          ],
          "pie": [
           {
            "automargin": true,
            "type": "pie"
           }
          ],
          "scatter": [
           {
            "fillpattern": {
             "fillmode": "overlay",
             "size": 10,
             "solidity": 0.2
            },
            "type": "scatter"
           }
          ],
          "scatter3d": [
           {
            "line": {
             "colorbar": {
              "outlinewidth": 0,
              "ticks": ""
             }
            },
            "marker": {
             "colorbar": {
              "outlinewidth": 0,
              "ticks": ""
             }
            },
            "type": "scatter3d"
           }
          ],
          "scattercarpet": [
           {
            "marker": {
             "colorbar": {
              "outlinewidth": 0,
              "ticks": ""
             }
            },
            "type": "scattercarpet"
           }
          ],
          "scattergeo": [
           {
            "marker": {
             "colorbar": {
              "outlinewidth": 0,
              "ticks": ""
             }
            },
            "type": "scattergeo"
           }
          ],
          "scattergl": [
           {
            "marker": {
             "colorbar": {
              "outlinewidth": 0,
              "ticks": ""
             }
            },
            "type": "scattergl"
           }
          ],
          "scattermapbox": [
           {
            "marker": {
             "colorbar": {
              "outlinewidth": 0,
              "ticks": ""
             }
            },
            "type": "scattermapbox"
           }
          ],
          "scatterpolar": [
           {
            "marker": {
             "colorbar": {
              "outlinewidth": 0,
              "ticks": ""
             }
            },
            "type": "scatterpolar"
           }
          ],
          "scatterpolargl": [
           {
            "marker": {
             "colorbar": {
              "outlinewidth": 0,
              "ticks": ""
             }
            },
            "type": "scatterpolargl"
           }
          ],
          "scatterternary": [
           {
            "marker": {
             "colorbar": {
              "outlinewidth": 0,
              "ticks": ""
             }
            },
            "type": "scatterternary"
           }
          ],
          "surface": [
           {
            "colorbar": {
             "outlinewidth": 0,
             "ticks": ""
            },
            "colorscale": [
             [
              0,
              "#0d0887"
             ],
             [
              0.1111111111111111,
              "#46039f"
             ],
             [
              0.2222222222222222,
              "#7201a8"
             ],
             [
              0.3333333333333333,
              "#9c179e"
             ],
             [
              0.4444444444444444,
              "#bd3786"
             ],
             [
              0.5555555555555556,
              "#d8576b"
             ],
             [
              0.6666666666666666,
              "#ed7953"
             ],
             [
              0.7777777777777778,
              "#fb9f3a"
             ],
             [
              0.8888888888888888,
              "#fdca26"
             ],
             [
              1,
              "#f0f921"
             ]
            ],
            "type": "surface"
           }
          ],
          "table": [
           {
            "cells": {
             "fill": {
              "color": "#EBF0F8"
             },
             "line": {
              "color": "white"
             }
            },
            "header": {
             "fill": {
              "color": "#C8D4E3"
             },
             "line": {
              "color": "white"
             }
            },
            "type": "table"
           }
          ]
         },
         "layout": {
          "annotationdefaults": {
           "arrowcolor": "#2a3f5f",
           "arrowhead": 0,
           "arrowwidth": 1
          },
          "autotypenumbers": "strict",
          "coloraxis": {
           "colorbar": {
            "outlinewidth": 0,
            "ticks": ""
           }
          },
          "colorscale": {
           "diverging": [
            [
             0,
             "#8e0152"
            ],
            [
             0.1,
             "#c51b7d"
            ],
            [
             0.2,
             "#de77ae"
            ],
            [
             0.3,
             "#f1b6da"
            ],
            [
             0.4,
             "#fde0ef"
            ],
            [
             0.5,
             "#f7f7f7"
            ],
            [
             0.6,
             "#e6f5d0"
            ],
            [
             0.7,
             "#b8e186"
            ],
            [
             0.8,
             "#7fbc41"
            ],
            [
             0.9,
             "#4d9221"
            ],
            [
             1,
             "#276419"
            ]
           ],
           "sequential": [
            [
             0,
             "#0d0887"
            ],
            [
             0.1111111111111111,
             "#46039f"
            ],
            [
             0.2222222222222222,
             "#7201a8"
            ],
            [
             0.3333333333333333,
             "#9c179e"
            ],
            [
             0.4444444444444444,
             "#bd3786"
            ],
            [
             0.5555555555555556,
             "#d8576b"
            ],
            [
             0.6666666666666666,
             "#ed7953"
            ],
            [
             0.7777777777777778,
             "#fb9f3a"
            ],
            [
             0.8888888888888888,
             "#fdca26"
            ],
            [
             1,
             "#f0f921"
            ]
           ],
           "sequentialminus": [
            [
             0,
             "#0d0887"
            ],
            [
             0.1111111111111111,
             "#46039f"
            ],
            [
             0.2222222222222222,
             "#7201a8"
            ],
            [
             0.3333333333333333,
             "#9c179e"
            ],
            [
             0.4444444444444444,
             "#bd3786"
            ],
            [
             0.5555555555555556,
             "#d8576b"
            ],
            [
             0.6666666666666666,
             "#ed7953"
            ],
            [
             0.7777777777777778,
             "#fb9f3a"
            ],
            [
             0.8888888888888888,
             "#fdca26"
            ],
            [
             1,
             "#f0f921"
            ]
           ]
          },
          "colorway": [
           "#636efa",
           "#EF553B",
           "#00cc96",
           "#ab63fa",
           "#FFA15A",
           "#19d3f3",
           "#FF6692",
           "#B6E880",
           "#FF97FF",
           "#FECB52"
          ],
          "font": {
           "color": "#2a3f5f"
          },
          "geo": {
           "bgcolor": "white",
           "lakecolor": "white",
           "landcolor": "#E5ECF6",
           "showlakes": true,
           "showland": true,
           "subunitcolor": "white"
          },
          "hoverlabel": {
           "align": "left"
          },
          "hovermode": "closest",
          "mapbox": {
           "style": "light"
          },
          "paper_bgcolor": "white",
          "plot_bgcolor": "#E5ECF6",
          "polar": {
           "angularaxis": {
            "gridcolor": "white",
            "linecolor": "white",
            "ticks": ""
           },
           "bgcolor": "#E5ECF6",
           "radialaxis": {
            "gridcolor": "white",
            "linecolor": "white",
            "ticks": ""
           }
          },
          "scene": {
           "xaxis": {
            "backgroundcolor": "#E5ECF6",
            "gridcolor": "white",
            "gridwidth": 2,
            "linecolor": "white",
            "showbackground": true,
            "ticks": "",
            "zerolinecolor": "white"
           },
           "yaxis": {
            "backgroundcolor": "#E5ECF6",
            "gridcolor": "white",
            "gridwidth": 2,
            "linecolor": "white",
            "showbackground": true,
            "ticks": "",
            "zerolinecolor": "white"
           },
           "zaxis": {
            "backgroundcolor": "#E5ECF6",
            "gridcolor": "white",
            "gridwidth": 2,
            "linecolor": "white",
            "showbackground": true,
            "ticks": "",
            "zerolinecolor": "white"
           }
          },
          "shapedefaults": {
           "line": {
            "color": "#2a3f5f"
           }
          },
          "ternary": {
           "aaxis": {
            "gridcolor": "white",
            "linecolor": "white",
            "ticks": ""
           },
           "baxis": {
            "gridcolor": "white",
            "linecolor": "white",
            "ticks": ""
           },
           "bgcolor": "#E5ECF6",
           "caxis": {
            "gridcolor": "white",
            "linecolor": "white",
            "ticks": ""
           }
          },
          "title": {
           "x": 0.05
          },
          "xaxis": {
           "automargin": true,
           "gridcolor": "white",
           "linecolor": "white",
           "ticks": "",
           "title": {
            "standoff": 15
           },
           "zerolinecolor": "white",
           "zerolinewidth": 2
          },
          "yaxis": {
           "automargin": true,
           "gridcolor": "white",
           "linecolor": "white",
           "ticks": "",
           "title": {
            "standoff": 15
           },
           "zerolinecolor": "white",
           "zerolinewidth": 2
          }
         }
        },
        "xaxis": {
         "anchor": "y",
         "domain": [
          0,
          1
         ],
         "title": {
          "text": "value"
         }
        },
        "yaxis": {
         "anchor": "x",
         "domain": [
          0,
          1
         ],
         "title": {
          "text": "count"
         }
        }
       }
      }
     },
     "metadata": {},
     "output_type": "display_data"
    }
   ],
   "source": [
    "outcomes = []\n",
    "for i in range(1000):\n",
    "    sample = np.random.normal(0,1)\n",
    "    outcomes.append(sample)\n",
    "    \n",
    "px.histogram(outcomes)"
   ]
  },
  {
   "attachments": {},
   "cell_type": "markdown",
   "metadata": {},
   "source": [
    "### Normal Tests\n",
    "\n",
    "Heights and weights data is approximately is normally distributed. How can one test that the distribution is normal?\n",
    "\n",
    "**This is usually done in two ways:**\n",
    "- **Histograms**  if the distribution shape is like a bell curve, we can reasonably sure that it is normal.\n",
    "\n",
    "- **Normal test** the scipy package gives a very handy normaltest method that lets one calculate the probability that the distribution is normal, by chance."
   ]
  },
  {
   "cell_type": "code",
   "execution_count": 16,
   "metadata": {},
   "outputs": [
    {
     "data": {
      "text/plain": [
       "NormaltestResult(statistic=1.548268939471412, pvalue=0.461102706680516)"
      ]
     },
     "execution_count": 16,
     "metadata": {},
     "output_type": "execute_result"
    }
   ],
   "source": [
    "#Checking for normalcy in the dataset:\n",
    "stats.normaltest(First)"
   ]
  },
  {
   "cell_type": "code",
   "execution_count": 17,
   "metadata": {},
   "outputs": [
    {
     "data": {
      "application/vnd.plotly.v1+json": {
       "config": {
        "plotlyServerURL": "https://plot.ly"
       },
       "data": [
        {
         "alignmentgroup": "True",
         "bingroup": "x",
         "hovertemplate": "variable=First_innings_score<br>value=%{x}<br>count=%{y}<extra></extra>",
         "legendgroup": "First_innings_score",
         "marker": {
          "color": "#636efa",
          "pattern": {
           "shape": ""
          }
         },
         "name": "First_innings_score",
         "offsetgroup": "First_innings_score",
         "orientation": "v",
         "showlegend": true,
         "type": "histogram",
         "x": [
          259,
          207,
          310,
          244,
          140,
          190,
          225,
          260,
          223,
          317,
          269,
          234,
          235,
          131,
          134,
          228,
          140,
          277,
          203,
          89,
          271,
          229,
          61,
          105,
          135,
          265,
          234,
          274,
          305,
          293,
          356
         ],
         "xaxis": "x",
         "yaxis": "y"
        }
       ],
       "layout": {
        "barmode": "relative",
        "legend": {
         "title": {
          "text": "variable"
         },
         "tracegroupgap": 0
        },
        "margin": {
         "t": 60
        },
        "template": {
         "data": {
          "bar": [
           {
            "error_x": {
             "color": "#2a3f5f"
            },
            "error_y": {
             "color": "#2a3f5f"
            },
            "marker": {
             "line": {
              "color": "#E5ECF6",
              "width": 0.5
             },
             "pattern": {
              "fillmode": "overlay",
              "size": 10,
              "solidity": 0.2
             }
            },
            "type": "bar"
           }
          ],
          "barpolar": [
           {
            "marker": {
             "line": {
              "color": "#E5ECF6",
              "width": 0.5
             },
             "pattern": {
              "fillmode": "overlay",
              "size": 10,
              "solidity": 0.2
             }
            },
            "type": "barpolar"
           }
          ],
          "carpet": [
           {
            "aaxis": {
             "endlinecolor": "#2a3f5f",
             "gridcolor": "white",
             "linecolor": "white",
             "minorgridcolor": "white",
             "startlinecolor": "#2a3f5f"
            },
            "baxis": {
             "endlinecolor": "#2a3f5f",
             "gridcolor": "white",
             "linecolor": "white",
             "minorgridcolor": "white",
             "startlinecolor": "#2a3f5f"
            },
            "type": "carpet"
           }
          ],
          "choropleth": [
           {
            "colorbar": {
             "outlinewidth": 0,
             "ticks": ""
            },
            "type": "choropleth"
           }
          ],
          "contour": [
           {
            "colorbar": {
             "outlinewidth": 0,
             "ticks": ""
            },
            "colorscale": [
             [
              0,
              "#0d0887"
             ],
             [
              0.1111111111111111,
              "#46039f"
             ],
             [
              0.2222222222222222,
              "#7201a8"
             ],
             [
              0.3333333333333333,
              "#9c179e"
             ],
             [
              0.4444444444444444,
              "#bd3786"
             ],
             [
              0.5555555555555556,
              "#d8576b"
             ],
             [
              0.6666666666666666,
              "#ed7953"
             ],
             [
              0.7777777777777778,
              "#fb9f3a"
             ],
             [
              0.8888888888888888,
              "#fdca26"
             ],
             [
              1,
              "#f0f921"
             ]
            ],
            "type": "contour"
           }
          ],
          "contourcarpet": [
           {
            "colorbar": {
             "outlinewidth": 0,
             "ticks": ""
            },
            "type": "contourcarpet"
           }
          ],
          "heatmap": [
           {
            "colorbar": {
             "outlinewidth": 0,
             "ticks": ""
            },
            "colorscale": [
             [
              0,
              "#0d0887"
             ],
             [
              0.1111111111111111,
              "#46039f"
             ],
             [
              0.2222222222222222,
              "#7201a8"
             ],
             [
              0.3333333333333333,
              "#9c179e"
             ],
             [
              0.4444444444444444,
              "#bd3786"
             ],
             [
              0.5555555555555556,
              "#d8576b"
             ],
             [
              0.6666666666666666,
              "#ed7953"
             ],
             [
              0.7777777777777778,
              "#fb9f3a"
             ],
             [
              0.8888888888888888,
              "#fdca26"
             ],
             [
              1,
              "#f0f921"
             ]
            ],
            "type": "heatmap"
           }
          ],
          "heatmapgl": [
           {
            "colorbar": {
             "outlinewidth": 0,
             "ticks": ""
            },
            "colorscale": [
             [
              0,
              "#0d0887"
             ],
             [
              0.1111111111111111,
              "#46039f"
             ],
             [
              0.2222222222222222,
              "#7201a8"
             ],
             [
              0.3333333333333333,
              "#9c179e"
             ],
             [
              0.4444444444444444,
              "#bd3786"
             ],
             [
              0.5555555555555556,
              "#d8576b"
             ],
             [
              0.6666666666666666,
              "#ed7953"
             ],
             [
              0.7777777777777778,
              "#fb9f3a"
             ],
             [
              0.8888888888888888,
              "#fdca26"
             ],
             [
              1,
              "#f0f921"
             ]
            ],
            "type": "heatmapgl"
           }
          ],
          "histogram": [
           {
            "marker": {
             "pattern": {
              "fillmode": "overlay",
              "size": 10,
              "solidity": 0.2
             }
            },
            "type": "histogram"
           }
          ],
          "histogram2d": [
           {
            "colorbar": {
             "outlinewidth": 0,
             "ticks": ""
            },
            "colorscale": [
             [
              0,
              "#0d0887"
             ],
             [
              0.1111111111111111,
              "#46039f"
             ],
             [
              0.2222222222222222,
              "#7201a8"
             ],
             [
              0.3333333333333333,
              "#9c179e"
             ],
             [
              0.4444444444444444,
              "#bd3786"
             ],
             [
              0.5555555555555556,
              "#d8576b"
             ],
             [
              0.6666666666666666,
              "#ed7953"
             ],
             [
              0.7777777777777778,
              "#fb9f3a"
             ],
             [
              0.8888888888888888,
              "#fdca26"
             ],
             [
              1,
              "#f0f921"
             ]
            ],
            "type": "histogram2d"
           }
          ],
          "histogram2dcontour": [
           {
            "colorbar": {
             "outlinewidth": 0,
             "ticks": ""
            },
            "colorscale": [
             [
              0,
              "#0d0887"
             ],
             [
              0.1111111111111111,
              "#46039f"
             ],
             [
              0.2222222222222222,
              "#7201a8"
             ],
             [
              0.3333333333333333,
              "#9c179e"
             ],
             [
              0.4444444444444444,
              "#bd3786"
             ],
             [
              0.5555555555555556,
              "#d8576b"
             ],
             [
              0.6666666666666666,
              "#ed7953"
             ],
             [
              0.7777777777777778,
              "#fb9f3a"
             ],
             [
              0.8888888888888888,
              "#fdca26"
             ],
             [
              1,
              "#f0f921"
             ]
            ],
            "type": "histogram2dcontour"
           }
          ],
          "mesh3d": [
           {
            "colorbar": {
             "outlinewidth": 0,
             "ticks": ""
            },
            "type": "mesh3d"
           }
          ],
          "parcoords": [
           {
            "line": {
             "colorbar": {
              "outlinewidth": 0,
              "ticks": ""
             }
            },
            "type": "parcoords"
           }
          ],
          "pie": [
           {
            "automargin": true,
            "type": "pie"
           }
          ],
          "scatter": [
           {
            "fillpattern": {
             "fillmode": "overlay",
             "size": 10,
             "solidity": 0.2
            },
            "type": "scatter"
           }
          ],
          "scatter3d": [
           {
            "line": {
             "colorbar": {
              "outlinewidth": 0,
              "ticks": ""
             }
            },
            "marker": {
             "colorbar": {
              "outlinewidth": 0,
              "ticks": ""
             }
            },
            "type": "scatter3d"
           }
          ],
          "scattercarpet": [
           {
            "marker": {
             "colorbar": {
              "outlinewidth": 0,
              "ticks": ""
             }
            },
            "type": "scattercarpet"
           }
          ],
          "scattergeo": [
           {
            "marker": {
             "colorbar": {
              "outlinewidth": 0,
              "ticks": ""
             }
            },
            "type": "scattergeo"
           }
          ],
          "scattergl": [
           {
            "marker": {
             "colorbar": {
              "outlinewidth": 0,
              "ticks": ""
             }
            },
            "type": "scattergl"
           }
          ],
          "scattermapbox": [
           {
            "marker": {
             "colorbar": {
              "outlinewidth": 0,
              "ticks": ""
             }
            },
            "type": "scattermapbox"
           }
          ],
          "scatterpolar": [
           {
            "marker": {
             "colorbar": {
              "outlinewidth": 0,
              "ticks": ""
             }
            },
            "type": "scatterpolar"
           }
          ],
          "scatterpolargl": [
           {
            "marker": {
             "colorbar": {
              "outlinewidth": 0,
              "ticks": ""
             }
            },
            "type": "scatterpolargl"
           }
          ],
          "scatterternary": [
           {
            "marker": {
             "colorbar": {
              "outlinewidth": 0,
              "ticks": ""
             }
            },
            "type": "scatterternary"
           }
          ],
          "surface": [
           {
            "colorbar": {
             "outlinewidth": 0,
             "ticks": ""
            },
            "colorscale": [
             [
              0,
              "#0d0887"
             ],
             [
              0.1111111111111111,
              "#46039f"
             ],
             [
              0.2222222222222222,
              "#7201a8"
             ],
             [
              0.3333333333333333,
              "#9c179e"
             ],
             [
              0.4444444444444444,
              "#bd3786"
             ],
             [
              0.5555555555555556,
              "#d8576b"
             ],
             [
              0.6666666666666666,
              "#ed7953"
             ],
             [
              0.7777777777777778,
              "#fb9f3a"
             ],
             [
              0.8888888888888888,
              "#fdca26"
             ],
             [
              1,
              "#f0f921"
             ]
            ],
            "type": "surface"
           }
          ],
          "table": [
           {
            "cells": {
             "fill": {
              "color": "#EBF0F8"
             },
             "line": {
              "color": "white"
             }
            },
            "header": {
             "fill": {
              "color": "#C8D4E3"
             },
             "line": {
              "color": "white"
             }
            },
            "type": "table"
           }
          ]
         },
         "layout": {
          "annotationdefaults": {
           "arrowcolor": "#2a3f5f",
           "arrowhead": 0,
           "arrowwidth": 1
          },
          "autotypenumbers": "strict",
          "coloraxis": {
           "colorbar": {
            "outlinewidth": 0,
            "ticks": ""
           }
          },
          "colorscale": {
           "diverging": [
            [
             0,
             "#8e0152"
            ],
            [
             0.1,
             "#c51b7d"
            ],
            [
             0.2,
             "#de77ae"
            ],
            [
             0.3,
             "#f1b6da"
            ],
            [
             0.4,
             "#fde0ef"
            ],
            [
             0.5,
             "#f7f7f7"
            ],
            [
             0.6,
             "#e6f5d0"
            ],
            [
             0.7,
             "#b8e186"
            ],
            [
             0.8,
             "#7fbc41"
            ],
            [
             0.9,
             "#4d9221"
            ],
            [
             1,
             "#276419"
            ]
           ],
           "sequential": [
            [
             0,
             "#0d0887"
            ],
            [
             0.1111111111111111,
             "#46039f"
            ],
            [
             0.2222222222222222,
             "#7201a8"
            ],
            [
             0.3333333333333333,
             "#9c179e"
            ],
            [
             0.4444444444444444,
             "#bd3786"
            ],
            [
             0.5555555555555556,
             "#d8576b"
            ],
            [
             0.6666666666666666,
             "#ed7953"
            ],
            [
             0.7777777777777778,
             "#fb9f3a"
            ],
            [
             0.8888888888888888,
             "#fdca26"
            ],
            [
             1,
             "#f0f921"
            ]
           ],
           "sequentialminus": [
            [
             0,
             "#0d0887"
            ],
            [
             0.1111111111111111,
             "#46039f"
            ],
            [
             0.2222222222222222,
             "#7201a8"
            ],
            [
             0.3333333333333333,
             "#9c179e"
            ],
            [
             0.4444444444444444,
             "#bd3786"
            ],
            [
             0.5555555555555556,
             "#d8576b"
            ],
            [
             0.6666666666666666,
             "#ed7953"
            ],
            [
             0.7777777777777778,
             "#fb9f3a"
            ],
            [
             0.8888888888888888,
             "#fdca26"
            ],
            [
             1,
             "#f0f921"
            ]
           ]
          },
          "colorway": [
           "#636efa",
           "#EF553B",
           "#00cc96",
           "#ab63fa",
           "#FFA15A",
           "#19d3f3",
           "#FF6692",
           "#B6E880",
           "#FF97FF",
           "#FECB52"
          ],
          "font": {
           "color": "#2a3f5f"
          },
          "geo": {
           "bgcolor": "white",
           "lakecolor": "white",
           "landcolor": "#E5ECF6",
           "showlakes": true,
           "showland": true,
           "subunitcolor": "white"
          },
          "hoverlabel": {
           "align": "left"
          },
          "hovermode": "closest",
          "mapbox": {
           "style": "light"
          },
          "paper_bgcolor": "white",
          "plot_bgcolor": "#E5ECF6",
          "polar": {
           "angularaxis": {
            "gridcolor": "white",
            "linecolor": "white",
            "ticks": ""
           },
           "bgcolor": "#E5ECF6",
           "radialaxis": {
            "gridcolor": "white",
            "linecolor": "white",
            "ticks": ""
           }
          },
          "scene": {
           "xaxis": {
            "backgroundcolor": "#E5ECF6",
            "gridcolor": "white",
            "gridwidth": 2,
            "linecolor": "white",
            "showbackground": true,
            "ticks": "",
            "zerolinecolor": "white"
           },
           "yaxis": {
            "backgroundcolor": "#E5ECF6",
            "gridcolor": "white",
            "gridwidth": 2,
            "linecolor": "white",
            "showbackground": true,
            "ticks": "",
            "zerolinecolor": "white"
           },
           "zaxis": {
            "backgroundcolor": "#E5ECF6",
            "gridcolor": "white",
            "gridwidth": 2,
            "linecolor": "white",
            "showbackground": true,
            "ticks": "",
            "zerolinecolor": "white"
           }
          },
          "shapedefaults": {
           "line": {
            "color": "#2a3f5f"
           }
          },
          "ternary": {
           "aaxis": {
            "gridcolor": "white",
            "linecolor": "white",
            "ticks": ""
           },
           "baxis": {
            "gridcolor": "white",
            "linecolor": "white",
            "ticks": ""
           },
           "bgcolor": "#E5ECF6",
           "caxis": {
            "gridcolor": "white",
            "linecolor": "white",
            "ticks": ""
           }
          },
          "title": {
           "x": 0.05
          },
          "xaxis": {
           "automargin": true,
           "gridcolor": "white",
           "linecolor": "white",
           "ticks": "",
           "title": {
            "standoff": 15
           },
           "zerolinecolor": "white",
           "zerolinewidth": 2
          },
          "yaxis": {
           "automargin": true,
           "gridcolor": "white",
           "linecolor": "white",
           "ticks": "",
           "title": {
            "standoff": 15
           },
           "zerolinecolor": "white",
           "zerolinewidth": 2
          }
         }
        },
        "xaxis": {
         "anchor": "y",
         "domain": [
          0,
          1
         ],
         "title": {
          "text": "value"
         }
        },
        "yaxis": {
         "anchor": "x",
         "domain": [
          0,
          1
         ],
         "title": {
          "text": "count"
         }
        }
       }
      }
     },
     "metadata": {},
     "output_type": "display_data"
    }
   ],
   "source": [
    "px.histogram(First)"
   ]
  },
  {
   "attachments": {},
   "cell_type": "markdown",
   "metadata": {},
   "source": [
    "As observed above, **the First innings score** is not normally distributed. The histogram plot does not exactly resemble a bell curve and the normal test gives a p-value of 0.46.. which means that there almost no chance that the distribution is normal\n",
    "\n",
    "If the p-value is less than or equal to 0.05 reject the assertion and conclude that the sample could not have been selected from a normal distribution.<br>\n",
    "If the p-value is greater than 0.05 then you have insufficient evidence to question the assertion and so you should treat the assertion as reasonable."
   ]
  },
  {
   "cell_type": "code",
   "execution_count": 43,
   "metadata": {},
   "outputs": [
    {
     "data": {
      "text/plain": [
       "NormaltestResult(statistic=nan, pvalue=nan)"
      ]
     },
     "execution_count": 43,
     "metadata": {},
     "output_type": "execute_result"
    }
   ],
   "source": [
    "stats.normaltest(Second)"
   ]
  },
  {
   "attachments": {},
   "cell_type": "markdown",
   "metadata": {},
   "source": [
    "### Z-score and P-value\n",
    "\n",
    "The z-score and  p-value are central to almost every statistical inference tool and hypothesis testing methods.\n",
    "\n",
    "The **Z-score** is the measure of how many standard deviations away from the mean, a particular sample point is. <br>\n",
    "The **P-value** gives us the probability of getting a z-score less than or equal to the given z-score and in a sense, is a measure of the number of sample points that have a z-score less than or equal to the corresponding value of z."
   ]
  },
  {
   "cell_type": "code",
   "execution_count": 44,
   "metadata": {},
   "outputs": [],
   "source": [
    "#using Scipy package to create P-value function\n",
    "def P_value (z):\n",
    "    return 1 -2 * (1- stats.norm.cdf(z))"
   ]
  },
  {
   "cell_type": "code",
   "execution_count": 20,
   "metadata": {},
   "outputs": [
    {
     "data": {
      "text/plain": [
       "(0.6826894921370859, 0.9544997361036416, 0.9973002039367398)"
      ]
     },
     "execution_count": 20,
     "metadata": {},
     "output_type": "execute_result"
    }
   ],
   "source": [
    "P_value(1), P_value(2), P_value(3)"
   ]
  },
  {
   "cell_type": "code",
   "execution_count": 21,
   "metadata": {},
   "outputs": [],
   "source": [
    "#using Scipy package to create Z-score function\n",
    "def Z_score (frac):\n",
    "    return stats.norm.ppf(0.5+frac/2)"
   ]
  },
  {
   "cell_type": "code",
   "execution_count": 22,
   "metadata": {},
   "outputs": [
    {
     "data": {
      "text/plain": [
       "(0.6744897501960817, 0.9944578832097535, 2.5758293035489004)"
      ]
     },
     "execution_count": 22,
     "metadata": {},
     "output_type": "execute_result"
    }
   ],
   "source": [
    "Z_score(0.50), Z_score(0.68), Z_score(0.99)"
   ]
  },
  {
   "attachments": {},
   "cell_type": "markdown",
   "metadata": {},
   "source": [
    "# Sampling\n",
    "\n",
    "## Credit Card Fraud Dataset\n",
    "\n",
    "*The datasets contains transactions made by credit cards in September 2013 by european cardholders. This dataset presents transactions that occurred in two days, where we have 492 frauds out of 284,807 transactions. The dataset is highly unbalanced, the positive class (frauds) account for 0.172% of all transactions.*\n",
    "\n",
    "Source: https://data.world/raghu543/credit-card-fraud-data\n",
    "\n",
    "\n",
    "### About Dataset\n",
    "It contains only numerical input variables which are the result of a PCA transformation. Unfortunately, due to confidentiality issues, we cannot provide the original features and more background information about the data. Features V1, V2, ... V28 are the principal components obtained with PCA, the only features which have not been transformed with PCA are 'Time' and 'Amount'. Feature 'Time' contains the seconds elapsed between each transaction and the first transaction in the dataset. The feature 'Amount' is the transaction Amount, this feature can be used for example-dependant cost-senstive learning. Feature 'Class' is the response variable and it takes value 1 in case of fraud and 0 otherwise.\n"
   ]
  },
  {
   "cell_type": "code",
   "execution_count": 23,
   "metadata": {},
   "outputs": [
    {
     "data": {
      "text/html": [
       "<div>\n",
       "<style scoped>\n",
       "    .dataframe tbody tr th:only-of-type {\n",
       "        vertical-align: middle;\n",
       "    }\n",
       "\n",
       "    .dataframe tbody tr th {\n",
       "        vertical-align: top;\n",
       "    }\n",
       "\n",
       "    .dataframe thead th {\n",
       "        text-align: right;\n",
       "    }\n",
       "</style>\n",
       "<table border=\"1\" class=\"dataframe\">\n",
       "  <thead>\n",
       "    <tr style=\"text-align: right;\">\n",
       "      <th></th>\n",
       "      <th>Time</th>\n",
       "      <th>V1</th>\n",
       "      <th>V2</th>\n",
       "      <th>V3</th>\n",
       "      <th>V4</th>\n",
       "      <th>V5</th>\n",
       "      <th>V6</th>\n",
       "      <th>V7</th>\n",
       "      <th>V8</th>\n",
       "      <th>V9</th>\n",
       "      <th>...</th>\n",
       "      <th>V21</th>\n",
       "      <th>V22</th>\n",
       "      <th>V23</th>\n",
       "      <th>V24</th>\n",
       "      <th>V25</th>\n",
       "      <th>V26</th>\n",
       "      <th>V27</th>\n",
       "      <th>V28</th>\n",
       "      <th>Amount</th>\n",
       "      <th>Class</th>\n",
       "    </tr>\n",
       "  </thead>\n",
       "  <tbody>\n",
       "    <tr>\n",
       "      <th>0</th>\n",
       "      <td>0.0</td>\n",
       "      <td>-1.359807</td>\n",
       "      <td>-0.072781</td>\n",
       "      <td>2.536347</td>\n",
       "      <td>1.378155</td>\n",
       "      <td>-0.338321</td>\n",
       "      <td>0.462388</td>\n",
       "      <td>0.239599</td>\n",
       "      <td>0.098698</td>\n",
       "      <td>0.363787</td>\n",
       "      <td>...</td>\n",
       "      <td>-0.018307</td>\n",
       "      <td>0.277838</td>\n",
       "      <td>-0.110474</td>\n",
       "      <td>0.066928</td>\n",
       "      <td>0.128539</td>\n",
       "      <td>-0.189115</td>\n",
       "      <td>0.133558</td>\n",
       "      <td>-0.021053</td>\n",
       "      <td>149.62</td>\n",
       "      <td>0</td>\n",
       "    </tr>\n",
       "    <tr>\n",
       "      <th>1</th>\n",
       "      <td>0.0</td>\n",
       "      <td>1.191857</td>\n",
       "      <td>0.266151</td>\n",
       "      <td>0.166480</td>\n",
       "      <td>0.448154</td>\n",
       "      <td>0.060018</td>\n",
       "      <td>-0.082361</td>\n",
       "      <td>-0.078803</td>\n",
       "      <td>0.085102</td>\n",
       "      <td>-0.255425</td>\n",
       "      <td>...</td>\n",
       "      <td>-0.225775</td>\n",
       "      <td>-0.638672</td>\n",
       "      <td>0.101288</td>\n",
       "      <td>-0.339846</td>\n",
       "      <td>0.167170</td>\n",
       "      <td>0.125895</td>\n",
       "      <td>-0.008983</td>\n",
       "      <td>0.014724</td>\n",
       "      <td>2.69</td>\n",
       "      <td>0</td>\n",
       "    </tr>\n",
       "    <tr>\n",
       "      <th>2</th>\n",
       "      <td>1.0</td>\n",
       "      <td>-1.358354</td>\n",
       "      <td>-1.340163</td>\n",
       "      <td>1.773209</td>\n",
       "      <td>0.379780</td>\n",
       "      <td>-0.503198</td>\n",
       "      <td>1.800499</td>\n",
       "      <td>0.791461</td>\n",
       "      <td>0.247676</td>\n",
       "      <td>-1.514654</td>\n",
       "      <td>...</td>\n",
       "      <td>0.247998</td>\n",
       "      <td>0.771679</td>\n",
       "      <td>0.909412</td>\n",
       "      <td>-0.689281</td>\n",
       "      <td>-0.327642</td>\n",
       "      <td>-0.139097</td>\n",
       "      <td>-0.055353</td>\n",
       "      <td>-0.059752</td>\n",
       "      <td>378.66</td>\n",
       "      <td>0</td>\n",
       "    </tr>\n",
       "    <tr>\n",
       "      <th>3</th>\n",
       "      <td>1.0</td>\n",
       "      <td>-0.966272</td>\n",
       "      <td>-0.185226</td>\n",
       "      <td>1.792993</td>\n",
       "      <td>-0.863291</td>\n",
       "      <td>-0.010309</td>\n",
       "      <td>1.247203</td>\n",
       "      <td>0.237609</td>\n",
       "      <td>0.377436</td>\n",
       "      <td>-1.387024</td>\n",
       "      <td>...</td>\n",
       "      <td>-0.108300</td>\n",
       "      <td>0.005274</td>\n",
       "      <td>-0.190321</td>\n",
       "      <td>-1.175575</td>\n",
       "      <td>0.647376</td>\n",
       "      <td>-0.221929</td>\n",
       "      <td>0.062723</td>\n",
       "      <td>0.061458</td>\n",
       "      <td>123.50</td>\n",
       "      <td>0</td>\n",
       "    </tr>\n",
       "    <tr>\n",
       "      <th>4</th>\n",
       "      <td>2.0</td>\n",
       "      <td>-1.158233</td>\n",
       "      <td>0.877737</td>\n",
       "      <td>1.548718</td>\n",
       "      <td>0.403034</td>\n",
       "      <td>-0.407193</td>\n",
       "      <td>0.095921</td>\n",
       "      <td>0.592941</td>\n",
       "      <td>-0.270533</td>\n",
       "      <td>0.817739</td>\n",
       "      <td>...</td>\n",
       "      <td>-0.009431</td>\n",
       "      <td>0.798278</td>\n",
       "      <td>-0.137458</td>\n",
       "      <td>0.141267</td>\n",
       "      <td>-0.206010</td>\n",
       "      <td>0.502292</td>\n",
       "      <td>0.219422</td>\n",
       "      <td>0.215153</td>\n",
       "      <td>69.99</td>\n",
       "      <td>0</td>\n",
       "    </tr>\n",
       "  </tbody>\n",
       "</table>\n",
       "<p>5 rows × 31 columns</p>\n",
       "</div>"
      ],
      "text/plain": [
       "   Time        V1        V2        V3        V4        V5        V6        V7  \\\n",
       "0   0.0 -1.359807 -0.072781  2.536347  1.378155 -0.338321  0.462388  0.239599   \n",
       "1   0.0  1.191857  0.266151  0.166480  0.448154  0.060018 -0.082361 -0.078803   \n",
       "2   1.0 -1.358354 -1.340163  1.773209  0.379780 -0.503198  1.800499  0.791461   \n",
       "3   1.0 -0.966272 -0.185226  1.792993 -0.863291 -0.010309  1.247203  0.237609   \n",
       "4   2.0 -1.158233  0.877737  1.548718  0.403034 -0.407193  0.095921  0.592941   \n",
       "\n",
       "         V8        V9  ...       V21       V22       V23       V24       V25  \\\n",
       "0  0.098698  0.363787  ... -0.018307  0.277838 -0.110474  0.066928  0.128539   \n",
       "1  0.085102 -0.255425  ... -0.225775 -0.638672  0.101288 -0.339846  0.167170   \n",
       "2  0.247676 -1.514654  ...  0.247998  0.771679  0.909412 -0.689281 -0.327642   \n",
       "3  0.377436 -1.387024  ... -0.108300  0.005274 -0.190321 -1.175575  0.647376   \n",
       "4 -0.270533  0.817739  ... -0.009431  0.798278 -0.137458  0.141267 -0.206010   \n",
       "\n",
       "        V26       V27       V28  Amount  Class  \n",
       "0 -0.189115  0.133558 -0.021053  149.62      0  \n",
       "1  0.125895 -0.008983  0.014724    2.69      0  \n",
       "2 -0.139097 -0.055353 -0.059752  378.66      0  \n",
       "3 -0.221929  0.062723  0.061458  123.50      0  \n",
       "4  0.502292  0.219422  0.215153   69.99      0  \n",
       "\n",
       "[5 rows x 31 columns]"
      ]
     },
     "execution_count": 23,
     "metadata": {},
     "output_type": "execute_result"
    }
   ],
   "source": [
    "data =pd.read_csv('Datasets\\creditcard.csv')\n",
    "data.head()"
   ]
  },
  {
   "cell_type": "code",
   "execution_count": 24,
   "metadata": {},
   "outputs": [
    {
     "data": {
      "text/plain": [
       "(284807, 31)"
      ]
     },
     "execution_count": 24,
     "metadata": {},
     "output_type": "execute_result"
    }
   ],
   "source": [
    "data.shape"
   ]
  },
  {
   "attachments": {},
   "cell_type": "markdown",
   "metadata": {},
   "source": [
    "### Estimating a Population Proportion\n",
    "In the following sections, we are going to try and find the fraction of transactions that are fraudalent by examining data from only 8% of the sample"
   ]
  },
  {
   "cell_type": "code",
   "execution_count": 49,
   "metadata": {},
   "outputs": [],
   "source": [
    "data_sample = data.sample(frac = 0.08)"
   ]
  },
  {
   "cell_type": "code",
   "execution_count": 50,
   "metadata": {},
   "outputs": [
    {
     "data": {
      "text/plain": [
       "0    22745\n",
       "1       40\n",
       "Name: Class, dtype: int64"
      ]
     },
     "execution_count": 50,
     "metadata": {},
     "output_type": "execute_result"
    }
   ],
   "source": [
    "#Counting the fraudlent cases or otherwise\n",
    "data_sample['Class'].value_counts()"
   ]
  },
  {
   "cell_type": "code",
   "execution_count": 51,
   "metadata": {},
   "outputs": [
    {
     "data": {
      "text/plain": [
       "0.0017555409260478386"
      ]
     },
     "execution_count": 51,
     "metadata": {},
     "output_type": "execute_result"
    }
   ],
   "source": [
    "#Fraction of fraudlent transactions in a random dataset generated via Pandas\n",
    "p_fraudlent = len(data_sample[data_sample['Class'] == 1]) /len(data_sample)\n",
    "p_fraudlent"
   ]
  },
  {
   "attachments": {},
   "cell_type": "markdown",
   "metadata": {},
   "source": [
    "Imagine that we didn't have the data for all the credit card transactions as we do now. How would we go about estimating the real fraction from the results of this small sample? As you may have guessed, it really isn't possible to determine the exact fraction with 100% accuracy. What we can do, though, is define a confidence interval and quantitatively state that we are this much confident that the real fraction is within a particular range. In doing so, we shift from a deterministic realm to the stochastic realm of samples governed by probabilities.\n",
    "\n",
    "The p_fraudlent that we obtained in a previous step is a random variable whose value will change in different trials of the experiment (sampling 8% of the population). Let's say that we conduct this experiment 1000 times. How will the p_fraudlent obtained in each experiment be related to each other? Let's simulate the experiment, plot the distribution and find out."
   ]
  },
  {
   "cell_type": "code",
   "execution_count": 28,
   "metadata": {},
   "outputs": [],
   "source": [
    "p_fraudlent_samples = []\n",
    "for i in range(1000):\n",
    "    sample = data.sample(frac =0.08)\n",
    "    p_sample = len(sample[sample['Class'] == 1])/ len(sample)\n",
    "    p_fraudlent_samples.append(p_sample)"
   ]
  },
  {
   "cell_type": "code",
   "execution_count": 29,
   "metadata": {},
   "outputs": [
    {
     "data": {
      "application/vnd.plotly.v1+json": {
       "config": {
        "plotlyServerURL": "https://plot.ly"
       },
       "data": [
        {
         "alignmentgroup": "True",
         "bingroup": "x",
         "hovertemplate": "variable=0<br>value=%{x}<br>count=%{y}<extra></extra>",
         "legendgroup": "0",
         "marker": {
          "color": "#636efa",
          "pattern": {
           "shape": ""
          }
         },
         "name": "0",
         "offsetgroup": "0",
         "orientation": "v",
         "showlegend": true,
         "type": "histogram",
         "x": [
          0.002018872064955014,
          0.0018872064955014263,
          0.001184990125082291,
          0.0015360983102918587,
          0.0015799868334430546,
          0.0016238753565942505,
          0.0021944261575597983,
          0.002238314680710994,
          0.0015360983102918587,
          0.0018433179723502304,
          0.0017555409260478386,
          0.0020627605881062103,
          0.002018872064955014,
          0.0012727671713846829,
          0.0019310950186526223,
          0.0018872064955014263,
          0.0017555409260478386,
          0.0018872064955014263,
          0.0015360983102918587,
          0.0015799868334430546,
          0.002106649111257406,
          0.0017994294491990345,
          0.0017116524028966426,
          0.0017555409260478386,
          0.0015799868334430546,
          0.0014483212639894668,
          0.0015799868334430546,
          0.0019310950186526223,
          0.0014922097871406627,
          0.0019310950186526223,
          0.0016677638797454465,
          0.0015360983102918587,
          0.0014044327408382709,
          0.0014483212639894668,
          0.0015799868334430546,
          0.0020627605881062103,
          0.0012727671713846829,
          0.0015799868334430546,
          0.0017116524028966426,
          0.0018433179723502304,
          0.0019749835418038184,
          0.001228878648233487,
          0.0013605442176870747,
          0.0020627605881062103,
          0.0017116524028966426,
          0.002018872064955014,
          0.002018872064955014,
          0.0016238753565942505,
          0.0013166556945358788,
          0.0018872064955014263,
          0.002018872064955014,
          0.0014483212639894668,
          0.0020627605881062103,
          0.0019749835418038184,
          0.0016677638797454465,
          0.002018872064955014,
          0.0016677638797454465,
          0.002150537634408602,
          0.0013605442176870747,
          0.0016677638797454465,
          0.002106649111257406,
          0.0014483212639894668,
          0.0016238753565942505,
          0.0014922097871406627,
          0.002018872064955014,
          0.0016677638797454465,
          0.0017994294491990345,
          0.0015360983102918587,
          0.0010972130787798991,
          0.0015799868334430546,
          0.0016238753565942505,
          0.0016677638797454465,
          0.0015799868334430546,
          0.0019310950186526223,
          0.0014922097871406627,
          0.0019749835418038184,
          0.0017116524028966426,
          0.0014922097871406627,
          0.0014483212639894668,
          0.002150537634408602,
          0.0015360983102918587,
          0.0015799868334430546,
          0.0015360983102918587,
          0.0017116524028966426,
          0.0018872064955014263,
          0.0016677638797454465,
          0.0017555409260478386,
          0.0016238753565942505,
          0.0021944261575597983,
          0.0020627605881062103,
          0.0016238753565942505,
          0.0017994294491990345,
          0.0018433179723502304,
          0.002018872064955014,
          0.0014044327408382709,
          0.0016677638797454465,
          0.0017116524028966426,
          0.0017555409260478386,
          0.0016677638797454465,
          0.0014922097871406627,
          0.0014044327408382709,
          0.0017555409260478386,
          0.0017994294491990345,
          0.002150537634408602,
          0.0017994294491990345,
          0.001141101601931095,
          0.00228220320386219,
          0.0020627605881062103,
          0.0018872064955014263,
          0.0014922097871406627,
          0.0019749835418038184,
          0.0014922097871406627,
          0.0017994294491990345,
          0.0013166556945358788,
          0.0019310950186526223,
          0.0016677638797454465,
          0.0014483212639894668,
          0.0015360983102918587,
          0.002150537634408602,
          0.0019310950186526223,
          0.0016238753565942505,
          0.0020627605881062103,
          0.002369980250164582,
          0.0016238753565942505,
          0.0017555409260478386,
          0.0014044327408382709,
          0.0017116524028966426,
          0.0017994294491990345,
          0.0018872064955014263,
          0.0016238753565942505,
          0.0018872064955014263,
          0.0018433179723502304,
          0.0012727671713846829,
          0.0018433179723502304,
          0.002369980250164582,
          0.0019749835418038184,
          0.001141101601931095,
          0.001228878648233487,
          0.0016677638797454465,
          0.0017116524028966426,
          0.0014483212639894668,
          0.0017555409260478386,
          0.0018872064955014263,
          0.0019310950186526223,
          0.0018433179723502304,
          0.0018433179723502304,
          0.0019749835418038184,
          0.002018872064955014,
          0.0017555409260478386,
          0.0021944261575597983,
          0.0016677638797454465,
          0.0015799868334430546,
          0.0014483212639894668,
          0.0017555409260478386,
          0.0019310950186526223,
          0.0014922097871406627,
          0.0020627605881062103,
          0.0019310950186526223,
          0.0018433179723502304,
          0.0017555409260478386,
          0.0015799868334430546,
          0.0014922097871406627,
          0.0017994294491990345,
          0.0019310950186526223,
          0.002150537634408602,
          0.0017994294491990345,
          0.0014044327408382709,
          0.00228220320386219,
          0.0012727671713846829,
          0.0014922097871406627,
          0.0025455343427693657,
          0.0018872064955014263,
          0.0013605442176870747,
          0.0014483212639894668,
          0.0020627605881062103,
          0.0017994294491990345,
          0.0015360983102918587,
          0.0017994294491990345,
          0.0016238753565942505,
          0.0017116524028966426,
          0.0015799868334430546,
          0.0019749835418038184,
          0.0018872064955014263,
          0.0017994294491990345,
          0.001184990125082291,
          0.0019749835418038184,
          0.0015360983102918587,
          0.0015360983102918587,
          0.0017994294491990345,
          0.0017116524028966426,
          0.0017116524028966426,
          0.0019310950186526223,
          0.0014483212639894668,
          0.0014922097871406627,
          0.0018433179723502304,
          0.0014044327408382709,
          0.0016677638797454465,
          0.0017555409260478386,
          0.0014483212639894668,
          0.0016677638797454465,
          0.002106649111257406,
          0.0018872064955014263,
          0.0016238753565942505,
          0.001228878648233487,
          0.0015799868334430546,
          0.0014922097871406627,
          0.0013605442176870747,
          0.0015360983102918587,
          0.0013605442176870747,
          0.002106649111257406,
          0.0013166556945358788,
          0.0015799868334430546,
          0.0015799868334430546,
          0.002457757296466974,
          0.0016677638797454465,
          0.0018433179723502304,
          0.0018872064955014263,
          0.0015799868334430546,
          0.0017994294491990345,
          0.0018433179723502304,
          0.0018433179723502304,
          0.0016238753565942505,
          0.0017555409260478386,
          0.002018872064955014,
          0.0013605442176870747,
          0.0017116524028966426,
          0.002018872064955014,
          0.0018433179723502304,
          0.0017994294491990345,
          0.0019310950186526223,
          0.0019749835418038184,
          0.0021944261575597983,
          0.0016677638797454465,
          0.00228220320386219,
          0.0017994294491990345,
          0.0014044327408382709,
          0.0016238753565942505,
          0.0013605442176870747,
          0.0016238753565942505,
          0.0017994294491990345,
          0.0017116524028966426,
          0.0016677638797454465,
          0.001228878648233487,
          0.0014044327408382709,
          0.0017994294491990345,
          0.0016677638797454465,
          0.0014044327408382709,
          0.0017994294491990345,
          0.0018433179723502304,
          0.0017555409260478386,
          0.0018872064955014263,
          0.0017555409260478386,
          0.0018433179723502304,
          0.0014483212639894668,
          0.0017555409260478386,
          0.0016677638797454465,
          0.0016238753565942505,
          0.0016238753565942505,
          0.0018872064955014263,
          0.0018433179723502304,
          0.0016238753565942505,
          0.0019749835418038184,
          0.0016677638797454465,
          0.002018872064955014,
          0.0015799868334430546,
          0.0016238753565942505,
          0.0015799868334430546,
          0.002238314680710994,
          0.0019310950186526223,
          0.002238314680710994,
          0.0015799868334430546,
          0.0015360983102918587,
          0.0016677638797454465,
          0.002106649111257406,
          0.0019310950186526223,
          0.0020627605881062103,
          0.0016238753565942505,
          0.0014483212639894668,
          0.0014922097871406627,
          0.0018433179723502304,
          0.0016238753565942505,
          0.0017994294491990345,
          0.0013605442176870747,
          0.0016677638797454465,
          0.0019749835418038184,
          0.0016238753565942505,
          0.0014483212639894668,
          0.0019749835418038184,
          0.0015799868334430546,
          0.0018433179723502304,
          0.0015360983102918587,
          0.0019749835418038184,
          0.002238314680710994,
          0.0016677638797454465,
          0.0018433179723502304,
          0.0019749835418038184,
          0.0010972130787798991,
          0.0018433179723502304,
          0.0015799868334430546,
          0.0015360983102918587,
          0.0017994294491990345,
          0.0014922097871406627,
          0.0016677638797454465,
          0.0013605442176870747,
          0.0018433179723502304,
          0.0015360983102918587,
          0.0015799868334430546,
          0.0017555409260478386,
          0.0017116524028966426,
          0.0016238753565942505,
          0.0019749835418038184,
          0.0013166556945358788,
          0.0014044327408382709,
          0.0018872064955014263,
          0.0014922097871406627,
          0.0020627605881062103,
          0.0014483212639894668,
          0.0013166556945358788,
          0.002106649111257406,
          0.002018872064955014,
          0.0016677638797454465,
          0.00250164581961817,
          0.0015360983102918587,
          0.0016238753565942505,
          0.0018872064955014263,
          0.00228220320386219,
          0.0014044327408382709,
          0.0017555409260478386,
          0.0017116524028966426,
          0.002106649111257406,
          0.0016238753565942505,
          0.0017116524028966426,
          0.0016238753565942505,
          0.0017116524028966426,
          0.0018433179723502304,
          0.0017116524028966426,
          0.0016238753565942505,
          0.002106649111257406,
          0.0017555409260478386,
          0.0019749835418038184,
          0.0016677638797454465,
          0.002106649111257406,
          0.0019749835418038184,
          0.001141101601931095,
          0.0013605442176870747,
          0.0017994294491990345,
          0.0014483212639894668,
          0.002106649111257406,
          0.002238314680710994,
          0.0014483212639894668,
          0.0019310950186526223,
          0.0017116524028966426,
          0.0017116524028966426,
          0.002369980250164582,
          0.0013166556945358788,
          0.002106649111257406,
          0.0014044327408382709,
          0.0014044327408382709,
          0.0014483212639894668,
          0.0018433179723502304,
          0.0015799868334430546,
          0.0015799868334430546,
          0.0018872064955014263,
          0.002326091727013386,
          0.0017994294491990345,
          0.002238314680710994,
          0.00228220320386219,
          0.0013605442176870747,
          0.0016238753565942505,
          0.0018433179723502304,
          0.0018872064955014263,
          0.0017994294491990345,
          0.0019310950186526223,
          0.002018872064955014,
          0.0015360983102918587,
          0.002106649111257406,
          0.0015360983102918587,
          0.0015799868334430546,
          0.0015360983102918587,
          0.0014922097871406627,
          0.0015360983102918587,
          0.0015360983102918587,
          0.0015360983102918587,
          0.001228878648233487,
          0.001228878648233487,
          0.0016677638797454465,
          0.0016677638797454465,
          0.0015799868334430546,
          0.0016238753565942505,
          0.0016238753565942505,
          0.0016677638797454465,
          0.0018433179723502304,
          0.0021944261575597983,
          0.0017555409260478386,
          0.0017116524028966426,
          0.0016677638797454465,
          0.0014483212639894668,
          0.0014922097871406627,
          0.0015799868334430546,
          0.0017555409260478386,
          0.0012727671713846829,
          0.0015360983102918587,
          0.002106649111257406,
          0.0017994294491990345,
          0.0019749835418038184,
          0.0016677638797454465,
          0.002106649111257406,
          0.0017994294491990345,
          0.0017555409260478386,
          0.0015799868334430546,
          0.0015360983102918587,
          0.0017555409260478386,
          0.0017994294491990345,
          0.0015799868334430546,
          0.0017994294491990345,
          0.0012727671713846829,
          0.0014483212639894668,
          0.0016238753565942505,
          0.0021944261575597983,
          0.0016238753565942505,
          0.0013166556945358788,
          0.0016677638797454465,
          0.00228220320386219,
          0.0014922097871406627,
          0.0017555409260478386,
          0.0015360983102918587,
          0.0017994294491990345,
          0.0019749835418038184,
          0.0013166556945358788,
          0.0018433179723502304,
          0.0018872064955014263,
          0.0017555409260478386,
          0.0017994294491990345,
          0.0017555409260478386,
          0.0014044327408382709,
          0.0016238753565942505,
          0.002018872064955014,
          0.0017994294491990345,
          0.0012727671713846829,
          0.0015360983102918587,
          0.0019310950186526223,
          0.0017116524028966426,
          0.002018872064955014,
          0.0016677638797454465,
          0.0016238753565942505,
          0.0017555409260478386,
          0.0018433179723502304,
          0.0017116524028966426,
          0.0016677638797454465,
          0.0018872064955014263,
          0.0019310950186526223,
          0.0018433179723502304,
          0.0014922097871406627,
          0.0016677638797454465,
          0.002106649111257406,
          0.0018433179723502304,
          0.0014044327408382709,
          0.0013605442176870747,
          0.0015360983102918587,
          0.001228878648233487,
          0.0014922097871406627,
          0.0014922097871406627,
          0.0019310950186526223,
          0.0019310950186526223,
          0.0012727671713846829,
          0.0018433179723502304,
          0.0016677638797454465,
          0.0014922097871406627,
          0.002106649111257406,
          0.0015360983102918587,
          0.0016238753565942505,
          0.0018872064955014263,
          0.0016677638797454465,
          0.0018872064955014263,
          0.0015799868334430546,
          0.001141101601931095,
          0.002018872064955014,
          0.0016677638797454465,
          0.0018433179723502304,
          0.0016238753565942505,
          0.0014922097871406627,
          0.0017994294491990345,
          0.0016677638797454465,
          0.0014922097871406627,
          0.0020627605881062103,
          0.0016677638797454465,
          0.0015360983102918587,
          0.0016677638797454465,
          0.0017555409260478386,
          0.0017555409260478386,
          0.0016238753565942505,
          0.0015799868334430546,
          0.0018872064955014263,
          0.0015799868334430546,
          0.0016238753565942505,
          0.0018433179723502304,
          0.0018872064955014263,
          0.0017116524028966426,
          0.0015799868334430546,
          0.0012727671713846829,
          0.0015799868334430546,
          0.001141101601931095,
          0.0017555409260478386,
          0.0016238753565942505,
          0.0016238753565942505,
          0.001228878648233487,
          0.0017555409260478386,
          0.0018433179723502304,
          0.0012727671713846829,
          0.0014483212639894668,
          0.0020627605881062103,
          0.0019310950186526223,
          0.0017994294491990345,
          0.001141101601931095,
          0.0013166556945358788,
          0.0018433179723502304,
          0.0019749835418038184,
          0.0012727671713846829,
          0.002018872064955014,
          0.0019749835418038184,
          0.0017555409260478386,
          0.0019310950186526223,
          0.00228220320386219,
          0.0014483212639894668,
          0.0016238753565942505,
          0.0015799868334430546,
          0.0017116524028966426,
          0.0012727671713846829,
          0.0012727671713846829,
          0.0014044327408382709,
          0.001228878648233487,
          0.0017116524028966426,
          0.0015360983102918587,
          0.0014922097871406627,
          0.0019749835418038184,
          0.0014483212639894668,
          0.0014922097871406627,
          0.0017116524028966426,
          0.0017555409260478386,
          0.0016677638797454465,
          0.0020627605881062103,
          0.0015799868334430546,
          0.0016238753565942505,
          0.0014922097871406627,
          0.0014483212639894668,
          0.0018433179723502304,
          0.0014922097871406627,
          0.0016677638797454465,
          0.0015799868334430546,
          0.0010972130787798991,
          0.0017116524028966426,
          0.0017994294491990345,
          0.002150537634408602,
          0.0018872064955014263,
          0.001228878648233487,
          0.0018433179723502304,
          0.0018433179723502304,
          0.002238314680710994,
          0.0017116524028966426,
          0.0015799868334430546,
          0.0015799868334430546,
          0.002238314680710994,
          0.0017555409260478386,
          0.0017555409260478386,
          0.0016238753565942505,
          0.0015799868334430546,
          0.0014922097871406627,
          0.001184990125082291,
          0.0021944261575597983,
          0.0016677638797454465,
          0.0018433179723502304,
          0.002018872064955014,
          0.0013166556945358788,
          0.0019310950186526223,
          0.0017555409260478386,
          0.0012727671713846829,
          0.0018433179723502304,
          0.001184990125082291,
          0.0015799868334430546,
          0.002106649111257406,
          0.0020627605881062103,
          0.0017116524028966426,
          0.0017116524028966426,
          0.0017555409260478386,
          0.0014044327408382709,
          0.0016677638797454465,
          0.0021944261575597983,
          0.0015799868334430546,
          0.0014483212639894668,
          0.0015799868334430546,
          0.0015360983102918587,
          0.0013166556945358788,
          0.0017994294491990345,
          0.0017555409260478386,
          0.0014044327408382709,
          0.0020627605881062103,
          0.0016677638797454465,
          0.0017116524028966426,
          0.00228220320386219,
          0.0017116524028966426,
          0.0019749835418038184,
          0.0016238753565942505,
          0.0017116524028966426,
          0.0014922097871406627,
          0.0026333113890717576,
          0.0017116524028966426,
          0.0017555409260478386,
          0.0014483212639894668,
          0.001141101601931095,
          0.0016238753565942505,
          0.0019310950186526223,
          0.0016677638797454465,
          0.0018872064955014263,
          0.0015799868334430546,
          0.0016677638797454465,
          0.001228878648233487,
          0.0014483212639894668,
          0.0018872064955014263,
          0.0015360983102918587,
          0.0019310950186526223,
          0.0014483212639894668,
          0.0016238753565942505,
          0.0017116524028966426,
          0.0015799868334430546,
          0.001141101601931095,
          0.0013605442176870747,
          0.0013605442176870747,
          0.0016238753565942505,
          0.0018872064955014263,
          0.0015360983102918587,
          0.0017555409260478386,
          0.0024138687733157777,
          0.0015360983102918587,
          0.0014922097871406627,
          0.002369980250164582,
          0.0016238753565942505,
          0.0015360983102918587,
          0.002018872064955014,
          0.0017994294491990345,
          0.0015799868334430546,
          0.0015360983102918587,
          0.002018872064955014,
          0.0017116524028966426,
          0.002018872064955014,
          0.0012727671713846829,
          0.002018872064955014,
          0.0016677638797454465,
          0.002018872064955014,
          0.0014044327408382709,
          0.0017994294491990345,
          0.0016677638797454465,
          0.0019749835418038184,
          0.0016677638797454465,
          0.0016238753565942505,
          0.0017116524028966426,
          0.0017994294491990345,
          0.0015799868334430546,
          0.0018872064955014263,
          0.0014044327408382709,
          0.002018872064955014,
          0.0017116524028966426,
          0.0018433179723502304,
          0.002018872064955014,
          0.0014922097871406627,
          0.0017994294491990345,
          0.002238314680710994,
          0.0015799868334430546,
          0.0020627605881062103,
          0.0016238753565942505,
          0.0019749835418038184,
          0.0016238753565942505,
          0.0014044327408382709,
          0.0016677638797454465,
          0.0017994294491990345,
          0.0019310950186526223,
          0.0018872064955014263,
          0.0015799868334430546,
          0.0020627605881062103,
          0.0017994294491990345,
          0.0018433179723502304,
          0.0019310950186526223,
          0.0014483212639894668,
          0.0015360983102918587,
          0.0017555409260478386,
          0.0016238753565942505,
          0.0014922097871406627,
          0.0013605442176870747,
          0.0017994294491990345,
          0.0019310950186526223,
          0.0018872064955014263,
          0.0016677638797454465,
          0.0017555409260478386,
          0.0018433179723502304,
          0.0019310950186526223,
          0.0019749835418038184,
          0.0020627605881062103,
          0.001184990125082291,
          0.0018872064955014263,
          0.0018433179723502304,
          0.0018433179723502304,
          0.0017116524028966426,
          0.0017555409260478386,
          0.0018433179723502304,
          0.0013605442176870747,
          0.0017994294491990345,
          0.0017555409260478386,
          0.0018433179723502304,
          0.0017116524028966426,
          0.002018872064955014,
          0.0015360983102918587,
          0.0020627605881062103,
          0.001141101601931095,
          0.002150537634408602,
          0.0014044327408382709,
          0.0013166556945358788,
          0.0013605442176870747,
          0.0020627605881062103,
          0.0017116524028966426,
          0.0016238753565942505,
          0.0015360983102918587,
          0.002106649111257406,
          0.0021944261575597983,
          0.0019749835418038184,
          0.00228220320386219,
          0.001228878648233487,
          0.0014044327408382709,
          0.0017555409260478386,
          0.0017116524028966426,
          0.0015799868334430546,
          0.001009436032477507,
          0.0021944261575597983,
          0.0017555409260478386,
          0.0014922097871406627,
          0.0018872064955014263,
          0.0013605442176870747,
          0.0017994294491990345,
          0.0016677638797454465,
          0.0012727671713846829,
          0.0018433179723502304,
          0.0019749835418038184,
          0.0014044327408382709,
          0.001141101601931095,
          0.0015799868334430546,
          0.0017116524028966426,
          0.0019310950186526223,
          0.0018433179723502304,
          0.0017994294491990345,
          0.0020627605881062103,
          0.0017116524028966426,
          0.0014483212639894668,
          0.0018872064955014263,
          0.0017994294491990345,
          0.0015799868334430546,
          0.0017116524028966426,
          0.0017994294491990345,
          0.0013605442176870747,
          0.0019310950186526223,
          0.0013605442176870747,
          0.0014483212639894668,
          0.0020627605881062103,
          0.001141101601931095,
          0.0019749835418038184,
          0.0014483212639894668,
          0.0019749835418038184,
          0.0020627605881062103,
          0.0017555409260478386,
          0.0017555409260478386,
          0.002106649111257406,
          0.0018433179723502304,
          0.0018433179723502304,
          0.0019310950186526223,
          0.0020627605881062103,
          0.0018872064955014263,
          0.0017994294491990345,
          0.0014922097871406627,
          0.002326091727013386,
          0.0017555409260478386,
          0.0019749835418038184,
          0.0019310950186526223,
          0.0017994294491990345,
          0.0014922097871406627,
          0.0018872064955014263,
          0.0016238753565942505,
          0.0017555409260478386,
          0.0017116524028966426,
          0.0014922097871406627,
          0.002018872064955014,
          0.0013605442176870747,
          0.0017555409260478386,
          0.0014483212639894668,
          0.0014922097871406627,
          0.0016677638797454465,
          0.0016677638797454465,
          0.0016677638797454465,
          0.0017555409260478386,
          0.0020627605881062103,
          0.0012727671713846829,
          0.0016677638797454465,
          0.0019310950186526223,
          0.0016677638797454465,
          0.0016238753565942505,
          0.0017116524028966426,
          0.0017555409260478386,
          0.0019749835418038184,
          0.0014922097871406627,
          0.0013166556945358788,
          0.0016238753565942505,
          0.0019310950186526223,
          0.001141101601931095,
          0.0016677638797454465,
          0.002106649111257406,
          0.0014922097871406627,
          0.0018872064955014263,
          0.0017116524028966426,
          0.0018433179723502304,
          0.0017555409260478386,
          0.0019749835418038184,
          0.0018433179723502304,
          0.0014483212639894668,
          0.001228878648233487,
          0.002106649111257406,
          0.0019310950186526223,
          0.0018433179723502304,
          0.0015360983102918587,
          0.0016238753565942505,
          0.0017994294491990345,
          0.0014922097871406627,
          0.0018872064955014263,
          0.0020627605881062103,
          0.0016677638797454465,
          0.002106649111257406,
          0.0013166556945358788,
          0.0018433179723502304,
          0.0016238753565942505,
          0.0014922097871406627,
          0.0020627605881062103,
          0.0018433179723502304,
          0.0021944261575597983,
          0.0013605442176870747,
          0.0018433179723502304,
          0.0017116524028966426,
          0.0013605442176870747,
          0.0017116524028966426,
          0.0019310950186526223,
          0.002018872064955014,
          0.0017994294491990345,
          0.0017555409260478386,
          0.0016677638797454465,
          0.0015360983102918587,
          0.0014483212639894668,
          0.0017555409260478386,
          0.0015799868334430546,
          0.0016677638797454465,
          0.0014483212639894668,
          0.0014483212639894668,
          0.0015799868334430546,
          0.0017994294491990345,
          0.0016677638797454465,
          0.0019749835418038184,
          0.0017994294491990345,
          0.0017116524028966426,
          0.0017994294491990345,
          0.0017555409260478386,
          0.0014483212639894668,
          0.0016677638797454465,
          0.0019749835418038184,
          0.002106649111257406,
          0.0015799868334430546,
          0.0015360983102918587,
          0.0016238753565942505,
          0.0018433179723502304,
          0.0013166556945358788,
          0.0019310950186526223,
          0.0016677638797454465,
          0.0019310950186526223,
          0.0016677638797454465,
          0.0019749835418038184,
          0.0018872064955014263,
          0.002457757296466974,
          0.002326091727013386,
          0.0013605442176870747,
          0.0014483212639894668,
          0.0018433179723502304,
          0.0017994294491990345,
          0.0017116524028966426,
          0.0018872064955014263,
          0.0016238753565942505,
          0.0016677638797454465,
          0.0014483212639894668,
          0.0019749835418038184,
          0.0015360983102918587,
          0.0015360983102918587,
          0.0019749835418038184,
          0.00228220320386219,
          0.0019310950186526223,
          0.0014922097871406627,
          0.0016238753565942505,
          0.0017994294491990345,
          0.0014044327408382709,
          0.0018433179723502304,
          0.0013605442176870747,
          0.0017994294491990345,
          0.002326091727013386,
          0.001228878648233487,
          0.0016238753565942505,
          0.0015799868334430546,
          0.0017116524028966426,
          0.0015360983102918587,
          0.0014044327408382709,
          0.0014922097871406627,
          0.0016238753565942505,
          0.001228878648233487,
          0.0017994294491990345,
          0.0017994294491990345,
          0.002150537634408602,
          0.0018872064955014263,
          0.0016677638797454465,
          0.0017555409260478386,
          0.0014922097871406627,
          0.0018872064955014263,
          0.0017116524028966426,
          0.0019749835418038184,
          0.0012727671713846829,
          0.0015799868334430546,
          0.0019310950186526223,
          0.002018872064955014,
          0.0019749835418038184,
          0.0014483212639894668,
          0.0017555409260478386,
          0.002018872064955014,
          0.0018872064955014263,
          0.0016238753565942505,
          0.0017994294491990345,
          0.0015799868334430546,
          0.0016238753565942505,
          0.0017994294491990345,
          0.0018433179723502304,
          0.0016238753565942505,
          0.0017994294491990345,
          0.0017555409260478386,
          0.0017555409260478386,
          0.0017116524028966426,
          0.0014483212639894668,
          0.0014483212639894668,
          0.0015360983102918587,
          0.0019749835418038184,
          0.0017994294491990345,
          0.0017116524028966426,
          0.0017116524028966426,
          0.0019749835418038184,
          0.0017116524028966426,
          0.0013166556945358788,
          0.0017116524028966426,
          0.0017116524028966426,
          0.0016238753565942505,
          0.0018433179723502304,
          0.0019310950186526223,
          0.0016677638797454465,
          0.0015799868334430546,
          0.0014483212639894668,
          0.0017116524028966426,
          0.0014922097871406627,
          0.0019749835418038184,
          0.0012727671713846829,
          0.0018872064955014263,
          0.0017555409260478386,
          0.0019749835418038184,
          0.0016238753565942505,
          0.0017555409260478386,
          0.0014922097871406627,
          0.002018872064955014,
          0.0016677638797454465,
          0.0018872064955014263,
          0.0018872064955014263,
          0.0015799868334430546,
          0.0017994294491990345,
          0.0018872064955014263,
          0.0015799868334430546,
          0.0019749835418038184,
          0.0014922097871406627,
          0.001184990125082291,
          0.0017994294491990345,
          0.0019310950186526223,
          0.0017555409260478386,
          0.0016677638797454465,
          0.0015799868334430546,
          0.002018872064955014,
          0.0020627605881062103,
          0.0014483212639894668,
          0.0016677638797454465,
          0.0018872064955014263,
          0.0017116524028966426,
          0.002018872064955014,
          0.0016238753565942505,
          0.002150537634408602,
          0.0018433179723502304,
          0.0018872064955014263,
          0.0014483212639894668,
          0.0015360983102918587,
          0.0014044327408382709
         ],
         "xaxis": "x",
         "yaxis": "y"
        }
       ],
       "layout": {
        "barmode": "relative",
        "legend": {
         "title": {
          "text": "variable"
         },
         "tracegroupgap": 0
        },
        "margin": {
         "t": 60
        },
        "template": {
         "data": {
          "bar": [
           {
            "error_x": {
             "color": "#2a3f5f"
            },
            "error_y": {
             "color": "#2a3f5f"
            },
            "marker": {
             "line": {
              "color": "#E5ECF6",
              "width": 0.5
             },
             "pattern": {
              "fillmode": "overlay",
              "size": 10,
              "solidity": 0.2
             }
            },
            "type": "bar"
           }
          ],
          "barpolar": [
           {
            "marker": {
             "line": {
              "color": "#E5ECF6",
              "width": 0.5
             },
             "pattern": {
              "fillmode": "overlay",
              "size": 10,
              "solidity": 0.2
             }
            },
            "type": "barpolar"
           }
          ],
          "carpet": [
           {
            "aaxis": {
             "endlinecolor": "#2a3f5f",
             "gridcolor": "white",
             "linecolor": "white",
             "minorgridcolor": "white",
             "startlinecolor": "#2a3f5f"
            },
            "baxis": {
             "endlinecolor": "#2a3f5f",
             "gridcolor": "white",
             "linecolor": "white",
             "minorgridcolor": "white",
             "startlinecolor": "#2a3f5f"
            },
            "type": "carpet"
           }
          ],
          "choropleth": [
           {
            "colorbar": {
             "outlinewidth": 0,
             "ticks": ""
            },
            "type": "choropleth"
           }
          ],
          "contour": [
           {
            "colorbar": {
             "outlinewidth": 0,
             "ticks": ""
            },
            "colorscale": [
             [
              0,
              "#0d0887"
             ],
             [
              0.1111111111111111,
              "#46039f"
             ],
             [
              0.2222222222222222,
              "#7201a8"
             ],
             [
              0.3333333333333333,
              "#9c179e"
             ],
             [
              0.4444444444444444,
              "#bd3786"
             ],
             [
              0.5555555555555556,
              "#d8576b"
             ],
             [
              0.6666666666666666,
              "#ed7953"
             ],
             [
              0.7777777777777778,
              "#fb9f3a"
             ],
             [
              0.8888888888888888,
              "#fdca26"
             ],
             [
              1,
              "#f0f921"
             ]
            ],
            "type": "contour"
           }
          ],
          "contourcarpet": [
           {
            "colorbar": {
             "outlinewidth": 0,
             "ticks": ""
            },
            "type": "contourcarpet"
           }
          ],
          "heatmap": [
           {
            "colorbar": {
             "outlinewidth": 0,
             "ticks": ""
            },
            "colorscale": [
             [
              0,
              "#0d0887"
             ],
             [
              0.1111111111111111,
              "#46039f"
             ],
             [
              0.2222222222222222,
              "#7201a8"
             ],
             [
              0.3333333333333333,
              "#9c179e"
             ],
             [
              0.4444444444444444,
              "#bd3786"
             ],
             [
              0.5555555555555556,
              "#d8576b"
             ],
             [
              0.6666666666666666,
              "#ed7953"
             ],
             [
              0.7777777777777778,
              "#fb9f3a"
             ],
             [
              0.8888888888888888,
              "#fdca26"
             ],
             [
              1,
              "#f0f921"
             ]
            ],
            "type": "heatmap"
           }
          ],
          "heatmapgl": [
           {
            "colorbar": {
             "outlinewidth": 0,
             "ticks": ""
            },
            "colorscale": [
             [
              0,
              "#0d0887"
             ],
             [
              0.1111111111111111,
              "#46039f"
             ],
             [
              0.2222222222222222,
              "#7201a8"
             ],
             [
              0.3333333333333333,
              "#9c179e"
             ],
             [
              0.4444444444444444,
              "#bd3786"
             ],
             [
              0.5555555555555556,
              "#d8576b"
             ],
             [
              0.6666666666666666,
              "#ed7953"
             ],
             [
              0.7777777777777778,
              "#fb9f3a"
             ],
             [
              0.8888888888888888,
              "#fdca26"
             ],
             [
              1,
              "#f0f921"
             ]
            ],
            "type": "heatmapgl"
           }
          ],
          "histogram": [
           {
            "marker": {
             "pattern": {
              "fillmode": "overlay",
              "size": 10,
              "solidity": 0.2
             }
            },
            "type": "histogram"
           }
          ],
          "histogram2d": [
           {
            "colorbar": {
             "outlinewidth": 0,
             "ticks": ""
            },
            "colorscale": [
             [
              0,
              "#0d0887"
             ],
             [
              0.1111111111111111,
              "#46039f"
             ],
             [
              0.2222222222222222,
              "#7201a8"
             ],
             [
              0.3333333333333333,
              "#9c179e"
             ],
             [
              0.4444444444444444,
              "#bd3786"
             ],
             [
              0.5555555555555556,
              "#d8576b"
             ],
             [
              0.6666666666666666,
              "#ed7953"
             ],
             [
              0.7777777777777778,
              "#fb9f3a"
             ],
             [
              0.8888888888888888,
              "#fdca26"
             ],
             [
              1,
              "#f0f921"
             ]
            ],
            "type": "histogram2d"
           }
          ],
          "histogram2dcontour": [
           {
            "colorbar": {
             "outlinewidth": 0,
             "ticks": ""
            },
            "colorscale": [
             [
              0,
              "#0d0887"
             ],
             [
              0.1111111111111111,
              "#46039f"
             ],
             [
              0.2222222222222222,
              "#7201a8"
             ],
             [
              0.3333333333333333,
              "#9c179e"
             ],
             [
              0.4444444444444444,
              "#bd3786"
             ],
             [
              0.5555555555555556,
              "#d8576b"
             ],
             [
              0.6666666666666666,
              "#ed7953"
             ],
             [
              0.7777777777777778,
              "#fb9f3a"
             ],
             [
              0.8888888888888888,
              "#fdca26"
             ],
             [
              1,
              "#f0f921"
             ]
            ],
            "type": "histogram2dcontour"
           }
          ],
          "mesh3d": [
           {
            "colorbar": {
             "outlinewidth": 0,
             "ticks": ""
            },
            "type": "mesh3d"
           }
          ],
          "parcoords": [
           {
            "line": {
             "colorbar": {
              "outlinewidth": 0,
              "ticks": ""
             }
            },
            "type": "parcoords"
           }
          ],
          "pie": [
           {
            "automargin": true,
            "type": "pie"
           }
          ],
          "scatter": [
           {
            "fillpattern": {
             "fillmode": "overlay",
             "size": 10,
             "solidity": 0.2
            },
            "type": "scatter"
           }
          ],
          "scatter3d": [
           {
            "line": {
             "colorbar": {
              "outlinewidth": 0,
              "ticks": ""
             }
            },
            "marker": {
             "colorbar": {
              "outlinewidth": 0,
              "ticks": ""
             }
            },
            "type": "scatter3d"
           }
          ],
          "scattercarpet": [
           {
            "marker": {
             "colorbar": {
              "outlinewidth": 0,
              "ticks": ""
             }
            },
            "type": "scattercarpet"
           }
          ],
          "scattergeo": [
           {
            "marker": {
             "colorbar": {
              "outlinewidth": 0,
              "ticks": ""
             }
            },
            "type": "scattergeo"
           }
          ],
          "scattergl": [
           {
            "marker": {
             "colorbar": {
              "outlinewidth": 0,
              "ticks": ""
             }
            },
            "type": "scattergl"
           }
          ],
          "scattermapbox": [
           {
            "marker": {
             "colorbar": {
              "outlinewidth": 0,
              "ticks": ""
             }
            },
            "type": "scattermapbox"
           }
          ],
          "scatterpolar": [
           {
            "marker": {
             "colorbar": {
              "outlinewidth": 0,
              "ticks": ""
             }
            },
            "type": "scatterpolar"
           }
          ],
          "scatterpolargl": [
           {
            "marker": {
             "colorbar": {
              "outlinewidth": 0,
              "ticks": ""
             }
            },
            "type": "scatterpolargl"
           }
          ],
          "scatterternary": [
           {
            "marker": {
             "colorbar": {
              "outlinewidth": 0,
              "ticks": ""
             }
            },
            "type": "scatterternary"
           }
          ],
          "surface": [
           {
            "colorbar": {
             "outlinewidth": 0,
             "ticks": ""
            },
            "colorscale": [
             [
              0,
              "#0d0887"
             ],
             [
              0.1111111111111111,
              "#46039f"
             ],
             [
              0.2222222222222222,
              "#7201a8"
             ],
             [
              0.3333333333333333,
              "#9c179e"
             ],
             [
              0.4444444444444444,
              "#bd3786"
             ],
             [
              0.5555555555555556,
              "#d8576b"
             ],
             [
              0.6666666666666666,
              "#ed7953"
             ],
             [
              0.7777777777777778,
              "#fb9f3a"
             ],
             [
              0.8888888888888888,
              "#fdca26"
             ],
             [
              1,
              "#f0f921"
             ]
            ],
            "type": "surface"
           }
          ],
          "table": [
           {
            "cells": {
             "fill": {
              "color": "#EBF0F8"
             },
             "line": {
              "color": "white"
             }
            },
            "header": {
             "fill": {
              "color": "#C8D4E3"
             },
             "line": {
              "color": "white"
             }
            },
            "type": "table"
           }
          ]
         },
         "layout": {
          "annotationdefaults": {
           "arrowcolor": "#2a3f5f",
           "arrowhead": 0,
           "arrowwidth": 1
          },
          "autotypenumbers": "strict",
          "coloraxis": {
           "colorbar": {
            "outlinewidth": 0,
            "ticks": ""
           }
          },
          "colorscale": {
           "diverging": [
            [
             0,
             "#8e0152"
            ],
            [
             0.1,
             "#c51b7d"
            ],
            [
             0.2,
             "#de77ae"
            ],
            [
             0.3,
             "#f1b6da"
            ],
            [
             0.4,
             "#fde0ef"
            ],
            [
             0.5,
             "#f7f7f7"
            ],
            [
             0.6,
             "#e6f5d0"
            ],
            [
             0.7,
             "#b8e186"
            ],
            [
             0.8,
             "#7fbc41"
            ],
            [
             0.9,
             "#4d9221"
            ],
            [
             1,
             "#276419"
            ]
           ],
           "sequential": [
            [
             0,
             "#0d0887"
            ],
            [
             0.1111111111111111,
             "#46039f"
            ],
            [
             0.2222222222222222,
             "#7201a8"
            ],
            [
             0.3333333333333333,
             "#9c179e"
            ],
            [
             0.4444444444444444,
             "#bd3786"
            ],
            [
             0.5555555555555556,
             "#d8576b"
            ],
            [
             0.6666666666666666,
             "#ed7953"
            ],
            [
             0.7777777777777778,
             "#fb9f3a"
            ],
            [
             0.8888888888888888,
             "#fdca26"
            ],
            [
             1,
             "#f0f921"
            ]
           ],
           "sequentialminus": [
            [
             0,
             "#0d0887"
            ],
            [
             0.1111111111111111,
             "#46039f"
            ],
            [
             0.2222222222222222,
             "#7201a8"
            ],
            [
             0.3333333333333333,
             "#9c179e"
            ],
            [
             0.4444444444444444,
             "#bd3786"
            ],
            [
             0.5555555555555556,
             "#d8576b"
            ],
            [
             0.6666666666666666,
             "#ed7953"
            ],
            [
             0.7777777777777778,
             "#fb9f3a"
            ],
            [
             0.8888888888888888,
             "#fdca26"
            ],
            [
             1,
             "#f0f921"
            ]
           ]
          },
          "colorway": [
           "#636efa",
           "#EF553B",
           "#00cc96",
           "#ab63fa",
           "#FFA15A",
           "#19d3f3",
           "#FF6692",
           "#B6E880",
           "#FF97FF",
           "#FECB52"
          ],
          "font": {
           "color": "#2a3f5f"
          },
          "geo": {
           "bgcolor": "white",
           "lakecolor": "white",
           "landcolor": "#E5ECF6",
           "showlakes": true,
           "showland": true,
           "subunitcolor": "white"
          },
          "hoverlabel": {
           "align": "left"
          },
          "hovermode": "closest",
          "mapbox": {
           "style": "light"
          },
          "paper_bgcolor": "white",
          "plot_bgcolor": "#E5ECF6",
          "polar": {
           "angularaxis": {
            "gridcolor": "white",
            "linecolor": "white",
            "ticks": ""
           },
           "bgcolor": "#E5ECF6",
           "radialaxis": {
            "gridcolor": "white",
            "linecolor": "white",
            "ticks": ""
           }
          },
          "scene": {
           "xaxis": {
            "backgroundcolor": "#E5ECF6",
            "gridcolor": "white",
            "gridwidth": 2,
            "linecolor": "white",
            "showbackground": true,
            "ticks": "",
            "zerolinecolor": "white"
           },
           "yaxis": {
            "backgroundcolor": "#E5ECF6",
            "gridcolor": "white",
            "gridwidth": 2,
            "linecolor": "white",
            "showbackground": true,
            "ticks": "",
            "zerolinecolor": "white"
           },
           "zaxis": {
            "backgroundcolor": "#E5ECF6",
            "gridcolor": "white",
            "gridwidth": 2,
            "linecolor": "white",
            "showbackground": true,
            "ticks": "",
            "zerolinecolor": "white"
           }
          },
          "shapedefaults": {
           "line": {
            "color": "#2a3f5f"
           }
          },
          "ternary": {
           "aaxis": {
            "gridcolor": "white",
            "linecolor": "white",
            "ticks": ""
           },
           "baxis": {
            "gridcolor": "white",
            "linecolor": "white",
            "ticks": ""
           },
           "bgcolor": "#E5ECF6",
           "caxis": {
            "gridcolor": "white",
            "linecolor": "white",
            "ticks": ""
           }
          },
          "title": {
           "x": 0.05
          },
          "xaxis": {
           "automargin": true,
           "gridcolor": "white",
           "linecolor": "white",
           "ticks": "",
           "title": {
            "standoff": 15
           },
           "zerolinecolor": "white",
           "zerolinewidth": 2
          },
          "yaxis": {
           "automargin": true,
           "gridcolor": "white",
           "linecolor": "white",
           "ticks": "",
           "title": {
            "standoff": 15
           },
           "zerolinecolor": "white",
           "zerolinewidth": 2
          }
         }
        },
        "xaxis": {
         "anchor": "y",
         "domain": [
          0,
          1
         ],
         "title": {
          "text": "value"
         }
        },
        "yaxis": {
         "anchor": "x",
         "domain": [
          0,
          1
         ],
         "title": {
          "text": "count"
         }
        }
       }
      }
     },
     "metadata": {},
     "output_type": "display_data"
    }
   ],
   "source": [
    "px.histogram(p_fraudlent_samples)"
   ]
  },
  {
   "attachments": {},
   "cell_type": "markdown",
   "metadata": {},
   "source": [
    "As can be seen, the p's are in the form of a normal distribution. Without proof, we will represent the following results:\n",
    "\n",
    "![Alt text](image-26.png)\n",
    "\n",
    "The distribution becomes normal with p as the mean as n approaches infinity. Therefore, the accuracy of our value is only dependent on the spread of our p"
   ]
  },
  {
   "attachments": {},
   "cell_type": "markdown",
   "metadata": {},
   "source": [
    "### Reporting the results\n",
    "\n",
    "the sample size determines the accuracy of our results. As mentioned earlier, we can never be 100% accurate with the results but we can only be confident to a certain level"
   ]
  },
  {
   "cell_type": "code",
   "execution_count": 30,
   "metadata": {},
   "outputs": [],
   "source": [
    "def Z_score(frac):\n",
    "    return stats.norm.ppf(0.5 + frac/2)"
   ]
  },
  {
   "cell_type": "code",
   "execution_count": 31,
   "metadata": {},
   "outputs": [
    {
     "data": {
      "text/plain": [
       "2.5758293035489004"
      ]
     },
     "execution_count": 31,
     "metadata": {},
     "output_type": "execute_result"
    }
   ],
   "source": [
    "z = Z_score(0.99)\n",
    "z"
   ]
  },
  {
   "attachments": {},
   "cell_type": "markdown",
   "metadata": {},
   "source": [
    "**Interpretation:**\n",
    "99% of the values fall within 2.575 standard deviations."
   ]
  },
  {
   "cell_type": "code",
   "execution_count": 32,
   "metadata": {},
   "outputs": [
    {
     "data": {
      "text/plain": [
       "0.0018433179723502304"
      ]
     },
     "execution_count": 32,
     "metadata": {},
     "output_type": "execute_result"
    }
   ],
   "source": [
    "#Displaying the p_value for the fraudlent entries\n",
    "p_fraudlent"
   ]
  },
  {
   "cell_type": "code",
   "execution_count": 52,
   "metadata": {},
   "outputs": [
    {
     "data": {
      "text/plain": [
       "0.00027733163808948795"
      ]
     },
     "execution_count": 52,
     "metadata": {},
     "output_type": "execute_result"
    }
   ],
   "source": [
    "#Sigma_fraudlent is the standard deviation obtained from the variance (p_fraudlent)\n",
    "sigma_fraudlent = np.sqrt((p_fraudlent * (1 -p_fraudlent))/len(data_sample))\n",
    "sigma_fraudlent"
   ]
  },
  {
   "cell_type": "code",
   "execution_count": 34,
   "metadata": {},
   "outputs": [
    {
     "data": {
      "text/plain": [
       "(0.001111350046528809, 0.0025752858981716517)"
      ]
     },
     "execution_count": 34,
     "metadata": {},
     "output_type": "execute_result"
    }
   ],
   "source": [
    "lower_limit = p_fraudlent - z*sigma_fraudlent\n",
    "upper_limit = p_fraudlent + z*sigma_fraudlent\n",
    "lower_limit, upper_limit"
   ]
  },
  {
   "attachments": {},
   "cell_type": "markdown",
   "metadata": {},
   "source": [
    "The code provided calculates the lower and upper limits of a confidence interval for the probability of fraud in a sample. It uses the variables \"p_fraudulent\" (the probability of fraud), \"sigma_fraudulent\" (the standard deviation), and \"z\" (a value representing the desired level of confidence, confidence level at 99% whereby z is 2.75)."
   ]
  },
  {
   "attachments": {},
   "cell_type": "markdown",
   "metadata": {},
   "source": [
    "**Interpretation**:\n",
    "From the results above, we are 99% confident that the real p lies within (0.0010062639417716978, 0.0024170408640215874)\n",
    "\n",
    "**Presenting the results** <br>\n",
    "- There is a tradeoff between confidence level and range size. The higher the confidence, the larger the range.<br>\n",
    "- Increasing the sample size will lead to a reduced standard deviation and therefore, more accurate and pracitically significant results"
   ]
  },
  {
   "cell_type": "code",
   "execution_count": 53,
   "metadata": {},
   "outputs": [
    {
     "data": {
      "text/plain": [
       "0.001727485630620034"
      ]
     },
     "execution_count": 53,
     "metadata": {},
     "output_type": "execute_result"
    }
   ],
   "source": [
    "#testing if the results tally with the suggestion above by checking the percentage of fraudlent cases  of the whole dataset\n",
    "\n",
    "p = len(data[data['Class'] == 1])/len(data)\n",
    "p"
   ]
  },
  {
   "attachments": {},
   "cell_type": "markdown",
   "metadata": {},
   "source": [
    "**Observation**: The value of p does indeed fll between the range suggested above.<br>\n"
   ]
  },
  {
   "attachments": {},
   "cell_type": "markdown",
   "metadata": {},
   "source": [
    "Finally, let us check on the mean of the p's we obtained from simulating the experiment a 1000 times. From our results, we know that this mean will approach p as n approaches infinity. Therefore, we should be reasonably confident that this mean is extremely close to the value of p."
   ]
  },
  {
   "cell_type": "code",
   "execution_count": 36,
   "metadata": {},
   "outputs": [
    {
     "data": {
      "text/plain": [
       "0.001727485630620034"
      ]
     },
     "execution_count": 36,
     "metadata": {},
     "output_type": "execute_result"
    }
   ],
   "source": [
    "expected_p = len(data[data['Class'] == 1]) /len(data)\n",
    "expected_p"
   ]
  }
 ],
 "metadata": {
  "kernelspec": {
   "display_name": "Python 3",
   "language": "python",
   "name": "python3"
  },
  "language_info": {
   "codemirror_mode": {
    "name": "ipython",
    "version": 3
   },
   "file_extension": ".py",
   "mimetype": "text/x-python",
   "name": "python",
   "nbconvert_exporter": "python",
   "pygments_lexer": "ipython3",
   "version": "3.11.1"
  },
  "orig_nbformat": 4
 },
 "nbformat": 4,
 "nbformat_minor": 2
}
