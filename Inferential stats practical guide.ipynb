{
 "cells": [
  {
   "attachments": {},
   "cell_type": "markdown",
   "metadata": {},
   "source": [
    "# ICC Women's World Cup-2022, world cup 2023 Datasets\n",
    "\n",
    "*Matchwise data of ICC Womens World Cup 2022 and 2023*\n",
    "\n",
    "Source: https://www.kaggle.com/datasets/aravindas01/icc-womens-world-cup2022-dataset?resource=download\n",
    "\n",
    "### About Dataset\n",
    "\n",
    "This dataset contains the latest match-wise data of the ICC Women's World Cup 2022 as of April 3, 2022. This dataset can be used to analyse the women's World Cup series held in New Zealand.\n",
    "\n",
    "### Women World Cup 2022 Data Description\n",
    "\n",
    "**Match_id** - Match Number<br>\n",
    "**Team_1** - Name of playing team 1<br>\n",
    "**Team_2** - Name of playing team 2<br>\n",
    "**Venue** - Name of Venue<br>\n",
    "**Stage**- Tournament stage<br>\n",
    "**Toss-_winner** -Which team won the toss<br>\n",
    "**Toss_decision** - Decision chosen by toss winning captain<br>\n",
    "**First_innings_score** - Score in the first innings<br>\n",
    "**First_innings_wkts** - Wickets fallen in first innings<br>\n",
    "**Second_innings** - Score in the second innings<br>\n",
    "\n",
    "### Women World Cup 2022 Data Description\n",
    "\n",
    "Match Number<br>\n",
    "Stage<br>\n",
    "Team 1<br>\n",
    "Team 2<br>\n",
    "winning team<br>\n",
    "won by<br>"
   ]
  },
  {
   "attachments": {},
   "cell_type": "markdown",
   "metadata": {},
   "source": [
    "### Importing Libraries and loading the data"
   ]
  },
  {
   "cell_type": "code",
   "execution_count": 2,
   "metadata": {},
   "outputs": [],
   "source": [
    "%matplotlib inline\n",
    "import pandas as pd\n",
    "import numpy as np\n",
    "from scipy import stats\n",
    "import matplotlib.pyplot as plt\n",
    "import seaborn as sns"
   ]
  },
  {
   "cell_type": "code",
   "execution_count": 3,
   "metadata": {},
   "outputs": [],
   "source": [
    "df =pd.read_csv('Datasets\\WomenWorldCup2022.csv')\n",
    "df23 =pd.read_csv('Datasets\\WomenWorldCup2023.csv')"
   ]
  },
  {
   "cell_type": "code",
   "execution_count": 4,
   "metadata": {},
   "outputs": [
    {
     "data": {
      "text/html": [
       "<div>\n",
       "<style scoped>\n",
       "    .dataframe tbody tr th:only-of-type {\n",
       "        vertical-align: middle;\n",
       "    }\n",
       "\n",
       "    .dataframe tbody tr th {\n",
       "        vertical-align: top;\n",
       "    }\n",
       "\n",
       "    .dataframe thead th {\n",
       "        text-align: right;\n",
       "    }\n",
       "</style>\n",
       "<table border=\"1\" class=\"dataframe\">\n",
       "  <thead>\n",
       "    <tr style=\"text-align: right;\">\n",
       "      <th></th>\n",
       "      <th>Match_id</th>\n",
       "      <th>Team_1</th>\n",
       "      <th>Team_2</th>\n",
       "      <th>Venue</th>\n",
       "      <th>Stage</th>\n",
       "      <th>Toss_winner</th>\n",
       "      <th>Toss_decision</th>\n",
       "      <th>First_innings_score</th>\n",
       "      <th>First_innings_wkts</th>\n",
       "      <th>Second_innings_score</th>\n",
       "      <th>Second_innings_wkts</th>\n",
       "      <th>Winner</th>\n",
       "      <th>Player_of_the_match</th>\n",
       "    </tr>\n",
       "  </thead>\n",
       "  <tbody>\n",
       "    <tr>\n",
       "      <th>0</th>\n",
       "      <td>1</td>\n",
       "      <td>New Zealand</td>\n",
       "      <td>West Indies</td>\n",
       "      <td>Bay Oval, Mount Maunganui</td>\n",
       "      <td>Group</td>\n",
       "      <td>New Zealand</td>\n",
       "      <td>Field</td>\n",
       "      <td>259</td>\n",
       "      <td>9</td>\n",
       "      <td>256.0</td>\n",
       "      <td>10.0</td>\n",
       "      <td>West Indies</td>\n",
       "      <td>Hayley Matthews</td>\n",
       "    </tr>\n",
       "    <tr>\n",
       "      <th>1</th>\n",
       "      <td>2</td>\n",
       "      <td>Bangladesh</td>\n",
       "      <td>South Africa</td>\n",
       "      <td>University Oval, Dunedin</td>\n",
       "      <td>Group</td>\n",
       "      <td>Bangladesh</td>\n",
       "      <td>Field</td>\n",
       "      <td>207</td>\n",
       "      <td>10</td>\n",
       "      <td>175.0</td>\n",
       "      <td>10.0</td>\n",
       "      <td>South Africa</td>\n",
       "      <td>Ayabonga Khaka</td>\n",
       "    </tr>\n",
       "    <tr>\n",
       "      <th>2</th>\n",
       "      <td>3</td>\n",
       "      <td>Australia</td>\n",
       "      <td>England</td>\n",
       "      <td>Seddon Park, Hamilton</td>\n",
       "      <td>Group</td>\n",
       "      <td>England</td>\n",
       "      <td>Field</td>\n",
       "      <td>310</td>\n",
       "      <td>3</td>\n",
       "      <td>298.0</td>\n",
       "      <td>8.0</td>\n",
       "      <td>Australia</td>\n",
       "      <td>Rachael Haynes</td>\n",
       "    </tr>\n",
       "    <tr>\n",
       "      <th>3</th>\n",
       "      <td>4</td>\n",
       "      <td>Pakistan</td>\n",
       "      <td>India</td>\n",
       "      <td>Bay Oval, Mount Maunganui</td>\n",
       "      <td>Group</td>\n",
       "      <td>India</td>\n",
       "      <td>Bat</td>\n",
       "      <td>244</td>\n",
       "      <td>7</td>\n",
       "      <td>137.0</td>\n",
       "      <td>10.0</td>\n",
       "      <td>India</td>\n",
       "      <td>Pooja Vastrakar</td>\n",
       "    </tr>\n",
       "    <tr>\n",
       "      <th>4</th>\n",
       "      <td>5</td>\n",
       "      <td>New Zealand</td>\n",
       "      <td>Bangladesh</td>\n",
       "      <td>University Oval, Dunedin</td>\n",
       "      <td>Group</td>\n",
       "      <td>New Zealand</td>\n",
       "      <td>Field</td>\n",
       "      <td>140</td>\n",
       "      <td>8</td>\n",
       "      <td>144.0</td>\n",
       "      <td>1.0</td>\n",
       "      <td>New Zealand</td>\n",
       "      <td>Suzie Bates</td>\n",
       "    </tr>\n",
       "  </tbody>\n",
       "</table>\n",
       "</div>"
      ],
      "text/plain": [
       "   Match_id       Team_1        Team_2                      Venue  Stage  \\\n",
       "0         1  New Zealand   West Indies  Bay Oval, Mount Maunganui  Group   \n",
       "1         2   Bangladesh  South Africa   University Oval, Dunedin  Group   \n",
       "2         3    Australia       England      Seddon Park, Hamilton  Group   \n",
       "3         4     Pakistan         India  Bay Oval, Mount Maunganui  Group   \n",
       "4         5  New Zealand    Bangladesh   University Oval, Dunedin  Group   \n",
       "\n",
       "   Toss_winner Toss_decision  First_innings_score  First_innings_wkts  \\\n",
       "0  New Zealand         Field                  259                   9   \n",
       "1   Bangladesh         Field                  207                  10   \n",
       "2      England         Field                  310                   3   \n",
       "3        India           Bat                  244                   7   \n",
       "4  New Zealand         Field                  140                   8   \n",
       "\n",
       "   Second_innings_score  Second_innings_wkts        Winner Player_of_the_match  \n",
       "0                 256.0                 10.0   West Indies     Hayley Matthews  \n",
       "1                 175.0                 10.0  South Africa      Ayabonga Khaka  \n",
       "2                 298.0                  8.0     Australia      Rachael Haynes  \n",
       "3                 137.0                 10.0         India     Pooja Vastrakar  \n",
       "4                 144.0                  1.0   New Zealand         Suzie Bates  "
      ]
     },
     "execution_count": 4,
     "metadata": {},
     "output_type": "execute_result"
    }
   ],
   "source": [
    "df.head()"
   ]
  },
  {
   "attachments": {},
   "cell_type": "markdown",
   "metadata": {},
   "source": [
    "## Brief primer on Descriptive statistics\n",
    "\n",
    "### Central Tendencies\n",
    "\n",
    "The central tendencies are values which represent the central or 'typical' value of the given distribution.\n",
    "\n",
    "Three most popular central tendency estimates are mean, median and mode. Typicall we resort to using mean (for normal distributions) and median (for skewed distributions) to report central tendency values.\n",
    "\n",
    "A good rule of thumb is to use mean when outliers don't affect its value and median when it does."
   ]
  },
  {
   "cell_type": "code",
   "execution_count": 12,
   "metadata": {},
   "outputs": [
    {
     "data": {
      "text/plain": [
       "(220.74193548387098, 234.0)"
      ]
     },
     "execution_count": 12,
     "metadata": {},
     "output_type": "execute_result"
    }
   ],
   "source": [
    "#Calculating the mean and median on first innings\n",
    "First = df['First_innings_score']\n",
    "First.mean(), First.median()"
   ]
  },
  {
   "cell_type": "code",
   "execution_count": 11,
   "metadata": {},
   "outputs": [
    {
     "data": {
      "text/plain": [
       "(187.33333333333334, 184.0)"
      ]
     },
     "execution_count": 11,
     "metadata": {},
     "output_type": "execute_result"
    }
   ],
   "source": [
    "#Calculating the mean and median on second innings\n",
    "Second = df['Second_innings_score']\n",
    "Second.mean(), Second.median()"
   ]
  },
  {
   "attachments": {},
   "cell_type": "markdown",
   "metadata": {},
   "source": [
    "### Measures of Spread\n",
    "\n",
    "This is the measure of how far from the mean the values tend to go. **Variance* and *Standard Deviation* are used to quantitavely measure spread.\n",
    "\n",
    "They are dependent quantities, with the standard deviation being defined as the square root of variance."
   ]
  },
  {
   "cell_type": "code",
   "execution_count": 13,
   "metadata": {},
   "outputs": [
    {
     "data": {
      "text/plain": [
       "(5286.464516129033, 72.70807737885133)"
      ]
     },
     "execution_count": 13,
     "metadata": {},
     "output_type": "execute_result"
    }
   ],
   "source": [
    "#Calculating the variance and standard deviation of first innings\n",
    "First.var(), First.std()"
   ]
  },
  {
   "cell_type": "code",
   "execution_count": 14,
   "metadata": {},
   "outputs": [
    {
     "data": {
      "text/plain": [
       "(3566.091954022989, 59.71676443029201)"
      ]
     },
     "execution_count": 14,
     "metadata": {},
     "output_type": "execute_result"
    }
   ],
   "source": [
    "#Calculating the variance and standard deviation of second innings\n",
    "Second.var(), Second.std()"
   ]
  },
  {
   "attachments": {},
   "cell_type": "markdown",
   "metadata": {},
   "source": [
    "The mean and the standard deviation are often the best quantities to summarize the data for distributions with symmetrical histograms without too many outliers.\n",
    "\n",
    "The mean and standard deviation measures are sufficient information and other tendencies such as median does not add too much extra information"
   ]
  },
  {
   "cell_type": "code",
   "execution_count": 31,
   "metadata": {},
   "outputs": [
    {
     "data": {
      "application/vnd.plotly.v1+json": {
       "config": {
        "plotlyServerURL": "https://plot.ly"
       },
       "data": [
        {
         "alignmentgroup": "True",
         "bingroup": "x",
         "hovertemplate": "variable=First_innings_score<br>value=%{x}<br>count=%{y}<extra></extra>",
         "legendgroup": "First_innings_score",
         "marker": {
          "color": "#636efa",
          "pattern": {
           "shape": ""
          }
         },
         "name": "First_innings_score",
         "offsetgroup": "First_innings_score",
         "orientation": "v",
         "showlegend": true,
         "type": "histogram",
         "x": [
          259,
          207,
          310,
          244,
          140,
          190,
          225,
          260,
          223,
          317,
          269,
          234,
          235,
          131,
          134,
          228,
          140,
          277,
          203,
          89,
          271,
          229,
          61,
          105,
          135,
          265,
          234,
          274,
          305,
          293,
          356
         ],
         "xaxis": "x",
         "yaxis": "y"
        }
       ],
       "layout": {
        "barmode": "relative",
        "legend": {
         "title": {
          "text": "variable"
         },
         "tracegroupgap": 0
        },
        "margin": {
         "t": 60
        },
        "template": {
         "data": {
          "bar": [
           {
            "error_x": {
             "color": "#2a3f5f"
            },
            "error_y": {
             "color": "#2a3f5f"
            },
            "marker": {
             "line": {
              "color": "#E5ECF6",
              "width": 0.5
             },
             "pattern": {
              "fillmode": "overlay",
              "size": 10,
              "solidity": 0.2
             }
            },
            "type": "bar"
           }
          ],
          "barpolar": [
           {
            "marker": {
             "line": {
              "color": "#E5ECF6",
              "width": 0.5
             },
             "pattern": {
              "fillmode": "overlay",
              "size": 10,
              "solidity": 0.2
             }
            },
            "type": "barpolar"
           }
          ],
          "carpet": [
           {
            "aaxis": {
             "endlinecolor": "#2a3f5f",
             "gridcolor": "white",
             "linecolor": "white",
             "minorgridcolor": "white",
             "startlinecolor": "#2a3f5f"
            },
            "baxis": {
             "endlinecolor": "#2a3f5f",
             "gridcolor": "white",
             "linecolor": "white",
             "minorgridcolor": "white",
             "startlinecolor": "#2a3f5f"
            },
            "type": "carpet"
           }
          ],
          "choropleth": [
           {
            "colorbar": {
             "outlinewidth": 0,
             "ticks": ""
            },
            "type": "choropleth"
           }
          ],
          "contour": [
           {
            "colorbar": {
             "outlinewidth": 0,
             "ticks": ""
            },
            "colorscale": [
             [
              0,
              "#0d0887"
             ],
             [
              0.1111111111111111,
              "#46039f"
             ],
             [
              0.2222222222222222,
              "#7201a8"
             ],
             [
              0.3333333333333333,
              "#9c179e"
             ],
             [
              0.4444444444444444,
              "#bd3786"
             ],
             [
              0.5555555555555556,
              "#d8576b"
             ],
             [
              0.6666666666666666,
              "#ed7953"
             ],
             [
              0.7777777777777778,
              "#fb9f3a"
             ],
             [
              0.8888888888888888,
              "#fdca26"
             ],
             [
              1,
              "#f0f921"
             ]
            ],
            "type": "contour"
           }
          ],
          "contourcarpet": [
           {
            "colorbar": {
             "outlinewidth": 0,
             "ticks": ""
            },
            "type": "contourcarpet"
           }
          ],
          "heatmap": [
           {
            "colorbar": {
             "outlinewidth": 0,
             "ticks": ""
            },
            "colorscale": [
             [
              0,
              "#0d0887"
             ],
             [
              0.1111111111111111,
              "#46039f"
             ],
             [
              0.2222222222222222,
              "#7201a8"
             ],
             [
              0.3333333333333333,
              "#9c179e"
             ],
             [
              0.4444444444444444,
              "#bd3786"
             ],
             [
              0.5555555555555556,
              "#d8576b"
             ],
             [
              0.6666666666666666,
              "#ed7953"
             ],
             [
              0.7777777777777778,
              "#fb9f3a"
             ],
             [
              0.8888888888888888,
              "#fdca26"
             ],
             [
              1,
              "#f0f921"
             ]
            ],
            "type": "heatmap"
           }
          ],
          "heatmapgl": [
           {
            "colorbar": {
             "outlinewidth": 0,
             "ticks": ""
            },
            "colorscale": [
             [
              0,
              "#0d0887"
             ],
             [
              0.1111111111111111,
              "#46039f"
             ],
             [
              0.2222222222222222,
              "#7201a8"
             ],
             [
              0.3333333333333333,
              "#9c179e"
             ],
             [
              0.4444444444444444,
              "#bd3786"
             ],
             [
              0.5555555555555556,
              "#d8576b"
             ],
             [
              0.6666666666666666,
              "#ed7953"
             ],
             [
              0.7777777777777778,
              "#fb9f3a"
             ],
             [
              0.8888888888888888,
              "#fdca26"
             ],
             [
              1,
              "#f0f921"
             ]
            ],
            "type": "heatmapgl"
           }
          ],
          "histogram": [
           {
            "marker": {
             "pattern": {
              "fillmode": "overlay",
              "size": 10,
              "solidity": 0.2
             }
            },
            "type": "histogram"
           }
          ],
          "histogram2d": [
           {
            "colorbar": {
             "outlinewidth": 0,
             "ticks": ""
            },
            "colorscale": [
             [
              0,
              "#0d0887"
             ],
             [
              0.1111111111111111,
              "#46039f"
             ],
             [
              0.2222222222222222,
              "#7201a8"
             ],
             [
              0.3333333333333333,
              "#9c179e"
             ],
             [
              0.4444444444444444,
              "#bd3786"
             ],
             [
              0.5555555555555556,
              "#d8576b"
             ],
             [
              0.6666666666666666,
              "#ed7953"
             ],
             [
              0.7777777777777778,
              "#fb9f3a"
             ],
             [
              0.8888888888888888,
              "#fdca26"
             ],
             [
              1,
              "#f0f921"
             ]
            ],
            "type": "histogram2d"
           }
          ],
          "histogram2dcontour": [
           {
            "colorbar": {
             "outlinewidth": 0,
             "ticks": ""
            },
            "colorscale": [
             [
              0,
              "#0d0887"
             ],
             [
              0.1111111111111111,
              "#46039f"
             ],
             [
              0.2222222222222222,
              "#7201a8"
             ],
             [
              0.3333333333333333,
              "#9c179e"
             ],
             [
              0.4444444444444444,
              "#bd3786"
             ],
             [
              0.5555555555555556,
              "#d8576b"
             ],
             [
              0.6666666666666666,
              "#ed7953"
             ],
             [
              0.7777777777777778,
              "#fb9f3a"
             ],
             [
              0.8888888888888888,
              "#fdca26"
             ],
             [
              1,
              "#f0f921"
             ]
            ],
            "type": "histogram2dcontour"
           }
          ],
          "mesh3d": [
           {
            "colorbar": {
             "outlinewidth": 0,
             "ticks": ""
            },
            "type": "mesh3d"
           }
          ],
          "parcoords": [
           {
            "line": {
             "colorbar": {
              "outlinewidth": 0,
              "ticks": ""
             }
            },
            "type": "parcoords"
           }
          ],
          "pie": [
           {
            "automargin": true,
            "type": "pie"
           }
          ],
          "scatter": [
           {
            "fillpattern": {
             "fillmode": "overlay",
             "size": 10,
             "solidity": 0.2
            },
            "type": "scatter"
           }
          ],
          "scatter3d": [
           {
            "line": {
             "colorbar": {
              "outlinewidth": 0,
              "ticks": ""
             }
            },
            "marker": {
             "colorbar": {
              "outlinewidth": 0,
              "ticks": ""
             }
            },
            "type": "scatter3d"
           }
          ],
          "scattercarpet": [
           {
            "marker": {
             "colorbar": {
              "outlinewidth": 0,
              "ticks": ""
             }
            },
            "type": "scattercarpet"
           }
          ],
          "scattergeo": [
           {
            "marker": {
             "colorbar": {
              "outlinewidth": 0,
              "ticks": ""
             }
            },
            "type": "scattergeo"
           }
          ],
          "scattergl": [
           {
            "marker": {
             "colorbar": {
              "outlinewidth": 0,
              "ticks": ""
             }
            },
            "type": "scattergl"
           }
          ],
          "scattermapbox": [
           {
            "marker": {
             "colorbar": {
              "outlinewidth": 0,
              "ticks": ""
             }
            },
            "type": "scattermapbox"
           }
          ],
          "scatterpolar": [
           {
            "marker": {
             "colorbar": {
              "outlinewidth": 0,
              "ticks": ""
             }
            },
            "type": "scatterpolar"
           }
          ],
          "scatterpolargl": [
           {
            "marker": {
             "colorbar": {
              "outlinewidth": 0,
              "ticks": ""
             }
            },
            "type": "scatterpolargl"
           }
          ],
          "scatterternary": [
           {
            "marker": {
             "colorbar": {
              "outlinewidth": 0,
              "ticks": ""
             }
            },
            "type": "scatterternary"
           }
          ],
          "surface": [
           {
            "colorbar": {
             "outlinewidth": 0,
             "ticks": ""
            },
            "colorscale": [
             [
              0,
              "#0d0887"
             ],
             [
              0.1111111111111111,
              "#46039f"
             ],
             [
              0.2222222222222222,
              "#7201a8"
             ],
             [
              0.3333333333333333,
              "#9c179e"
             ],
             [
              0.4444444444444444,
              "#bd3786"
             ],
             [
              0.5555555555555556,
              "#d8576b"
             ],
             [
              0.6666666666666666,
              "#ed7953"
             ],
             [
              0.7777777777777778,
              "#fb9f3a"
             ],
             [
              0.8888888888888888,
              "#fdca26"
             ],
             [
              1,
              "#f0f921"
             ]
            ],
            "type": "surface"
           }
          ],
          "table": [
           {
            "cells": {
             "fill": {
              "color": "#EBF0F8"
             },
             "line": {
              "color": "white"
             }
            },
            "header": {
             "fill": {
              "color": "#C8D4E3"
             },
             "line": {
              "color": "white"
             }
            },
            "type": "table"
           }
          ]
         },
         "layout": {
          "annotationdefaults": {
           "arrowcolor": "#2a3f5f",
           "arrowhead": 0,
           "arrowwidth": 1
          },
          "autotypenumbers": "strict",
          "coloraxis": {
           "colorbar": {
            "outlinewidth": 0,
            "ticks": ""
           }
          },
          "colorscale": {
           "diverging": [
            [
             0,
             "#8e0152"
            ],
            [
             0.1,
             "#c51b7d"
            ],
            [
             0.2,
             "#de77ae"
            ],
            [
             0.3,
             "#f1b6da"
            ],
            [
             0.4,
             "#fde0ef"
            ],
            [
             0.5,
             "#f7f7f7"
            ],
            [
             0.6,
             "#e6f5d0"
            ],
            [
             0.7,
             "#b8e186"
            ],
            [
             0.8,
             "#7fbc41"
            ],
            [
             0.9,
             "#4d9221"
            ],
            [
             1,
             "#276419"
            ]
           ],
           "sequential": [
            [
             0,
             "#0d0887"
            ],
            [
             0.1111111111111111,
             "#46039f"
            ],
            [
             0.2222222222222222,
             "#7201a8"
            ],
            [
             0.3333333333333333,
             "#9c179e"
            ],
            [
             0.4444444444444444,
             "#bd3786"
            ],
            [
             0.5555555555555556,
             "#d8576b"
            ],
            [
             0.6666666666666666,
             "#ed7953"
            ],
            [
             0.7777777777777778,
             "#fb9f3a"
            ],
            [
             0.8888888888888888,
             "#fdca26"
            ],
            [
             1,
             "#f0f921"
            ]
           ],
           "sequentialminus": [
            [
             0,
             "#0d0887"
            ],
            [
             0.1111111111111111,
             "#46039f"
            ],
            [
             0.2222222222222222,
             "#7201a8"
            ],
            [
             0.3333333333333333,
             "#9c179e"
            ],
            [
             0.4444444444444444,
             "#bd3786"
            ],
            [
             0.5555555555555556,
             "#d8576b"
            ],
            [
             0.6666666666666666,
             "#ed7953"
            ],
            [
             0.7777777777777778,
             "#fb9f3a"
            ],
            [
             0.8888888888888888,
             "#fdca26"
            ],
            [
             1,
             "#f0f921"
            ]
           ]
          },
          "colorway": [
           "#636efa",
           "#EF553B",
           "#00cc96",
           "#ab63fa",
           "#FFA15A",
           "#19d3f3",
           "#FF6692",
           "#B6E880",
           "#FF97FF",
           "#FECB52"
          ],
          "font": {
           "color": "#2a3f5f"
          },
          "geo": {
           "bgcolor": "white",
           "lakecolor": "white",
           "landcolor": "#E5ECF6",
           "showlakes": true,
           "showland": true,
           "subunitcolor": "white"
          },
          "hoverlabel": {
           "align": "left"
          },
          "hovermode": "closest",
          "mapbox": {
           "style": "light"
          },
          "paper_bgcolor": "white",
          "plot_bgcolor": "#E5ECF6",
          "polar": {
           "angularaxis": {
            "gridcolor": "white",
            "linecolor": "white",
            "ticks": ""
           },
           "bgcolor": "#E5ECF6",
           "radialaxis": {
            "gridcolor": "white",
            "linecolor": "white",
            "ticks": ""
           }
          },
          "scene": {
           "xaxis": {
            "backgroundcolor": "#E5ECF6",
            "gridcolor": "white",
            "gridwidth": 2,
            "linecolor": "white",
            "showbackground": true,
            "ticks": "",
            "zerolinecolor": "white"
           },
           "yaxis": {
            "backgroundcolor": "#E5ECF6",
            "gridcolor": "white",
            "gridwidth": 2,
            "linecolor": "white",
            "showbackground": true,
            "ticks": "",
            "zerolinecolor": "white"
           },
           "zaxis": {
            "backgroundcolor": "#E5ECF6",
            "gridcolor": "white",
            "gridwidth": 2,
            "linecolor": "white",
            "showbackground": true,
            "ticks": "",
            "zerolinecolor": "white"
           }
          },
          "shapedefaults": {
           "line": {
            "color": "#2a3f5f"
           }
          },
          "ternary": {
           "aaxis": {
            "gridcolor": "white",
            "linecolor": "white",
            "ticks": ""
           },
           "baxis": {
            "gridcolor": "white",
            "linecolor": "white",
            "ticks": ""
           },
           "bgcolor": "#E5ECF6",
           "caxis": {
            "gridcolor": "white",
            "linecolor": "white",
            "ticks": ""
           }
          },
          "title": {
           "x": 0.05
          },
          "xaxis": {
           "automargin": true,
           "gridcolor": "white",
           "linecolor": "white",
           "ticks": "",
           "title": {
            "standoff": 15
           },
           "zerolinecolor": "white",
           "zerolinewidth": 2
          },
          "yaxis": {
           "automargin": true,
           "gridcolor": "white",
           "linecolor": "white",
           "ticks": "",
           "title": {
            "standoff": 15
           },
           "zerolinecolor": "white",
           "zerolinewidth": 2
          }
         }
        },
        "xaxis": {
         "anchor": "y",
         "domain": [
          0,
          1
         ],
         "title": {
          "text": "value"
         }
        },
        "yaxis": {
         "anchor": "x",
         "domain": [
          0,
          1
         ],
         "title": {
          "text": "count"
         }
        }
       }
      }
     },
     "metadata": {},
     "output_type": "display_data"
    }
   ],
   "source": [
    "#Histogram for first innings\n",
    "import plotly.express as px \n",
    "px.histogram(First)                      "
   ]
  },
  {
   "cell_type": "code",
   "execution_count": 21,
   "metadata": {},
   "outputs": [
    {
     "data": {
      "application/vnd.plotly.v1+json": {
       "config": {
        "plotlyServerURL": "https://plot.ly"
       },
       "data": [
        {
         "alignmentgroup": "True",
         "bingroup": "x",
         "hovertemplate": "variable=Second_innings_score<br>value=%{x}<br>count=%{y}<extra></extra>",
         "legendgroup": "Second_innings_score",
         "marker": {
          "color": "#636efa",
          "pattern": {
           "shape": ""
          }
         },
         "name": "Second_innings_score",
         "offsetgroup": "Second_innings_score",
         "orientation": "v",
         "showlegend": true,
         "type": "histogram",
         "x": [
          256,
          175,
          298,
          137,
          144,
          193,
          218,
          198,
          217,
          162,
          128,
          225,
          236,
          132,
          136,
          229,
          136,
          280,
          204,
          90,
          272,
          119,
          null,
          107,
          136,
          194,
          134,
          275,
          148,
          156,
          285
         ],
         "xaxis": "x",
         "yaxis": "y"
        }
       ],
       "layout": {
        "barmode": "relative",
        "legend": {
         "title": {
          "text": "variable"
         },
         "tracegroupgap": 0
        },
        "margin": {
         "t": 60
        },
        "template": {
         "data": {
          "bar": [
           {
            "error_x": {
             "color": "#2a3f5f"
            },
            "error_y": {
             "color": "#2a3f5f"
            },
            "marker": {
             "line": {
              "color": "#E5ECF6",
              "width": 0.5
             },
             "pattern": {
              "fillmode": "overlay",
              "size": 10,
              "solidity": 0.2
             }
            },
            "type": "bar"
           }
          ],
          "barpolar": [
           {
            "marker": {
             "line": {
              "color": "#E5ECF6",
              "width": 0.5
             },
             "pattern": {
              "fillmode": "overlay",
              "size": 10,
              "solidity": 0.2
             }
            },
            "type": "barpolar"
           }
          ],
          "carpet": [
           {
            "aaxis": {
             "endlinecolor": "#2a3f5f",
             "gridcolor": "white",
             "linecolor": "white",
             "minorgridcolor": "white",
             "startlinecolor": "#2a3f5f"
            },
            "baxis": {
             "endlinecolor": "#2a3f5f",
             "gridcolor": "white",
             "linecolor": "white",
             "minorgridcolor": "white",
             "startlinecolor": "#2a3f5f"
            },
            "type": "carpet"
           }
          ],
          "choropleth": [
           {
            "colorbar": {
             "outlinewidth": 0,
             "ticks": ""
            },
            "type": "choropleth"
           }
          ],
          "contour": [
           {
            "colorbar": {
             "outlinewidth": 0,
             "ticks": ""
            },
            "colorscale": [
             [
              0,
              "#0d0887"
             ],
             [
              0.1111111111111111,
              "#46039f"
             ],
             [
              0.2222222222222222,
              "#7201a8"
             ],
             [
              0.3333333333333333,
              "#9c179e"
             ],
             [
              0.4444444444444444,
              "#bd3786"
             ],
             [
              0.5555555555555556,
              "#d8576b"
             ],
             [
              0.6666666666666666,
              "#ed7953"
             ],
             [
              0.7777777777777778,
              "#fb9f3a"
             ],
             [
              0.8888888888888888,
              "#fdca26"
             ],
             [
              1,
              "#f0f921"
             ]
            ],
            "type": "contour"
           }
          ],
          "contourcarpet": [
           {
            "colorbar": {
             "outlinewidth": 0,
             "ticks": ""
            },
            "type": "contourcarpet"
           }
          ],
          "heatmap": [
           {
            "colorbar": {
             "outlinewidth": 0,
             "ticks": ""
            },
            "colorscale": [
             [
              0,
              "#0d0887"
             ],
             [
              0.1111111111111111,
              "#46039f"
             ],
             [
              0.2222222222222222,
              "#7201a8"
             ],
             [
              0.3333333333333333,
              "#9c179e"
             ],
             [
              0.4444444444444444,
              "#bd3786"
             ],
             [
              0.5555555555555556,
              "#d8576b"
             ],
             [
              0.6666666666666666,
              "#ed7953"
             ],
             [
              0.7777777777777778,
              "#fb9f3a"
             ],
             [
              0.8888888888888888,
              "#fdca26"
             ],
             [
              1,
              "#f0f921"
             ]
            ],
            "type": "heatmap"
           }
          ],
          "heatmapgl": [
           {
            "colorbar": {
             "outlinewidth": 0,
             "ticks": ""
            },
            "colorscale": [
             [
              0,
              "#0d0887"
             ],
             [
              0.1111111111111111,
              "#46039f"
             ],
             [
              0.2222222222222222,
              "#7201a8"
             ],
             [
              0.3333333333333333,
              "#9c179e"
             ],
             [
              0.4444444444444444,
              "#bd3786"
             ],
             [
              0.5555555555555556,
              "#d8576b"
             ],
             [
              0.6666666666666666,
              "#ed7953"
             ],
             [
              0.7777777777777778,
              "#fb9f3a"
             ],
             [
              0.8888888888888888,
              "#fdca26"
             ],
             [
              1,
              "#f0f921"
             ]
            ],
            "type": "heatmapgl"
           }
          ],
          "histogram": [
           {
            "marker": {
             "pattern": {
              "fillmode": "overlay",
              "size": 10,
              "solidity": 0.2
             }
            },
            "type": "histogram"
           }
          ],
          "histogram2d": [
           {
            "colorbar": {
             "outlinewidth": 0,
             "ticks": ""
            },
            "colorscale": [
             [
              0,
              "#0d0887"
             ],
             [
              0.1111111111111111,
              "#46039f"
             ],
             [
              0.2222222222222222,
              "#7201a8"
             ],
             [
              0.3333333333333333,
              "#9c179e"
             ],
             [
              0.4444444444444444,
              "#bd3786"
             ],
             [
              0.5555555555555556,
              "#d8576b"
             ],
             [
              0.6666666666666666,
              "#ed7953"
             ],
             [
              0.7777777777777778,
              "#fb9f3a"
             ],
             [
              0.8888888888888888,
              "#fdca26"
             ],
             [
              1,
              "#f0f921"
             ]
            ],
            "type": "histogram2d"
           }
          ],
          "histogram2dcontour": [
           {
            "colorbar": {
             "outlinewidth": 0,
             "ticks": ""
            },
            "colorscale": [
             [
              0,
              "#0d0887"
             ],
             [
              0.1111111111111111,
              "#46039f"
             ],
             [
              0.2222222222222222,
              "#7201a8"
             ],
             [
              0.3333333333333333,
              "#9c179e"
             ],
             [
              0.4444444444444444,
              "#bd3786"
             ],
             [
              0.5555555555555556,
              "#d8576b"
             ],
             [
              0.6666666666666666,
              "#ed7953"
             ],
             [
              0.7777777777777778,
              "#fb9f3a"
             ],
             [
              0.8888888888888888,
              "#fdca26"
             ],
             [
              1,
              "#f0f921"
             ]
            ],
            "type": "histogram2dcontour"
           }
          ],
          "mesh3d": [
           {
            "colorbar": {
             "outlinewidth": 0,
             "ticks": ""
            },
            "type": "mesh3d"
           }
          ],
          "parcoords": [
           {
            "line": {
             "colorbar": {
              "outlinewidth": 0,
              "ticks": ""
             }
            },
            "type": "parcoords"
           }
          ],
          "pie": [
           {
            "automargin": true,
            "type": "pie"
           }
          ],
          "scatter": [
           {
            "fillpattern": {
             "fillmode": "overlay",
             "size": 10,
             "solidity": 0.2
            },
            "type": "scatter"
           }
          ],
          "scatter3d": [
           {
            "line": {
             "colorbar": {
              "outlinewidth": 0,
              "ticks": ""
             }
            },
            "marker": {
             "colorbar": {
              "outlinewidth": 0,
              "ticks": ""
             }
            },
            "type": "scatter3d"
           }
          ],
          "scattercarpet": [
           {
            "marker": {
             "colorbar": {
              "outlinewidth": 0,
              "ticks": ""
             }
            },
            "type": "scattercarpet"
           }
          ],
          "scattergeo": [
           {
            "marker": {
             "colorbar": {
              "outlinewidth": 0,
              "ticks": ""
             }
            },
            "type": "scattergeo"
           }
          ],
          "scattergl": [
           {
            "marker": {
             "colorbar": {
              "outlinewidth": 0,
              "ticks": ""
             }
            },
            "type": "scattergl"
           }
          ],
          "scattermapbox": [
           {
            "marker": {
             "colorbar": {
              "outlinewidth": 0,
              "ticks": ""
             }
            },
            "type": "scattermapbox"
           }
          ],
          "scatterpolar": [
           {
            "marker": {
             "colorbar": {
              "outlinewidth": 0,
              "ticks": ""
             }
            },
            "type": "scatterpolar"
           }
          ],
          "scatterpolargl": [
           {
            "marker": {
             "colorbar": {
              "outlinewidth": 0,
              "ticks": ""
             }
            },
            "type": "scatterpolargl"
           }
          ],
          "scatterternary": [
           {
            "marker": {
             "colorbar": {
              "outlinewidth": 0,
              "ticks": ""
             }
            },
            "type": "scatterternary"
           }
          ],
          "surface": [
           {
            "colorbar": {
             "outlinewidth": 0,
             "ticks": ""
            },
            "colorscale": [
             [
              0,
              "#0d0887"
             ],
             [
              0.1111111111111111,
              "#46039f"
             ],
             [
              0.2222222222222222,
              "#7201a8"
             ],
             [
              0.3333333333333333,
              "#9c179e"
             ],
             [
              0.4444444444444444,
              "#bd3786"
             ],
             [
              0.5555555555555556,
              "#d8576b"
             ],
             [
              0.6666666666666666,
              "#ed7953"
             ],
             [
              0.7777777777777778,
              "#fb9f3a"
             ],
             [
              0.8888888888888888,
              "#fdca26"
             ],
             [
              1,
              "#f0f921"
             ]
            ],
            "type": "surface"
           }
          ],
          "table": [
           {
            "cells": {
             "fill": {
              "color": "#EBF0F8"
             },
             "line": {
              "color": "white"
             }
            },
            "header": {
             "fill": {
              "color": "#C8D4E3"
             },
             "line": {
              "color": "white"
             }
            },
            "type": "table"
           }
          ]
         },
         "layout": {
          "annotationdefaults": {
           "arrowcolor": "#2a3f5f",
           "arrowhead": 0,
           "arrowwidth": 1
          },
          "autotypenumbers": "strict",
          "coloraxis": {
           "colorbar": {
            "outlinewidth": 0,
            "ticks": ""
           }
          },
          "colorscale": {
           "diverging": [
            [
             0,
             "#8e0152"
            ],
            [
             0.1,
             "#c51b7d"
            ],
            [
             0.2,
             "#de77ae"
            ],
            [
             0.3,
             "#f1b6da"
            ],
            [
             0.4,
             "#fde0ef"
            ],
            [
             0.5,
             "#f7f7f7"
            ],
            [
             0.6,
             "#e6f5d0"
            ],
            [
             0.7,
             "#b8e186"
            ],
            [
             0.8,
             "#7fbc41"
            ],
            [
             0.9,
             "#4d9221"
            ],
            [
             1,
             "#276419"
            ]
           ],
           "sequential": [
            [
             0,
             "#0d0887"
            ],
            [
             0.1111111111111111,
             "#46039f"
            ],
            [
             0.2222222222222222,
             "#7201a8"
            ],
            [
             0.3333333333333333,
             "#9c179e"
            ],
            [
             0.4444444444444444,
             "#bd3786"
            ],
            [
             0.5555555555555556,
             "#d8576b"
            ],
            [
             0.6666666666666666,
             "#ed7953"
            ],
            [
             0.7777777777777778,
             "#fb9f3a"
            ],
            [
             0.8888888888888888,
             "#fdca26"
            ],
            [
             1,
             "#f0f921"
            ]
           ],
           "sequentialminus": [
            [
             0,
             "#0d0887"
            ],
            [
             0.1111111111111111,
             "#46039f"
            ],
            [
             0.2222222222222222,
             "#7201a8"
            ],
            [
             0.3333333333333333,
             "#9c179e"
            ],
            [
             0.4444444444444444,
             "#bd3786"
            ],
            [
             0.5555555555555556,
             "#d8576b"
            ],
            [
             0.6666666666666666,
             "#ed7953"
            ],
            [
             0.7777777777777778,
             "#fb9f3a"
            ],
            [
             0.8888888888888888,
             "#fdca26"
            ],
            [
             1,
             "#f0f921"
            ]
           ]
          },
          "colorway": [
           "#636efa",
           "#EF553B",
           "#00cc96",
           "#ab63fa",
           "#FFA15A",
           "#19d3f3",
           "#FF6692",
           "#B6E880",
           "#FF97FF",
           "#FECB52"
          ],
          "font": {
           "color": "#2a3f5f"
          },
          "geo": {
           "bgcolor": "white",
           "lakecolor": "white",
           "landcolor": "#E5ECF6",
           "showlakes": true,
           "showland": true,
           "subunitcolor": "white"
          },
          "hoverlabel": {
           "align": "left"
          },
          "hovermode": "closest",
          "mapbox": {
           "style": "light"
          },
          "paper_bgcolor": "white",
          "plot_bgcolor": "#E5ECF6",
          "polar": {
           "angularaxis": {
            "gridcolor": "white",
            "linecolor": "white",
            "ticks": ""
           },
           "bgcolor": "#E5ECF6",
           "radialaxis": {
            "gridcolor": "white",
            "linecolor": "white",
            "ticks": ""
           }
          },
          "scene": {
           "xaxis": {
            "backgroundcolor": "#E5ECF6",
            "gridcolor": "white",
            "gridwidth": 2,
            "linecolor": "white",
            "showbackground": true,
            "ticks": "",
            "zerolinecolor": "white"
           },
           "yaxis": {
            "backgroundcolor": "#E5ECF6",
            "gridcolor": "white",
            "gridwidth": 2,
            "linecolor": "white",
            "showbackground": true,
            "ticks": "",
            "zerolinecolor": "white"
           },
           "zaxis": {
            "backgroundcolor": "#E5ECF6",
            "gridcolor": "white",
            "gridwidth": 2,
            "linecolor": "white",
            "showbackground": true,
            "ticks": "",
            "zerolinecolor": "white"
           }
          },
          "shapedefaults": {
           "line": {
            "color": "#2a3f5f"
           }
          },
          "ternary": {
           "aaxis": {
            "gridcolor": "white",
            "linecolor": "white",
            "ticks": ""
           },
           "baxis": {
            "gridcolor": "white",
            "linecolor": "white",
            "ticks": ""
           },
           "bgcolor": "#E5ECF6",
           "caxis": {
            "gridcolor": "white",
            "linecolor": "white",
            "ticks": ""
           }
          },
          "title": {
           "x": 0.05
          },
          "xaxis": {
           "automargin": true,
           "gridcolor": "white",
           "linecolor": "white",
           "ticks": "",
           "title": {
            "standoff": 15
           },
           "zerolinecolor": "white",
           "zerolinewidth": 2
          },
          "yaxis": {
           "automargin": true,
           "gridcolor": "white",
           "linecolor": "white",
           "ticks": "",
           "title": {
            "standoff": 15
           },
           "zerolinecolor": "white",
           "zerolinewidth": 2
          }
         }
        },
        "xaxis": {
         "anchor": "y",
         "domain": [
          0,
          1
         ],
         "title": {
          "text": "value"
         }
        },
        "yaxis": {
         "anchor": "x",
         "domain": [
          0,
          1
         ],
         "title": {
          "text": "count"
         }
        }
       }
      }
     },
     "metadata": {},
     "output_type": "display_data"
    }
   ],
   "source": [
    "#Histogram for second innings\n",
    "import plotly.express as px \n",
    "px.histogram(Second)"
   ]
  },
  {
   "attachments": {},
   "cell_type": "markdown",
   "metadata": {},
   "source": []
  },
  {
   "cell_type": "code",
   "execution_count": 42,
   "metadata": {},
   "outputs": [
    {
     "data": {
      "application/vnd.plotly.v1+json": {
       "config": {
        "plotlyServerURL": "https://plot.ly"
       },
       "data": [
        {
         "name": "First innings",
         "opacity": 0.75,
         "type": "histogram",
         "x": [
          259,
          207,
          310,
          244,
          140,
          190,
          225,
          260,
          223,
          317,
          269,
          234,
          235,
          131,
          134,
          228,
          140,
          277,
          203,
          89,
          271,
          229,
          61,
          105,
          135,
          265,
          234,
          274,
          305,
          293,
          356
         ]
        },
        {
         "name": "Second innings",
         "opacity": 0.75,
         "type": "histogram",
         "x": [
          256,
          175,
          298,
          137,
          144,
          193,
          218,
          198,
          217,
          162,
          128,
          225,
          236,
          132,
          136,
          229,
          136,
          280,
          204,
          90,
          272,
          119,
          null,
          107,
          136,
          194,
          134,
          275,
          148,
          156,
          285
         ]
        }
       ],
       "layout": {
        "barmode": "overlay",
        "template": {
         "data": {
          "bar": [
           {
            "error_x": {
             "color": "#2a3f5f"
            },
            "error_y": {
             "color": "#2a3f5f"
            },
            "marker": {
             "line": {
              "color": "#E5ECF6",
              "width": 0.5
             },
             "pattern": {
              "fillmode": "overlay",
              "size": 10,
              "solidity": 0.2
             }
            },
            "type": "bar"
           }
          ],
          "barpolar": [
           {
            "marker": {
             "line": {
              "color": "#E5ECF6",
              "width": 0.5
             },
             "pattern": {
              "fillmode": "overlay",
              "size": 10,
              "solidity": 0.2
             }
            },
            "type": "barpolar"
           }
          ],
          "carpet": [
           {
            "aaxis": {
             "endlinecolor": "#2a3f5f",
             "gridcolor": "white",
             "linecolor": "white",
             "minorgridcolor": "white",
             "startlinecolor": "#2a3f5f"
            },
            "baxis": {
             "endlinecolor": "#2a3f5f",
             "gridcolor": "white",
             "linecolor": "white",
             "minorgridcolor": "white",
             "startlinecolor": "#2a3f5f"
            },
            "type": "carpet"
           }
          ],
          "choropleth": [
           {
            "colorbar": {
             "outlinewidth": 0,
             "ticks": ""
            },
            "type": "choropleth"
           }
          ],
          "contour": [
           {
            "colorbar": {
             "outlinewidth": 0,
             "ticks": ""
            },
            "colorscale": [
             [
              0,
              "#0d0887"
             ],
             [
              0.1111111111111111,
              "#46039f"
             ],
             [
              0.2222222222222222,
              "#7201a8"
             ],
             [
              0.3333333333333333,
              "#9c179e"
             ],
             [
              0.4444444444444444,
              "#bd3786"
             ],
             [
              0.5555555555555556,
              "#d8576b"
             ],
             [
              0.6666666666666666,
              "#ed7953"
             ],
             [
              0.7777777777777778,
              "#fb9f3a"
             ],
             [
              0.8888888888888888,
              "#fdca26"
             ],
             [
              1,
              "#f0f921"
             ]
            ],
            "type": "contour"
           }
          ],
          "contourcarpet": [
           {
            "colorbar": {
             "outlinewidth": 0,
             "ticks": ""
            },
            "type": "contourcarpet"
           }
          ],
          "heatmap": [
           {
            "colorbar": {
             "outlinewidth": 0,
             "ticks": ""
            },
            "colorscale": [
             [
              0,
              "#0d0887"
             ],
             [
              0.1111111111111111,
              "#46039f"
             ],
             [
              0.2222222222222222,
              "#7201a8"
             ],
             [
              0.3333333333333333,
              "#9c179e"
             ],
             [
              0.4444444444444444,
              "#bd3786"
             ],
             [
              0.5555555555555556,
              "#d8576b"
             ],
             [
              0.6666666666666666,
              "#ed7953"
             ],
             [
              0.7777777777777778,
              "#fb9f3a"
             ],
             [
              0.8888888888888888,
              "#fdca26"
             ],
             [
              1,
              "#f0f921"
             ]
            ],
            "type": "heatmap"
           }
          ],
          "heatmapgl": [
           {
            "colorbar": {
             "outlinewidth": 0,
             "ticks": ""
            },
            "colorscale": [
             [
              0,
              "#0d0887"
             ],
             [
              0.1111111111111111,
              "#46039f"
             ],
             [
              0.2222222222222222,
              "#7201a8"
             ],
             [
              0.3333333333333333,
              "#9c179e"
             ],
             [
              0.4444444444444444,
              "#bd3786"
             ],
             [
              0.5555555555555556,
              "#d8576b"
             ],
             [
              0.6666666666666666,
              "#ed7953"
             ],
             [
              0.7777777777777778,
              "#fb9f3a"
             ],
             [
              0.8888888888888888,
              "#fdca26"
             ],
             [
              1,
              "#f0f921"
             ]
            ],
            "type": "heatmapgl"
           }
          ],
          "histogram": [
           {
            "marker": {
             "pattern": {
              "fillmode": "overlay",
              "size": 10,
              "solidity": 0.2
             }
            },
            "type": "histogram"
           }
          ],
          "histogram2d": [
           {
            "colorbar": {
             "outlinewidth": 0,
             "ticks": ""
            },
            "colorscale": [
             [
              0,
              "#0d0887"
             ],
             [
              0.1111111111111111,
              "#46039f"
             ],
             [
              0.2222222222222222,
              "#7201a8"
             ],
             [
              0.3333333333333333,
              "#9c179e"
             ],
             [
              0.4444444444444444,
              "#bd3786"
             ],
             [
              0.5555555555555556,
              "#d8576b"
             ],
             [
              0.6666666666666666,
              "#ed7953"
             ],
             [
              0.7777777777777778,
              "#fb9f3a"
             ],
             [
              0.8888888888888888,
              "#fdca26"
             ],
             [
              1,
              "#f0f921"
             ]
            ],
            "type": "histogram2d"
           }
          ],
          "histogram2dcontour": [
           {
            "colorbar": {
             "outlinewidth": 0,
             "ticks": ""
            },
            "colorscale": [
             [
              0,
              "#0d0887"
             ],
             [
              0.1111111111111111,
              "#46039f"
             ],
             [
              0.2222222222222222,
              "#7201a8"
             ],
             [
              0.3333333333333333,
              "#9c179e"
             ],
             [
              0.4444444444444444,
              "#bd3786"
             ],
             [
              0.5555555555555556,
              "#d8576b"
             ],
             [
              0.6666666666666666,
              "#ed7953"
             ],
             [
              0.7777777777777778,
              "#fb9f3a"
             ],
             [
              0.8888888888888888,
              "#fdca26"
             ],
             [
              1,
              "#f0f921"
             ]
            ],
            "type": "histogram2dcontour"
           }
          ],
          "mesh3d": [
           {
            "colorbar": {
             "outlinewidth": 0,
             "ticks": ""
            },
            "type": "mesh3d"
           }
          ],
          "parcoords": [
           {
            "line": {
             "colorbar": {
              "outlinewidth": 0,
              "ticks": ""
             }
            },
            "type": "parcoords"
           }
          ],
          "pie": [
           {
            "automargin": true,
            "type": "pie"
           }
          ],
          "scatter": [
           {
            "fillpattern": {
             "fillmode": "overlay",
             "size": 10,
             "solidity": 0.2
            },
            "type": "scatter"
           }
          ],
          "scatter3d": [
           {
            "line": {
             "colorbar": {
              "outlinewidth": 0,
              "ticks": ""
             }
            },
            "marker": {
             "colorbar": {
              "outlinewidth": 0,
              "ticks": ""
             }
            },
            "type": "scatter3d"
           }
          ],
          "scattercarpet": [
           {
            "marker": {
             "colorbar": {
              "outlinewidth": 0,
              "ticks": ""
             }
            },
            "type": "scattercarpet"
           }
          ],
          "scattergeo": [
           {
            "marker": {
             "colorbar": {
              "outlinewidth": 0,
              "ticks": ""
             }
            },
            "type": "scattergeo"
           }
          ],
          "scattergl": [
           {
            "marker": {
             "colorbar": {
              "outlinewidth": 0,
              "ticks": ""
             }
            },
            "type": "scattergl"
           }
          ],
          "scattermapbox": [
           {
            "marker": {
             "colorbar": {
              "outlinewidth": 0,
              "ticks": ""
             }
            },
            "type": "scattermapbox"
           }
          ],
          "scatterpolar": [
           {
            "marker": {
             "colorbar": {
              "outlinewidth": 0,
              "ticks": ""
             }
            },
            "type": "scatterpolar"
           }
          ],
          "scatterpolargl": [
           {
            "marker": {
             "colorbar": {
              "outlinewidth": 0,
              "ticks": ""
             }
            },
            "type": "scatterpolargl"
           }
          ],
          "scatterternary": [
           {
            "marker": {
             "colorbar": {
              "outlinewidth": 0,
              "ticks": ""
             }
            },
            "type": "scatterternary"
           }
          ],
          "surface": [
           {
            "colorbar": {
             "outlinewidth": 0,
             "ticks": ""
            },
            "colorscale": [
             [
              0,
              "#0d0887"
             ],
             [
              0.1111111111111111,
              "#46039f"
             ],
             [
              0.2222222222222222,
              "#7201a8"
             ],
             [
              0.3333333333333333,
              "#9c179e"
             ],
             [
              0.4444444444444444,
              "#bd3786"
             ],
             [
              0.5555555555555556,
              "#d8576b"
             ],
             [
              0.6666666666666666,
              "#ed7953"
             ],
             [
              0.7777777777777778,
              "#fb9f3a"
             ],
             [
              0.8888888888888888,
              "#fdca26"
             ],
             [
              1,
              "#f0f921"
             ]
            ],
            "type": "surface"
           }
          ],
          "table": [
           {
            "cells": {
             "fill": {
              "color": "#EBF0F8"
             },
             "line": {
              "color": "white"
             }
            },
            "header": {
             "fill": {
              "color": "#C8D4E3"
             },
             "line": {
              "color": "white"
             }
            },
            "type": "table"
           }
          ]
         },
         "layout": {
          "annotationdefaults": {
           "arrowcolor": "#2a3f5f",
           "arrowhead": 0,
           "arrowwidth": 1
          },
          "autotypenumbers": "strict",
          "coloraxis": {
           "colorbar": {
            "outlinewidth": 0,
            "ticks": ""
           }
          },
          "colorscale": {
           "diverging": [
            [
             0,
             "#8e0152"
            ],
            [
             0.1,
             "#c51b7d"
            ],
            [
             0.2,
             "#de77ae"
            ],
            [
             0.3,
             "#f1b6da"
            ],
            [
             0.4,
             "#fde0ef"
            ],
            [
             0.5,
             "#f7f7f7"
            ],
            [
             0.6,
             "#e6f5d0"
            ],
            [
             0.7,
             "#b8e186"
            ],
            [
             0.8,
             "#7fbc41"
            ],
            [
             0.9,
             "#4d9221"
            ],
            [
             1,
             "#276419"
            ]
           ],
           "sequential": [
            [
             0,
             "#0d0887"
            ],
            [
             0.1111111111111111,
             "#46039f"
            ],
            [
             0.2222222222222222,
             "#7201a8"
            ],
            [
             0.3333333333333333,
             "#9c179e"
            ],
            [
             0.4444444444444444,
             "#bd3786"
            ],
            [
             0.5555555555555556,
             "#d8576b"
            ],
            [
             0.6666666666666666,
             "#ed7953"
            ],
            [
             0.7777777777777778,
             "#fb9f3a"
            ],
            [
             0.8888888888888888,
             "#fdca26"
            ],
            [
             1,
             "#f0f921"
            ]
           ],
           "sequentialminus": [
            [
             0,
             "#0d0887"
            ],
            [
             0.1111111111111111,
             "#46039f"
            ],
            [
             0.2222222222222222,
             "#7201a8"
            ],
            [
             0.3333333333333333,
             "#9c179e"
            ],
            [
             0.4444444444444444,
             "#bd3786"
            ],
            [
             0.5555555555555556,
             "#d8576b"
            ],
            [
             0.6666666666666666,
             "#ed7953"
            ],
            [
             0.7777777777777778,
             "#fb9f3a"
            ],
            [
             0.8888888888888888,
             "#fdca26"
            ],
            [
             1,
             "#f0f921"
            ]
           ]
          },
          "colorway": [
           "#636efa",
           "#EF553B",
           "#00cc96",
           "#ab63fa",
           "#FFA15A",
           "#19d3f3",
           "#FF6692",
           "#B6E880",
           "#FF97FF",
           "#FECB52"
          ],
          "font": {
           "color": "#2a3f5f"
          },
          "geo": {
           "bgcolor": "white",
           "lakecolor": "white",
           "landcolor": "#E5ECF6",
           "showlakes": true,
           "showland": true,
           "subunitcolor": "white"
          },
          "hoverlabel": {
           "align": "left"
          },
          "hovermode": "closest",
          "mapbox": {
           "style": "light"
          },
          "paper_bgcolor": "white",
          "plot_bgcolor": "#E5ECF6",
          "polar": {
           "angularaxis": {
            "gridcolor": "white",
            "linecolor": "white",
            "ticks": ""
           },
           "bgcolor": "#E5ECF6",
           "radialaxis": {
            "gridcolor": "white",
            "linecolor": "white",
            "ticks": ""
           }
          },
          "scene": {
           "xaxis": {
            "backgroundcolor": "#E5ECF6",
            "gridcolor": "white",
            "gridwidth": 2,
            "linecolor": "white",
            "showbackground": true,
            "ticks": "",
            "zerolinecolor": "white"
           },
           "yaxis": {
            "backgroundcolor": "#E5ECF6",
            "gridcolor": "white",
            "gridwidth": 2,
            "linecolor": "white",
            "showbackground": true,
            "ticks": "",
            "zerolinecolor": "white"
           },
           "zaxis": {
            "backgroundcolor": "#E5ECF6",
            "gridcolor": "white",
            "gridwidth": 2,
            "linecolor": "white",
            "showbackground": true,
            "ticks": "",
            "zerolinecolor": "white"
           }
          },
          "shapedefaults": {
           "line": {
            "color": "#2a3f5f"
           }
          },
          "ternary": {
           "aaxis": {
            "gridcolor": "white",
            "linecolor": "white",
            "ticks": ""
           },
           "baxis": {
            "gridcolor": "white",
            "linecolor": "white",
            "ticks": ""
           },
           "bgcolor": "#E5ECF6",
           "caxis": {
            "gridcolor": "white",
            "linecolor": "white",
            "ticks": ""
           }
          },
          "title": {
           "x": 0.05
          },
          "xaxis": {
           "automargin": true,
           "gridcolor": "white",
           "linecolor": "white",
           "ticks": "",
           "title": {
            "standoff": 15
           },
           "zerolinecolor": "white",
           "zerolinewidth": 2
          },
          "yaxis": {
           "automargin": true,
           "gridcolor": "white",
           "linecolor": "white",
           "ticks": "",
           "title": {
            "standoff": 15
           },
           "zerolinecolor": "white",
           "zerolinewidth": 2
          }
         }
        },
        "title": {
         "text": "First and second innings"
        },
        "xaxis": {
         "title": {
          "text": "Value"
         }
        },
        "yaxis": {
         "title": {
          "text": "Frequency"
         }
        }
       }
      }
     },
     "metadata": {},
     "output_type": "display_data"
    }
   ],
   "source": [
    "import plotly.graph_objects as go\n",
    "\n",
    "# Create histogram traces for each data\n",
    "trace1 = go.Histogram(\n",
    "    x= First,\n",
    "    opacity=0.75,\n",
    "    name='First innings'\n",
    "    \n",
    ")\n",
    "\n",
    "trace2 = go.Histogram(\n",
    "    x= Second,\n",
    "    opacity=0.75,\n",
    "    name='Second innings'\n",
    ")\n",
    "\n",
    "#Create Layout\n",
    "layout = go.Layout(\n",
    "    title='First and second innings',\n",
    "    xaxis=dict(title='Value'),\n",
    "    yaxis=dict(title='Frequency'),\n",
    "    barmode='overlay'  # Overlay histograms\n",
    ")\n",
    "\n",
    "# Create figure object and add traces\n",
    "fig = go.Figure(data=[trace1, trace2], layout=layout)\n",
    "\n",
    "# Show the figure\n",
    "fig.show()"
   ]
  },
  {
   "cell_type": "code",
   "execution_count": null,
   "metadata": {},
   "outputs": [],
   "source": []
  },
  {
   "attachments": {},
   "cell_type": "markdown",
   "metadata": {},
   "source": [
    "### Binomial Distribution\n",
    "\n",
    "A Bernoulli trial is an experiment with exactly two possible outcomes: **Success* or *Faliure*. Success is denotes with 1 and faliure with 0. Berenoulli trials have the same success (and faliure) rate for every tial and each trial is independent of every other trial.\n",
    "\n",
    "The coin toss is a classic exanple of a Bernoulli trial. Simulating an experiment where we flip a coin 100 times and count the number of heads. we will then proceed this experiment a thousand times and plot the binomial distribtuion of the number of heads we got in each experiment."
   ]
  },
  {
   "cell_type": "code",
   "execution_count": 22,
   "metadata": {},
   "outputs": [],
   "source": [
    "np.random.seed(42)"
   ]
  },
  {
   "cell_type": "code",
   "execution_count": 23,
   "metadata": {},
   "outputs": [
    {
     "data": {
      "application/vnd.plotly.v1+json": {
       "config": {
        "plotlyServerURL": "https://plot.ly"
       },
       "data": [
        {
         "alignmentgroup": "True",
         "bingroup": "x",
         "hovertemplate": "variable=0<br>value=%{x}<br>count=%{y}<extra></extra>",
         "legendgroup": "0",
         "marker": {
          "color": "#636efa",
          "pattern": {
           "shape": ""
          }
         },
         "name": "0",
         "offsetgroup": "0",
         "orientation": "v",
         "showlegend": true,
         "type": "histogram",
         "x": [
          49,
          52,
          44,
          42,
          58,
          52,
          51,
          56,
          48,
          52,
          49,
          47,
          48,
          43,
          59,
          55,
          48,
          43,
          49,
          51,
          46,
          59,
          50,
          48,
          55,
          57,
          51,
          46,
          43,
          55,
          43,
          55,
          56,
          40,
          56,
          53,
          46,
          45,
          50,
          45,
          52,
          51,
          54,
          54,
          59,
          56,
          40,
          55,
          51,
          46,
          56,
          49,
          62,
          49,
          43,
          55,
          49,
          49,
          48,
          52,
          45,
          54,
          46,
          51,
          44,
          65,
          55,
          49,
          45,
          44,
          53,
          41,
          50,
          45,
          48,
          46,
          49,
          52,
          50,
          49,
          53,
          48,
          55,
          59,
          42,
          50,
          59,
          52,
          58,
          48,
          60,
          46,
          48,
          41,
          54,
          41,
          56,
          47,
          50,
          50,
          57,
          48,
          55,
          49,
          46,
          44,
          56,
          58,
          42,
          56,
          51,
          59,
          56,
          50,
          49,
          51,
          42,
          50,
          52,
          49,
          52,
          46,
          46,
          60,
          52,
          42,
          61,
          59,
          53,
          52,
          46,
          49,
          58,
          57,
          46,
          54,
          50,
          49,
          39,
          44,
          48,
          57,
          48,
          60,
          53,
          48,
          46,
          51,
          56,
          46,
          49,
          46,
          44,
          52,
          43,
          54,
          56,
          50,
          48,
          46,
          50,
          47,
          61,
          48,
          46,
          42,
          43,
          47,
          60,
          48,
          59,
          54,
          42,
          47,
          49,
          51,
          59,
          59,
          51,
          50,
          48,
          55,
          44,
          58,
          57,
          60,
          49,
          46,
          39,
          52,
          52,
          52,
          52,
          54,
          52,
          41,
          45,
          43,
          43,
          50,
          51,
          47,
          50,
          53,
          51,
          53,
          48,
          51,
          44,
          49,
          41,
          49,
          52,
          53,
          49,
          48,
          45,
          52,
          48,
          51,
          45,
          47,
          57,
          52,
          48,
          48,
          51,
          53,
          51,
          46,
          47,
          49,
          49,
          57,
          48,
          60,
          47,
          55,
          52,
          44,
          47,
          50,
          49,
          45,
          55,
          43,
          49,
          49,
          49,
          46,
          64,
          45,
          46,
          52,
          46,
          49,
          50,
          55,
          42,
          47,
          53,
          44,
          46,
          41,
          50,
          48,
          46,
          49,
          45,
          49,
          56,
          48,
          52,
          46,
          47,
          48,
          43,
          60,
          52,
          52,
          59,
          58,
          45,
          40,
          48,
          56,
          53,
          54,
          50,
          51,
          45,
          45,
          49,
          43,
          45,
          46,
          52,
          47,
          46,
          55,
          45,
          53,
          51,
          41,
          55,
          49,
          49,
          49,
          49,
          56,
          50,
          57,
          48,
          50,
          54,
          48,
          50,
          57,
          52,
          47,
          46,
          47,
          55,
          39,
          41,
          58,
          50,
          46,
          51,
          43,
          47,
          50,
          54,
          45,
          40,
          46,
          55,
          44,
          47,
          46,
          51,
          52,
          53,
          53,
          48,
          48,
          50,
          51,
          48,
          50,
          56,
          61,
          49,
          41,
          51,
          46,
          49,
          52,
          61,
          41,
          49,
          46,
          53,
          46,
          50,
          49,
          51,
          40,
          54,
          40,
          59,
          41,
          52,
          54,
          54,
          54,
          51,
          51,
          46,
          56,
          50,
          61,
          48,
          60,
          53,
          53,
          55,
          43,
          41,
          51,
          52,
          57,
          50,
          44,
          54,
          41,
          41,
          48,
          55,
          50,
          51,
          58,
          57,
          48,
          45,
          57,
          50,
          46,
          48,
          55,
          44,
          51,
          50,
          46,
          51,
          43,
          54,
          54,
          48,
          47,
          54,
          46,
          52,
          46,
          50,
          52,
          55,
          54,
          39,
          41,
          52,
          51,
          50,
          46,
          48,
          52,
          50,
          53,
          48,
          55,
          43,
          46,
          48,
          46,
          52,
          49,
          50,
          56,
          56,
          52,
          43,
          46,
          49,
          44,
          51,
          53,
          37,
          47,
          46,
          48,
          51,
          51,
          41,
          53,
          40,
          52,
          50,
          53,
          51,
          58,
          47,
          54,
          52,
          50,
          55,
          54,
          49,
          49,
          56,
          52,
          44,
          53,
          55,
          50,
          52,
          50,
          42,
          42,
          52,
          50,
          48,
          36,
          60,
          40,
          43,
          48,
          52,
          46,
          41,
          39,
          50,
          56,
          57,
          45,
          53,
          52,
          54,
          51,
          54,
          50,
          48,
          54,
          54,
          47,
          43,
          56,
          43,
          53,
          51,
          53,
          57,
          48,
          49,
          52,
          46,
          45,
          60,
          52,
          55,
          55,
          57,
          51,
          47,
          53,
          45,
          51,
          52,
          52,
          54,
          44,
          51,
          51,
          47,
          44,
          50,
          40,
          45,
          51,
          42,
          47,
          49,
          48,
          54,
          56,
          45,
          45,
          48,
          52,
          44,
          46,
          54,
          46,
          45,
          50,
          41,
          56,
          48,
          47,
          48,
          45,
          49,
          56,
          56,
          49,
          60,
          52,
          57,
          52,
          55,
          43,
          45,
          52,
          55,
          52,
          50,
          45,
          45,
          57,
          53,
          55,
          54,
          48,
          54,
          45,
          48,
          47,
          48,
          50,
          54,
          56,
          48,
          43,
          47,
          47,
          50,
          53,
          51,
          59,
          54,
          50,
          52,
          55,
          43,
          49,
          53,
          43,
          56,
          50,
          63,
          53,
          53,
          63,
          51,
          40,
          48,
          41,
          54,
          49,
          49,
          46,
          57,
          51,
          49,
          48,
          48,
          56,
          48,
          50,
          46,
          55,
          54,
          55,
          48,
          52,
          40,
          54,
          52,
          56,
          50,
          48,
          43,
          48,
          57,
          52,
          50,
          49,
          58,
          50,
          56,
          43,
          51,
          48,
          51,
          41,
          47,
          42,
          52,
          52,
          55,
          48,
          49,
          53,
          49,
          52,
          47,
          50,
          45,
          49,
          45,
          60,
          67,
          56,
          49,
          49,
          51,
          52,
          58,
          45,
          41,
          45,
          45,
          42,
          45,
          42,
          47,
          56,
          44,
          52,
          50,
          54,
          46,
          41,
          51,
          50,
          46,
          57,
          49,
          49,
          56,
          47,
          56,
          41,
          47,
          51,
          46,
          53,
          44,
          56,
          39,
          53,
          45,
          46,
          52,
          42,
          55,
          50,
          50,
          52,
          49,
          49,
          51,
          46,
          47,
          50,
          54,
          48,
          41,
          47,
          48,
          46,
          58,
          48,
          48,
          42,
          53,
          57,
          50,
          46,
          51,
          53,
          54,
          49,
          56,
          40,
          44,
          48,
          44,
          40,
          52,
          50,
          49,
          60,
          49,
          52,
          42,
          50,
          43,
          48,
          50,
          50,
          54,
          49,
          44,
          61,
          46,
          49,
          52,
          54,
          48,
          57,
          49,
          54,
          49,
          42,
          49,
          54,
          48,
          60,
          47,
          53,
          45,
          47,
          51,
          47,
          48,
          50,
          49,
          52,
          51,
          52,
          56,
          57,
          53,
          56,
          55,
          55,
          51,
          43,
          57,
          47,
          53,
          54,
          48,
          44,
          48,
          61,
          54,
          45,
          56,
          53,
          48,
          47,
          46,
          47,
          53,
          43,
          49,
          57,
          43,
          46,
          46,
          46,
          48,
          64,
          54,
          53,
          58,
          44,
          54,
          46,
          52,
          53,
          56,
          46,
          42,
          55,
          54,
          48,
          48,
          57,
          56,
          43,
          44,
          47,
          50,
          55,
          52,
          50,
          52,
          49,
          51,
          45,
          44,
          46,
          48,
          46,
          51,
          54,
          49,
          54,
          46,
          49,
          52,
          58,
          48,
          55,
          54,
          58,
          50,
          49,
          46,
          49,
          59,
          60,
          55,
          48,
          54,
          51,
          57,
          48,
          48,
          48,
          47,
          54,
          53,
          56,
          48,
          48,
          47,
          56,
          49,
          46,
          60,
          52,
          50,
          48,
          53,
          47,
          58,
          55,
          55,
          49,
          51,
          43,
          59,
          55,
          52,
          47,
          52,
          52,
          52,
          53,
          44,
          45,
          49,
          56,
          46,
          49,
          57,
          44,
          58,
          59,
          46,
          53,
          46,
          59,
          54,
          49,
          43,
          47,
          49,
          53,
          58,
          50,
          50,
          51,
          47,
          56,
          46,
          46,
          48,
          54,
          49,
          38,
          60,
          53,
          52,
          55,
          43,
          47,
          49,
          53,
          43,
          44,
          50,
          45,
          45,
          58,
          46,
          46,
          44,
          53,
          54,
          49,
          55,
          50,
          57,
          49,
          54,
          47,
          52,
          50,
          50,
          54,
          49,
          48,
          51,
          48,
          40,
          61,
          56,
          57,
          58,
          56,
          47,
          47,
          46,
          45,
          50,
          48
         ],
         "xaxis": "x",
         "yaxis": "y"
        }
       ],
       "layout": {
        "barmode": "relative",
        "legend": {
         "title": {
          "text": "variable"
         },
         "tracegroupgap": 0
        },
        "margin": {
         "t": 60
        },
        "template": {
         "data": {
          "bar": [
           {
            "error_x": {
             "color": "#2a3f5f"
            },
            "error_y": {
             "color": "#2a3f5f"
            },
            "marker": {
             "line": {
              "color": "#E5ECF6",
              "width": 0.5
             },
             "pattern": {
              "fillmode": "overlay",
              "size": 10,
              "solidity": 0.2
             }
            },
            "type": "bar"
           }
          ],
          "barpolar": [
           {
            "marker": {
             "line": {
              "color": "#E5ECF6",
              "width": 0.5
             },
             "pattern": {
              "fillmode": "overlay",
              "size": 10,
              "solidity": 0.2
             }
            },
            "type": "barpolar"
           }
          ],
          "carpet": [
           {
            "aaxis": {
             "endlinecolor": "#2a3f5f",
             "gridcolor": "white",
             "linecolor": "white",
             "minorgridcolor": "white",
             "startlinecolor": "#2a3f5f"
            },
            "baxis": {
             "endlinecolor": "#2a3f5f",
             "gridcolor": "white",
             "linecolor": "white",
             "minorgridcolor": "white",
             "startlinecolor": "#2a3f5f"
            },
            "type": "carpet"
           }
          ],
          "choropleth": [
           {
            "colorbar": {
             "outlinewidth": 0,
             "ticks": ""
            },
            "type": "choropleth"
           }
          ],
          "contour": [
           {
            "colorbar": {
             "outlinewidth": 0,
             "ticks": ""
            },
            "colorscale": [
             [
              0,
              "#0d0887"
             ],
             [
              0.1111111111111111,
              "#46039f"
             ],
             [
              0.2222222222222222,
              "#7201a8"
             ],
             [
              0.3333333333333333,
              "#9c179e"
             ],
             [
              0.4444444444444444,
              "#bd3786"
             ],
             [
              0.5555555555555556,
              "#d8576b"
             ],
             [
              0.6666666666666666,
              "#ed7953"
             ],
             [
              0.7777777777777778,
              "#fb9f3a"
             ],
             [
              0.8888888888888888,
              "#fdca26"
             ],
             [
              1,
              "#f0f921"
             ]
            ],
            "type": "contour"
           }
          ],
          "contourcarpet": [
           {
            "colorbar": {
             "outlinewidth": 0,
             "ticks": ""
            },
            "type": "contourcarpet"
           }
          ],
          "heatmap": [
           {
            "colorbar": {
             "outlinewidth": 0,
             "ticks": ""
            },
            "colorscale": [
             [
              0,
              "#0d0887"
             ],
             [
              0.1111111111111111,
              "#46039f"
             ],
             [
              0.2222222222222222,
              "#7201a8"
             ],
             [
              0.3333333333333333,
              "#9c179e"
             ],
             [
              0.4444444444444444,
              "#bd3786"
             ],
             [
              0.5555555555555556,
              "#d8576b"
             ],
             [
              0.6666666666666666,
              "#ed7953"
             ],
             [
              0.7777777777777778,
              "#fb9f3a"
             ],
             [
              0.8888888888888888,
              "#fdca26"
             ],
             [
              1,
              "#f0f921"
             ]
            ],
            "type": "heatmap"
           }
          ],
          "heatmapgl": [
           {
            "colorbar": {
             "outlinewidth": 0,
             "ticks": ""
            },
            "colorscale": [
             [
              0,
              "#0d0887"
             ],
             [
              0.1111111111111111,
              "#46039f"
             ],
             [
              0.2222222222222222,
              "#7201a8"
             ],
             [
              0.3333333333333333,
              "#9c179e"
             ],
             [
              0.4444444444444444,
              "#bd3786"
             ],
             [
              0.5555555555555556,
              "#d8576b"
             ],
             [
              0.6666666666666666,
              "#ed7953"
             ],
             [
              0.7777777777777778,
              "#fb9f3a"
             ],
             [
              0.8888888888888888,
              "#fdca26"
             ],
             [
              1,
              "#f0f921"
             ]
            ],
            "type": "heatmapgl"
           }
          ],
          "histogram": [
           {
            "marker": {
             "pattern": {
              "fillmode": "overlay",
              "size": 10,
              "solidity": 0.2
             }
            },
            "type": "histogram"
           }
          ],
          "histogram2d": [
           {
            "colorbar": {
             "outlinewidth": 0,
             "ticks": ""
            },
            "colorscale": [
             [
              0,
              "#0d0887"
             ],
             [
              0.1111111111111111,
              "#46039f"
             ],
             [
              0.2222222222222222,
              "#7201a8"
             ],
             [
              0.3333333333333333,
              "#9c179e"
             ],
             [
              0.4444444444444444,
              "#bd3786"
             ],
             [
              0.5555555555555556,
              "#d8576b"
             ],
             [
              0.6666666666666666,
              "#ed7953"
             ],
             [
              0.7777777777777778,
              "#fb9f3a"
             ],
             [
              0.8888888888888888,
              "#fdca26"
             ],
             [
              1,
              "#f0f921"
             ]
            ],
            "type": "histogram2d"
           }
          ],
          "histogram2dcontour": [
           {
            "colorbar": {
             "outlinewidth": 0,
             "ticks": ""
            },
            "colorscale": [
             [
              0,
              "#0d0887"
             ],
             [
              0.1111111111111111,
              "#46039f"
             ],
             [
              0.2222222222222222,
              "#7201a8"
             ],
             [
              0.3333333333333333,
              "#9c179e"
             ],
             [
              0.4444444444444444,
              "#bd3786"
             ],
             [
              0.5555555555555556,
              "#d8576b"
             ],
             [
              0.6666666666666666,
              "#ed7953"
             ],
             [
              0.7777777777777778,
              "#fb9f3a"
             ],
             [
              0.8888888888888888,
              "#fdca26"
             ],
             [
              1,
              "#f0f921"
             ]
            ],
            "type": "histogram2dcontour"
           }
          ],
          "mesh3d": [
           {
            "colorbar": {
             "outlinewidth": 0,
             "ticks": ""
            },
            "type": "mesh3d"
           }
          ],
          "parcoords": [
           {
            "line": {
             "colorbar": {
              "outlinewidth": 0,
              "ticks": ""
             }
            },
            "type": "parcoords"
           }
          ],
          "pie": [
           {
            "automargin": true,
            "type": "pie"
           }
          ],
          "scatter": [
           {
            "fillpattern": {
             "fillmode": "overlay",
             "size": 10,
             "solidity": 0.2
            },
            "type": "scatter"
           }
          ],
          "scatter3d": [
           {
            "line": {
             "colorbar": {
              "outlinewidth": 0,
              "ticks": ""
             }
            },
            "marker": {
             "colorbar": {
              "outlinewidth": 0,
              "ticks": ""
             }
            },
            "type": "scatter3d"
           }
          ],
          "scattercarpet": [
           {
            "marker": {
             "colorbar": {
              "outlinewidth": 0,
              "ticks": ""
             }
            },
            "type": "scattercarpet"
           }
          ],
          "scattergeo": [
           {
            "marker": {
             "colorbar": {
              "outlinewidth": 0,
              "ticks": ""
             }
            },
            "type": "scattergeo"
           }
          ],
          "scattergl": [
           {
            "marker": {
             "colorbar": {
              "outlinewidth": 0,
              "ticks": ""
             }
            },
            "type": "scattergl"
           }
          ],
          "scattermapbox": [
           {
            "marker": {
             "colorbar": {
              "outlinewidth": 0,
              "ticks": ""
             }
            },
            "type": "scattermapbox"
           }
          ],
          "scatterpolar": [
           {
            "marker": {
             "colorbar": {
              "outlinewidth": 0,
              "ticks": ""
             }
            },
            "type": "scatterpolar"
           }
          ],
          "scatterpolargl": [
           {
            "marker": {
             "colorbar": {
              "outlinewidth": 0,
              "ticks": ""
             }
            },
            "type": "scatterpolargl"
           }
          ],
          "scatterternary": [
           {
            "marker": {
             "colorbar": {
              "outlinewidth": 0,
              "ticks": ""
             }
            },
            "type": "scatterternary"
           }
          ],
          "surface": [
           {
            "colorbar": {
             "outlinewidth": 0,
             "ticks": ""
            },
            "colorscale": [
             [
              0,
              "#0d0887"
             ],
             [
              0.1111111111111111,
              "#46039f"
             ],
             [
              0.2222222222222222,
              "#7201a8"
             ],
             [
              0.3333333333333333,
              "#9c179e"
             ],
             [
              0.4444444444444444,
              "#bd3786"
             ],
             [
              0.5555555555555556,
              "#d8576b"
             ],
             [
              0.6666666666666666,
              "#ed7953"
             ],
             [
              0.7777777777777778,
              "#fb9f3a"
             ],
             [
              0.8888888888888888,
              "#fdca26"
             ],
             [
              1,
              "#f0f921"
             ]
            ],
            "type": "surface"
           }
          ],
          "table": [
           {
            "cells": {
             "fill": {
              "color": "#EBF0F8"
             },
             "line": {
              "color": "white"
             }
            },
            "header": {
             "fill": {
              "color": "#C8D4E3"
             },
             "line": {
              "color": "white"
             }
            },
            "type": "table"
           }
          ]
         },
         "layout": {
          "annotationdefaults": {
           "arrowcolor": "#2a3f5f",
           "arrowhead": 0,
           "arrowwidth": 1
          },
          "autotypenumbers": "strict",
          "coloraxis": {
           "colorbar": {
            "outlinewidth": 0,
            "ticks": ""
           }
          },
          "colorscale": {
           "diverging": [
            [
             0,
             "#8e0152"
            ],
            [
             0.1,
             "#c51b7d"
            ],
            [
             0.2,
             "#de77ae"
            ],
            [
             0.3,
             "#f1b6da"
            ],
            [
             0.4,
             "#fde0ef"
            ],
            [
             0.5,
             "#f7f7f7"
            ],
            [
             0.6,
             "#e6f5d0"
            ],
            [
             0.7,
             "#b8e186"
            ],
            [
             0.8,
             "#7fbc41"
            ],
            [
             0.9,
             "#4d9221"
            ],
            [
             1,
             "#276419"
            ]
           ],
           "sequential": [
            [
             0,
             "#0d0887"
            ],
            [
             0.1111111111111111,
             "#46039f"
            ],
            [
             0.2222222222222222,
             "#7201a8"
            ],
            [
             0.3333333333333333,
             "#9c179e"
            ],
            [
             0.4444444444444444,
             "#bd3786"
            ],
            [
             0.5555555555555556,
             "#d8576b"
            ],
            [
             0.6666666666666666,
             "#ed7953"
            ],
            [
             0.7777777777777778,
             "#fb9f3a"
            ],
            [
             0.8888888888888888,
             "#fdca26"
            ],
            [
             1,
             "#f0f921"
            ]
           ],
           "sequentialminus": [
            [
             0,
             "#0d0887"
            ],
            [
             0.1111111111111111,
             "#46039f"
            ],
            [
             0.2222222222222222,
             "#7201a8"
            ],
            [
             0.3333333333333333,
             "#9c179e"
            ],
            [
             0.4444444444444444,
             "#bd3786"
            ],
            [
             0.5555555555555556,
             "#d8576b"
            ],
            [
             0.6666666666666666,
             "#ed7953"
            ],
            [
             0.7777777777777778,
             "#fb9f3a"
            ],
            [
             0.8888888888888888,
             "#fdca26"
            ],
            [
             1,
             "#f0f921"
            ]
           ]
          },
          "colorway": [
           "#636efa",
           "#EF553B",
           "#00cc96",
           "#ab63fa",
           "#FFA15A",
           "#19d3f3",
           "#FF6692",
           "#B6E880",
           "#FF97FF",
           "#FECB52"
          ],
          "font": {
           "color": "#2a3f5f"
          },
          "geo": {
           "bgcolor": "white",
           "lakecolor": "white",
           "landcolor": "#E5ECF6",
           "showlakes": true,
           "showland": true,
           "subunitcolor": "white"
          },
          "hoverlabel": {
           "align": "left"
          },
          "hovermode": "closest",
          "mapbox": {
           "style": "light"
          },
          "paper_bgcolor": "white",
          "plot_bgcolor": "#E5ECF6",
          "polar": {
           "angularaxis": {
            "gridcolor": "white",
            "linecolor": "white",
            "ticks": ""
           },
           "bgcolor": "#E5ECF6",
           "radialaxis": {
            "gridcolor": "white",
            "linecolor": "white",
            "ticks": ""
           }
          },
          "scene": {
           "xaxis": {
            "backgroundcolor": "#E5ECF6",
            "gridcolor": "white",
            "gridwidth": 2,
            "linecolor": "white",
            "showbackground": true,
            "ticks": "",
            "zerolinecolor": "white"
           },
           "yaxis": {
            "backgroundcolor": "#E5ECF6",
            "gridcolor": "white",
            "gridwidth": 2,
            "linecolor": "white",
            "showbackground": true,
            "ticks": "",
            "zerolinecolor": "white"
           },
           "zaxis": {
            "backgroundcolor": "#E5ECF6",
            "gridcolor": "white",
            "gridwidth": 2,
            "linecolor": "white",
            "showbackground": true,
            "ticks": "",
            "zerolinecolor": "white"
           }
          },
          "shapedefaults": {
           "line": {
            "color": "#2a3f5f"
           }
          },
          "ternary": {
           "aaxis": {
            "gridcolor": "white",
            "linecolor": "white",
            "ticks": ""
           },
           "baxis": {
            "gridcolor": "white",
            "linecolor": "white",
            "ticks": ""
           },
           "bgcolor": "#E5ECF6",
           "caxis": {
            "gridcolor": "white",
            "linecolor": "white",
            "ticks": ""
           }
          },
          "title": {
           "x": 0.05
          },
          "xaxis": {
           "automargin": true,
           "gridcolor": "white",
           "linecolor": "white",
           "ticks": "",
           "title": {
            "standoff": 15
           },
           "zerolinecolor": "white",
           "zerolinewidth": 2
          },
          "yaxis": {
           "automargin": true,
           "gridcolor": "white",
           "linecolor": "white",
           "ticks": "",
           "title": {
            "standoff": 15
           },
           "zerolinecolor": "white",
           "zerolinewidth": 2
          }
         }
        },
        "xaxis": {
         "anchor": "y",
         "domain": [
          0,
          1
         ],
         "title": {
          "text": "value"
         }
        },
        "yaxis": {
         "anchor": "x",
         "domain": [
          0,
          1
         ],
         "title": {
          "text": "count"
         }
        }
       }
      }
     },
     "metadata": {},
     "output_type": "display_data"
    }
   ],
   "source": [
    "outcomes = []\n",
    "for i in range(1000):\n",
    "    heads = np.random.binomial(100,0.5)\n",
    "    outcomes.append(heads)\n",
    "\n",
    "px.histogram(outcomes)"
   ]
  },
  {
   "attachments": {},
   "cell_type": "markdown",
   "metadata": {},
   "source": [
    "### Normal Distribution\n",
    "\n",
    "Simulating a similar coin experiment as above. Let us sample 1000 points from a normal distribution and plot the number of occurences in the form of a histogram"
   ]
  },
  {
   "cell_type": "code",
   "execution_count": 24,
   "metadata": {},
   "outputs": [
    {
     "data": {
      "application/vnd.plotly.v1+json": {
       "config": {
        "plotlyServerURL": "https://plot.ly"
       },
       "data": [
        {
         "alignmentgroup": "True",
         "bingroup": "x",
         "hovertemplate": "variable=0<br>value=%{x}<br>count=%{y}<extra></extra>",
         "legendgroup": "0",
         "marker": {
          "color": "#636efa",
          "pattern": {
           "shape": ""
          }
         },
         "name": "0",
         "offsetgroup": "0",
         "orientation": "v",
         "showlegend": true,
         "type": "histogram",
         "x": [
          1.0599363840466218,
          0.6170059495766975,
          0.6835693232004776,
          -1.3659557112005343,
          1.2119439853864005,
          0.26125053123385605,
          -0.36927713924620315,
          0.14338846734225108,
          -1.77623523289832,
          0.40865281148067084,
          -1.0293715081820716,
          -1.3526702858435344,
          -1.5223591862178911,
          1.1126883749899252,
          -0.6292633936927887,
          1.5337277099164992,
          -0.5358014630522978,
          -1.7073579575929467,
          -1.1165244399486591,
          1.2358116200069387,
          -0.15589817793666752,
          -0.5482872964906009,
          0.1600182258527877,
          0.501782736167545,
          1.1173988159024608,
          1.4484992298929262,
          -0.35976864578908574,
          -1.3260476860820383,
          -0.413465161123276,
          0.26028050658288615,
          -0.9637589262106109,
          -0.9571509148950429,
          0.34378788154988543,
          -0.04865235157045115,
          0.03279699541158651,
          -0.7584953347000695,
          -0.23040071420576733,
          -0.9242331442683044,
          0.8901984111247868,
          1.0352493347237526,
          -1.8461878622380938,
          -0.92951086019241,
          -1.496529255090079,
          -0.6500239344068982,
          -0.08343796979036086,
          -1.44964521969853,
          -0.9218598131253132,
          -1.0039573720814985,
          0.20726732939894396,
          0.06934433703625043,
          -0.7217375533372533,
          0.17682087213939798,
          -0.5466800845872654,
          -0.2716551103260533,
          1.673452090298537,
          1.340461051790348,
          -1.2995812369275976,
          0.8297324178791745,
          0.8113965544915921,
          -1.1482632887526183,
          0.8187776437548606,
          1.5379319184125528,
          -1.1225448062444139,
          -0.9175028210142636,
          1.0176614668435024,
          0.271495310825648,
          0.5514762752395233,
          0.3405892164004968,
          0.39069592092814415,
          -1.326472128311083,
          1.0473177066214483,
          1.1695899924277735,
          -0.22939074406802776,
          -0.04347694981386243,
          -1.5311075025557221,
          0.5142547560178349,
          0.5720574417141441,
          -0.062191016999311004,
          1.1243533598705027,
          -0.3340772309799405,
          0.5646059258936003,
          -1.0196643386921156,
          -0.02355215087423812,
          -0.17435425790283585,
          0.22530792204094158,
          -0.3695269288333586,
          -0.1314725956716678,
          0.8260471714415063,
          -0.43676423723821745,
          -1.6065771007386793,
          1.7495839042054206,
          1.3814540786904865,
          -1.2922626951056186,
          0.6897078052451944,
          -0.5029747705513431,
          0.26348721533105957,
          0.2942241290134937,
          -0.234407800316322,
          -0.7837656655863965,
          -0.6905410523162594,
          -0.9161919154812425,
          -0.8318222082304447,
          -0.06717829004935526,
          -0.7157599891107518,
          0.6820520657126199,
          1.4872461553359273,
          -0.580053241370043,
          0.23940450053537707,
          0.49968511030293383,
          0.4720022709192744,
          0.07595526791608741,
          0.7426824183597224,
          0.4822489526806572,
          -1.2376624223272978,
          0.8691560643892732,
          0.8872908372667421,
          -0.7632861041785816,
          0.03793783544760203,
          0.6833289928110694,
          -0.20931381957936157,
          1.0729780477660118,
          2.3638724946193608,
          -0.7859860326349823,
          -1.3810446031537749,
          0.30381859560487573,
          0.7215625051261435,
          -0.23086637384476896,
          1.4532606633210343,
          -1.3386057997232488,
          0.6929186230316111,
          -0.6058608207588934,
          1.7193779062072967,
          1.9925153531681183,
          -0.7666565877833479,
          -0.5495571359085801,
          0.8595878869798019,
          -0.3871306497895146,
          -0.04541121793223822,
          0.02538842054241018,
          -1.9196731561976563,
          -0.01383774609423725,
          -0.6897277740641738,
          -0.493122822399772,
          1.4436320034688142,
          -1.2565068942792563,
          0.8132051867479773,
          -0.2789629303318085,
          -0.2797601684958344,
          0.7903718960517113,
          0.34005129456889044,
          0.570612997219531,
          0.9681846605328611,
          -0.33130838318332273,
          -0.6122367345077503,
          -1.085150526557798,
          -0.8254105299789551,
          2.9490944253087252,
          1.2446795807367868,
          -1.3510743662080213,
          -1.3224579567435701,
          0.4818660617184915,
          0.547264797377967,
          0.5488838353173644,
          -0.25495579355369785,
          -0.12545426000290022,
          0.3278795241593574,
          0.08589300629333041,
          -2.219300372747535,
          -0.22979963057519381,
          -0.8514064342603136,
          0.17521141890851205,
          2.98525900260341,
          0.3674816654743044,
          -0.3135296861723979,
          0.9218015019772522,
          0.4826878872092127,
          0.4200944904518413,
          0.606850593215671,
          2.0565435648295414,
          -1.1308884353259157,
          0.47363207681145447,
          -0.9263811299815384,
          0.5555126463422483,
          -0.9186865114860944,
          -0.4173668136050844,
          -0.2950899142379063,
          0.975816719344709,
          0.9184544439424138,
          -1.2457173764463845,
          0.054934110999848726,
          -0.7095798547491726,
          -1.2585049106753345,
          -0.21701705042437042,
          -0.3084827884558197,
          2.4267164863455224,
          0.43295982536069616,
          -1.3776175007542373,
          -0.5647740041709423,
          1.0213832954293984,
          2.088442772869925,
          -1.5859833122379583,
          -1.879924385139045,
          1.8709651753717822,
          0.38961417737090387,
          -0.8682927318763665,
          0.5346290861224353,
          -2.6357477390168778,
          0.003375506597160999,
          0.32782117284308526,
          0.9242701395378298,
          -1.0138959522925377,
          0.08568716140335904,
          -0.9254246260595873,
          0.2553837556743171,
          -0.8953463223630241,
          -0.4081008391602206,
          -0.9958153947902291,
          0.651136241823657,
          0.8584511166566653,
          -0.2346205699574138,
          0.03823799496002834,
          -1.4485914146335441,
          -0.29967664800678706,
          -0.05020461704174478,
          2.620793091029975,
          -1.1119670257741636,
          1.4641772387524374,
          0.996858773465808,
          0.2806364044901364,
          1.7586204841951334,
          0.3721054726068629,
          0.3891591956679287,
          -0.053120653017545344,
          1.2235688824186275,
          1.0964692338108837,
          -0.6256772874962124,
          -1.3192471945987674,
          -0.20298063739565708,
          -0.8000385643976464,
          -0.0635245746153551,
          1.2374381346841392,
          -0.45730165508679,
          -0.04282338131157488,
          0.058022734808395225,
          0.8484308822052846,
          -2.246889333984605,
          -0.6067002947652967,
          0.21128369227947272,
          1.2000789564268612,
          -0.49190244750620515,
          -1.876552706041874,
          0.6197114459661363,
          -0.6353623888256293,
          -1.1896666590903613,
          -0.6243453897132241,
          -0.18452535765584954,
          -0.6047446645382127,
          -2.205566057099069,
          0.8970661968871322,
          1.2748750412787222,
          0.6515219913395057,
          -1.1376856704248166,
          -0.20149153394751798,
          -0.006521315229458062,
          0.5987943895619102,
          0.6683404887180808,
          -0.7341737987784958,
          0.08199555641356042,
          0.4572804046152411,
          1.4558223221467665,
          0.7045065398247231,
          0.7890566873755189,
          0.08382662792936094,
          1.4104591452035038,
          0.4097627959594974,
          -0.8610879101735704,
          1.4033699701251907,
          0.6979032725390276,
          -0.4430440211284823,
          -0.47949296739924335,
          0.2965755451407618,
          0.4631847952675847,
          0.19729226563120644,
          0.3113086734428849,
          1.6999573745763805,
          1.0715431522348857,
          0.19063559126502433,
          0.9413105807674833,
          -1.0325239035275395,
          0.39792704994680894,
          1.80930634973311,
          -0.21804589539237385,
          -0.8476339286190848,
          -0.6520888885930607,
          -1.0896330373423884,
          -0.7847619081277034,
          -0.370508098590029,
          -1.405567019178642,
          0.015618333949603047,
          0.9022771737866472,
          -0.9077561801469204,
          1.5192839236417688,
          0.5107920885275947,
          1.0305805856240573,
          -0.6578345538521371,
          0.8545252270666157,
          -1.091933900395313,
          0.8902475008365087,
          0.17183933979353122,
          0.5532512199847837,
          -1.1755946056248516,
          -0.8950698422766047,
          0.5972282182533848,
          -0.9483480042242007,
          0.46320629209912306,
          -1.3671378064602457,
          0.8481742126666681,
          -1.232523314768509,
          0.5522999376795232,
          0.6256309336460009,
          -0.6967718184295749,
          0.5820265670847269,
          0.26044226333355597,
          -0.5388418561927383,
          -1.008554684076208,
          -1.962625691672579,
          0.3496500472996937,
          -1.5648027713620551,
          0.0953441994413082,
          -0.2634482160822491,
          0.6791427754381955,
          -0.3020454994898642,
          -0.3294477863470914,
          0.7318707042882956,
          0.3350580290841175,
          0.3161559571827783,
          0.46926758980852623,
          -1.5355721232071058,
          0.756788679986982,
          0.6124687940136023,
          -1.0166831285764972,
          -0.2440804736742013,
          -0.039307287627631186,
          -0.1344967844017327,
          0.33385996656853467,
          1.4313667818311835,
          1.0817667276728287,
          -1.3122191934314063,
          0.6220699903060487,
          1.3289333195354096,
          0.38680852068920263,
          1.090980425185967,
          2.012270445700765,
          1.0237095461069814,
          0.24930859564172886,
          1.0450884740847535,
          0.14488783309689118,
          0.02390304328495547,
          -0.35141423571373254,
          1.5634133588321082,
          -0.8184286659420014,
          1.532367724678116,
          0.49986412374037137,
          -1.3993061748019415,
          0.3676492929914216,
          -2.100026507651624,
          0.6255080168310357,
          0.885231482988991,
          -0.5923559556520536,
          0.12354769595558233,
          1.9541574337502863,
          -0.5057467042619367,
          -1.0589075870566005,
          1.4816634024625988,
          1.9625871905307948,
          0.0036956718478473255,
          1.0114630354083562,
          1.341475915530881,
          -0.742484232538384,
          -0.4853058353678683,
          1.230874513154735,
          1.6850142787085094,
          0.5628808601743548,
          -0.8798143535020543,
          1.9870611116994412,
          -0.5309708978119645,
          -0.33513778117145177,
          0.34233783448962146,
          1.5541604207147741,
          0.8539759765522237,
          0.41486550036191044,
          0.4632885301181062,
          0.04351466864346608,
          0.5581395145185063,
          -2.529560077694303,
          -0.29660745906979835,
          0.241321934916781,
          -1.151014083619507,
          0.38632331781156,
          -0.20447122098612153,
          1.75547569831549,
          1.5730197252148563,
          -0.46580556911816284,
          -0.15083771156669531,
          -0.0739475656083926,
          -0.4516594761596227,
          0.19502498402812674,
          -0.7582820688875902,
          -1.1306153349375263,
          0.6227112239002686,
          0.6295295842218108,
          -0.8043157596599924,
          0.8953554307625996,
          -0.6315777291653314,
          0.2531652380379812,
          0.820344012612456,
          -0.03361256470371301,
          0.4547409121411344,
          -0.5164296438875717,
          -0.19646658342809717,
          -0.20585943088034037,
          -0.7465783465402389,
          -0.1767741631157821,
          -1.5486182988637467,
          -0.4911537471421047,
          -0.28487549336967083,
          -0.2561797524953801,
          -0.24149744587077882,
          -0.061764199860128925,
          0.4794415180860639,
          0.8745170741325226,
          -0.6497652268482671,
          -1.2032008553891445,
          -1.042044412243103,
          -0.48720292119492714,
          -0.3519213178165091,
          -0.7699960661974573,
          -1.2961166642498945,
          -0.4561208274741882,
          0.18142662011397137,
          0.5950294658355647,
          -0.5574230531083212,
          -0.41299782214343406,
          -0.9266983088473107,
          -0.03143917037477642,
          -0.8484286341908146,
          0.5731278132412001,
          -1.7858664919341112,
          -0.3596296724524624,
          0.3011073391917421,
          0.18383451632250436,
          2.6930336639804966,
          0.34980002456790754,
          -1.0040545968420103,
          -0.09546424708907303,
          -1.7762463334664518,
          -0.08059974929676088,
          -0.8330560570007587,
          0.9153902755601617,
          -0.5495402745955349,
          -0.11676591579524663,
          -0.6355578414044034,
          1.7388513518533313,
          -0.3212427661179117,
          1.8325570434792018,
          0.8141517621182666,
          0.48206672733538614,
          0.3687331473175197,
          0.39379729821625153,
          -1.92767257934561,
          -0.2788833941507565,
          0.8451579711843216,
          -0.04889718347410554,
          -1.405189846803575,
          -0.05240445057746945,
          1.7041055162554912,
          1.2468917155347194,
          -0.062004009366031745,
          0.9514492770580866,
          -0.36650702036805183,
          -1.703871586826719,
          -0.9244659881295544,
          1.5628887685081978,
          -0.2739930818293042,
          -0.24338397937501807,
          -0.29983819627488056,
          1.904136589573007,
          1.6259589153620633,
          2.218780233448134,
          -0.1590452104000513,
          0.29562448874709507,
          -1.5166425494207911,
          1.4769344261182744,
          -1.167779551267935,
          0.2167755637626291,
          -1.097302527632844,
          -0.5888668267386961,
          -0.8372624310497003,
          -0.6078752606758179,
          -0.5391227031489786,
          -0.5482687949250771,
          0.8333339117803071,
          -1.10486279306252,
          0.22054142701386686,
          1.2179591523055584,
          -0.513196364513396,
          -0.7179188907476018,
          -0.23052462518025083,
          1.1797252083607102,
          0.1941076309533577,
          -0.5312142946075985,
          0.48387665118803974,
          -1.1022921498364233,
          0.681359510442948,
          0.4086073077017676,
          -0.3078084711388841,
          -0.838585798447231,
          -0.8866809222834573,
          0.5348173363459102,
          1.2289805024890619,
          -0.6373077470287948,
          0.45838670355148425,
          -2.0870270186020687,
          -0.5846177306571996,
          -0.031058932870901952,
          -0.9096834169818336,
          -0.936506374789596,
          -0.6677795564688862,
          0.29219272832637316,
          -0.1873290184063747,
          -2.238231233324972,
          -2.120700152635066,
          -0.6068651778571754,
          0.45768658605355206,
          -2.7475048427252347,
          -0.4997301761516306,
          -0.5262478565174211,
          1.3883377782084478,
          -0.38502181171286365,
          0.38298898474092846,
          0.14125714008746323,
          -2.1305664798072006,
          0.7682072166317373,
          0.21539650545628794,
          0.5082686396745896,
          3.9262377064363267,
          -2.0841129394985884,
          1.7246966497611085,
          -0.28744751940035557,
          0.2873289044030093,
          -0.04551224530124217,
          -0.4242363333980435,
          -0.5698329282387588,
          0.32950873557300914,
          -1.5171736966716791,
          0.7505791675217656,
          -0.41619440488525394,
          -1.1300693390403578,
          -0.4500128579958137,
          1.2571492168625729,
          -0.5353350870162231,
          0.35845361820962024,
          -0.7309562757154733,
          0.7579218499236196,
          0.6855077387902041,
          1.8486088332964115,
          -0.1755639454992155,
          0.6686548047579066,
          0.09806753953894455,
          1.2958717818630143,
          -0.7188323876087304,
          0.7450053128772811,
          -0.19469729611668168,
          -0.06418817710849775,
          0.09175248444837286,
          0.2522403964266774,
          -0.11622904312195817,
          0.21471318317052634,
          1.5781180575621845,
          0.9854496856152184,
          0.8691545924968965,
          -0.4555395260238707,
          -0.8892408282283243,
          0.9553005582377528,
          0.8760467925297942,
          1.472670675750982,
          -0.6039806259692295,
          -0.22954865536034708,
          -1.6394841625254342,
          -0.39247110606087293,
          0.9965705105794472,
          -0.46649537922819795,
          0.6404797952008238,
          -0.19050310599781134,
          0.32405702822156063,
          -1.1476913898156673,
          0.08520944963390106,
          -2.9911359709007233,
          -0.18689615816198485,
          -1.6304732437151401,
          1.205994516546816,
          0.7774073527645112,
          0.46667098196608103,
          1.52100622715938,
          -0.9489165208248372,
          1.7473631979155582,
          0.9321915642603847,
          -0.23655528721894603,
          1.1356201471829441,
          -1.1062935124116342,
          -0.8245141615276735,
          -0.6085897232397004,
          -0.5289777080640152,
          -1.0565576427602528,
          1.223083067095325,
          -0.25885440036983165,
          0.35250496835687956,
          -0.5703513664136806,
          -1.8206033005485172,
          0.2700573583914221,
          -1.9122549754197768,
          -0.06863404608546861,
          -1.3683150388328105,
          1.987275999230808,
          0.9113627221747217,
          0.10575379127148042,
          1.2637066776546686,
          -0.8463159774657358,
          0.543479378670093,
          0.1998104337187135,
          0.26402008133367,
          1.2723535001067678,
          0.7324921027798023,
          0.28872366282502326,
          -1.6548874362282961,
          -0.9600462952794637,
          -0.12270893359572414,
          0.09337237427665124,
          -1.1302037246739238,
          2.411676675578421,
          1.5163940552535728,
          0.6021183203924835,
          0.07203686128374476,
          -0.21220896990115168,
          -0.9519184600222356,
          0.07748051851886253,
          0.2577525401427507,
          -1.2417605754816243,
          0.33417641724489744,
          -0.15525904882474875,
          -1.907807557877391,
          -0.8603850107795019,
          -0.41360553342164424,
          1.8876876573401904,
          0.5565531245337582,
          -1.3354815690998914,
          0.486036289417637,
          -1.5473039889383655,
          1.0826910538870733,
          -0.4711246518178786,
          -0.09363618873917084,
          1.32579664754219,
          -1.28716356858425,
          -1.3971181851129912,
          -0.5835993263460049,
          1.0383788510193166,
          -1.5193460754768424,
          -2.832155598110569,
          -0.4511588584089988,
          0.5517407999109204,
          1.2002617497388293,
          -0.463161362085399,
          -0.41142660711600243,
          1.1539007342557472,
          -1.8697416996954206,
          -0.38852077518300926,
          0.19042388992505774,
          0.44921872128503426,
          -0.5098066931908826,
          0.03444101170584135,
          -2.4883273534129895,
          -0.6582484123338483,
          0.4535087125544674,
          -0.9822940342546795,
          0.058984221589597374,
          0.446872500802698,
          -0.34254920085776497,
          0.1704637709965709,
          -0.9627325652846123,
          -0.20661127969604665,
          0.6102161695892225,
          0.15697296096843422,
          -0.5865312695639355,
          0.224216404290793,
          0.714609790636618,
          -2.049941278577478,
          1.1590740649558977,
          -0.336254738681072,
          0.42548993324023027,
          1.197246923645228,
          -1.371673697230466,
          -0.7094410024275466,
          -0.2885486958757048,
          -0.7837535211244283,
          1.7349365758368085,
          -0.8567720938267928,
          -0.5555467794868666,
          0.20438903160297678,
          -1.2021495260760888,
          -0.39568071175626385,
          0.31745326125017514,
          -0.33286040438251124,
          -0.09338685889994829,
          -0.5293321124483709,
          -1.514470309180767,
          0.32159321133923857,
          1.7549330716472415,
          0.01840163078343813,
          0.22526411724754952,
          0.6927227551168594,
          -1.2693304965466992,
          1.7025146581296056,
          0.20232879642280202,
          1.631856899089109,
          -0.7330329955239894,
          1.8180619225578247,
          0.7751554940347831,
          0.5530400858523584,
          0.23402445435314795,
          -0.24852861807444937,
          1.2005316584738726,
          0.14035986984804696,
          -1.9670697035871523,
          -1.1171864617070024,
          -0.1858457521927473,
          0.3099989831655551,
          -0.05658848889989584,
          1.2189707897936632,
          -1.9511018640386248,
          0.1435879365051602,
          -1.8179792253871547,
          0.7597122954841684,
          -0.09445871444200275,
          0.41960997202411815,
          -0.8638829605897661,
          1.279464931657751,
          1.0417246640588513,
          0.5835443030118876,
          -0.12951724686344077,
          0.5798572852951321,
          -0.7068925679873489,
          0.8555556590207121,
          1.649480894323921,
          1.0706105599791862,
          -0.7296024698074095,
          0.3614173172731029,
          -1.2931415437586478,
          0.5723903111756757,
          0.45060341286253885,
          -1.869816339532164,
          -1.1617838439123638,
          -0.28313889674376713,
          -0.30085974714082625,
          -1.2094769354188053,
          0.38897872935218375,
          0.2514736089405121,
          -0.1942691319785193,
          -0.7557915001583629,
          1.0487071264165635,
          1.6554071130882952,
          -0.4835614838465371,
          -0.6121669171548207,
          0.4912076654119963,
          -0.35802937974698623,
          -0.13939720066323416,
          0.7396531517246714,
          -1.9093560875072928,
          1.3183023248526693,
          0.07268052432934134,
          -0.4114931445621802,
          -0.08923415422144892,
          -0.03757064497948127,
          -1.7312013034449254,
          1.494938227453236,
          0.041325632270618466,
          0.4430021304473752,
          0.9515497705740428,
          -1.0211624575603002,
          0.47347189903522846,
          -0.26764109089879357,
          0.8467707752164937,
          -2.1272274203514954,
          -0.099094300241269,
          -0.6028206557839616,
          0.4322629506341555,
          0.47004418736820214,
          -0.7076258948220261,
          -0.7121738641760436,
          -0.11066536855732945,
          -0.8966422273152082,
          0.8419836954521269,
          -0.36920720044744615,
          -2.9069882193216414,
          -0.3748220566218061,
          -1.0385438208439723,
          -1.6312758154609455,
          -1.2374266382225725,
          0.10940847183297006,
          1.3286408282482312,
          0.31318447386498,
          -0.6065033882157397,
          0.4559041951707027,
          -0.45909031021899177,
          -0.6946003691631446,
          -1.1543626682329844,
          -1.7518288067517191,
          -0.3899237065594453,
          0.15805348992013185,
          -0.09662367001488972,
          -0.4159669279473586,
          -0.9457460606967811,
          0.6082461916849685,
          -1.317131919946585,
          0.7760279138434754,
          -1.0022170189267248,
          -0.752435237353035,
          -1.466785190615677,
          -0.5014021468856367,
          0.9753124584779789,
          0.5156280884439565,
          0.9784221120280351,
          0.5221425459339358,
          -1.1036698285303692,
          -0.33078922432755736,
          -0.7801991291174627,
          1.3305749040390402,
          -1.1967886464263116,
          0.8936976893891109,
          0.8929538701087693,
          1.8296202017160872,
          -0.40968659262949736,
          0.7123221595801621,
          2.2816518365388427,
          -0.6176416769336966,
          -1.5350402475323597,
          -1.8800100339077637,
          0.7127120288613313,
          -1.8831502080585838,
          -0.37231905293792283,
          0.4373131870389607,
          0.18517553682991406,
          0.42544486418417227,
          0.22228985580085406,
          1.2788658133133932,
          -0.952316380738797,
          -0.6769951384585313,
          -0.772659445270824,
          0.8301918118626102,
          0.9003985883950636,
          0.4512253193185082,
          1.1834936668899279,
          -1.1780408673763807,
          1.667224111551137,
          1.5232386217122582,
          0.7356219972457467,
          1.78179890877106,
          -1.6566232076777738,
          -0.5244481362626519,
          -0.7353034606819523,
          0.7214793237573432,
          -1.0501407396021456,
          0.7574951493374855,
          1.3705361439967134,
          0.6952029000839993,
          0.2837510236615011,
          -0.9878733409007492,
          -0.8468509661253646,
          1.2496189052966666,
          0.7793490039053323,
          -0.03901951937754412,
          -0.41790954576589057,
          -2.025807873111377,
          -1.0708524186844388,
          1.9114190871397234,
          -1.2804555710024668,
          0.18947982122108065,
          1.0074439731951985,
          -1.2549226680022925,
          0.1847104747810833,
          0.937915537510655,
          0.012499321907250335,
          2.8684030556667683,
          -1.6685992588781953,
          1.0587285298838789,
          -0.17280173739646437,
          0.7719201548366751,
          0.44130715169924584,
          -0.7331561971099966,
          0.22899639245934025,
          -1.8579014513982872,
          0.6032475005713938,
          0.29815846599052565,
          0.6386601686431024,
          1.0581183250871502,
          0.3676198402097109,
          0.1480894197982762,
          -0.8810683366612923,
          -0.712220763649051,
          1.186734620177331,
          1.4363354057059785,
          -0.23811043631205406,
          0.04600274725327412,
          -0.9046143749937661,
          1.1727568452674448,
          0.6654168236917787,
          1.9412174364637491,
          -0.8783230771797389,
          -0.3780078990182172,
          0.2314459225255723,
          0.6464895377257707,
          -0.21566763754763232,
          -0.8729610904537004,
          0.8814075289235711,
          0.7211353625455816,
          -0.9162741005637249,
          1.3554428011054958,
          1.1701987091966037,
          0.13429649724779288,
          0.07959786237603639,
          0.5540577711159071,
          -0.8617030702562581,
          0.03003147916408217,
          -2.1523835446091804,
          0.8764556455029355,
          -1.5614932224418594,
          1.503419828428999,
          -0.3301200939664503,
          -0.2116669819311769,
          -0.6277339060845056,
          -0.2880388739220764,
          1.4185313451480366,
          -2.4878086565350794,
          1.2769653860881878,
          0.33802348110170816,
          -1.2070216478572156,
          -1.0753123930492379,
          1.676393027208203,
          -0.9455068799427312,
          -1.1533505105959594,
          1.1373145423647293,
          0.33855287628591424,
          -0.9379255765363989,
          0.216624975404619,
          -1.0257526836402773,
          1.1008213984226052,
          1.0613709648731335,
          0.5320061988219431,
          0.3616610612470166,
          1.7611881248673737,
          -0.0003136726117747121,
          -1.1818741254208012,
          0.44947391283230687,
          2.0860470495371137,
          -1.0147594931858521,
          -0.36146276669398575,
          0.41644603810145264,
          -0.05390484900573916,
          -0.9823035803773146,
          1.1218578562304709,
          2.3200407220172594,
          0.19613145902390733,
          -0.9040682897360003,
          -1.548960525053475,
          0.2579759812211809,
          1.1038773433162576,
          0.4751677464953816,
          -0.002403840918853844,
          -0.5892716517893062,
          -1.0921636327180897,
          0.8347513263248821,
          0.9137716213855857,
          -1.5457297866907331,
          1.5898389781806839,
          0.5740712208940013,
          1.3995946451457935,
          -1.342127748485115,
          -1.365824155415439,
          -0.14896930976729691,
          0.5027844268951942,
          1.7963608229269636,
          0.7060789138151315,
          -0.24268127681203333,
          -1.0263692076658921,
          1.23000057271915,
          -0.9647054257507148,
          1.6284685547723217,
          -0.28438464960650933,
          1.5905820726178503,
          0.6789312900592783,
          -0.13699548944245826
         ],
         "xaxis": "x",
         "yaxis": "y"
        }
       ],
       "layout": {
        "barmode": "relative",
        "legend": {
         "title": {
          "text": "variable"
         },
         "tracegroupgap": 0
        },
        "margin": {
         "t": 60
        },
        "template": {
         "data": {
          "bar": [
           {
            "error_x": {
             "color": "#2a3f5f"
            },
            "error_y": {
             "color": "#2a3f5f"
            },
            "marker": {
             "line": {
              "color": "#E5ECF6",
              "width": 0.5
             },
             "pattern": {
              "fillmode": "overlay",
              "size": 10,
              "solidity": 0.2
             }
            },
            "type": "bar"
           }
          ],
          "barpolar": [
           {
            "marker": {
             "line": {
              "color": "#E5ECF6",
              "width": 0.5
             },
             "pattern": {
              "fillmode": "overlay",
              "size": 10,
              "solidity": 0.2
             }
            },
            "type": "barpolar"
           }
          ],
          "carpet": [
           {
            "aaxis": {
             "endlinecolor": "#2a3f5f",
             "gridcolor": "white",
             "linecolor": "white",
             "minorgridcolor": "white",
             "startlinecolor": "#2a3f5f"
            },
            "baxis": {
             "endlinecolor": "#2a3f5f",
             "gridcolor": "white",
             "linecolor": "white",
             "minorgridcolor": "white",
             "startlinecolor": "#2a3f5f"
            },
            "type": "carpet"
           }
          ],
          "choropleth": [
           {
            "colorbar": {
             "outlinewidth": 0,
             "ticks": ""
            },
            "type": "choropleth"
           }
          ],
          "contour": [
           {
            "colorbar": {
             "outlinewidth": 0,
             "ticks": ""
            },
            "colorscale": [
             [
              0,
              "#0d0887"
             ],
             [
              0.1111111111111111,
              "#46039f"
             ],
             [
              0.2222222222222222,
              "#7201a8"
             ],
             [
              0.3333333333333333,
              "#9c179e"
             ],
             [
              0.4444444444444444,
              "#bd3786"
             ],
             [
              0.5555555555555556,
              "#d8576b"
             ],
             [
              0.6666666666666666,
              "#ed7953"
             ],
             [
              0.7777777777777778,
              "#fb9f3a"
             ],
             [
              0.8888888888888888,
              "#fdca26"
             ],
             [
              1,
              "#f0f921"
             ]
            ],
            "type": "contour"
           }
          ],
          "contourcarpet": [
           {
            "colorbar": {
             "outlinewidth": 0,
             "ticks": ""
            },
            "type": "contourcarpet"
           }
          ],
          "heatmap": [
           {
            "colorbar": {
             "outlinewidth": 0,
             "ticks": ""
            },
            "colorscale": [
             [
              0,
              "#0d0887"
             ],
             [
              0.1111111111111111,
              "#46039f"
             ],
             [
              0.2222222222222222,
              "#7201a8"
             ],
             [
              0.3333333333333333,
              "#9c179e"
             ],
             [
              0.4444444444444444,
              "#bd3786"
             ],
             [
              0.5555555555555556,
              "#d8576b"
             ],
             [
              0.6666666666666666,
              "#ed7953"
             ],
             [
              0.7777777777777778,
              "#fb9f3a"
             ],
             [
              0.8888888888888888,
              "#fdca26"
             ],
             [
              1,
              "#f0f921"
             ]
            ],
            "type": "heatmap"
           }
          ],
          "heatmapgl": [
           {
            "colorbar": {
             "outlinewidth": 0,
             "ticks": ""
            },
            "colorscale": [
             [
              0,
              "#0d0887"
             ],
             [
              0.1111111111111111,
              "#46039f"
             ],
             [
              0.2222222222222222,
              "#7201a8"
             ],
             [
              0.3333333333333333,
              "#9c179e"
             ],
             [
              0.4444444444444444,
              "#bd3786"
             ],
             [
              0.5555555555555556,
              "#d8576b"
             ],
             [
              0.6666666666666666,
              "#ed7953"
             ],
             [
              0.7777777777777778,
              "#fb9f3a"
             ],
             [
              0.8888888888888888,
              "#fdca26"
             ],
             [
              1,
              "#f0f921"
             ]
            ],
            "type": "heatmapgl"
           }
          ],
          "histogram": [
           {
            "marker": {
             "pattern": {
              "fillmode": "overlay",
              "size": 10,
              "solidity": 0.2
             }
            },
            "type": "histogram"
           }
          ],
          "histogram2d": [
           {
            "colorbar": {
             "outlinewidth": 0,
             "ticks": ""
            },
            "colorscale": [
             [
              0,
              "#0d0887"
             ],
             [
              0.1111111111111111,
              "#46039f"
             ],
             [
              0.2222222222222222,
              "#7201a8"
             ],
             [
              0.3333333333333333,
              "#9c179e"
             ],
             [
              0.4444444444444444,
              "#bd3786"
             ],
             [
              0.5555555555555556,
              "#d8576b"
             ],
             [
              0.6666666666666666,
              "#ed7953"
             ],
             [
              0.7777777777777778,
              "#fb9f3a"
             ],
             [
              0.8888888888888888,
              "#fdca26"
             ],
             [
              1,
              "#f0f921"
             ]
            ],
            "type": "histogram2d"
           }
          ],
          "histogram2dcontour": [
           {
            "colorbar": {
             "outlinewidth": 0,
             "ticks": ""
            },
            "colorscale": [
             [
              0,
              "#0d0887"
             ],
             [
              0.1111111111111111,
              "#46039f"
             ],
             [
              0.2222222222222222,
              "#7201a8"
             ],
             [
              0.3333333333333333,
              "#9c179e"
             ],
             [
              0.4444444444444444,
              "#bd3786"
             ],
             [
              0.5555555555555556,
              "#d8576b"
             ],
             [
              0.6666666666666666,
              "#ed7953"
             ],
             [
              0.7777777777777778,
              "#fb9f3a"
             ],
             [
              0.8888888888888888,
              "#fdca26"
             ],
             [
              1,
              "#f0f921"
             ]
            ],
            "type": "histogram2dcontour"
           }
          ],
          "mesh3d": [
           {
            "colorbar": {
             "outlinewidth": 0,
             "ticks": ""
            },
            "type": "mesh3d"
           }
          ],
          "parcoords": [
           {
            "line": {
             "colorbar": {
              "outlinewidth": 0,
              "ticks": ""
             }
            },
            "type": "parcoords"
           }
          ],
          "pie": [
           {
            "automargin": true,
            "type": "pie"
           }
          ],
          "scatter": [
           {
            "fillpattern": {
             "fillmode": "overlay",
             "size": 10,
             "solidity": 0.2
            },
            "type": "scatter"
           }
          ],
          "scatter3d": [
           {
            "line": {
             "colorbar": {
              "outlinewidth": 0,
              "ticks": ""
             }
            },
            "marker": {
             "colorbar": {
              "outlinewidth": 0,
              "ticks": ""
             }
            },
            "type": "scatter3d"
           }
          ],
          "scattercarpet": [
           {
            "marker": {
             "colorbar": {
              "outlinewidth": 0,
              "ticks": ""
             }
            },
            "type": "scattercarpet"
           }
          ],
          "scattergeo": [
           {
            "marker": {
             "colorbar": {
              "outlinewidth": 0,
              "ticks": ""
             }
            },
            "type": "scattergeo"
           }
          ],
          "scattergl": [
           {
            "marker": {
             "colorbar": {
              "outlinewidth": 0,
              "ticks": ""
             }
            },
            "type": "scattergl"
           }
          ],
          "scattermapbox": [
           {
            "marker": {
             "colorbar": {
              "outlinewidth": 0,
              "ticks": ""
             }
            },
            "type": "scattermapbox"
           }
          ],
          "scatterpolar": [
           {
            "marker": {
             "colorbar": {
              "outlinewidth": 0,
              "ticks": ""
             }
            },
            "type": "scatterpolar"
           }
          ],
          "scatterpolargl": [
           {
            "marker": {
             "colorbar": {
              "outlinewidth": 0,
              "ticks": ""
             }
            },
            "type": "scatterpolargl"
           }
          ],
          "scatterternary": [
           {
            "marker": {
             "colorbar": {
              "outlinewidth": 0,
              "ticks": ""
             }
            },
            "type": "scatterternary"
           }
          ],
          "surface": [
           {
            "colorbar": {
             "outlinewidth": 0,
             "ticks": ""
            },
            "colorscale": [
             [
              0,
              "#0d0887"
             ],
             [
              0.1111111111111111,
              "#46039f"
             ],
             [
              0.2222222222222222,
              "#7201a8"
             ],
             [
              0.3333333333333333,
              "#9c179e"
             ],
             [
              0.4444444444444444,
              "#bd3786"
             ],
             [
              0.5555555555555556,
              "#d8576b"
             ],
             [
              0.6666666666666666,
              "#ed7953"
             ],
             [
              0.7777777777777778,
              "#fb9f3a"
             ],
             [
              0.8888888888888888,
              "#fdca26"
             ],
             [
              1,
              "#f0f921"
             ]
            ],
            "type": "surface"
           }
          ],
          "table": [
           {
            "cells": {
             "fill": {
              "color": "#EBF0F8"
             },
             "line": {
              "color": "white"
             }
            },
            "header": {
             "fill": {
              "color": "#C8D4E3"
             },
             "line": {
              "color": "white"
             }
            },
            "type": "table"
           }
          ]
         },
         "layout": {
          "annotationdefaults": {
           "arrowcolor": "#2a3f5f",
           "arrowhead": 0,
           "arrowwidth": 1
          },
          "autotypenumbers": "strict",
          "coloraxis": {
           "colorbar": {
            "outlinewidth": 0,
            "ticks": ""
           }
          },
          "colorscale": {
           "diverging": [
            [
             0,
             "#8e0152"
            ],
            [
             0.1,
             "#c51b7d"
            ],
            [
             0.2,
             "#de77ae"
            ],
            [
             0.3,
             "#f1b6da"
            ],
            [
             0.4,
             "#fde0ef"
            ],
            [
             0.5,
             "#f7f7f7"
            ],
            [
             0.6,
             "#e6f5d0"
            ],
            [
             0.7,
             "#b8e186"
            ],
            [
             0.8,
             "#7fbc41"
            ],
            [
             0.9,
             "#4d9221"
            ],
            [
             1,
             "#276419"
            ]
           ],
           "sequential": [
            [
             0,
             "#0d0887"
            ],
            [
             0.1111111111111111,
             "#46039f"
            ],
            [
             0.2222222222222222,
             "#7201a8"
            ],
            [
             0.3333333333333333,
             "#9c179e"
            ],
            [
             0.4444444444444444,
             "#bd3786"
            ],
            [
             0.5555555555555556,
             "#d8576b"
            ],
            [
             0.6666666666666666,
             "#ed7953"
            ],
            [
             0.7777777777777778,
             "#fb9f3a"
            ],
            [
             0.8888888888888888,
             "#fdca26"
            ],
            [
             1,
             "#f0f921"
            ]
           ],
           "sequentialminus": [
            [
             0,
             "#0d0887"
            ],
            [
             0.1111111111111111,
             "#46039f"
            ],
            [
             0.2222222222222222,
             "#7201a8"
            ],
            [
             0.3333333333333333,
             "#9c179e"
            ],
            [
             0.4444444444444444,
             "#bd3786"
            ],
            [
             0.5555555555555556,
             "#d8576b"
            ],
            [
             0.6666666666666666,
             "#ed7953"
            ],
            [
             0.7777777777777778,
             "#fb9f3a"
            ],
            [
             0.8888888888888888,
             "#fdca26"
            ],
            [
             1,
             "#f0f921"
            ]
           ]
          },
          "colorway": [
           "#636efa",
           "#EF553B",
           "#00cc96",
           "#ab63fa",
           "#FFA15A",
           "#19d3f3",
           "#FF6692",
           "#B6E880",
           "#FF97FF",
           "#FECB52"
          ],
          "font": {
           "color": "#2a3f5f"
          },
          "geo": {
           "bgcolor": "white",
           "lakecolor": "white",
           "landcolor": "#E5ECF6",
           "showlakes": true,
           "showland": true,
           "subunitcolor": "white"
          },
          "hoverlabel": {
           "align": "left"
          },
          "hovermode": "closest",
          "mapbox": {
           "style": "light"
          },
          "paper_bgcolor": "white",
          "plot_bgcolor": "#E5ECF6",
          "polar": {
           "angularaxis": {
            "gridcolor": "white",
            "linecolor": "white",
            "ticks": ""
           },
           "bgcolor": "#E5ECF6",
           "radialaxis": {
            "gridcolor": "white",
            "linecolor": "white",
            "ticks": ""
           }
          },
          "scene": {
           "xaxis": {
            "backgroundcolor": "#E5ECF6",
            "gridcolor": "white",
            "gridwidth": 2,
            "linecolor": "white",
            "showbackground": true,
            "ticks": "",
            "zerolinecolor": "white"
           },
           "yaxis": {
            "backgroundcolor": "#E5ECF6",
            "gridcolor": "white",
            "gridwidth": 2,
            "linecolor": "white",
            "showbackground": true,
            "ticks": "",
            "zerolinecolor": "white"
           },
           "zaxis": {
            "backgroundcolor": "#E5ECF6",
            "gridcolor": "white",
            "gridwidth": 2,
            "linecolor": "white",
            "showbackground": true,
            "ticks": "",
            "zerolinecolor": "white"
           }
          },
          "shapedefaults": {
           "line": {
            "color": "#2a3f5f"
           }
          },
          "ternary": {
           "aaxis": {
            "gridcolor": "white",
            "linecolor": "white",
            "ticks": ""
           },
           "baxis": {
            "gridcolor": "white",
            "linecolor": "white",
            "ticks": ""
           },
           "bgcolor": "#E5ECF6",
           "caxis": {
            "gridcolor": "white",
            "linecolor": "white",
            "ticks": ""
           }
          },
          "title": {
           "x": 0.05
          },
          "xaxis": {
           "automargin": true,
           "gridcolor": "white",
           "linecolor": "white",
           "ticks": "",
           "title": {
            "standoff": 15
           },
           "zerolinecolor": "white",
           "zerolinewidth": 2
          },
          "yaxis": {
           "automargin": true,
           "gridcolor": "white",
           "linecolor": "white",
           "ticks": "",
           "title": {
            "standoff": 15
           },
           "zerolinecolor": "white",
           "zerolinewidth": 2
          }
         }
        },
        "xaxis": {
         "anchor": "y",
         "domain": [
          0,
          1
         ],
         "title": {
          "text": "value"
         }
        },
        "yaxis": {
         "anchor": "x",
         "domain": [
          0,
          1
         ],
         "title": {
          "text": "count"
         }
        }
       }
      }
     },
     "metadata": {},
     "output_type": "display_data"
    }
   ],
   "source": [
    "outcomes = []\n",
    "for i in range(1000):\n",
    "    sample = np.random.normal (0,1)\n",
    "    outcomes.append(sample)\n",
    "    \n",
    "px.histogram(outcomes)"
   ]
  }
 ],
 "metadata": {
  "kernelspec": {
   "display_name": "Python 3",
   "language": "python",
   "name": "python3"
  },
  "language_info": {
   "codemirror_mode": {
    "name": "ipython",
    "version": 3
   },
   "file_extension": ".py",
   "mimetype": "text/x-python",
   "name": "python",
   "nbconvert_exporter": "python",
   "pygments_lexer": "ipython3",
   "version": "3.11.1"
  },
  "orig_nbformat": 4
 },
 "nbformat": 4,
 "nbformat_minor": 2
}
