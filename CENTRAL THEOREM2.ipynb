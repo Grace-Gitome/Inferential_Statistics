{
 "cells": [
  {
   "attachments": {},
   "cell_type": "markdown",
   "metadata": {},
   "source": [
    "The Central Limit Theorem(CLT) states that for any data, provided a high number of samples have been taken. The following properties hold:\n",
    "\n",
    "        Sampling Distribution Mean(μₓ¯) = Population Mean(μ)\n",
    "        Sampling distribution’s standard deviation (Standard error) = σ/√n ≈S/√n\n",
    "        For n > 30, the sampling distribution becomes a normal distribution.\n",
    "        Let’s verify the properties of CLT in Python through Jupyter Notebook.\n",
    "\n",
    "For the following Python code, we’ll use the datasets of Population and Random Values, which we can find here."
   ]
  },
  {
   "cell_type": "code",
   "execution_count": null,
   "metadata": {
    "vscode": {
     "languageId": "plaintext"
    }
   },
   "outputs": [],
   "source": [
    "# Packages\n",
    "import pandas as pd\n",
    "import numpy as np\n",
    "import matplotlib.pyplot as plt\n",
    "import seaborn as sns\n",
    "import scipy.stats as stats\n",
    "%matplotlib inline\n",
    "\n",
    "import warnings\n",
    "warnings.filterwarnings(\"ignore\")\n",
    "\n",
    "np.random.seed(42)"
   ]
  },
  {
   "cell_type": "code",
   "execution_count": null,
   "metadata": {
    "vscode": {
     "languageId": "plaintext"
    }
   },
   "outputs": [],
   "source": [
    "# Population\n",
    "#reading the dataset\n",
    "df = pd.read_excel('Population.xls')\n",
    "\n",
    "#Printing the dataset\n",
    "df"
   ]
  },
  {
   "cell_type": "code",
   "execution_count": null,
   "metadata": {
    "vscode": {
     "languageId": "plaintext"
    }
   },
   "outputs": [],
   "source": [
    "# Extracting Weight Column from the dataset\n",
    "df = df[['Weight']]\n",
    "df\n",
    "\n",
    "# Plotting the distribution graph using Seaborn Library\n",
    "sns.distplot(df.Weight)\n",
    "plt.show()\n",
    "\n",
    "# the chart is close to normal distribution"
   ]
  },
  {
   "cell_type": "code",
   "execution_count": null,
   "metadata": {
    "vscode": {
     "languageId": "plaintext"
    }
   },
   "outputs": [],
   "source": [
    "#Mran of the Weight Column\n",
    "df.Weight.mean()\n",
    "\n",
    "# Standard Deviation for the Weight Column\n",
    "df.Weight.std()"
   ]
  },
  {
   "attachments": {},
   "cell_type": "markdown",
   "metadata": {},
   "source": [
    "Mean = 220.67326732673268\n",
    "Std. Dev. = 26.643110470317723\n",
    "\n",
    "These values are the exact Mean and Standard Deviation values of the Weight Column.\n",
    "\n",
    "Now, let’s start sampling the data.\n",
    "\n",
    "First, we’ll take a sample size of 30 members from the data. The reason for that is, after repeated sampling of observations, we need to find if the sampling distribution follows Normal Distribution or not."
   ]
  },
  {
   "cell_type": "code",
   "execution_count": null,
   "metadata": {
    "vscode": {
     "languageId": "plaintext"
    }
   },
   "outputs": [],
   "source": [
    "df.Weight.std()/np.sqrt(samp_size)\n"
   ]
  },
  {
   "attachments": {},
   "cell_type": "markdown",
   "metadata": {},
   "source": [
    "We get the value of above code = 4.86\n",
    "\n",
    "The value is close to the sample_means.std().\n",
    "\n",
    "So, from the above code, we can infer that:\n",
    "\n",
    "    Sampling distribution’s mean (μₓ¯) = Population mean (μ)\n",
    "\n",
    "    Sampling distribution’s standard deviation (standard error) = σ/√n\n",
    "\n",
    "Till now, we have seen the original data of the “Weight” column is in the form of normal distribution. Let’s see whether the sample distribution will be of Normal Distribution form even if the original data is not in the Normal Distribution form."
   ]
  },
  {
   "cell_type": "code",
   "execution_count": null,
   "metadata": {
    "vscode": {
     "languageId": "plaintext"
    }
   },
   "outputs": [],
   "source": [
    "# Reading the data into Jupyter Notebook\n",
    "df1 = pd.read_csv(\"Random Values.csv\")\n",
    "\n",
    "# Printing the data\n",
    "df1\n",
    "\n",
    "# Plotting the Values column Matplolib\n",
    "df1.Values.plot.hist(bins=40)\n",
    "plt.show()"
   ]
  },
  {
   "attachments": {},
   "cell_type": "markdown",
   "metadata": {},
   "source": [
    " the Values column does not resemble the Normal Distribution graph. It looks somewhat like an exponential distribution.\n",
    "\n",
    "Let’s pick samples from this distribution, calculate their means, and plot the sampling distribution."
   ]
  },
  {
   "cell_type": "code",
   "execution_count": null,
   "metadata": {
    "vscode": {
     "languageId": "plaintext"
    }
   },
   "outputs": [],
   "source": [
    "# Taking a random sample of size 50 from the Values column\n",
    "samp_size = 50\n",
    "\n",
    "# Calculating the mean of every sample and converting it into Series Object\n",
    "sample_means = [df1.VAL.sample(samp_size).mean() for i in range(1000)]\n",
    "sample_means = pd.Series(sample_means)\n",
    "\n",
    "# Plotting the all the samples in a distribution plot using Seaborn\n",
    "sns.distplot(sample_means)\n",
    "plt.show()"
   ]
  },
  {
   "attachments": {},
   "cell_type": "markdown",
   "metadata": {},
   "source": [
    "The Distribution of the sample_means we obtainerom the Values Column, which is far from Normal Distribution, is still very much a Normal Distribution.d f"
   ]
  },
  {
   "attachments": {},
   "cell_type": "markdown",
   "metadata": {},
   "source": [
    "Let’s compare the sample_means Mean value to its parent Mean value.\n",
    "\n",
    "sample_means.mean()\n",
    "# The Output will be\n",
    "130.39213999999996\n",
    "df1.Value.mean()\n",
    "#The Output is\n",
    "130.4181654676259\n",
    "As we can see, the sample_means mean value and original dataset’s mean value are both similar.\n",
    "\n",
    "Similarly, the standard deviation of sample mean is sample_means.std() =13.263962580003142\n",
    "\n",
    "That value should be quite close to df1.Value.std()/np.sqrt(samp_size) =14.060457446377631"
   ]
  },
  {
   "cell_type": "code",
   "execution_count": null,
   "metadata": {
    "vscode": {
     "languageId": "plaintext"
    }
   },
   "outputs": [],
   "source": [
    "#Let’s compare the Distribution graphs of each Dataset with it’s corresponding sampling distribution.\n"
   ]
  },
  {
   "attachments": {},
   "cell_type": "markdown",
   "metadata": {},
   "source": [
    "As we can see, irrespective of the original dataset’s distribution, the sampling distribution resembles the Normal Distribution Curve.\n",
    "\n",
    "There’s only one thing to consider now, i.e., Sample Size. We’ll observe that, as the sample size increases, the sampling distribution will approximate a normal distribution even more closely.\n"
   ]
  },
  {
   "cell_type": "code",
   "execution_count": null,
   "metadata": {
    "vscode": {
     "languageId": "plaintext"
    }
   },
   "outputs": [],
   "source": [
    "#Effect of Sample Size on the Sampling Distribution\n",
    "# Different Sizes of Samples\n",
    "sample_sizes = [3, 10, 30, 50, 100, 200]\n",
    "\n",
    "# Plotting the distribution graphs for the above created Samples\n",
    "plt.figure(figsize=[10,7])\n",
    "for ind, samp_size in enumerate(sample_sizes):\n",
    "    sample_means = [df1.VAL.sample(samp_size).mean() for i in range(500)]\n",
    "    plt.subplot(2,3,ind+1)\n",
    "    sns.distplot(sample_means, bins=25)\n",
    "    plt.title(\"Sample size: \"+str(samp_size))\n",
    "plt.show()"
   ]
  },
  {
   "attachments": {},
   "cell_type": "markdown",
   "metadata": {},
   "source": [
    "As we can observe, the distribution graph for Sample Size 3 & 10 does not resemble Normal Distribution. Still, from the Sample Size 30 as the Sample Size increases, the Sample Distribution resembles Normal Distribution.\n",
    "\n",
    "As a rule of thumb, we can say that a sample size of 30 or above is ideal for concluding that the sampling distribution is nearly normal, and further inferences can be drawn from it.\n",
    "\n",
    "    Through this Python Code, we can conclude that CLT’s following three properties hold.\n",
    "\n",
    "    Sampling Distribution Mean(μₓ¯) = Population Mean(μ)\n",
    "\n",
    "    Sampling distribution’s standard deviation (Standard error) = σ/√n\n",
    "\n",
    "    For n > 30, the sampling distribution becomes a normal distribution.\n",
    "\n",
    "    Estimating Mean Using CLT\n",
    "\n",
    "    The mean commute time of 30000 employees (μ)= 36.6 (sample mean) + some margin of error. We can find this margin of error using the CLT (central limit theorem). Now that we know what the CLT is let’s see how we can find the error margin.\n",
    "\n",
    "Let’s say we have the mean commute time of 100 employees is X¯=36.6 min, and the Standard Deviation of the sample is S=10 min. Using CLT, we can infer that,\n",
    "\n",
    "    Sampling Distribution Mean(μₓ¯) = Population Mean(μ)\n",
    "\n",
    "    Sampling Distributions’ Standard Deviation = σ/√n ≈S/√n = 10/√100 = 1\n",
    "\n",
    "    Since Sampling Distribution is a Normal Distribution\n",
    "\n",
    "    P(μ-2 < 36.6 < μ+2) = 95.4%, we get this value by 1–2–3 Rule of Normal Distribution Curve.\n",
    "\n",
    "    P(μ-2 < 36.6 < μ+2) = P(36.6–2< μ < 36.6+2) = 95.4%"
   ]
  },
  {
   "attachments": {},
   "cell_type": "markdown",
   "metadata": {},
   "source": [
    "Now, we can say that there is a 95.4% probability that the Population Mean(μ) lies between (36.6–2, 36.6+2). In other words, we are 95.4% confident that the error in estimating the mean ≤ 2.\n",
    "\n",
    "Hence the probability associated with the claim is called confidence level (Here it is 95.4%).\n",
    "The maximum error made in the sample mean is called the margin of error (Here it is 2min).\n",
    "The final interval of value is called confidence interval {Here it is: (34.6, 38.6)}\n",
    "\n",
    "We can generalize this concept in the following manner.\n",
    "\n",
    "Let’s say that we have a sample with sample size n, mean X¯, and standard deviation S. Now, the y% confidence interval (i.e., the confidence interval corresponding to a y% confidence level) for μ would be given by the range:\n",
    "\n",
    "Confidence interval = (X — (Z* S/√n), X + (Z* S/√n))\n",
    "\n",
    "where Z* is the Z-score associated with a y% confidence level."
   ]
  },
  {
   "cell_type": "code",
   "execution_count": null,
   "metadata": {
    "vscode": {
     "languageId": "plaintext"
    }
   },
   "outputs": [],
   "source": []
  }
 ],
 "metadata": {
  "language_info": {
   "name": "python"
  },
  "orig_nbformat": 4
 },
 "nbformat": 4,
 "nbformat_minor": 2
}
