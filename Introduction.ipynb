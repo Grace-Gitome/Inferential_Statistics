{
 "cells": [
  {
   "attachments": {},
   "cell_type": "markdown",
   "metadata": {},
   "source": [
    "# Introduction"
   ]
  },
  {
   "attachments": {},
   "cell_type": "markdown",
   "metadata": {},
   "source": [
    "Statistics referes to the mathematics and techniques with which we understand data.\n",
    "\n",
    "### Descriptive statistics\n",
    "Data analysis that summarizes data in a meaningful way such that patterns emerge from it.\n",
    "\n",
    "Measures such as mean, median, mode, standard deviation, variance, and quartiles fall under this category.\n",
    "\n",
    "\n",
    "### Inferential statistics\n",
    "Describing the larger picture of the analysis with a limited set of data and deriving conclusions from it.\n",
    "\n",
    "Techniques such as hypothesis testing, confidence intervals, and regression analysis are used for this purpose.\n",
    "\n"
   ]
  },
  {
   "attachments": {},
   "cell_type": "markdown",
   "metadata": {},
   "source": [
    "#### Key steps involved in inferential statistics.\n",
    "\n",
    "##### 1. Formulating a Hypothesis\n",
    "A hypothesis is a statement or assumption about a population parameter, such as the mean or proportion.\n",
    "**Null Hypothesis (H0)** -represents the status quo.\n",
    "**Alternative Hypothesis (Ha)** - proposes a specific claim or difference.\n",
    "\n",
    "Example:\n",
    "H0: There is no significant difference in the mean test scores between students who receive tututoring and those who do not.\n",
    "\n",
    "Ha:There is a significant difference in mean test scores between students who receive tutoring and those who do not.\n",
    "\n",
    "##### 2. Selecting a Sample\n",
    "A representative sample from the population of interestusing appropriate sampling techniques.\n",
    "\n",
    "##### 3. Collecting Data\n",
    "Data is collected from the selected sample using various methods such as surveys, experiments or observations.\n",
    "The data should be collected in a manner that minimizes bias and ensures its reliability and validity.\n",
    "\n",
    "##### 4. Analyzing the Data\n",
    "Statistical techniques are applied to the sample data to estimate population parameters and assess the strength if evidence dor or against the null hypothesis.\n",
    "Common techniques include: Hypothesis testing, Confidence Intervals and Regression Analysis.\n",
    "\n",
    "##### 5. Drawing Conclusions\n",
    "Based on the analysis of the sample data, conclusions are drawn about the population of interest.\n",
    "These conclusions may involve accepting or rejecting the null hypothessis, estimating population parameters or making predictions.\n"
   ]
  },
  {
   "attachments": {},
   "cell_type": "markdown",
   "metadata": {},
   "source": [
    "#### Common Techniques used in inferential statistics.\n",
    "These include:\n",
    "\n",
    "##### Hypothesis testing\n",
    "Assessing the evidence provided by the sample data to determine whether the evidence is srong enough to reject the null hypothesis in favor of alternate hypothesis.\n",
    "This is typically done by calculating a test statistic and comparing it to a critical value or calculating a p-value.\n",
    "\n",
    "##### Confidence Intervals\n",
    "It provides a range of values within which the population parameter is estimated to lie within a certain level of confidence.\n",
    "For example, a 95% confidence interval for the population mean indicates that we are 95% confident that the true population mean falls within that interval.\n",
    "\n",
    "##### Regression Analysis\n",
    "It is used to model and analyze the ralationship between one or more independent variables and a dependent variable.\n",
    "It helps understand the impact of the independent variables on the dependent variable and makes predictions or explanations based on the model.\n",
    "\n",
    "\n",
    "##### Analysis of Variance (ANOVA)\n",
    "ANOVA is used to compare the means of two or more groups to determine if there are statistically significant differences among them.\n",
    "It is commonly used when comparing means across different treatment groups or experimental conditions.\n"
   ]
  },
  {
   "attachments": {},
   "cell_type": "markdown",
   "metadata": {},
   "source": [
    "### Conclusion\n",
    "Inferential statistic allows Researchers and Data Scientists to make generalizations and draw conclusions beyond the specific data collected in a study.\n",
    "By using appropriate statistical techniques, they can estimate population parameters, make predictions, test hypothesis and gain insights into the larger population of interest."
   ]
  }
 ],
 "metadata": {
  "language_info": {
   "name": "python"
  },
  "orig_nbformat": 4
 },
 "nbformat": 4,
 "nbformat_minor": 2
}
