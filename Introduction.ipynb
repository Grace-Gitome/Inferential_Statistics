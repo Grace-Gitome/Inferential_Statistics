{
 "cells": [
  {
   "attachments": {},
   "cell_type": "markdown",
   "metadata": {},
   "source": [
    "# Introduction"
   ]
  },
  {
   "attachments": {},
   "cell_type": "markdown",
   "metadata": {},
   "source": [
    "Statistics referes to the mathematics and techniques with which we understand data.\n",
    "\n",
    "### Descriptive statistics\n",
    "Data analysis that summarizes data in a meaningful way such that patterns emerge from it.\n",
    "\n",
    "Measures such as mean, median, mode, standard deviation, variance, and quartiles fall under this category.\n",
    "\n",
    "\n",
    "### Inferential statistics\n",
    "Describing the larger picture of the analysis with a limited set of data and deriving conclusions from it.\n",
    "\n",
    "Techniques such as hypothesis testing, confidence intervals, and regression analysis are used for this purpose.\n",
    "\n",
    "### Descriptive versus Inferential statistics\n",
    "**Descriptive statistics** allow you to describe a data set, while **Inferential statistics** allow you to make inferences based on a data set.\n",
    "\n",
    "#### Descriptive statistics\n",
    "Using descriptive statistics, you can report characteristics of your data:\n",
    "- The **distribution** concerns the frequency of each value.\n",
    "- The **central tendency** concerns the averages of the values.\n",
    "- The **variability** concerns how spread out the values are.\n",
    "\n",
    "In descriptive statistics, there is no uncertainty – the statistics precisely describe the data that you collected. If you collect data from an entire population, you can directly compare these descriptive statistics to those from other populations.\n",
    "\n",
    "**An Example of Descriptive statistics**\n",
    "\n",
    "You collect data on the SAT scores of all 11th graders in a school for three years. You can use descriptive statistics to get a quick overview of the school’s scores in those years. You can then directly compare the mean SAT score with the mean scores of other schools.\n",
    "\n",
    "#### Inferential statistics\n",
    "Most of the time, you can only acquire data from samples, because it is too difficult or expensive to collect data from the whole population that you’re interested in.While descriptive statistics can only summarize a sample’s characteristics, inferential statistics use your sample to make reasonable guesses about the larger population.\n",
    "\n",
    "With inferential statistics, it’s important to use random and unbiased sampling methods. If your sample isn’t representative of your population, then you can’t make valid statistical inferences or generalize.\n",
    "\n",
    "**An Example of Inferential statistics**\n",
    "\n",
    "You randomly select a sample of 11th graders in your state and collect data on their SAT scores and other characteristics. You can use inferential statistics to make estimates and test hypotheses about the whole population of 11th graders in the state based on your sample data.\n",
    "\n",
    "*Sampling error in inferential statistics*\n",
    "\n",
    "Since the size of a sample is always smaller than the size of the population, some of the population isn’t captured by sample data. This creates sampling error, which is the difference between the true population values (called parameters) and the measured sample values (called statistics).\n",
    "\n",
    "\n",
    "Sampling error arises any time you use a sample, even if your sample is random and unbiased. For this reason, there is always some uncertainty in inferential statistics. However, using probability sampling methods reduces this uncertainty.\n",
    "\n"
   ]
  },
  {
   "attachments": {},
   "cell_type": "markdown",
   "metadata": {},
   "source": [
    "#### Key steps involved in inferential statistics.\n",
    "\n",
    "##### 1. Formulating a Hypothesis\n",
    "A hypothesis is a statement or assumption about a population parameter, such as the mean or proportion.\n",
    "\n",
    "**Null Hypothesis (H0)** -represents the status quo.\n",
    "\n",
    "**Alternative Hypothesis (Ha)** - proposes a specific claim or difference.\n",
    "\n",
    "Example:\n",
    "\n",
    "**H0**: There is no significant difference in the mean test scores between students who receive tututoring and those who do not.\n",
    "\n",
    "**Ha**: There is a significant difference in mean test scores between students who receive tutoring and those who do not.\n",
    "\n",
    "##### 2. Selecting a Sample\n",
    "A representative sample from the population of interesting appropriate sampling techniques.\n",
    "\n",
    "##### 3. Collecting Data\n",
    "Data is collected from the selected sample using various methods such as surveys, experiments or observations.\n",
    "The data should be collected in a manner that minimizes bias and ensures its reliability and validity.\n",
    "\n",
    "##### 4. Analyzing the Data\n",
    "Statistical techniques are applied to the sample data to estimate population parameters and assess the strength if evidence dor or against the null hypothesis.\n",
    "Common techniques include: Hypothesis testing, Confidence Intervals and Regression Analysis.\n",
    "\n",
    "##### 5. Drawing Conclusions\n",
    "Based on the analysis of the sample data, conclusions are drawn about the population of interest.\n",
    "These conclusions may involve accepting or rejecting the null hypothessis, estimating population parameters or making predictions.\n"
   ]
  },
  {
   "attachments": {},
   "cell_type": "markdown",
   "metadata": {},
   "source": [
    "#### Common Techniques used in inferential statistics.\n",
    "These include:\n",
    "\n",
    "##### Hypothesis testing\n",
    "Assessing the evidence provided by the sample data to determine whether the evidence is strong enough to reject the null hypothesis in favor of alternate hypothesis.\n",
    "This is typically done by calculating a test statistic and comparing it to a critical value or calculating a p-value.\n",
    "\n",
    "##### Confidence Intervals\n",
    "It provides a range of values within which the population parameter is estimated to lie within a certain level of confidence.\n",
    "For example, a 95% confidence interval for the population mean indicates that we are 95% confident that the true population mean falls within that interval.\n",
    "\n",
    "##### Regression Analysis\n",
    "It is used to model and analyze the ralationship between one or more independent variables and a dependent variable.\n",
    "It helps understand the impact of the independent variables on the dependent variable and makes predictions or explanations based on the model.\n",
    "\n",
    "![Alt text](image-20.png)\n",
    "\n",
    "\n",
    "##### Correlation tests\n",
    "**Correlation tests** determine the extent to which two variables are associated.\n",
    "\n",
    "Although **Pearson’s r** is the most statistically powerful test, **Spearman’s r** is appropriate for interval and ratio variables when the data doesn’t follow a normal distribution.\n",
    "\n",
    "The chi square test of independence is the only test that can be used with nominal variables.\n",
    "\n",
    "![Alt text](image-19.png)\n",
    "\n",
    "##### Comparison tests\n",
    "**Comparison tests** assess whether there are differences in means, medians or rankings of scores of two or more groups.\n",
    "\n",
    "To decide which test suits your aim, consider whether your data meets the conditions necessary for parametric tests, the number of samples, and the levels of measurement of your variables.\n",
    "\n",
    "Means can only be found for interval or ratio data, while medians and rankings are more appropriate measures for **ordinal data**.\n",
    "\n",
    "Ordinal data -  is classified into categories within a variable that have a natural rank order. \n",
    "\n",
    "![Alt text](image-21.png)\n",
    "\n",
    "**Types of comparison tests:**\n",
    "\n",
    "![Alt text](image-22.png)\n"
   ]
  },
  {
   "attachments": {},
   "cell_type": "markdown",
   "metadata": {},
   "source": [
    "# Practical examples"
   ]
  },
  {
   "attachments": {},
   "cell_type": "markdown",
   "metadata": {},
   "source": [
    "### Confidence Interval "
   ]
  },
  {
   "cell_type": "code",
   "execution_count": 3,
   "metadata": {},
   "outputs": [
    {
     "name": "stdout",
     "output_type": "stream",
     "text": [
      "Sample Mean: 47.669047711024724\n",
      "Confidence Interval: (45.72993542441857, 49.60815999763088)\n"
     ]
    }
   ],
   "source": [
    "#import libraries\n",
    "import numpy as np\n",
    "import scipy.stats as stats\n",
    "\n",
    "# Generate a sample dataset\n",
    "dataset = np.random.normal(loc=50, scale=10, size=100)\n",
    "\n",
    "# Calculate the sample mean and standard deviation\n",
    "sample_mean = np.mean(dataset)\n",
    "sample_std = np.std(dataset, ddof=1)  # Set ddof=1 for sample standard deviation\n",
    "\n",
    "# Set the desired confidence level\n",
    "confidence_level = 0.95\n",
    "\n",
    "# Calculate the critical value based on the confidence level\n",
    "z_critical = stats.norm.ppf((1 + confidence_level) / 2)\n",
    "\n",
    "# Calculate the margin of error\n",
    "margin_of_error = z_critical * (sample_std / np.sqrt(len(dataset)))\n",
    "\n",
    "# Calculate the confidence interval\n",
    "confidence_interval = (sample_mean - margin_of_error, sample_mean + margin_of_error)\n",
    "\n",
    "# Print the results\n",
    "print(\"Sample Mean:\", sample_mean)\n",
    "print(\"Confidence Interval:\", confidence_interval)"
   ]
  },
  {
   "attachments": {},
   "cell_type": "markdown",
   "metadata": {},
   "source": [
    "**Explanation** <br>\n",
    "*numpy.random.normal* - generate a dataset with a mean of 50 and a standard deviation of 10.<br>\n",
    "*np.mean* - calculate the sample mean of the dataset <br>\n",
    "*np.st* - sample standard deviation of the dataset "
   ]
  },
  {
   "attachments": {},
   "cell_type": "markdown",
   "metadata": {},
   "source": [
    "### Conclusion\n",
    "Inferential statistic allows Researchers and Data Scientists to make generalizations and draw conclusions beyond the specific data collected in a study.\n",
    "By using appropriate statistical techniques, they can estimate population parameters, make predictions, test hypothesis and gain insights into the larger population of interest."
   ]
  }
 ],
 "metadata": {
  "kernelspec": {
   "display_name": "Python 3",
   "language": "python",
   "name": "python3"
  },
  "language_info": {
   "codemirror_mode": {
    "name": "ipython",
    "version": 3
   },
   "file_extension": ".py",
   "mimetype": "text/x-python",
   "name": "python",
   "nbconvert_exporter": "python",
   "pygments_lexer": "ipython3",
   "version": "3.11.1"
  },
  "orig_nbformat": 4
 },
 "nbformat": 4,
 "nbformat_minor": 2
}
