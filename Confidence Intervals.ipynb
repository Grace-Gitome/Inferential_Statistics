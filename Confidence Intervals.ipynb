{
 "cells": [
  {
   "attachments": {},
   "cell_type": "markdown",
   "metadata": {},
   "source": [
    "## CASE STUDY: The 'Chips Ahoy! 1000 Chips Challenge'\n",
    "\n",
    "Nabisco, the maker of the Chips Ahoy! cookies, challenged students across the nation to confirm the cookie maker's claim that there are (at least) 1000 chocolate chips in every 18-ounce bag of Chips Ahoy! cookies. According to the folks at Nabisco, a chocolate chip is defined as      \"... any distinct piece of chocolate that is baked into or on top of the cookie dough regardless of whether ot not it is 100% whole.\" Students competed for $25,000 in scholarships and other prizes for participating in the Challenge.\n",
    "\n",
    "As reported by Brad Warner and Jim Rutledge in the paper \"Checking the  Chips Ahoy! Guarantee\", one such group that participated in the Challenge was at the U.S Air Force Academy. With chocolate chips on their minds, cadets and faculty accepted the Challenge. Friends and families of the cadets sent 275 bags of Chips Ahoy! cookies from all over the country. From the 275 bags, 42 were randomly selected for the study, while the other bags wre used to keep cadet morale high during counting.\n",
    "\n",
    "For each of the 42 bags selected for the study, the cadets dissolved the cookies in water to separate the chips, and then counted the chips. the following table gives the number of chips per bag for these 42 bags.\n",
    "\n",
    "![Alt text](image-23.png)"
   ]
  }
 ],
 "metadata": {
  "kernelspec": {
   "display_name": "Python 3",
   "language": "python",
   "name": "python3"
  },
  "language_info": {
   "name": "python",
   "version": "3.11.1"
  },
  "orig_nbformat": 4
 },
 "nbformat": 4,
 "nbformat_minor": 2
}
