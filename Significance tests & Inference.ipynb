{
 "cells": [
  {
   "attachments": {},
   "cell_type": "markdown",
   "metadata": {},
   "source": [
    "# Significance tests and Inference\n",
    "\n",
    "- Hypothesis testing\n",
    "- Analysis of variance\n",
    "- t-test\n",
    "- Z-test Anova\n",
    "- One way Anova\n",
    "- Two way Anova\n",
    "- Chi square test"
   ]
  },
  {
   "attachments": {},
   "cell_type": "markdown",
   "metadata": {},
   "source": [
    "## Hypothesis Testing\n",
    "\n",
    "This is s statistical method used to make inferences or draw conclusion about a population based on a sample of data. It involves formulating a hypothesis about a population parameter and then collecting and analyzing data to determine whether the evidence supports or contradicts the hypothesis.\n",
    "\n",
    "### Terminologies used\n",
    "**Null Hypothesis (Ho)** - a statistical theory that suggests that no statistical significance exists between the populations (sample population versus whole population)\n",
    "\n",
    "**Alternative Hypothesis (Ha)** - it suggests there is a significant difference between the population parameters. Simply put, it is the contrast of the Null Hypothesis.<br>\n",
    "\n",
    "**Level of significance (α)** - It is a predefined threshold used in hypothesis testing to determine the critical region for making decisions about the null hypothesis.\n",
    "<br>\n",
    "The level of significance is chosen by the researcher before conducting the test and typically ranges from 0.01 to 0.10, with 0.05 being the most commonly used value. The significance level determines how strong the evidence must be against the null hypothesis in order to reject it.<br>\n",
    "\n",
    "Example:<br>\n",
    "If α =5%, that means we are okay to take a 5% risk and conclude there exists a difference when there is no actual difference.<br>\n",
    "\n",
    "**Critical value (C)** - A value in the distribution beyond which leads to the rejection of the Null Hypothesis. It is compared to the test statistic.<br>\n",
    "\n",
    "**Test Statistic (t)** - it is dependent on the test that we run. It is the decidig factor to reject or accept the Null Hypothesis. <br>\n",
    "\n",
    "*Types of Test Statistics:* <br>\n",
    "\n",
    "![Alt text](image-28.png)\n",
    "\n",
    "**P-value (p)** it is the propotion of samples (assuming the Null Hypothesis is true) that would be as extreme as the test statistic.<br>\n",
    "\n",
    "Example<br>\n",
    "Assume we are running a two-tailed Z-Test at 95% confidence. Then, the level of significance (α) = 5% = 0.05. Thus, we will have (1-α) = 0.95 proportion of data at the center, and α = 0.05 proportion will be equally shared to the two tails. Each tail will have (α/2) = 0.025 proportion of data. <br>\n",
    "The critical value i.e., Z95% or Zα/2 = 1.96 is calculated from the Z-scores table.<br>\n",
    "Take a look of a graphical illustration of the information above:\n",
    "\n",
    "![Alt text](image-29.png)\n",
    "\n",
    "### Steps of Hypothesis Testing\n",
    "1. Specify the Nully and Alternative Hypotheses about a population parameter.\n",
    "2. Set the Level of Significance(α)\n",
    "3. Collect Sample Data and calculate the Test Statistics and P-Value by running a Hypothesis test that well suits the data.\n",
    "4. Make a Conclusion: Reject or Accept the Null Hypothesis \n",
    "\n",
    "\n",
    "\n",
    "![Alt text](image-27.png)\n",
    "\n",
    "\n",
    "### Confison Matrix in Hypothesis Testing\n",
    "\n",
    "![Alt text](image-30.png)\n",
    "\n",
    "**Confidence** - The probability of accepting a True Null Hypothesis. It is denoted as (1-α)<br>\n",
    "\n",
    "**Power of test** - The probability of rejecting a False Null Hypothesis i.e., the ability of the test to detect a difference. It is denoted as (1-β) and its value lies between 0 and 1.<br>\n",
    "The factors that affect the power of the test are sample size, population variability and the confidence.<br>\n",
    "\n",
    "**Type I error**: Occurs when we reject a True Null Hypothesis and is denoted as α.<br>\n",
    "\n",
    "**Type II error**: Occurs when we accept a False Null Hypothesis and is denoted as β.<br>\n",
    "\n",
    "**Accuracy** - Number of correct predictions / Total number of cases.\n"
   ]
  },
  {
   "attachments": {},
   "cell_type": "markdown",
   "metadata": {},
   "source": [
    "### Hypothesis tests distribution tree\n",
    "\n",
    "![Alt text](image-31.png)\n"
   ]
  },
  {
   "attachments": {},
   "cell_type": "markdown",
   "metadata": {},
   "source": [
    "## Analysis of Variance (ANOVA)"
   ]
  }
 ],
 "metadata": {
  "kernelspec": {
   "display_name": "Python 3",
   "language": "python",
   "name": "python3"
  },
  "language_info": {
   "name": "python",
   "version": "3.11.1"
  },
  "orig_nbformat": 4
 },
 "nbformat": 4,
 "nbformat_minor": 2
}
