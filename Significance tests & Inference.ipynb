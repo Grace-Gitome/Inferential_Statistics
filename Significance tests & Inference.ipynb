{
 "cells": [
  {
   "attachments": {},
   "cell_type": "markdown",
   "metadata": {},
   "source": [
    "# Significance tests and Inference\n",
    "\n",
    "- Hypothesis testing\n",
    "- Analysis of variance\n",
    "- t-test\n",
    "- Z-test Anova\n",
    "- One way Anova\n",
    "- Two way Anova\n",
    "- Chi square test"
   ]
  },
  {
   "attachments": {},
   "cell_type": "markdown",
   "metadata": {},
   "source": [
    "## Hypothesis Testing\n",
    "\n",
    "This is s statistical method used to make inferences or draw conclusion about a population based on a sample of data. It involves formulating a hypothesis about a population parameter and then collecting and analyzing data to determine whether the evidence supports or contradicts the hypothesis.\n",
    "\n",
    "### Terminologies used\n",
    "**Null Hypothesis (Ho)** - a statistical theory that suggests that no statistical significance exists between the populations (sample population versus whole population)\n",
    "\n",
    "**Alternative Hypothesis (Ha)** - it suggests there is a significant difference between the population parameters. Simply put, it is the contrast of the Null Hypothesis.<br>\n",
    "\n",
    "**Level of significance (α)** - It is a predefined threshold used in hypothesis testing to determine the critical region for making decisions about the null hypothesis.\n",
    "<br>\n",
    "The level of significance is chosen by the researcher before conducting the test and typically ranges from 0.01 to 0.10, with 0.05 being the most commonly used value. The significance level determines how strong the evidence must be against the null hypothesis in order to reject it.<br>\n",
    "\n",
    "Example:<br>\n",
    "If α =5%, that means we are okay to take a 5% risk and conclude there exists a difference when there is no actual difference.<br>\n",
    "\n",
    "**Critical value (C)** - A value in the distribution beyond which leads to the rejection of the Null Hypothesis. It is compared to the test statistic.<br>\n",
    "\n",
    "**Test Statistic (t)** - it is dependent on the test that we run. It is the decidig factor to reject or accept the Null Hypothesis. <br>\n",
    "\n",
    "*Types of Test Statistics:* <br>\n",
    "\n",
    "![Alt text](image-28.png)\n",
    "\n",
    "**P-value (p)** it is the propotion of samples (assuming the Null Hypothesis is true) that would be as extreme as the test statistic.<br>\n",
    "\n",
    "Example<br>\n",
    "Assume we are running a two-tailed Z-Test at 95% confidence. Then, the level of significance (α) = 5% = 0.05. Thus, we will have (1-α) = 0.95 proportion of data at the center, and α = 0.05 proportion will be equally shared to the two tails. Each tail will have (α/2) = 0.025 proportion of data. <br>\n",
    "The critical value i.e., Z95% or Zα/2 = 1.96 is calculated from the Z-scores table.<br>\n",
    "Take a look of a graphical illustration of the information above:\n",
    "\n",
    "![Alt text](image-29.png)\n",
    "\n",
    "### Steps of Hypothesis Testing\n",
    "1. Specify the Nully and Alternative Hypotheses about a population parameter.\n",
    "2. Set the Level of Significance(α)\n",
    "3. Collect Sample Data and calculate the Test Statistics and P-Value by running a Hypothesis test that well suits the data.\n",
    "4. Make a Conclusion: Reject or Accept the Null Hypothesis \n",
    "\n",
    "\n",
    "\n",
    "![Alt text](image-27.png)\n",
    "\n",
    "\n",
    "### Confison Matrix in Hypothesis Testing\n",
    "\n",
    "![Alt text](image-30.png)\n",
    "\n",
    "**Confidence** - The probability of accepting a True Null Hypothesis. It is denoted as (1-α)<br>\n",
    "\n",
    "**Power of test** - The probability of rejecting a False Null Hypothesis i.e., the ability of the test to detect a difference. It is denoted as (1-β) and its value lies between 0 and 1.<br>\n",
    "The factors that affect the power of the test are sample size, population variability and the confidence.<br>\n",
    "\n",
    "**Type I error**: Occurs when we reject a True Null Hypothesis and is denoted as α.<br>\n",
    "\n",
    "**Type II error**: Occurs when we accept a False Null Hypothesis and is denoted as β.<br>\n",
    "\n",
    "**Accuracy** - Number of correct predictions / Total number of cases.\n"
   ]
  },
  {
   "attachments": {},
   "cell_type": "markdown",
   "metadata": {},
   "source": [
    "### Hypothesis tests distribution tree\n",
    "\n",
    "![Alt text](image-31.png)\n"
   ]
  },
  {
   "attachments": {},
   "cell_type": "markdown",
   "metadata": {},
   "source": [
    "## Example 1\n",
    "Assume we are cylindrical pipe makers, we are interested in checking if the diameter of the pipe follows a Normal/Gaussian distribution.\n"
   ]
  },
  {
   "cell_type": "code",
   "execution_count": 14,
   "metadata": {},
   "outputs": [
    {
     "data": {
      "text/html": [
       "<div>\n",
       "<style scoped>\n",
       "    .dataframe tbody tr th:only-of-type {\n",
       "        vertical-align: middle;\n",
       "    }\n",
       "\n",
       "    .dataframe tbody tr th {\n",
       "        vertical-align: top;\n",
       "    }\n",
       "\n",
       "    .dataframe thead th {\n",
       "        text-align: right;\n",
       "    }\n",
       "</style>\n",
       "<table border=\"1\" class=\"dataframe\">\n",
       "  <thead>\n",
       "    <tr style=\"text-align: right;\">\n",
       "      <th></th>\n",
       "      <th>Diameter (cm)</th>\n",
       "    </tr>\n",
       "  </thead>\n",
       "  <tbody>\n",
       "    <tr>\n",
       "      <th>0</th>\n",
       "      <td>0.015</td>\n",
       "    </tr>\n",
       "    <tr>\n",
       "      <th>1</th>\n",
       "      <td>0.020</td>\n",
       "    </tr>\n",
       "    <tr>\n",
       "      <th>2</th>\n",
       "      <td>0.025</td>\n",
       "    </tr>\n",
       "    <tr>\n",
       "      <th>3</th>\n",
       "      <td>1.025</td>\n",
       "    </tr>\n",
       "    <tr>\n",
       "      <th>4</th>\n",
       "      <td>2.025</td>\n",
       "    </tr>\n",
       "  </tbody>\n",
       "</table>\n",
       "</div>"
      ],
      "text/plain": [
       "   Diameter (cm)\n",
       "0          0.015\n",
       "1          0.020\n",
       "2          0.025\n",
       "3          1.025\n",
       "4          2.025"
      ]
     },
     "execution_count": 14,
     "metadata": {},
     "output_type": "execute_result"
    }
   ],
   "source": [
    "##Step1: Data Collection\n",
    "import pandas as pd\n",
    "df = pd.read_csv('Datasets\\circle.csv')\n",
    "\n",
    "df.head()"
   ]
  },
  {
   "cell_type": "code",
   "execution_count": 25,
   "metadata": {},
   "outputs": [],
   "source": [
    "##Step 2: Define H0 and Ha\n",
    "\n",
    "H0 = \"Data is normal\"\n",
    "Ha = \"Data is not normal\"\n",
    "\n",
    "#Set the significance level(α)= 5%\n",
    "alpha = 0.05"
   ]
  },
  {
   "cell_type": "code",
   "execution_count": 57,
   "metadata": {},
   "outputs": [
    {
     "name": "stdout",
     "output_type": "stream",
     "text": [
      "Rounded p-value: 0.95\n"
     ]
    }
   ],
   "source": [
    "##Step 3: Run a test to check the normality\n",
    "'''\n",
    "The shapiro test will be used in this case\n",
    "'''\n",
    "from scipy.stats import shapiro\n",
    "p_value = shapiro(df)[0]\n",
    "rounded_p_value = round(p_value, 2)\n",
    "\n",
    "\n",
    "print(\"Rounded p-value:\", rounded_p_value)"
   ]
  },
  {
   "cell_type": "code",
   "execution_count": 58,
   "metadata": {},
   "outputs": [
    {
     "name": "stdout",
     "output_type": "stream",
     "text": [
      " 0.95 <= 0.05. We reject the Null Hypothesis. Data is Normally Distributed\n"
     ]
    }
   ],
   "source": [
    "#Step 4: Conclude using the p-value from step 3\n",
    "if p > alpha:\n",
    "    print(f\" {rounded_p_value} > {alpha}. We accept the Null Hypothesis. {H0}\")\n",
    "else:\n",
    "    print(f\" {rounded_p_value} <= {alpha}. We reject the Null Hypothesis. {H0}\")\n"
   ]
  },
  {
   "attachments": {},
   "cell_type": "markdown",
   "metadata": {},
   "source": [
    "## Example 2\n",
    "Assuming the business has two production lines that make that produce the pipes. Check if there is any significant difference in the average diameter of pipes between the two production lines.<br>\n",
    "\n",
    "*Note:* <br>\n",
    "Diameter is continuous data and we are comparit data from two units. Therefore, <br>\n",
    "Y: Continuous<br>\n",
    "X: Discrete"
   ]
  },
  {
   "cell_type": "code",
   "execution_count": 67,
   "metadata": {},
   "outputs": [
    {
     "data": {
      "text/html": [
       "<div>\n",
       "<style scoped>\n",
       "    .dataframe tbody tr th:only-of-type {\n",
       "        vertical-align: middle;\n",
       "    }\n",
       "\n",
       "    .dataframe tbody tr th {\n",
       "        vertical-align: top;\n",
       "    }\n",
       "\n",
       "    .dataframe thead th {\n",
       "        text-align: right;\n",
       "    }\n",
       "</style>\n",
       "<table border=\"1\" class=\"dataframe\">\n",
       "  <thead>\n",
       "    <tr style=\"text-align: right;\">\n",
       "      <th></th>\n",
       "      <th>Line 1</th>\n",
       "      <th>Line 2</th>\n",
       "    </tr>\n",
       "  </thead>\n",
       "  <tbody>\n",
       "    <tr>\n",
       "      <th>0</th>\n",
       "      <td>0.496714</td>\n",
       "      <td>1.415371</td>\n",
       "    </tr>\n",
       "    <tr>\n",
       "      <th>1</th>\n",
       "      <td>0.138264</td>\n",
       "      <td>0.420645</td>\n",
       "    </tr>\n",
       "    <tr>\n",
       "      <th>2</th>\n",
       "      <td>0.647689</td>\n",
       "      <td>0.342715</td>\n",
       "    </tr>\n",
       "    <tr>\n",
       "      <th>3</th>\n",
       "      <td>1.523030</td>\n",
       "      <td>0.802277</td>\n",
       "    </tr>\n",
       "    <tr>\n",
       "      <th>4</th>\n",
       "      <td>0.234153</td>\n",
       "      <td>0.161286</td>\n",
       "    </tr>\n",
       "  </tbody>\n",
       "</table>\n",
       "</div>"
      ],
      "text/plain": [
       "     Line 1    Line 2\n",
       "0  0.496714  1.415371\n",
       "1  0.138264  0.420645\n",
       "2  0.647689  0.342715\n",
       "3  1.523030  0.802277\n",
       "4  0.234153  0.161286"
      ]
     },
     "execution_count": 67,
     "metadata": {},
     "output_type": "execute_result"
    }
   ],
   "source": [
    "#Step 1: Generate dataset\n",
    "import numpy as np\n",
    "\n",
    "#Set the random seed for reproducibility\n",
    "np.random.seed(42)\n",
    "\n",
    "#Generate a sample dataset of 100 values from a normal distribution with a mean 0 and standard deviation of 1\n",
    "sample_data_line1 = np.abs(np.random.normal(loc= 0, scale=1, size = 100))\n",
    "sample_data_line2 = np.abs(np.random.normal(loc= 0, scale=1, size = 100))\n",
    "\n",
    "#Create a DataFrame using the generated sample data\n",
    "pipes = pd.DataFrame({'Line 1': sample_data_line1,\n",
    "                      'Line 2': sample_data_line2})\n",
    "\n",
    "#Display first 5 rows\n",
    "pipes.head()"
   ]
  },
  {
   "cell_type": "code",
   "execution_count": 68,
   "metadata": {},
   "outputs": [],
   "source": [
    "#Step 2:Defining the H0 and Ha\n",
    "H0 = 'Data is Normally Distributed'\n",
    "Ha = 'Data is not Normally Distributed'\n",
    "\n",
    "#Set the significance level(α)= 5%\n",
    "alpha = 0.05"
   ]
  },
  {
   "attachments": {},
   "cell_type": "markdown",
   "metadata": {},
   "source": [
    "**Explanation**<br>\n",
    "We have set the significance level (α) to 0.05, which means we are willing to accept a 5% chance of making a Type I error (rejecting the null hypothesis when it is true)."
   ]
  },
  {
   "cell_type": "code",
   "execution_count": 73,
   "metadata": {},
   "outputs": [
    {
     "name": "stdout",
     "output_type": "stream",
     "text": [
      "\n",
      "Shapiro Test Results of 'Line 1' \n",
      "0.91 > 0.05. We accept Null Hypothesis. 'Line 1' Data is Normally Distributed\n",
      "\n",
      "Shapiro Test Results of 'Line 2' \n",
      "0.92 > 0.05. We accept Null Hypothesis. 'Line 2' Data is Normally Distributed\n"
     ]
    }
   ],
   "source": [
    "##Step 3: Run a test to check the normality\n",
    "'''\n",
    "Function to check normality using Shapiro-Wilk test\n",
    "'''\n",
    "\n",
    "# Function to check normality using Shapiro-Wilk test\n",
    "\n",
    "from scipy.stats import shapiro\n",
    "def check_normality(data):\n",
    "\tfor columnName, columnData in pipes.items():\n",
    "\t\tprint('\\n' + \"Shapiro Test Results of '{}' \".format(columnName))\n",
    "\t\tp_value = round(shapiro(columnData.values)[0], 2)\n",
    "\n",
    "\t\tif p_value>alpha:\n",
    "\t\t\tprint(f\"{p_value} > {alpha}. We accept Null Hypothesis. '{columnName}' {H0}\")\n",
    "\t\telse:\n",
    "\t\t\tprint(f\"{p_value} <= {alpha}. We reject Null Hypothesis. '{columnName}' {Ha}\")\n",
    "\n",
    "# Function call to check normality\n",
    "check_normality(pipes)"
   ]
  },
  {
   "cell_type": "code",
   "execution_count": 82,
   "metadata": {},
   "outputs": [
    {
     "name": "stdout",
     "output_type": "stream",
     "text": [
      "\n",
      "Variances Test Results' \n",
      "0.73 > 0.05. We accept the Null Hypothesis. Variances are equal or greater\n"
     ]
    }
   ],
   "source": [
    "#Step 4: Check if variances are equal\n",
    "\n",
    "#Setting H0 and Ha\n",
    "H0 = 'Variances are equal or greater'\n",
    "Ha = 'Variances are not equal'\n",
    "\n",
    "from scipy.stats import levene\n",
    "def check_variances(dataset):\n",
    "\tprint('\\n' + \"Variances Test Results' \")\n",
    "\tp_value = round(levene(pipes['Line 1'], pipes['Line 2'])[1],2)\n",
    "\n",
    "\tif p_value>alpha:\n",
    "\t\tprint(f\"{p_value} > {alpha}. We accept the Null Hypothesis. {H0}\")\n",
    "\telse:\n",
    "\t\tprint(f\"{p_value} <= {alpha}. We reject Null Hypothesis. {Ha}\")\n",
    "\n",
    "check_variances(pipes)"
   ]
  },
  {
   "cell_type": "code",
   "execution_count": 84,
   "metadata": {},
   "outputs": [
    {
     "name": "stdout",
     "output_type": "stream",
     "text": [
      "\n",
      "2 Sample T Test Results \n",
      "0.68 > 0.05. We accept the Null Hypothesis. There is no significant difference.\n"
     ]
    }
   ],
   "source": [
    "#Step 5: Run the T-test for the two samples with greater variances\n",
    "from scipy.stats import ttest_ind\n",
    "\n",
    "# Defining Null and Alternative Hypotheses\n",
    "H0 = 'There is no significant difference.'\n",
    "Ha = 'There exist a significant difference.'\n",
    "\n",
    "#T-test function\n",
    "def t_test(df):\n",
    "    print('\\n' + \"2 Sample T Test Results \")\n",
    "    test_results = ttest_ind(pipes['Line 1'], pipes['Line 2'], equal_var=True)\n",
    "\n",
    "    p_value = round(test_results[1],2)\n",
    "\n",
    "    if p_value>alpha:\n",
    "        print(f\"{p_value} > {alpha}. We accept the Null Hypothesis. {H0}\")\n",
    "    else:\n",
    "        print(f\"{p_value} <= {alpha}. We reject Null Hypothesis. {Ha}\")\n",
    "\n",
    "t_test(pipes)"
   ]
  },
  {
   "attachments": {},
   "cell_type": "markdown",
   "metadata": {},
   "source": [
    "## Analysis of Variance (ANOVA)"
   ]
  }
 ],
 "metadata": {
  "kernelspec": {
   "display_name": "Python 3",
   "language": "python",
   "name": "python3"
  },
  "language_info": {
   "codemirror_mode": {
    "name": "ipython",
    "version": 3
   },
   "file_extension": ".py",
   "mimetype": "text/x-python",
   "name": "python",
   "nbconvert_exporter": "python",
   "pygments_lexer": "ipython3",
   "version": "3.11.1"
  },
  "orig_nbformat": 4
 },
 "nbformat": 4,
 "nbformat_minor": 2
}
