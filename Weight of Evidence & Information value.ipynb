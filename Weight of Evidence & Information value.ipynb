{
 "cells": [
  {
   "attachments": {},
   "cell_type": "markdown",
   "metadata": {},
   "source": [
    "## Introduction\n",
    "In statistics, predictive power refers to the ability of a predictive model or variable to accurately predict the outcome of interest. It indicates how well a particular feature or information contributes to making accurate predictions.\n",
    "\n",
    "**Information Value (IV**) and **Weight of Evidence (WoE)** are statistical measures commonly used in predictive modeling, particularly in the context of logistic regression and credit scoring.  These measures help assess the predictive power of independent variables in a binary classification problem.\n",
    "\n",
    "### Introduction to Logistic Regresssion\n",
    "Logistic regression is a classification problem. In paticular binary classification problems.Logistic regression models take as input both categorical and numerical data and output the probability of the occurence of the event.<be>\n",
    "\n",
    "*Example problem statements:<br>*\n",
    "- ##### Credit Default Prediction\n",
    "**Problem statement**: Predicting the likelihood of credit default based on various financial and demographic factors<br>\n",
    "\n",
    "**Dataset**: Contains information about individuals such as income, credit history, employment status, etc., along with a binary target variable indicating whether they defaulted on their credit.<br>\n",
    "\n",
    "**Objective**: Build a logistic regression model to predict the probability of default for new credit applicants, allowing financial institutions to assess the creditworthiness of potential borrowers.\n",
    "\n",
    "- ##### Disease Diagnosis\n",
    "**Problem**: Predicting the presence or absence of a specific disease based on medical test results, symptoms, and patient characteristics.<br>\n",
    "\n",
    "**Dataset**: Includes medical records of patients, test results, symptoms, and a binary target variable indicating the presence or absence of the disease.<br>\n",
    "\n",
    "**Objective**: Train a logistic regression model to accurately classify new patients as either having the disease or not, aiding healthcare professionals in making informed diagnoses and treatment decisions.<br>\n",
    "\n",
    "In each of these examples, logistic regression is suitable because the target variable is binary and the goal is to predict the probability or likelihood of a particular outcome.<br><br>\n",
    "\n",
    "### Information Value (IV)\n",
    "- It *measures the predictive power* of an independent variable in relation to the dependent variable.\n",
    "- HIgher IV indicates stronger predictive power,with IV greater than 0.3 considered significant and IV greater than 0.5 considered strong.\n",
    "\n",
    "![Alt text](image-43.png)\n",
    "\n",
    "The following chart shows the predictive power of the model based on IV value.\n",
    "\n",
    "![Alt text](image-44.png)\n",
    "\n",
    "### Weight of Evidence (WoE)\n",
    "- It *represents the strength of the relationship* between an independent variable and the dependent variable in a logistic regression model.\n",
    "- Indicated the deviation from the average proportion of positive outcomes: <br>\n",
    "**NOTE**<br>\n",
    "_Positive WoE_ - higher probability of the positive outcome <br>\n",
    "_Negative WoC_ - lower probability\n",
    "- WoE values closer to zero suggest no relationship, while extreme values (positive or negative) suggest a strong relationship\n",
    "\n",
    "![Alt text](image-42.png)\n",
    "\n",
    "## Conclusion\n",
    "- WoE helps check the linear realtionship of a feature with its dependent feature to be used in the model.\n",
    "- WoE is a good variable transformation method for both continuous and categorical features.\n",
    "- IV is a good measure of the predictive power of a feature and it also helps point out the suspicious feature."
   ]
  }
 ],
 "metadata": {
  "kernelspec": {
   "display_name": "Python 3",
   "language": "python",
   "name": "python3"
  },
  "language_info": {
   "name": "python",
   "version": "3.11.1"
  },
  "orig_nbformat": 4
 },
 "nbformat": 4,
 "nbformat_minor": 2
}
